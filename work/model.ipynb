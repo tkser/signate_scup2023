{
 "cells": [
  {
   "cell_type": "code",
   "execution_count": null,
   "metadata": {},
   "outputs": [],
   "source": [
    "import polars as pl\n",
    "pl.Config.set_tbl_cols(-1)\n",
    "pl.Config.set_tbl_rows(-1)\n",
    "\n",
    "import seaborn as sns\n",
    "import matplotlib.pyplot as plt\n",
    "\n",
    "import os\n",
    "import sys\n",
    "sys.path.append('../')\n",
    "\n",
    "from exp.features import Features\n",
    "from exp.models.cat import CatBoostModel\n",
    "from exp.models._lgbm import LGBMModel\n",
    "from exp.models.rf import RandomForestModel\n",
    "from exp.models.rgf import RGFModel\n",
    "from exp.models.xgb import XGBModel\n",
    "\n",
    "import warnings\n",
    "warnings.filterwarnings(\"ignore\")\n",
    "\n",
    "import gc\n",
    "gc.enable()"
   ]
  },
  {
   "cell_type": "code",
   "execution_count": null,
   "metadata": {},
   "outputs": [],
   "source": [
    "train = pl.read_csv(\"../input/train.csv\")\n",
    "test = pl.read_csv(\"../input/test.csv\")"
   ]
  },
  {
   "cell_type": "code",
   "execution_count": null,
   "metadata": {},
   "outputs": [],
   "source": [
    "from exp.features import FeatureSelecter\n",
    "\n",
    "\n",
    "features = Features(train, test)\n",
    "train, test = features.create_features()\n",
    "\n",
    "selecter = FeatureSelecter(train, test)\n",
    "\n",
    "predictions = pl.concat([train[\"price\"].to_frame(), pl.DataFrame([None] * test.height, schema={\"price\": pl.Int64})])"
   ]
  },
  {
   "cell_type": "code",
   "execution_count": null,
   "metadata": {},
   "outputs": [],
   "source": [
    "selecter.get_dataframe(\"lgbm\")[1].head(10)"
   ]
  },
  {
   "cell_type": "code",
   "execution_count": null,
   "metadata": {},
   "outputs": [],
   "source": [
    "predictions = pl.concat([train[\"price\"].to_frame(), pl.DataFrame([None] * test.height, schema={\"price\": pl.Int64})])"
   ]
  },
  {
   "cell_type": "code",
   "execution_count": null,
   "metadata": {},
   "outputs": [],
   "source": [
    "lgbm = LGBMModel(*selecter.get_dataframe(\"lgbm\"))\n",
    "lgbm.objective(20)"
   ]
  },
  {
   "cell_type": "code",
   "execution_count": null,
   "metadata": {},
   "outputs": [],
   "source": [
    "lgbm.best_params = {\n",
    "    'feature_pre_filter': False,\n",
    "    'lambda_l1': 1.3333379399135385e-07,\n",
    "    'lambda_l2': 5.941811936480016,\n",
    "    'num_leaves': 51,\n",
    "    'feature_fraction': 0.4,\n",
    "    'bagging_fraction': 1.0,\n",
    "    'bagging_freq': 0,\n",
    "    'min_child_samples': 100\n",
    "}\n",
    "lgbm_predictions = lgbm.predict()\n",
    "predictions = pl.concat([predictions, lgbm_predictions], how=\"horizontal\")"
   ]
  },
  {
   "cell_type": "code",
   "execution_count": null,
   "metadata": {},
   "outputs": [],
   "source": [
    "importance = lgbm.feature_importance()\n",
    "importance = importance.sort(by='lgbm_importance_mean')\n",
    "#グラフ表示\n",
    "plt.figure(figsize=(12, 40))\n",
    "plt.barh(importance[\"feature\"], importance[\"lgbm_importance_mean\"])\n",
    "plt.xlabel('Feature importance')\n",
    "plt.ylabel('Features')\n",
    "plt.grid()\n",
    "plt.show()"
   ]
  },
  {
   "cell_type": "code",
   "execution_count": null,
   "metadata": {},
   "outputs": [],
   "source": [
    "#xgb = XGBModel(train, test)\n",
    "#xgb.objective(20)\n",
    "#xgb.best_params = {'n_estimators': 767, 'max_depth': 8, 'lambda': 1.2306916748991704e-06, 'alpha': 0.018078104089246788, 'colsample_bytree': 0.42319770953022684, 'subsample': 0.2810517802368746, 'min_child_weight': 218, 'gamma': 6.031109467976734e-08, 'eta': 0.018889170085640027}\n",
    "#xgb_predictions = xgb.predict()\n",
    "#predictions = pl.concat([predictions, xgb_predictions], how=\"horizontal\")"
   ]
  },
  {
   "cell_type": "code",
   "execution_count": null,
   "metadata": {},
   "outputs": [],
   "source": [
    "#rf = RandomForestModel(df)\n",
    "##rf.objective(5)\n",
    "#rf.best_params = {'max_depth': 9, 'min_samples_split': 11, 'min_samples_leaf': 14, 'max_features': 0.6306125661502896, 'max_leaf_nodes': 18, 'n_estimators': 8762, 'bootstrap': True}\n",
    "#rf_predictions = rf.predict()\n",
    "#predictions = pd.concat([predictions, rf_predictions], axis=1)"
   ]
  },
  {
   "cell_type": "code",
   "execution_count": null,
   "metadata": {},
   "outputs": [],
   "source": [
    "#rgf = RGFModel(df)\n",
    "##rgf.objective(5)\n",
    "#rgf.best_params = {'max_leaf': 8072, 'algorithm': 'RGF_Opt', 'test_interval': 142, 'min_samples_leaf': 11, 'reg_depth': 9, 'l2': 0.0002082492344277923, 'sl2': 4.2919223241162815e-07, 'normalize': False}\n",
    "#rgf_predictions = rgf.predict()\n",
    "#predictions = pd.concat([predictions, rgf_predictions], axis=1)"
   ]
  },
  {
   "cell_type": "code",
   "execution_count": null,
   "metadata": {},
   "outputs": [],
   "source": [
    "#cat = CatBoostModel(df)\n",
    "##cat.objective(5)\n",
    "#cat.best_params = {\"depth\": 6}\n",
    "#cat_predictions = cat.predict()\n",
    "#predictions = pd.concat([predictions, cat_predictions], axis=1)"
   ]
  },
  {
   "cell_type": "code",
   "execution_count": null,
   "metadata": {},
   "outputs": [],
   "source": [
    "predictions.head()"
   ]
  },
  {
   "cell_type": "code",
   "execution_count": null,
   "metadata": {},
   "outputs": [],
   "source": [
    "#model = Ridge(random_state=0)\n",
    "#train = predictions[predictions[\"price\"].notnull()]\n",
    "#test = predictions[predictions[\"price\"].isnull()]\n",
    "#X_train = train.drop([\"price\"], axis=1)\n",
    "#y_train = train[\"price\"]\n",
    "#X_test = test.drop([\"price\"], axis=1)\n",
    "#model.fit(X_train, y_train)\n",
    "#y_pred = model.predict(X_test)"
   ]
  },
  {
   "cell_type": "code",
   "execution_count": null,
   "metadata": {},
   "outputs": [],
   "source": [
    "y_pred = lgbm_predictions.mean(axis=1)[train.height:].to_list()"
   ]
  },
  {
   "cell_type": "code",
   "execution_count": null,
   "metadata": {},
   "outputs": [],
   "source": [
    "#sub = pl.read_csv(os.path.join(os.path.dirname(__file__), \"../input/submit_sample.csv\"), has_header=False, new_columns=[\"id\", \"price\"])\n",
    "#sub = sub.with_columns(pl.Series(\"\", y_pred).alias(\"price\"))\n",
    "#sub.write_csv(os.path.join(os.path.dirname(__file__), \"../output/submission_te0810_3.csv\"), has_header=False)"
   ]
  }
 ],
 "metadata": {
  "kernelspec": {
   "display_name": "venv",
   "language": "python",
   "name": "python3"
  },
  "language_info": {
   "codemirror_mode": {
    "name": "ipython",
    "version": 3
   },
   "file_extension": ".py",
   "mimetype": "text/x-python",
   "name": "python",
   "nbconvert_exporter": "python",
   "pygments_lexer": "ipython3",
   "version": "3.11.4"
  },
  "orig_nbformat": 4
 },
 "nbformat": 4,
 "nbformat_minor": 2
}
