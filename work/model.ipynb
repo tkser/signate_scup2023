{
 "cells": [
  {
   "cell_type": "code",
   "execution_count": 21,
   "metadata": {},
   "outputs": [],
   "source": [
    "import pandas as pd\n",
    "import numpy as np\n",
    "\n",
    "from sklearn.linear_model import Ridge\n",
    "\n",
    "import sys\n",
    "sys.path.append('../')\n",
    "\n",
    "from exp.features import Features\n",
    "from exp.models.cat import CatBoostModel\n",
    "from exp.models.lgbm import LGBMModel\n",
    "from exp.models.rf import RandomForestModel\n",
    "from exp.models.rgf import RGFModel\n",
    "from exp.models.xgb import XGBModel\n",
    "\n",
    "import warnings\n",
    "warnings.filterwarnings(\"ignore\")"
   ]
  },
  {
   "cell_type": "code",
   "execution_count": 7,
   "metadata": {},
   "outputs": [],
   "source": [
    "train = pd.read_csv(\"../input/train.csv\")\n",
    "test = pd.read_csv(\"../input/test.csv\")"
   ]
  },
  {
   "cell_type": "code",
   "execution_count": 39,
   "metadata": {},
   "outputs": [],
   "source": [
    "features = Features(train, test)\n",
    "df = features.create_features().reset_index(drop=True)\n",
    "\n",
    "predictions = pd.DataFrame(df[\"price\"])"
   ]
  },
  {
   "cell_type": "code",
   "execution_count": 41,
   "metadata": {},
   "outputs": [
    {
     "data": {
      "text/html": [
       "<div>\n",
       "<style scoped>\n",
       "    .dataframe tbody tr th:only-of-type {\n",
       "        vertical-align: middle;\n",
       "    }\n",
       "\n",
       "    .dataframe tbody tr th {\n",
       "        vertical-align: top;\n",
       "    }\n",
       "\n",
       "    .dataframe thead th {\n",
       "        text-align: right;\n",
       "    }\n",
       "</style>\n",
       "<table border=\"1\" class=\"dataframe\">\n",
       "  <thead>\n",
       "    <tr style=\"text-align: right;\">\n",
       "      <th></th>\n",
       "      <th>id</th>\n",
       "      <th>year</th>\n",
       "      <th>condition</th>\n",
       "      <th>cylinders</th>\n",
       "      <th>odometer</th>\n",
       "      <th>size</th>\n",
       "      <th>price</th>\n",
       "      <th>age</th>\n",
       "      <th>odometer/age</th>\n",
       "      <th>odometer/cylinders</th>\n",
       "      <th>...</th>\n",
       "      <th>state_sd</th>\n",
       "      <th>state_tn</th>\n",
       "      <th>state_tx</th>\n",
       "      <th>state_ut</th>\n",
       "      <th>state_va</th>\n",
       "      <th>state_vt</th>\n",
       "      <th>state_wa</th>\n",
       "      <th>state_wi</th>\n",
       "      <th>state_wv</th>\n",
       "      <th>state_wy</th>\n",
       "    </tr>\n",
       "  </thead>\n",
       "  <tbody>\n",
       "    <tr>\n",
       "      <th>0</th>\n",
       "      <td>0</td>\n",
       "      <td>1949</td>\n",
       "      <td>3</td>\n",
       "      <td>6</td>\n",
       "      <td>115148.0</td>\n",
       "      <td>2</td>\n",
       "      <td>27587.0</td>\n",
       "      <td>74</td>\n",
       "      <td>1556.054054</td>\n",
       "      <td>19191.333333</td>\n",
       "      <td>...</td>\n",
       "      <td>0</td>\n",
       "      <td>0</td>\n",
       "      <td>0</td>\n",
       "      <td>0</td>\n",
       "      <td>0</td>\n",
       "      <td>0</td>\n",
       "      <td>0</td>\n",
       "      <td>0</td>\n",
       "      <td>0</td>\n",
       "      <td>0</td>\n",
       "    </tr>\n",
       "    <tr>\n",
       "      <th>1</th>\n",
       "      <td>1</td>\n",
       "      <td>2013</td>\n",
       "      <td>0</td>\n",
       "      <td>8</td>\n",
       "      <td>172038.0</td>\n",
       "      <td>3</td>\n",
       "      <td>4724.0</td>\n",
       "      <td>10</td>\n",
       "      <td>17203.800000</td>\n",
       "      <td>21504.750000</td>\n",
       "      <td>...</td>\n",
       "      <td>0</td>\n",
       "      <td>0</td>\n",
       "      <td>0</td>\n",
       "      <td>0</td>\n",
       "      <td>0</td>\n",
       "      <td>0</td>\n",
       "      <td>0</td>\n",
       "      <td>0</td>\n",
       "      <td>0</td>\n",
       "      <td>0</td>\n",
       "    </tr>\n",
       "    <tr>\n",
       "      <th>2</th>\n",
       "      <td>2</td>\n",
       "      <td>1998</td>\n",
       "      <td>2</td>\n",
       "      <td>6</td>\n",
       "      <td>152492.0</td>\n",
       "      <td>3</td>\n",
       "      <td>10931.0</td>\n",
       "      <td>25</td>\n",
       "      <td>6099.680000</td>\n",
       "      <td>25415.333333</td>\n",
       "      <td>...</td>\n",
       "      <td>0</td>\n",
       "      <td>0</td>\n",
       "      <td>0</td>\n",
       "      <td>0</td>\n",
       "      <td>0</td>\n",
       "      <td>0</td>\n",
       "      <td>0</td>\n",
       "      <td>0</td>\n",
       "      <td>0</td>\n",
       "      <td>0</td>\n",
       "    </tr>\n",
       "    <tr>\n",
       "      <th>3</th>\n",
       "      <td>3</td>\n",
       "      <td>2014</td>\n",
       "      <td>3</td>\n",
       "      <td>4</td>\n",
       "      <td>104118.0</td>\n",
       "      <td>2</td>\n",
       "      <td>16553.0</td>\n",
       "      <td>9</td>\n",
       "      <td>11568.666667</td>\n",
       "      <td>26029.500000</td>\n",
       "      <td>...</td>\n",
       "      <td>0</td>\n",
       "      <td>0</td>\n",
       "      <td>0</td>\n",
       "      <td>0</td>\n",
       "      <td>0</td>\n",
       "      <td>0</td>\n",
       "      <td>0</td>\n",
       "      <td>0</td>\n",
       "      <td>0</td>\n",
       "      <td>0</td>\n",
       "    </tr>\n",
       "    <tr>\n",
       "      <th>4</th>\n",
       "      <td>4</td>\n",
       "      <td>2005</td>\n",
       "      <td>3</td>\n",
       "      <td>6</td>\n",
       "      <td>144554.0</td>\n",
       "      <td>2</td>\n",
       "      <td>5158.0</td>\n",
       "      <td>18</td>\n",
       "      <td>8030.777778</td>\n",
       "      <td>24092.333333</td>\n",
       "      <td>...</td>\n",
       "      <td>0</td>\n",
       "      <td>0</td>\n",
       "      <td>0</td>\n",
       "      <td>0</td>\n",
       "      <td>0</td>\n",
       "      <td>0</td>\n",
       "      <td>0</td>\n",
       "      <td>0</td>\n",
       "      <td>0</td>\n",
       "      <td>0</td>\n",
       "    </tr>\n",
       "  </tbody>\n",
       "</table>\n",
       "<p>5 rows × 531 columns</p>\n",
       "</div>"
      ],
      "text/plain": [
       "   id  year  condition  cylinders  odometer  size    price  age  odometer/age  \\\n",
       "0   0  1949          3          6  115148.0     2  27587.0   74   1556.054054   \n",
       "1   1  2013          0          8  172038.0     3   4724.0   10  17203.800000   \n",
       "2   2  1998          2          6  152492.0     3  10931.0   25   6099.680000   \n",
       "3   3  2014          3          4  104118.0     2  16553.0    9  11568.666667   \n",
       "4   4  2005          3          6  144554.0     2   5158.0   18   8030.777778   \n",
       "\n",
       "   odometer/cylinders  ...  state_sd  state_tn  state_tx  state_ut  state_va  \\\n",
       "0        19191.333333  ...         0         0         0         0         0   \n",
       "1        21504.750000  ...         0         0         0         0         0   \n",
       "2        25415.333333  ...         0         0         0         0         0   \n",
       "3        26029.500000  ...         0         0         0         0         0   \n",
       "4        24092.333333  ...         0         0         0         0         0   \n",
       "\n",
       "   state_vt  state_wa  state_wi  state_wv  state_wy  \n",
       "0         0         0         0         0         0  \n",
       "1         0         0         0         0         0  \n",
       "2         0         0         0         0         0  \n",
       "3         0         0         0         0         0  \n",
       "4         0         0         0         0         0  \n",
       "\n",
       "[5 rows x 531 columns]"
      ]
     },
     "execution_count": 41,
     "metadata": {},
     "output_type": "execute_result"
    }
   ],
   "source": [
    "df.head()"
   ]
  },
  {
   "cell_type": "code",
   "execution_count": 22,
   "metadata": {},
   "outputs": [
    {
     "name": "stdout",
     "output_type": "stream",
     "text": [
      "Fold_lgbm 0: 0.44012078238639385\n",
      "Fold_lgbm 1: 0.44411108892613665\n",
      "Fold_lgbm 2: 0.44381660826421043\n",
      "Fold_lgbm 3: 0.4458463855556004\n",
      "Fold_lgbm 4: 0.4460808387371563\n"
     ]
    }
   ],
   "source": [
    "lgbm = LGBMModel(df)\n",
    "#lgbm.objective(20)\n",
    "lgbm.best_params = {'num_leaves': 48, 'max_depth': 6, 'min_child_samples': 91, 'subsample': 0.5578230915019112, 'colsample_bytree': 0.5933052522026404, 'reg_alpha': 2.4725566626090776e-05, 'reg_lambda': 1.0114136512530978e-08, 'feature_fraction': 0.7523757350552451, 'bagging_fraction': 0.9199865329355417, 'bagging_freq': 5}\n",
    "lgbm_predictions = lgbm.predict()"
   ]
  },
  {
   "cell_type": "code",
   "execution_count": 10,
   "metadata": {},
   "outputs": [
    {
     "name": "stdout",
     "output_type": "stream",
     "text": [
      "Fold_xgb 0: 0.47281271964744787\n",
      "Fold_xgb 1: 0.47635503350243086\n",
      "Fold_xgb 2: 0.4845484130674397\n",
      "Fold_xgb 3: 0.4810216583343765\n",
      "Fold_xgb 4: 0.4810724848695508\n"
     ]
    }
   ],
   "source": [
    "xgb = XGBModel(df)\n",
    "#xgb.objective(20)\n",
    "xgb.best_params = {'n_estimators': 767, 'max_depth': 8, 'lambda': 1.2306916748991704e-06, 'alpha': 0.018078104089246788, 'colsample_bytree': 0.42319770953022684, 'subsample': 0.2810517802368746, 'min_child_weight': 218, 'gamma': 6.031109467976734e-08, 'eta': 0.018889170085640027}\n",
    "xgb_predictions = xgb.predict()"
   ]
  },
  {
   "cell_type": "code",
   "execution_count": 23,
   "metadata": {},
   "outputs": [
    {
     "name": "stdout",
     "output_type": "stream",
     "text": [
      "Fold_rf 0: 0.7415434758701457\n",
      "Fold_rf 1: 0.7464606387454564\n",
      "Fold_rf 2: 0.7561488533109301\n",
      "Fold_rf 3: 0.7423480772406141\n",
      "Fold_rf 4: 0.7488634326531528\n"
     ]
    }
   ],
   "source": [
    "rf = RandomForestModel(df)\n",
    "#rf.objective(5)\n",
    "rf.best_params = {'max_depth': 9, 'min_samples_split': 11, 'min_samples_leaf': 14, 'max_features': 0.6306125661502896, 'max_leaf_nodes': 18, 'n_estimators': 8762, 'bootstrap': True}\n",
    "rf_predictions = rf.predict()"
   ]
  },
  {
   "cell_type": "code",
   "execution_count": 12,
   "metadata": {},
   "outputs": [
    {
     "name": "stdout",
     "output_type": "stream",
     "text": [
      "Fold_rgf 0: 0.6524549943211644\n",
      "Fold_rgf 1: 0.6676265410237926\n",
      "Fold_rgf 2: 0.675549999716749\n",
      "Fold_rgf 3: 0.6593138620207522\n",
      "Fold_rgf 4: 0.6653622709063274\n"
     ]
    }
   ],
   "source": [
    "rgf = RGFModel(df)\n",
    "#rgf.objective(5)\n",
    "rgf.best_params = {'max_leaf': 8072, 'algorithm': 'RGF_Opt', 'test_interval': 142, 'min_samples_leaf': 11, 'reg_depth': 9, 'l2': 0.0002082492344277923, 'sl2': 4.2919223241162815e-07, 'normalize': False}\n",
    "rgf_predictions = rgf.predict()"
   ]
  },
  {
   "cell_type": "code",
   "execution_count": 13,
   "metadata": {},
   "outputs": [
    {
     "name": "stdout",
     "output_type": "stream",
     "text": [
      "Fold_cat 0: 0.6433606651463853\n",
      "Fold_cat 1: 0.6605377946284188\n",
      "Fold_cat 2: 0.6689926166420962\n",
      "Fold_cat 3: 0.658574178889984\n",
      "Fold_cat 4: 0.6631411280467598\n"
     ]
    }
   ],
   "source": [
    "cat = CatBoostModel(df)\n",
    "#cat.objective(5)\n",
    "cat.best_params = {\"depth\": 6}\n",
    "cat_predictions = cat.predict()"
   ]
  },
  {
   "cell_type": "code",
   "execution_count": 42,
   "metadata": {},
   "outputs": [
    {
     "data": {
      "text/html": [
       "<div>\n",
       "<style scoped>\n",
       "    .dataframe tbody tr th:only-of-type {\n",
       "        vertical-align: middle;\n",
       "    }\n",
       "\n",
       "    .dataframe tbody tr th {\n",
       "        vertical-align: top;\n",
       "    }\n",
       "\n",
       "    .dataframe thead th {\n",
       "        text-align: right;\n",
       "    }\n",
       "</style>\n",
       "<table border=\"1\" class=\"dataframe\">\n",
       "  <thead>\n",
       "    <tr style=\"text-align: right;\">\n",
       "      <th></th>\n",
       "      <th>price</th>\n",
       "    </tr>\n",
       "  </thead>\n",
       "  <tbody>\n",
       "    <tr>\n",
       "      <th>0</th>\n",
       "      <td>27587.0</td>\n",
       "    </tr>\n",
       "    <tr>\n",
       "      <th>1</th>\n",
       "      <td>4724.0</td>\n",
       "    </tr>\n",
       "    <tr>\n",
       "      <th>2</th>\n",
       "      <td>10931.0</td>\n",
       "    </tr>\n",
       "    <tr>\n",
       "      <th>3</th>\n",
       "      <td>16553.0</td>\n",
       "    </tr>\n",
       "    <tr>\n",
       "      <th>4</th>\n",
       "      <td>5158.0</td>\n",
       "    </tr>\n",
       "    <tr>\n",
       "      <th>...</th>\n",
       "      <td>...</td>\n",
       "    </tr>\n",
       "    <tr>\n",
       "      <th>55064</th>\n",
       "      <td>NaN</td>\n",
       "    </tr>\n",
       "    <tr>\n",
       "      <th>55065</th>\n",
       "      <td>NaN</td>\n",
       "    </tr>\n",
       "    <tr>\n",
       "      <th>55066</th>\n",
       "      <td>NaN</td>\n",
       "    </tr>\n",
       "    <tr>\n",
       "      <th>55067</th>\n",
       "      <td>NaN</td>\n",
       "    </tr>\n",
       "    <tr>\n",
       "      <th>55068</th>\n",
       "      <td>NaN</td>\n",
       "    </tr>\n",
       "  </tbody>\n",
       "</table>\n",
       "<p>55069 rows × 1 columns</p>\n",
       "</div>"
      ],
      "text/plain": [
       "         price\n",
       "0      27587.0\n",
       "1       4724.0\n",
       "2      10931.0\n",
       "3      16553.0\n",
       "4       5158.0\n",
       "...        ...\n",
       "55064      NaN\n",
       "55065      NaN\n",
       "55066      NaN\n",
       "55067      NaN\n",
       "55068      NaN\n",
       "\n",
       "[55069 rows x 1 columns]"
      ]
     },
     "execution_count": 42,
     "metadata": {},
     "output_type": "execute_result"
    }
   ],
   "source": [
    "predictions"
   ]
  },
  {
   "cell_type": "code",
   "execution_count": 43,
   "metadata": {},
   "outputs": [],
   "source": [
    "predictions = pd.concat([predictions, lgbm_predictions, xgb_predictions, rf_predictions, rgf_predictions, cat_predictions], axis=1)"
   ]
  },
  {
   "cell_type": "code",
   "execution_count": 44,
   "metadata": {},
   "outputs": [],
   "source": [
    "model = Ridge(random_state=0)\n",
    "train = predictions[predictions[\"price\"].notnull()]\n",
    "test = predictions[predictions[\"price\"].isnull()]\n",
    "X_train = train.drop([\"price\"], axis=1)\n",
    "y_train = train[\"price\"]\n",
    "X_test = test.drop([\"price\"], axis=1)\n",
    "model.fit(X_train, y_train)\n",
    "y_pred = model.predict(X_test)"
   ]
  },
  {
   "cell_type": "code",
   "execution_count": 49,
   "metadata": {},
   "outputs": [],
   "source": [
    "sub = pd.read_csv(\"../input/submit_sample.csv\", header=None)\n",
    "sub[sub.columns[1]] = y_pred\n",
    "sub.to_csv(\"../output/submit0728_fullstacking.csv\", index=False, header=None)"
   ]
  }
 ],
 "metadata": {
  "kernelspec": {
   "display_name": "venv",
   "language": "python",
   "name": "python3"
  },
  "language_info": {
   "codemirror_mode": {
    "name": "ipython",
    "version": 3
   },
   "file_extension": ".py",
   "mimetype": "text/x-python",
   "name": "python",
   "nbconvert_exporter": "python",
   "pygments_lexer": "ipython3",
   "version": "3.10.6"
  },
  "orig_nbformat": 4
 },
 "nbformat": 4,
 "nbformat_minor": 2
}
