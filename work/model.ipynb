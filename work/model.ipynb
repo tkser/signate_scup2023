{
 "cells": [
  {
   "cell_type": "code",
   "execution_count": 4,
   "metadata": {},
   "outputs": [],
   "source": [
    "import polars as pl\n",
    "\n",
    "from sklearn.linear_model import Ridge\n",
    "\n",
    "import sys\n",
    "sys.path.append('../')\n",
    "\n",
    "from exp.features import Features\n",
    "from exp.models.cat import CatBoostModel\n",
    "from exp.models.lgbm import LGBMModel\n",
    "from exp.models.rf import RandomForestModel\n",
    "from exp.models.rgf import RGFModel\n",
    "from exp.models.xgb import XGBModel\n",
    "\n",
    "import warnings\n",
    "warnings.filterwarnings(\"ignore\")\n",
    "\n",
    "import gc\n",
    "gc.enable()"
   ]
  },
  {
   "cell_type": "code",
   "execution_count": 5,
   "metadata": {},
   "outputs": [],
   "source": [
    "train = pl.read_csv(\"../input/train.csv\")\n",
    "test = pl.read_csv(\"../input/test.csv\")"
   ]
  },
  {
   "cell_type": "code",
   "execution_count": 6,
   "metadata": {},
   "outputs": [],
   "source": [
    "features = Features(train, test)\n",
    "train, test = features.create_features()\n",
    "\n",
    "predictions = pl.concat([train[\"price\"].to_frame(), pl.DataFrame([None] * test.height, schema={\"price\": pl.Int64})])"
   ]
  },
  {
   "cell_type": "code",
   "execution_count": 7,
   "metadata": {},
   "outputs": [
    {
     "data": {
      "text/html": [
       "<div><style>\n",
       ".dataframe > thead > tr > th,\n",
       ".dataframe > tbody > tr > td {\n",
       "  text-align: right;\n",
       "}\n",
       "</style>\n",
       "<small>shape: (5, 161)</small><table border=\"1\" class=\"dataframe\"><thead><tr><th>year</th><th>condition</th><th>cylinders</th><th>odometer</th><th>size</th><th>price</th><th>age</th><th>odometer/age</th><th>odometer/cylinders</th><th>manufacturer_odometer_mean</th><th>manufacturer_odometer_std</th><th>manufacturer_odometer_max</th><th>manufacturer_odometer_min</th><th>manufacturer_odometer_diff</th><th>lat</th><th>lng</th><th>region_count</th><th>manufacturer_count</th><th>condition_count</th><th>fuel_count</th><th>title_status_count</th><th>transmission_count</th><th>drive_count</th><th>size_count</th><th>type_count</th><th>paint_color_count</th><th>state_count</th><th>manufacturer_acura</th><th>manufacturer_alfa-romeo</th><th>manufacturer_aston-martin</th><th>manufacturer_audi</th><th>manufacturer_buick</th><th>manufacturer_cadillac</th><th>manufacturer_chevrolet</th><th>manufacturer_chrysler</th><th>manufacturer_dodge</th><th>manufacturer_fiat</th><th>&hellip;</th><th>state_il</th><th>state_in</th><th>state_ks</th><th>state_ky</th><th>state_la</th><th>state_ma</th><th>state_md</th><th>state_me</th><th>state_mi</th><th>state_mn</th><th>state_mo</th><th>state_ms</th><th>state_mt</th><th>state_nan</th><th>state_nc</th><th>state_nd</th><th>state_ne</th><th>state_nh</th><th>state_nj</th><th>state_nm</th><th>state_nv</th><th>state_ny</th><th>state_oh</th><th>state_ok</th><th>state_or</th><th>state_pa</th><th>state_ri</th><th>state_sc</th><th>state_sd</th><th>state_tx</th><th>state_ut</th><th>state_va</th><th>state_vt</th><th>state_wa</th><th>state_wi</th><th>state_wv</th><th>state_wy</th></tr><tr><td>i64</td><td>i64</td><td>i8</td><td>f64</td><td>i64</td><td>i64</td><td>i64</td><td>f64</td><td>f64</td><td>f64</td><td>f64</td><td>f64</td><td>f64</td><td>f64</td><td>f64</td><td>f64</td><td>u32</td><td>u32</td><td>u32</td><td>u32</td><td>u32</td><td>u32</td><td>u32</td><td>u32</td><td>u32</td><td>u32</td><td>u32</td><td>u8</td><td>u8</td><td>u8</td><td>u8</td><td>u8</td><td>u8</td><td>u8</td><td>u8</td><td>u8</td><td>u8</td><td>&hellip;</td><td>u8</td><td>u8</td><td>u8</td><td>u8</td><td>u8</td><td>u8</td><td>u8</td><td>u8</td><td>u8</td><td>u8</td><td>u8</td><td>u8</td><td>u8</td><td>u8</td><td>u8</td><td>u8</td><td>u8</td><td>u8</td><td>u8</td><td>u8</td><td>u8</td><td>u8</td><td>u8</td><td>u8</td><td>u8</td><td>u8</td><td>u8</td><td>u8</td><td>u8</td><td>u8</td><td>u8</td><td>u8</td><td>u8</td><td>u8</td><td>u8</td><td>u8</td><td>u8</td></tr></thead><tbody><tr><td>1949</td><td>3</td><td>6</td><td>115148.0</td><td>2</td><td>27587</td><td>74</td><td>1556.054054</td><td>19191.333333</td><td>99634.628778</td><td>54369.725486</td><td>1.48431e6</td><td>85.0</td><td>1.484225e6</td><td>36.162277</td><td>-86.774298</td><td>229</td><td>3044</td><td>15219</td><td>24785</td><td>22365</td><td>6156</td><td>4834</td><td>9411</td><td>418</td><td>144</td><td>689</td><td>0</td><td>0</td><td>0</td><td>0</td><td>0</td><td>0</td><td>0</td><td>0</td><td>0</td><td>0</td><td>&hellip;</td><td>0</td><td>0</td><td>0</td><td>0</td><td>0</td><td>0</td><td>0</td><td>0</td><td>0</td><td>0</td><td>0</td><td>0</td><td>0</td><td>0</td><td>0</td><td>0</td><td>0</td><td>0</td><td>0</td><td>0</td><td>0</td><td>0</td><td>0</td><td>0</td><td>0</td><td>0</td><td>0</td><td>0</td><td>0</td><td>0</td><td>0</td><td>0</td><td>0</td><td>0</td><td>0</td><td>0</td><td>0</td></tr><tr><td>2013</td><td>0</td><td>8</td><td>172038.0</td><td>3</td><td>4724</td><td>10</td><td>17203.8</td><td>21504.75</td><td>149848.5</td><td>63701.285145</td><td>386817.0</td><td>877.0</td><td>385940.0</td><td>40.79445</td><td>-77.861639</td><td>12</td><td>1782</td><td>2404</td><td>24785</td><td>22365</td><td>20497</td><td>4834</td><td>14636</td><td>9259</td><td>4300</td><td>1107</td><td>0</td><td>0</td><td>0</td><td>0</td><td>0</td><td>0</td><td>0</td><td>0</td><td>0</td><td>0</td><td>&hellip;</td><td>0</td><td>0</td><td>0</td><td>0</td><td>0</td><td>0</td><td>0</td><td>0</td><td>0</td><td>0</td><td>0</td><td>0</td><td>0</td><td>0</td><td>0</td><td>0</td><td>0</td><td>0</td><td>0</td><td>0</td><td>0</td><td>0</td><td>0</td><td>0</td><td>0</td><td>1</td><td>0</td><td>0</td><td>0</td><td>0</td><td>0</td><td>0</td><td>0</td><td>0</td><td>0</td><td>0</td><td>0</td></tr><tr><td>1998</td><td>2</td><td>6</td><td>152492.0</td><td>3</td><td>10931</td><td>25</td><td>6099.68</td><td>25415.333333</td><td>117840.777762</td><td>62743.660556</td><td>1.18784e6</td><td>22.0</td><td>1.187818e6</td><td>37.692236</td><td>-97.337545</td><td>233</td><td>6943</td><td>6009</td><td>24785</td><td>22365</td><td>20497</td><td>14602</td><td>14636</td><td>7311</td><td>4300</td><td>293</td><td>0</td><td>0</td><td>0</td><td>0</td><td>0</td><td>0</td><td>0</td><td>0</td><td>0</td><td>0</td><td>&hellip;</td><td>0</td><td>0</td><td>1</td><td>0</td><td>0</td><td>0</td><td>0</td><td>0</td><td>0</td><td>0</td><td>0</td><td>0</td><td>0</td><td>0</td><td>0</td><td>0</td><td>0</td><td>0</td><td>0</td><td>0</td><td>0</td><td>0</td><td>0</td><td>0</td><td>0</td><td>0</td><td>0</td><td>0</td><td>0</td><td>0</td><td>0</td><td>0</td><td>0</td><td>0</td><td>0</td><td>0</td><td>0</td></tr><tr><td>2014</td><td>3</td><td>4</td><td>104118.0</td><td>2</td><td>16553</td><td>9</td><td>11568.666667</td><td>26029.5</td><td>117840.777762</td><td>62743.660556</td><td>1.18784e6</td><td>22.0</td><td>1.187818e6</td><td>42.651167</td><td>-73.754968</td><td>504</td><td>6943</td><td>15219</td><td>24785</td><td>22365</td><td>6156</td><td>14602</td><td>9411</td><td>7311</td><td>3765</td><td>2112</td><td>0</td><td>0</td><td>0</td><td>0</td><td>0</td><td>0</td><td>0</td><td>0</td><td>0</td><td>0</td><td>&hellip;</td><td>0</td><td>0</td><td>0</td><td>0</td><td>0</td><td>0</td><td>0</td><td>0</td><td>0</td><td>0</td><td>0</td><td>0</td><td>0</td><td>0</td><td>0</td><td>0</td><td>0</td><td>0</td><td>0</td><td>0</td><td>0</td><td>1</td><td>0</td><td>0</td><td>0</td><td>0</td><td>0</td><td>0</td><td>0</td><td>0</td><td>0</td><td>0</td><td>0</td><td>0</td><td>0</td><td>0</td><td>0</td></tr><tr><td>2005</td><td>3</td><td>6</td><td>144554.0</td><td>2</td><td>5158</td><td>18</td><td>8030.777778</td><td>24092.333333</td><td>117840.777762</td><td>62743.660556</td><td>1.18784e6</td><td>22.0</td><td>1.187818e6</td><td>40.586356</td><td>-122.391675</td><td>153</td><td>6943</td><td>15219</td><td>24785</td><td>22365</td><td>6156</td><td>14602</td><td>9411</td><td>9259</td><td>1419</td><td>3050</td><td>0</td><td>0</td><td>0</td><td>0</td><td>0</td><td>0</td><td>0</td><td>0</td><td>0</td><td>0</td><td>&hellip;</td><td>0</td><td>0</td><td>0</td><td>0</td><td>0</td><td>0</td><td>0</td><td>0</td><td>0</td><td>0</td><td>0</td><td>0</td><td>0</td><td>0</td><td>0</td><td>0</td><td>0</td><td>0</td><td>0</td><td>0</td><td>0</td><td>0</td><td>0</td><td>0</td><td>0</td><td>0</td><td>0</td><td>0</td><td>0</td><td>0</td><td>0</td><td>0</td><td>0</td><td>0</td><td>0</td><td>0</td><td>0</td></tr></tbody></table></div>"
      ],
      "text/plain": [
       "shape: (5, 161)\n",
       "┌──────┬───────────┬───────────┬──────────┬───┬──────────┬──────────┬──────────┬──────────┐\n",
       "│ year ┆ condition ┆ cylinders ┆ odometer ┆ … ┆ state_wa ┆ state_wi ┆ state_wv ┆ state_wy │\n",
       "│ ---  ┆ ---       ┆ ---       ┆ ---      ┆   ┆ ---      ┆ ---      ┆ ---      ┆ ---      │\n",
       "│ i64  ┆ i64       ┆ i8        ┆ f64      ┆   ┆ u8       ┆ u8       ┆ u8       ┆ u8       │\n",
       "╞══════╪═══════════╪═══════════╪══════════╪═══╪══════════╪══════════╪══════════╪══════════╡\n",
       "│ 1949 ┆ 3         ┆ 6         ┆ 115148.0 ┆ … ┆ 0        ┆ 0        ┆ 0        ┆ 0        │\n",
       "│ 2013 ┆ 0         ┆ 8         ┆ 172038.0 ┆ … ┆ 0        ┆ 0        ┆ 0        ┆ 0        │\n",
       "│ 1998 ┆ 2         ┆ 6         ┆ 152492.0 ┆ … ┆ 0        ┆ 0        ┆ 0        ┆ 0        │\n",
       "│ 2014 ┆ 3         ┆ 4         ┆ 104118.0 ┆ … ┆ 0        ┆ 0        ┆ 0        ┆ 0        │\n",
       "│ 2005 ┆ 3         ┆ 6         ┆ 144554.0 ┆ … ┆ 0        ┆ 0        ┆ 0        ┆ 0        │\n",
       "└──────┴───────────┴───────────┴──────────┴───┴──────────┴──────────┴──────────┴──────────┘"
      ]
     },
     "execution_count": 7,
     "metadata": {},
     "output_type": "execute_result"
    }
   ],
   "source": [
    "train.head()"
   ]
  },
  {
   "cell_type": "code",
   "execution_count": 8,
   "metadata": {},
   "outputs": [
    {
     "data": {
      "text/html": [
       "<div><style>\n",
       ".dataframe > thead > tr > th,\n",
       ".dataframe > tbody > tr > td {\n",
       "  text-align: right;\n",
       "}\n",
       "</style>\n",
       "<small>shape: (5, 160)</small><table border=\"1\" class=\"dataframe\"><thead><tr><th>year</th><th>condition</th><th>cylinders</th><th>odometer</th><th>size</th><th>age</th><th>odometer/age</th><th>odometer/cylinders</th><th>manufacturer_odometer_mean</th><th>manufacturer_odometer_std</th><th>manufacturer_odometer_max</th><th>manufacturer_odometer_min</th><th>manufacturer_odometer_diff</th><th>lat</th><th>lng</th><th>region_count</th><th>manufacturer_count</th><th>condition_count</th><th>fuel_count</th><th>title_status_count</th><th>transmission_count</th><th>drive_count</th><th>size_count</th><th>type_count</th><th>paint_color_count</th><th>state_count</th><th>manufacturer_acura</th><th>manufacturer_alfa-romeo</th><th>manufacturer_aston-martin</th><th>manufacturer_audi</th><th>manufacturer_buick</th><th>manufacturer_cadillac</th><th>manufacturer_chevrolet</th><th>manufacturer_chrysler</th><th>manufacturer_dodge</th><th>manufacturer_fiat</th><th>manufacturer_ford</th><th>&hellip;</th><th>state_il</th><th>state_in</th><th>state_ks</th><th>state_ky</th><th>state_la</th><th>state_ma</th><th>state_md</th><th>state_me</th><th>state_mi</th><th>state_mn</th><th>state_mo</th><th>state_ms</th><th>state_mt</th><th>state_nan</th><th>state_nc</th><th>state_nd</th><th>state_ne</th><th>state_nh</th><th>state_nj</th><th>state_nm</th><th>state_nv</th><th>state_ny</th><th>state_oh</th><th>state_ok</th><th>state_or</th><th>state_pa</th><th>state_ri</th><th>state_sc</th><th>state_sd</th><th>state_tx</th><th>state_ut</th><th>state_va</th><th>state_vt</th><th>state_wa</th><th>state_wi</th><th>state_wv</th><th>state_wy</th></tr><tr><td>i64</td><td>i64</td><td>i8</td><td>f64</td><td>i64</td><td>i64</td><td>f64</td><td>f64</td><td>f64</td><td>f64</td><td>f64</td><td>f64</td><td>f64</td><td>f64</td><td>f64</td><td>u32</td><td>u32</td><td>u32</td><td>u32</td><td>u32</td><td>u32</td><td>u32</td><td>u32</td><td>u32</td><td>u32</td><td>u32</td><td>u8</td><td>u8</td><td>u8</td><td>u8</td><td>u8</td><td>u8</td><td>u8</td><td>u8</td><td>u8</td><td>u8</td><td>u8</td><td>&hellip;</td><td>u8</td><td>u8</td><td>u8</td><td>u8</td><td>u8</td><td>u8</td><td>u8</td><td>u8</td><td>u8</td><td>u8</td><td>u8</td><td>u8</td><td>u8</td><td>u8</td><td>u8</td><td>u8</td><td>u8</td><td>u8</td><td>u8</td><td>u8</td><td>u8</td><td>u8</td><td>u8</td><td>u8</td><td>u8</td><td>u8</td><td>u8</td><td>u8</td><td>u8</td><td>u8</td><td>u8</td><td>u8</td><td>u8</td><td>u8</td><td>u8</td><td>u8</td><td>u8</td></tr></thead><tbody><tr><td>2015</td><td>3</td><td>4</td><td>92553.0</td><td>3</td><td>8</td><td>11569.125</td><td>23138.25</td><td>106793.071841</td><td>72910.573408</td><td>2.946e6</td><td>120.0</td><td>2.94588e6</td><td>39.0</td><td>-108.0</td><td>138</td><td>3807</td><td>15219</td><td>24785</td><td>22365</td><td>20497</td><td>14602</td><td>14636</td><td>7311</td><td>1419</td><td>804</td><td>0</td><td>0</td><td>0</td><td>0</td><td>0</td><td>0</td><td>1</td><td>0</td><td>0</td><td>0</td><td>0</td><td>&hellip;</td><td>0</td><td>0</td><td>0</td><td>0</td><td>0</td><td>0</td><td>0</td><td>0</td><td>0</td><td>0</td><td>0</td><td>0</td><td>0</td><td>0</td><td>0</td><td>0</td><td>0</td><td>0</td><td>0</td><td>0</td><td>0</td><td>0</td><td>0</td><td>0</td><td>0</td><td>0</td><td>0</td><td>0</td><td>0</td><td>0</td><td>0</td><td>0</td><td>0</td><td>0</td><td>0</td><td>0</td><td>0</td></tr><tr><td>2013</td><td>4</td><td>4</td><td>134385.0</td><td>2</td><td>10</td><td>13438.5</td><td>33596.25</td><td>122265.837</td><td>58250.681702</td><td>396512.0</td><td>491.0</td><td>396021.0</td><td>43.216505</td><td>-123.341738</td><td>21</td><td>1000</td><td>3810</td><td>24785</td><td>985</td><td>20497</td><td>14602</td><td>9411</td><td>9259</td><td>10143</td><td>645</td><td>0</td><td>0</td><td>0</td><td>0</td><td>0</td><td>0</td><td>0</td><td>0</td><td>0</td><td>0</td><td>0</td><td>&hellip;</td><td>0</td><td>0</td><td>0</td><td>0</td><td>0</td><td>0</td><td>0</td><td>0</td><td>0</td><td>0</td><td>0</td><td>0</td><td>0</td><td>0</td><td>0</td><td>0</td><td>0</td><td>0</td><td>0</td><td>0</td><td>0</td><td>0</td><td>0</td><td>0</td><td>1</td><td>0</td><td>0</td><td>0</td><td>0</td><td>0</td><td>0</td><td>0</td><td>0</td><td>0</td><td>0</td><td>0</td><td>0</td></tr><tr><td>2011</td><td>2</td><td>4</td><td>102489.0</td><td>3</td><td>12</td><td>8540.75</td><td>25622.25</td><td>111336.231218</td><td>62332.777216</td><td>1.1275e6</td><td>1247.0</td><td>1.126253e6</td><td>41.083064</td><td>-81.518485</td><td>102</td><td>772</td><td>6009</td><td>24785</td><td>22365</td><td>20497</td><td>14602</td><td>14636</td><td>9259</td><td>10143</td><td>961</td><td>0</td><td>0</td><td>0</td><td>0</td><td>0</td><td>0</td><td>0</td><td>0</td><td>0</td><td>0</td><td>0</td><td>&hellip;</td><td>0</td><td>0</td><td>0</td><td>0</td><td>0</td><td>0</td><td>0</td><td>0</td><td>0</td><td>0</td><td>0</td><td>0</td><td>0</td><td>0</td><td>0</td><td>0</td><td>0</td><td>0</td><td>0</td><td>0</td><td>0</td><td>0</td><td>1</td><td>0</td><td>0</td><td>0</td><td>0</td><td>0</td><td>0</td><td>0</td><td>0</td><td>0</td><td>0</td><td>0</td><td>0</td><td>0</td><td>0</td></tr><tr><td>2016</td><td>3</td><td>6</td><td>64310.0</td><td>2</td><td>7</td><td>9187.142857</td><td>10718.333333</td><td>124055.680416</td><td>54971.511041</td><td>377569.0</td><td>1437.0</td><td>376132.0</td><td>39.739236</td><td>-104.984862</td><td>246</td><td>1297</td><td>15219</td><td>2639</td><td>22365</td><td>20497</td><td>8096</td><td>9411</td><td>7311</td><td>1419</td><td>804</td><td>0</td><td>0</td><td>0</td><td>0</td><td>0</td><td>0</td><td>0</td><td>0</td><td>0</td><td>0</td><td>0</td><td>&hellip;</td><td>0</td><td>0</td><td>0</td><td>0</td><td>0</td><td>0</td><td>0</td><td>0</td><td>0</td><td>0</td><td>0</td><td>0</td><td>0</td><td>0</td><td>0</td><td>0</td><td>0</td><td>0</td><td>0</td><td>0</td><td>0</td><td>0</td><td>0</td><td>0</td><td>0</td><td>0</td><td>0</td><td>0</td><td>0</td><td>0</td><td>0</td><td>0</td><td>0</td><td>0</td><td>0</td><td>0</td><td>0</td></tr><tr><td>1999</td><td>3</td><td>8</td><td>180839.0</td><td>2</td><td>24</td><td>7534.958333</td><td>22604.875</td><td>122259.717853</td><td>55577.993427</td><td>346965.0</td><td>2267.0</td><td>344698.0</td><td>37.959055</td><td>-93.333475</td><td>66</td><td>1742</td><td>15219</td><td>24785</td><td>3004</td><td>20497</td><td>8096</td><td>9411</td><td>7311</td><td>4300</td><td>725</td><td>0</td><td>0</td><td>0</td><td>0</td><td>0</td><td>0</td><td>0</td><td>0</td><td>0</td><td>0</td><td>0</td><td>&hellip;</td><td>0</td><td>0</td><td>0</td><td>0</td><td>0</td><td>0</td><td>0</td><td>0</td><td>0</td><td>0</td><td>0</td><td>0</td><td>0</td><td>0</td><td>1</td><td>0</td><td>0</td><td>0</td><td>0</td><td>0</td><td>0</td><td>0</td><td>0</td><td>0</td><td>0</td><td>0</td><td>0</td><td>0</td><td>0</td><td>0</td><td>0</td><td>0</td><td>0</td><td>0</td><td>0</td><td>0</td><td>0</td></tr></tbody></table></div>"
      ],
      "text/plain": [
       "shape: (5, 160)\n",
       "┌──────┬───────────┬───────────┬──────────┬───┬──────────┬──────────┬──────────┬──────────┐\n",
       "│ year ┆ condition ┆ cylinders ┆ odometer ┆ … ┆ state_wa ┆ state_wi ┆ state_wv ┆ state_wy │\n",
       "│ ---  ┆ ---       ┆ ---       ┆ ---      ┆   ┆ ---      ┆ ---      ┆ ---      ┆ ---      │\n",
       "│ i64  ┆ i64       ┆ i8        ┆ f64      ┆   ┆ u8       ┆ u8       ┆ u8       ┆ u8       │\n",
       "╞══════╪═══════════╪═══════════╪══════════╪═══╪══════════╪══════════╪══════════╪══════════╡\n",
       "│ 2015 ┆ 3         ┆ 4         ┆ 92553.0  ┆ … ┆ 0        ┆ 0        ┆ 0        ┆ 0        │\n",
       "│ 2013 ┆ 4         ┆ 4         ┆ 134385.0 ┆ … ┆ 0        ┆ 0        ┆ 0        ┆ 0        │\n",
       "│ 2011 ┆ 2         ┆ 4         ┆ 102489.0 ┆ … ┆ 0        ┆ 0        ┆ 0        ┆ 0        │\n",
       "│ 2016 ┆ 3         ┆ 6         ┆ 64310.0  ┆ … ┆ 0        ┆ 0        ┆ 0        ┆ 0        │\n",
       "│ 1999 ┆ 3         ┆ 8         ┆ 180839.0 ┆ … ┆ 0        ┆ 0        ┆ 0        ┆ 0        │\n",
       "└──────┴───────────┴───────────┴──────────┴───┴──────────┴──────────┴──────────┴──────────┘"
      ]
     },
     "execution_count": 8,
     "metadata": {},
     "output_type": "execute_result"
    }
   ],
   "source": [
    "test.head()"
   ]
  },
  {
   "cell_type": "code",
   "execution_count": 9,
   "metadata": {},
   "outputs": [],
   "source": [
    "predictions = pl.concat([train[\"price\"].to_frame(), pl.DataFrame([None] * test.height, schema={\"price\": pl.Int64})])"
   ]
  },
  {
   "cell_type": "code",
   "execution_count": 12,
   "metadata": {},
   "outputs": [
    {
     "name": "stdout",
     "output_type": "stream",
     "text": [
      "Fold_lgbm 0: 0.438997748685258\n",
      "Fold_lgbm 1: 0.44367061958235204\n",
      "Fold_lgbm 2: 0.4438502345358935\n",
      "Fold_lgbm 3: 0.4453008427470675\n",
      "Fold_lgbm 4: 0.4453268344511112\n"
     ]
    }
   ],
   "source": [
    "lgbm = LGBMModel(train, test)\n",
    "#lgbm.objective(20)\n",
    "lgbm.best_params = {'num_leaves': 48, 'max_depth': 6, 'min_child_samples': 91, 'subsample': 0.5578230915019112, 'colsample_bytree': 0.5933052522026404, 'reg_alpha': 2.4725566626090776e-05, 'reg_lambda': 1.0114136512530978e-08, 'feature_fraction': 0.7523757350552451, 'bagging_fraction': 0.9199865329355417, 'bagging_freq': 5}\n",
    "lgbm_predictions = lgbm.predict()\n",
    "predictions = pl.concat([predictions, lgbm_predictions], how=\"horizontal\")"
   ]
  },
  {
   "cell_type": "code",
   "execution_count": 13,
   "metadata": {},
   "outputs": [
    {
     "name": "stdout",
     "output_type": "stream",
     "text": [
      "Fold_xgb 0: 0.4745561476623629\n",
      "Fold_xgb 1: 0.4784323061866384\n",
      "Fold_xgb 2: 0.4884161029488602\n",
      "Fold_xgb 3: 0.48400381786286995\n",
      "Fold_xgb 4: 0.48454445464054335\n"
     ]
    }
   ],
   "source": [
    "xgb = XGBModel(train, test)\n",
    "#xgb.objective(20)\n",
    "xgb.best_params = {'n_estimators': 767, 'max_depth': 8, 'lambda': 1.2306916748991704e-06, 'alpha': 0.018078104089246788, 'colsample_bytree': 0.42319770953022684, 'subsample': 0.2810517802368746, 'min_child_weight': 218, 'gamma': 6.031109467976734e-08, 'eta': 0.018889170085640027}\n",
    "xgb_predictions = xgb.predict()\n",
    "predictions = pl.concat([predictions, xgb_predictions], how=\"horizontal\")"
   ]
  },
  {
   "cell_type": "code",
   "execution_count": null,
   "metadata": {},
   "outputs": [],
   "source": [
    "#rf = RandomForestModel(df)\n",
    "##rf.objective(5)\n",
    "#rf.best_params = {'max_depth': 9, 'min_samples_split': 11, 'min_samples_leaf': 14, 'max_features': 0.6306125661502896, 'max_leaf_nodes': 18, 'n_estimators': 8762, 'bootstrap': True}\n",
    "#rf_predictions = rf.predict()\n",
    "#predictions = pd.concat([predictions, rf_predictions], axis=1)"
   ]
  },
  {
   "cell_type": "code",
   "execution_count": null,
   "metadata": {},
   "outputs": [],
   "source": [
    "#rgf = RGFModel(df)\n",
    "##rgf.objective(5)\n",
    "#rgf.best_params = {'max_leaf': 8072, 'algorithm': 'RGF_Opt', 'test_interval': 142, 'min_samples_leaf': 11, 'reg_depth': 9, 'l2': 0.0002082492344277923, 'sl2': 4.2919223241162815e-07, 'normalize': False}\n",
    "#rgf_predictions = rgf.predict()\n",
    "#predictions = pd.concat([predictions, rgf_predictions], axis=1)"
   ]
  },
  {
   "cell_type": "code",
   "execution_count": null,
   "metadata": {},
   "outputs": [],
   "source": [
    "#cat = CatBoostModel(df)\n",
    "##cat.objective(5)\n",
    "#cat.best_params = {\"depth\": 6}\n",
    "#cat_predictions = cat.predict()\n",
    "#predictions = pd.concat([predictions, cat_predictions], axis=1)"
   ]
  },
  {
   "cell_type": "code",
   "execution_count": 14,
   "metadata": {},
   "outputs": [
    {
     "data": {
      "text/html": [
       "<div><style>\n",
       ".dataframe > thead > tr > th,\n",
       ".dataframe > tbody > tr > td {\n",
       "  text-align: right;\n",
       "}\n",
       "</style>\n",
       "<small>shape: (5, 11)</small><table border=\"1\" class=\"dataframe\"><thead><tr><th>price</th><th>lgbm_pred_0</th><th>lgbm_pred_1</th><th>lgbm_pred_2</th><th>lgbm_pred_3</th><th>lgbm_pred_4</th><th>xgb_pred_0</th><th>xgb_pred_1</th><th>xgb_pred_2</th><th>xgb_pred_3</th><th>xgb_pred_4</th></tr><tr><td>i64</td><td>f64</td><td>f64</td><td>f64</td><td>f64</td><td>f64</td><td>f64</td><td>f64</td><td>f64</td><td>f64</td><td>f64</td></tr></thead><tbody><tr><td>27587</td><td>0.0</td><td>0.0</td><td>0.0</td><td>0.0</td><td>0.0</td><td>0.0</td><td>0.0</td><td>0.0</td><td>0.0</td><td>0.0</td></tr><tr><td>4724</td><td>0.0</td><td>0.0</td><td>0.0</td><td>0.0</td><td>0.0</td><td>0.0</td><td>0.0</td><td>0.0</td><td>0.0</td><td>0.0</td></tr><tr><td>10931</td><td>0.0</td><td>0.0</td><td>0.0</td><td>0.0</td><td>0.0</td><td>0.0</td><td>0.0</td><td>0.0</td><td>0.0</td><td>0.0</td></tr><tr><td>16553</td><td>0.0</td><td>0.0</td><td>0.0</td><td>0.0</td><td>0.0</td><td>0.0</td><td>0.0</td><td>0.0</td><td>0.0</td><td>0.0</td></tr><tr><td>5158</td><td>0.0</td><td>0.0</td><td>0.0</td><td>0.0</td><td>0.0</td><td>0.0</td><td>0.0</td><td>0.0</td><td>0.0</td><td>0.0</td></tr></tbody></table></div>"
      ],
      "text/plain": [
       "shape: (5, 11)\n",
       "┌───────┬────────────┬────────────┬────────────┬───┬───────────┬───────────┬───────────┬───────────┐\n",
       "│ price ┆ lgbm_pred_ ┆ lgbm_pred_ ┆ lgbm_pred_ ┆ … ┆ xgb_pred_ ┆ xgb_pred_ ┆ xgb_pred_ ┆ xgb_pred_ │\n",
       "│ ---   ┆ 0          ┆ 1          ┆ 2          ┆   ┆ 1         ┆ 2         ┆ 3         ┆ 4         │\n",
       "│ i64   ┆ ---        ┆ ---        ┆ ---        ┆   ┆ ---       ┆ ---       ┆ ---       ┆ ---       │\n",
       "│       ┆ f64        ┆ f64        ┆ f64        ┆   ┆ f64       ┆ f64       ┆ f64       ┆ f64       │\n",
       "╞═══════╪════════════╪════════════╪════════════╪═══╪═══════════╪═══════════╪═══════════╪═══════════╡\n",
       "│ 27587 ┆ 0.0        ┆ 0.0        ┆ 0.0        ┆ … ┆ 0.0       ┆ 0.0       ┆ 0.0       ┆ 0.0       │\n",
       "│ 4724  ┆ 0.0        ┆ 0.0        ┆ 0.0        ┆ … ┆ 0.0       ┆ 0.0       ┆ 0.0       ┆ 0.0       │\n",
       "│ 10931 ┆ 0.0        ┆ 0.0        ┆ 0.0        ┆ … ┆ 0.0       ┆ 0.0       ┆ 0.0       ┆ 0.0       │\n",
       "│ 16553 ┆ 0.0        ┆ 0.0        ┆ 0.0        ┆ … ┆ 0.0       ┆ 0.0       ┆ 0.0       ┆ 0.0       │\n",
       "│ 5158  ┆ 0.0        ┆ 0.0        ┆ 0.0        ┆ … ┆ 0.0       ┆ 0.0       ┆ 0.0       ┆ 0.0       │\n",
       "└───────┴────────────┴────────────┴────────────┴───┴───────────┴───────────┴───────────┴───────────┘"
      ]
     },
     "execution_count": 14,
     "metadata": {},
     "output_type": "execute_result"
    }
   ],
   "source": [
    "predictions.head()"
   ]
  },
  {
   "cell_type": "code",
   "execution_count": null,
   "metadata": {},
   "outputs": [],
   "source": [
    "model = Ridge(random_state=0)\n",
    "train = predictions[predictions[\"price\"].notnull()]\n",
    "test = predictions[predictions[\"price\"].isnull()]\n",
    "X_train = train.drop([\"price\"], axis=1)\n",
    "y_train = train[\"price\"]\n",
    "X_test = test.drop([\"price\"], axis=1)\n",
    "model.fit(X_train, y_train)\n",
    "y_pred = model.predict(X_test)"
   ]
  },
  {
   "cell_type": "code",
   "execution_count": null,
   "metadata": {},
   "outputs": [],
   "source": [
    "sub = pd.read_csv(\"../input/submit_sample.csv\", header=None)\n",
    "sub[sub.columns[1]] = y_pred\n",
    "sub.to_csv(\"../output/submit0728_add_geo.csv\", index=False, header=None)"
   ]
  }
 ],
 "metadata": {
  "kernelspec": {
   "display_name": "venv",
   "language": "python",
   "name": "python3"
  },
  "language_info": {
   "codemirror_mode": {
    "name": "ipython",
    "version": 3
   },
   "file_extension": ".py",
   "mimetype": "text/x-python",
   "name": "python",
   "nbconvert_exporter": "python",
   "pygments_lexer": "ipython3",
   "version": "3.11.2"
  },
  "orig_nbformat": 4
 },
 "nbformat": 4,
 "nbformat_minor": 2
}
