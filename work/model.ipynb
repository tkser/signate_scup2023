{
 "cells": [
  {
   "cell_type": "code",
   "execution_count": 1,
   "metadata": {},
   "outputs": [
    {
     "name": "stderr",
     "output_type": "stream",
     "text": [
      "/home/education/signate_scup2023/.venv/lib/python3.11/site-packages/tqdm/auto.py:21: TqdmWarning: IProgress not found. Please update jupyter and ipywidgets. See https://ipywidgets.readthedocs.io/en/stable/user_install.html\n",
      "  from .autonotebook import tqdm as notebook_tqdm\n"
     ]
    }
   ],
   "source": [
    "import polars as pl\n",
    "pl.Config.set_tbl_cols(-1)\n",
    "pl.Config.set_tbl_rows(-1)\n",
    "\n",
    "import seaborn as sns\n",
    "import matplotlib.pyplot as plt\n",
    "\n",
    "import os\n",
    "import sys\n",
    "sys.path.append('../')\n",
    "\n",
    "from exp.features import Features\n",
    "from exp.models.cat import CatBoostModel\n",
    "from exp.models._lgbm import LGBMModel\n",
    "from exp.models.rf import RandomForestModel\n",
    "from exp.models.rgf import RGFModel\n",
    "from exp.models.xgb import XGBModel\n",
    "\n",
    "import warnings\n",
    "warnings.filterwarnings(\"ignore\")\n",
    "\n",
    "import gc\n",
    "gc.enable()"
   ]
  },
  {
   "cell_type": "code",
   "execution_count": 2,
   "metadata": {},
   "outputs": [],
   "source": [
    "train = pl.read_csv(\"../input/train.csv\")\n",
    "test = pl.read_csv(\"../input/test.csv\")"
   ]
  },
  {
   "cell_type": "code",
   "execution_count": 3,
   "metadata": {},
   "outputs": [
    {
     "name": "stderr",
     "output_type": "stream",
     "text": [
      "Warning : `load_model` does not return WordVectorModel or SupervisedModel any more, but a `FastText` object which is very similar.\n"
     ]
    }
   ],
   "source": [
    "from exp.features import FeatureSelecter\n",
    "\n",
    "\n",
    "features = Features(train, test)\n",
    "train, test = features.create_features()\n",
    "\n",
    "selecter = FeatureSelecter(train, test)"
   ]
  },
  {
   "cell_type": "code",
   "execution_count": 4,
   "metadata": {},
   "outputs": [
    {
     "data": {
      "text/html": [
       "<div><style>\n",
       ".dataframe > thead > tr > th,\n",
       ".dataframe > tbody > tr > td {\n",
       "  text-align: right;\n",
       "}\n",
       "</style>\n",
       "<small>shape: (2, 778)</small><table border=\"1\" class=\"dataframe\"><thead><tr><th>year</th><th>cylinders</th><th>odometer</th><th>manufacturer_ref_val</th><th>age</th><th>odometer/age</th><th>odometer/cylinders</th><th>lat</th><th>lng</th><th>lat_scaled</th><th>lng_scaled</th><th>lat_lng_cluster</th><th>manufacturer_rank</th><th>condition_rank</th><th>fuel_rank</th><th>title_status_rank</th><th>transmission_rank</th><th>drive_rank</th><th>size_rank</th><th>type_rank</th><th>paint_color_rank</th><th>state_rank</th><th>manufacturer_count</th><th>condition_count</th><th>fuel_count</th><th>title_status_count</th><th>transmission_count</th><th>drive_count</th><th>size_count</th><th>type_count</th><th>paint_color_count</th><th>state_count</th><th>type_base_price</th><th>type_base_year</th><th>type_base_odometer_f</th><th>manufacturer_base_price</th><th>manufacturer_base_year</th><th>manufacturer_base_odometer_f</th><th>type_manufacturer_base_price</th><th>type_manufacturer_base_year</th><th>type_manufacturer_base_odometer</th><th>type_manufacturer_year_diff</th><th>type_manufacturer_odometer_diff</th><th>type_manufacturer_odometer/age_base</th><th>type_manufacturer_odometer/age_diff</th><th>manufacturer_price_mean</th><th>fuel_price_mean</th><th>title_status_price_mean</th><th>transmission_price_mean</th><th>drive_price_mean</th><th>type_price_mean</th><th>paint_color_price_mean</th><th>state_price_mean</th><th>lat_lng_cluster_price_mean</th><th>title_status_type_manufacturer_price_ratio_mean</th><th>state_type_manufacturer_price_ratio_mean</th><th>region_type_manufacturer_price_ratio_mean</th><th>paint_color_type_manufacturer_price_ratio_mean</th><th>lat_lng_cluster_type_manufacturer_price_ratio_mean</th><th>condition_l</th><th>size_l</th><th>manufacturer_age_mean</th><th>manufacturer_age_std</th><th>manufacturer_age_max</th><th>manufacturer_age_min</th><th>manufacturer_age_diff</th><th>manufacturer_odometer_mean</th><th>manufacturer_odometer_std</th><th>manufacturer_odometer_max</th><th>manufacturer_odometer_min</th><th>manufacturer_odometer_diff</th><th>condition_age_mean</th><th>condition_age_std</th><th>condition_age_max</th><th>condition_age_min</th><th>condition_age_diff</th><th>condition_odometer_mean</th><th>condition_odometer_std</th><th>condition_odometer_max</th><th>condition_odometer_min</th><th>condition_odometer_diff</th><th>cylinders_age_mean</th><th>cylinders_age_std</th><th>cylinders_age_max</th><th>cylinders_age_min</th><th>cylinders_age_diff</th><th>cylinders_odometer_mean</th><th>cylinders_odometer_std</th><th>cylinders_odometer_max</th><th>cylinders_odometer_min</th><th>cylinders_odometer_diff</th><th>fuel_age_mean</th><th>fuel_age_std</th><th>fuel_age_max</th><th>fuel_age_min</th><th>fuel_age_diff</th><th>fuel_odometer_mean</th><th>fuel_odometer_std</th><th>fuel_odometer_max</th><th>fuel_odometer_min</th><th>fuel_odometer_diff</th><th>drive_age_mean</th><th>drive_age_std</th><th>drive_age_max</th><th>drive_age_min</th><th>drive_age_diff</th><th>drive_odometer_mean</th><th>drive_odometer_std</th><th>drive_odometer_max</th><th>drive_odometer_min</th><th>drive_odometer_diff</th><th>type_age_mean</th><th>type_age_std</th><th>type_age_max</th><th>type_age_min</th><th>type_age_diff</th><th>type_odometer_mean</th><th>type_odometer_std</th><th>type_odometer_max</th><th>type_odometer_min</th><th>type_odometer_diff</th><th>car_w2v_0</th><th>car_w2v_1</th><th>car_w2v_2</th><th>car_w2v_3</th><th>car_w2v_4</th><th>car_w2v_5</th><th>car_w2v_6</th><th>car_w2v_7</th><th>car_w2v_8</th><th>car_w2v_9</th><th>car_w2v_10</th><th>car_w2v_11</th><th>car_w2v_12</th><th>car_w2v_13</th><th>car_w2v_14</th><th>car_w2v_15</th><th>car_w2v_16</th><th>car_w2v_17</th><th>car_w2v_18</th><th>car_w2v_19</th><th>car_w2v_20</th><th>car_w2v_21</th><th>car_w2v_22</th><th>car_w2v_23</th><th>car_w2v_24</th><th>car_w2v_25</th><th>car_w2v_26</th><th>car_w2v_27</th><th>car_w2v_28</th><th>car_w2v_29</th><th>car_w2v_30</th><th>car_w2v_31</th><th>car_w2v_32</th><th>car_w2v_33</th><th>car_w2v_34</th><th>car_w2v_35</th><th>car_w2v_36</th><th>car_w2v_37</th><th>car_w2v_38</th><th>car_w2v_39</th><th>car_w2v_40</th><th>car_w2v_41</th><th>car_w2v_42</th><th>car_w2v_43</th><th>car_w2v_44</th><th>car_w2v_45</th><th>car_w2v_46</th><th>car_w2v_47</th><th>car_w2v_48</th><th>car_w2v_49</th><th>car_w2v_50</th><th>car_w2v_51</th><th>car_w2v_52</th><th>car_w2v_53</th><th>car_w2v_54</th><th>car_w2v_55</th><th>car_w2v_56</th><th>car_w2v_57</th><th>car_w2v_58</th><th>car_w2v_59</th><th>car_w2v_60</th><th>car_w2v_61</th><th>car_w2v_62</th><th>car_w2v_63</th><th>car_w2v_64</th><th>car_w2v_65</th><th>car_w2v_66</th><th>car_w2v_67</th><th>car_w2v_68</th><th>car_w2v_69</th><th>car_w2v_70</th><th>car_w2v_71</th><th>car_w2v_72</th><th>car_w2v_73</th><th>car_w2v_74</th><th>car_w2v_75</th><th>car_w2v_76</th><th>car_w2v_77</th><th>car_w2v_78</th><th>car_w2v_79</th><th>car_w2v_80</th><th>car_w2v_81</th><th>car_w2v_82</th><th>car_w2v_83</th><th>car_w2v_84</th><th>car_w2v_85</th><th>car_w2v_86</th><th>car_w2v_87</th><th>car_w2v_88</th><th>car_w2v_89</th><th>car_w2v_90</th><th>car_w2v_91</th><th>car_w2v_92</th><th>car_w2v_93</th><th>car_w2v_94</th><th>car_w2v_95</th><th>car_w2v_96</th><th>car_w2v_97</th><th>car_w2v_98</th><th>car_w2v_99</th><th>car_w2v_100</th><th>car_w2v_101</th><th>car_w2v_102</th><th>car_w2v_103</th><th>car_w2v_104</th><th>car_w2v_105</th><th>car_w2v_106</th><th>car_w2v_107</th><th>car_w2v_108</th><th>car_w2v_109</th><th>car_w2v_110</th><th>car_w2v_111</th><th>car_w2v_112</th><th>car_w2v_113</th><th>car_w2v_114</th><th>car_w2v_115</th><th>car_w2v_116</th><th>car_w2v_117</th><th>car_w2v_118</th><th>car_w2v_119</th><th>car_w2v_120</th><th>car_w2v_121</th><th>car_w2v_122</th><th>car_w2v_123</th><th>car_w2v_124</th><th>car_w2v_125</th><th>car_w2v_126</th><th>car_w2v_127</th><th>car_w2v_128</th><th>car_w2v_129</th><th>car_w2v_130</th><th>car_w2v_131</th><th>car_w2v_132</th><th>car_w2v_133</th><th>car_w2v_134</th><th>car_w2v_135</th><th>car_w2v_136</th><th>car_w2v_137</th><th>car_w2v_138</th><th>car_w2v_139</th><th>car_w2v_140</th><th>car_w2v_141</th><th>car_w2v_142</th><th>car_w2v_143</th><th>car_w2v_144</th><th>car_w2v_145</th><th>car_w2v_146</th><th>car_w2v_147</th><th>car_w2v_148</th><th>car_w2v_149</th><th>car_w2v_150</th><th>car_w2v_151</th><th>car_w2v_152</th><th>car_w2v_153</th><th>car_w2v_154</th><th>car_w2v_155</th><th>car_w2v_156</th><th>car_w2v_157</th><th>car_w2v_158</th><th>car_w2v_159</th><th>car_w2v_160</th><th>car_w2v_161</th><th>car_w2v_162</th><th>car_w2v_163</th><th>car_w2v_164</th><th>car_w2v_165</th><th>car_w2v_166</th><th>car_w2v_167</th><th>car_w2v_168</th><th>car_w2v_169</th><th>car_w2v_170</th><th>car_w2v_171</th><th>car_w2v_172</th><th>car_w2v_173</th><th>car_w2v_174</th><th>car_w2v_175</th><th>car_w2v_176</th><th>car_w2v_177</th><th>car_w2v_178</th><th>car_w2v_179</th><th>car_w2v_180</th><th>car_w2v_181</th><th>car_w2v_182</th><th>car_w2v_183</th><th>car_w2v_184</th><th>car_w2v_185</th><th>car_w2v_186</th><th>car_w2v_187</th><th>car_w2v_188</th><th>car_w2v_189</th><th>car_w2v_190</th><th>car_w2v_191</th><th>car_w2v_192</th><th>car_w2v_193</th><th>car_w2v_194</th><th>car_w2v_195</th><th>car_w2v_196</th><th>car_w2v_197</th><th>car_w2v_198</th><th>car_w2v_199</th><th>car_w2v_200</th><th>car_w2v_201</th><th>car_w2v_202</th><th>car_w2v_203</th><th>car_w2v_204</th><th>car_w2v_205</th><th>car_w2v_206</th><th>car_w2v_207</th><th>car_w2v_208</th><th>car_w2v_209</th><th>car_w2v_210</th><th>car_w2v_211</th><th>car_w2v_212</th><th>car_w2v_213</th><th>car_w2v_214</th><th>car_w2v_215</th><th>car_w2v_216</th><th>car_w2v_217</th><th>car_w2v_218</th><th>car_w2v_219</th><th>car_w2v_220</th><th>car_w2v_221</th><th>car_w2v_222</th><th>car_w2v_223</th><th>car_w2v_224</th><th>car_w2v_225</th><th>car_w2v_226</th><th>car_w2v_227</th><th>car_w2v_228</th><th>car_w2v_229</th><th>car_w2v_230</th><th>car_w2v_231</th><th>car_w2v_232</th><th>car_w2v_233</th><th>car_w2v_234</th><th>car_w2v_235</th><th>car_w2v_236</th><th>car_w2v_237</th><th>car_w2v_238</th><th>car_w2v_239</th><th>car_w2v_240</th><th>car_w2v_241</th><th>car_w2v_242</th><th>car_w2v_243</th><th>car_w2v_244</th><th>car_w2v_245</th><th>car_w2v_246</th><th>car_w2v_247</th><th>car_w2v_248</th><th>car_w2v_249</th><th>car_w2v_250</th><th>car_w2v_251</th><th>car_w2v_252</th><th>car_w2v_253</th><th>car_w2v_254</th><th>car_w2v_255</th><th>car_w2v_256</th><th>car_w2v_257</th><th>car_w2v_258</th><th>car_w2v_259</th><th>car_w2v_260</th><th>car_w2v_261</th><th>car_w2v_262</th><th>car_w2v_263</th><th>car_w2v_264</th><th>car_w2v_265</th><th>car_w2v_266</th><th>car_w2v_267</th><th>car_w2v_268</th><th>car_w2v_269</th><th>car_w2v_270</th><th>car_w2v_271</th><th>car_w2v_272</th><th>car_w2v_273</th><th>car_w2v_274</th><th>car_w2v_275</th><th>car_w2v_276</th><th>car_w2v_277</th><th>car_w2v_278</th><th>car_w2v_279</th><th>car_w2v_280</th><th>car_w2v_281</th><th>car_w2v_282</th><th>car_w2v_283</th><th>car_w2v_284</th><th>car_w2v_285</th><th>car_w2v_286</th><th>car_w2v_287</th><th>car_w2v_288</th><th>car_w2v_289</th><th>car_w2v_290</th><th>car_w2v_291</th><th>car_w2v_292</th><th>car_w2v_293</th><th>car_w2v_294</th><th>car_w2v_295</th><th>car_w2v_296</th><th>car_w2v_297</th><th>car_w2v_298</th><th>car_w2v_299</th><th>car_w2v_norm2</th><th>car_w2v_mean</th><th>car_string_vec_norm2</th><th>car_string_vec_mean</th><th>car_string_vec_0</th><th>car_string_vec_1</th><th>car_string_vec_2</th><th>car_string_vec_3</th><th>car_string_vec_4</th><th>car_string_vec_5</th><th>car_string_vec_6</th><th>car_string_vec_7</th><th>car_string_vec_8</th><th>car_string_vec_9</th><th>car_string_vec_10</th><th>car_string_vec_11</th><th>car_string_vec_12</th><th>car_string_vec_13</th><th>car_string_vec_14</th><th>car_string_vec_15</th><th>car_string_vec_16</th><th>car_string_vec_17</th><th>car_string_vec_18</th><th>car_string_vec_19</th><th>car_string_vec_20</th><th>car_string_vec_21</th><th>car_string_vec_22</th><th>car_string_vec_23</th><th>car_string_vec_24</th><th>car_string_vec_25</th><th>car_string_vec_26</th><th>car_string_vec_27</th><th>car_string_vec_28</th><th>car_string_vec_29</th><th>car_string_vec_30</th><th>car_string_vec_31</th><th>car_string_vec_32</th><th>car_string_vec_33</th><th>car_string_vec_34</th><th>car_string_vec_35</th><th>car_string_vec_36</th><th>car_string_vec_37</th><th>car_string_vec_38</th><th>car_string_vec_39</th><th>car_string_vec_40</th><th>car_string_vec_41</th><th>car_string_vec_42</th><th>car_string_vec_43</th><th>car_string_vec_44</th><th>car_string_vec_45</th><th>car_string_vec_46</th><th>car_string_vec_47</th><th>car_string_vec_48</th><th>car_string_vec_49</th><th>car_string_vec_50</th><th>car_string_vec_51</th><th>car_string_vec_52</th><th>car_string_vec_53</th><th>car_string_vec_54</th><th>car_string_vec_55</th><th>car_string_vec_56</th><th>car_string_vec_57</th><th>car_string_vec_58</th><th>car_string_vec_59</th><th>car_string_vec_60</th><th>car_string_vec_61</th><th>car_string_vec_62</th><th>car_string_vec_63</th><th>car_string_vec_64</th><th>car_string_vec_65</th><th>car_string_vec_66</th><th>car_string_vec_67</th><th>car_string_vec_68</th><th>car_string_vec_69</th><th>car_string_vec_70</th><th>car_string_vec_71</th><th>car_string_vec_72</th><th>car_string_vec_73</th><th>car_string_vec_74</th><th>car_string_vec_75</th><th>car_string_vec_76</th><th>car_string_vec_77</th><th>car_string_vec_78</th><th>car_string_vec_79</th><th>car_string_vec_80</th><th>car_string_vec_81</th><th>car_string_vec_82</th><th>car_string_vec_83</th><th>car_string_vec_84</th><th>car_string_vec_85</th><th>car_string_vec_86</th><th>car_string_vec_87</th><th>car_string_vec_88</th><th>car_string_vec_89</th><th>car_string_vec_90</th><th>car_string_vec_91</th><th>car_string_vec_92</th><th>car_string_vec_93</th><th>car_string_vec_94</th><th>car_string_vec_95</th><th>car_string_vec_96</th><th>car_string_vec_97</th><th>car_string_vec_98</th><th>car_string_vec_99</th><th>car_string_vec_100</th><th>car_string_vec_101</th><th>car_string_vec_102</th><th>car_string_vec_103</th><th>car_string_vec_104</th><th>car_string_vec_105</th><th>car_string_vec_106</th><th>car_string_vec_107</th><th>car_string_vec_108</th><th>car_string_vec_109</th><th>car_string_vec_110</th><th>car_string_vec_111</th><th>car_string_vec_112</th><th>car_string_vec_113</th><th>car_string_vec_114</th><th>car_string_vec_115</th><th>car_string_vec_116</th><th>car_string_vec_117</th><th>car_string_vec_118</th><th>car_string_vec_119</th><th>car_string_vec_120</th><th>car_string_vec_121</th><th>car_string_vec_122</th><th>car_string_vec_123</th><th>car_string_vec_124</th><th>car_string_vec_125</th><th>car_string_vec_126</th><th>car_string_vec_127</th><th>car_string_vec_128</th><th>car_string_vec_129</th><th>car_string_vec_130</th><th>car_string_vec_131</th><th>car_string_vec_132</th><th>car_string_vec_133</th><th>car_string_vec_134</th><th>car_string_vec_135</th><th>car_string_vec_136</th><th>car_string_vec_137</th><th>car_string_vec_138</th><th>car_string_vec_139</th><th>car_string_vec_140</th><th>car_string_vec_141</th><th>car_string_vec_142</th><th>car_string_vec_143</th><th>car_string_vec_144</th><th>car_string_vec_145</th><th>car_string_vec_146</th><th>car_string_vec_147</th><th>car_string_vec_148</th><th>car_string_vec_149</th><th>car_string_vec_150</th><th>car_string_vec_151</th><th>car_string_vec_152</th><th>car_string_vec_153</th><th>car_string_vec_154</th><th>car_string_vec_155</th><th>car_string_vec_156</th><th>car_string_vec_157</th><th>car_string_vec_158</th><th>car_string_vec_159</th><th>car_string_vec_160</th><th>car_string_vec_161</th><th>car_string_vec_162</th><th>car_string_vec_163</th><th>car_string_vec_164</th><th>car_string_vec_165</th><th>car_string_vec_166</th><th>car_string_vec_167</th><th>car_string_vec_168</th><th>car_string_vec_169</th><th>car_string_vec_170</th><th>car_string_vec_171</th><th>car_string_vec_172</th><th>car_string_vec_173</th><th>car_string_vec_174</th><th>car_string_vec_175</th><th>car_string_vec_176</th><th>car_string_vec_177</th><th>car_string_vec_178</th><th>car_string_vec_179</th><th>car_string_vec_180</th><th>car_string_vec_181</th><th>car_string_vec_182</th><th>car_string_vec_183</th><th>car_string_vec_184</th><th>car_string_vec_185</th><th>car_string_vec_186</th><th>car_string_vec_187</th><th>car_string_vec_188</th><th>car_string_vec_189</th><th>car_string_vec_190</th><th>car_string_vec_191</th><th>car_string_vec_192</th><th>car_string_vec_193</th><th>car_string_vec_194</th><th>car_string_vec_195</th><th>car_string_vec_196</th><th>car_string_vec_197</th><th>car_string_vec_198</th><th>car_string_vec_199</th><th>car_string_vec_200</th><th>car_string_vec_201</th><th>car_string_vec_202</th><th>car_string_vec_203</th><th>car_string_vec_204</th><th>car_string_vec_205</th><th>car_string_vec_206</th><th>car_string_vec_207</th><th>car_string_vec_208</th><th>car_string_vec_209</th><th>car_string_vec_210</th><th>car_string_vec_211</th><th>car_string_vec_212</th><th>car_string_vec_213</th><th>car_string_vec_214</th><th>car_string_vec_215</th><th>car_string_vec_216</th><th>car_string_vec_217</th><th>car_string_vec_218</th><th>car_string_vec_219</th><th>car_string_vec_220</th><th>car_string_vec_221</th><th>car_string_vec_222</th><th>car_string_vec_223</th><th>car_string_vec_224</th><th>car_string_vec_225</th><th>car_string_vec_226</th><th>car_string_vec_227</th><th>car_string_vec_228</th><th>car_string_vec_229</th><th>car_string_vec_230</th><th>car_string_vec_231</th><th>car_string_vec_232</th><th>car_string_vec_233</th><th>car_string_vec_234</th><th>car_string_vec_235</th><th>car_string_vec_236</th><th>car_string_vec_237</th><th>car_string_vec_238</th><th>car_string_vec_239</th><th>car_string_vec_240</th><th>car_string_vec_241</th><th>car_string_vec_242</th><th>car_string_vec_243</th><th>car_string_vec_244</th><th>car_string_vec_245</th><th>car_string_vec_246</th><th>car_string_vec_247</th><th>car_string_vec_248</th><th>car_string_vec_249</th><th>car_string_vec_250</th><th>car_string_vec_251</th><th>car_string_vec_252</th><th>car_string_vec_253</th><th>car_string_vec_254</th><th>car_string_vec_255</th><th>car_string_vec_256</th><th>car_string_vec_257</th><th>car_string_vec_258</th><th>car_string_vec_259</th><th>car_string_vec_260</th><th>car_string_vec_261</th><th>car_string_vec_262</th><th>car_string_vec_263</th><th>car_string_vec_264</th><th>car_string_vec_265</th><th>car_string_vec_266</th><th>car_string_vec_267</th><th>car_string_vec_268</th><th>car_string_vec_269</th><th>car_string_vec_270</th><th>car_string_vec_271</th><th>car_string_vec_272</th><th>car_string_vec_273</th><th>car_string_vec_274</th><th>car_string_vec_275</th><th>car_string_vec_276</th><th>car_string_vec_277</th><th>car_string_vec_278</th><th>car_string_vec_279</th><th>car_string_vec_280</th><th>car_string_vec_281</th><th>car_string_vec_282</th><th>car_string_vec_283</th><th>car_string_vec_284</th><th>car_string_vec_285</th><th>car_string_vec_286</th><th>car_string_vec_287</th><th>car_string_vec_288</th><th>car_string_vec_289</th><th>car_string_vec_290</th><th>car_string_vec_291</th><th>car_string_vec_292</th><th>car_string_vec_293</th><th>car_string_vec_294</th><th>car_string_vec_295</th><th>car_string_vec_296</th><th>car_string_vec_297</th><th>car_string_vec_298</th><th>car_string_vec_299</th><th>manufacturer_svd_0</th><th>manufacturer_svd_1</th><th>manufacturer_svd_2</th><th>manufacturer_svd_3</th><th>manufacturer_svd_4</th><th>manufacturer_svd_5</th><th>manufacturer_svd_6</th><th>manufacturer_svd_7</th><th>manufacturer_svd_8</th><th>manufacturer_svd_9</th><th>fuel_diesel</th><th>fuel_electric</th><th>fuel_hybrid</th><th>fuel_other</th><th>title_status_lien</th><th>title_status_missing</th><th>title_status_parts only</th><th>title_status_rebuilt</th><th>title_status_salvage</th><th>transmission_automatic</th><th>transmission_other</th><th>drive_4wd</th><th>drive_fwd</th><th>type_svd_0</th><th>type_svd_1</th><th>type_svd_2</th><th>type_svd_3</th><th>type_svd_4</th><th>type_svd_5</th><th>type_svd_6</th><th>type_svd_7</th><th>type_svd_8</th><th>type_svd_9</th><th>paint_color_svd_0</th><th>paint_color_svd_1</th><th>paint_color_svd_2</th><th>paint_color_svd_3</th><th>paint_color_svd_4</th><th>paint_color_svd_5</th><th>paint_color_svd_6</th><th>paint_color_svd_7</th><th>paint_color_svd_8</th><th>paint_color_svd_9</th><th>state_svd_0</th><th>state_svd_1</th><th>state_svd_2</th><th>state_svd_3</th><th>state_svd_4</th><th>state_svd_5</th><th>state_svd_6</th><th>state_svd_7</th><th>state_svd_8</th><th>state_svd_9</th></tr><tr><td>i64</td><td>i8</td><td>f64</td><td>f64</td><td>i64</td><td>f64</td><td>f64</td><td>f64</td><td>f64</td><td>f64</td><td>f64</td><td>i8</td><td>f32</td><td>f32</td><td>f32</td><td>f32</td><td>f32</td><td>f32</td><td>f32</td><td>f32</td><td>f32</td><td>f32</td><td>u32</td><td>u32</td><td>u32</td><td>u32</td><td>u32</td><td>u32</td><td>u32</td><td>u32</td><td>u32</td><td>u32</td><td>f32</td><td>f32</td><td>f32</td><td>f32</td><td>f32</td><td>f32</td><td>f32</td><td>f32</td><td>f32</td><td>f64</td><td>f64</td><td>f64</td><td>f64</td><td>f64</td><td>f64</td><td>f64</td><td>f64</td><td>f64</td><td>f64</td><td>f64</td><td>f64</td><td>f64</td><td>f64</td><td>f64</td><td>f64</td><td>f64</td><td>f64</td><td>i64</td><td>i64</td><td>f64</td><td>f64</td><td>i64</td><td>i64</td><td>f64</td><td>f64</td><td>f64</td><td>f64</td><td>f64</td><td>f64</td><td>f64</td><td>f64</td><td>i64</td><td>i64</td><td>i64</td><td>f64</td><td>f64</td><td>f64</td><td>f64</td><td>f64</td><td>f64</td><td>f64</td><td>i64</td><td>i64</td><td>i64</td><td>f64</td><td>f64</td><td>f64</td><td>f64</td><td>f64</td><td>f64</td><td>f64</td><td>i64</td><td>i64</td><td>i64</td><td>f64</td><td>f64</td><td>f64</td><td>f64</td><td>f64</td><td>f64</td><td>f64</td><td>i64</td><td>i64</td><td>i64</td><td>f64</td><td>f64</td><td>f64</td><td>f64</td><td>f64</td><td>f64</td><td>f64</td><td>i64</td><td>i64</td><td>f64</td><td>f64</td><td>f64</td><td>f64</td><td>f64</td><td>f64</td><td>f64</td><td>f64</td><td>f64</td><td>f64</td><td>f64</td><td>f64</td><td>f64</td><td>f64</td><td>f64</td><td>f64</td><td>f64</td><td>f64</td><td>f64</td><td>f64</td><td>f64</td><td>f64</td><td>f64</td><td>f64</td><td>f64</td><td>f64</td><td>f64</td><td>f64</td><td>f64</td><td>f64</td><td>f64</td><td>f64</td><td>f64</td><td>f64</td><td>f64</td><td>f64</td><td>f64</td><td>f64</td><td>f64</td><td>f64</td><td>f64</td><td>f64</td><td>f64</td><td>f64</td><td>f64</td><td>f64</td><td>f64</td><td>f64</td><td>f64</td><td>f64</td><td>f64</td><td>f64</td><td>f64</td><td>f64</td><td>f64</td><td>f64</td><td>f64</td><td>f64</td><td>f64</td><td>f64</td><td>f64</td><td>f64</td><td>f64</td><td>f64</td><td>f64</td><td>f64</td><td>f64</td><td>f64</td><td>f64</td><td>f64</td><td>f64</td><td>f64</td><td>f64</td><td>f64</td><td>f64</td><td>f64</td><td>f64</td><td>f64</td><td>f64</td><td>f64</td><td>f64</td><td>f64</td><td>f64</td><td>f64</td><td>f64</td><td>f64</td><td>f64</td><td>f64</td><td>f64</td><td>f64</td><td>f64</td><td>f64</td><td>f64</td><td>f64</td><td>f64</td><td>f64</td><td>f64</td><td>f64</td><td>f64</td><td>f64</td><td>f64</td><td>f64</td><td>f64</td><td>f64</td><td>f64</td><td>f64</td><td>f64</td><td>f64</td><td>f64</td><td>f64</td><td>f64</td><td>f64</td><td>f64</td><td>f64</td><td>f64</td><td>f64</td><td>f64</td><td>f64</td><td>f64</td><td>f64</td><td>f64</td><td>f64</td><td>f64</td><td>f64</td><td>f64</td><td>f64</td><td>f64</td><td>f64</td><td>f64</td><td>f64</td><td>f64</td><td>f64</td><td>f64</td><td>f64</td><td>f64</td><td>f64</td><td>f64</td><td>f64</td><td>f64</td><td>f64</td><td>f64</td><td>f64</td><td>f64</td><td>f64</td><td>f64</td><td>f64</td><td>f64</td><td>f64</td><td>f64</td><td>f64</td><td>f64</td><td>f64</td><td>f64</td><td>f64</td><td>f64</td><td>f64</td><td>f64</td><td>f64</td><td>f64</td><td>f64</td><td>f64</td><td>f64</td><td>f64</td><td>f64</td><td>f64</td><td>f64</td><td>f64</td><td>f64</td><td>f64</td><td>f64</td><td>f64</td><td>f64</td><td>f64</td><td>f64</td><td>f64</td><td>f64</td><td>f64</td><td>f64</td><td>f64</td><td>f64</td><td>f64</td><td>f64</td><td>f64</td><td>f64</td><td>f64</td><td>f64</td><td>f64</td><td>f64</td><td>f64</td><td>f64</td><td>f64</td><td>f64</td><td>f64</td><td>f64</td><td>f64</td><td>f64</td><td>f64</td><td>f64</td><td>f64</td><td>f64</td><td>f64</td><td>f64</td><td>f64</td><td>f64</td><td>f64</td><td>f64</td><td>f64</td><td>f64</td><td>f64</td><td>f64</td><td>f64</td><td>f64</td><td>f64</td><td>f64</td><td>f64</td><td>f64</td><td>f64</td><td>f64</td><td>f64</td><td>f64</td><td>f64</td><td>f64</td><td>f64</td><td>f64</td><td>f64</td><td>f64</td><td>f64</td><td>f64</td><td>f64</td><td>f64</td><td>f64</td><td>f64</td><td>f64</td><td>f64</td><td>f64</td><td>f64</td><td>f64</td><td>f64</td><td>f64</td><td>f64</td><td>f64</td><td>f64</td><td>f64</td><td>f64</td><td>f64</td><td>f64</td><td>f64</td><td>f64</td><td>f64</td><td>f64</td><td>f64</td><td>f64</td><td>f64</td><td>f64</td><td>f64</td><td>f64</td><td>f64</td><td>f64</td><td>f64</td><td>f64</td><td>f64</td><td>f64</td><td>f64</td><td>f64</td><td>f64</td><td>f64</td><td>f64</td><td>f64</td><td>f64</td><td>f64</td><td>f64</td><td>f64</td><td>f64</td><td>f64</td><td>f64</td><td>f64</td><td>f64</td><td>f64</td><td>f64</td><td>f64</td><td>f64</td><td>f64</td><td>f64</td><td>f64</td><td>f64</td><td>f64</td><td>f64</td><td>f64</td><td>f64</td><td>f64</td><td>f64</td><td>f64</td><td>f64</td><td>f64</td><td>f64</td><td>f64</td><td>f64</td><td>f64</td><td>f64</td><td>f64</td><td>f64</td><td>f64</td><td>f64</td><td>f64</td><td>f64</td><td>f64</td><td>f64</td><td>f64</td><td>f64</td><td>f64</td><td>f64</td><td>f64</td><td>f64</td><td>f64</td><td>f64</td><td>f64</td><td>f64</td><td>f64</td><td>f64</td><td>f64</td><td>f64</td><td>f64</td><td>f64</td><td>f64</td><td>f64</td><td>f64</td><td>f64</td><td>f64</td><td>f64</td><td>f64</td><td>f64</td><td>f64</td><td>f64</td><td>f64</td><td>f64</td><td>f64</td><td>f64</td><td>f64</td><td>f64</td><td>f64</td><td>f64</td><td>f64</td><td>f64</td><td>f64</td><td>f64</td><td>f64</td><td>f64</td><td>f64</td><td>f64</td><td>f64</td><td>f64</td><td>f64</td><td>f64</td><td>f64</td><td>f64</td><td>f64</td><td>f64</td><td>f64</td><td>f64</td><td>f64</td><td>f64</td><td>f64</td><td>f64</td><td>f64</td><td>f64</td><td>f64</td><td>f64</td><td>f64</td><td>f64</td><td>f64</td><td>f64</td><td>f64</td><td>f64</td><td>f64</td><td>f64</td><td>f64</td><td>f64</td><td>f64</td><td>f64</td><td>f64</td><td>f64</td><td>f64</td><td>f64</td><td>f64</td><td>f64</td><td>f64</td><td>f64</td><td>f64</td><td>f64</td><td>f64</td><td>f64</td><td>f64</td><td>f64</td><td>f64</td><td>f64</td><td>f64</td><td>f64</td><td>f64</td><td>f64</td><td>f64</td><td>f64</td><td>f64</td><td>f64</td><td>f64</td><td>f64</td><td>f64</td><td>f64</td><td>f64</td><td>f64</td><td>f64</td><td>f64</td><td>f64</td><td>f64</td><td>f64</td><td>f64</td><td>f64</td><td>f64</td><td>f64</td><td>f64</td><td>f64</td><td>f64</td><td>f64</td><td>f64</td><td>f64</td><td>f64</td><td>f64</td><td>f64</td><td>f64</td><td>f64</td><td>f64</td><td>f64</td><td>f64</td><td>f64</td><td>f64</td><td>f64</td><td>f64</td><td>f64</td><td>f64</td><td>f64</td><td>f64</td><td>f64</td><td>f64</td><td>f64</td><td>f64</td><td>f64</td><td>f64</td><td>f64</td><td>f64</td><td>f64</td><td>f64</td><td>f64</td><td>f64</td><td>f64</td><td>f64</td><td>f64</td><td>f64</td><td>f64</td><td>f64</td><td>f64</td><td>f64</td><td>f64</td><td>f64</td><td>f64</td><td>f64</td><td>f64</td><td>f64</td><td>f64</td><td>f64</td><td>f64</td><td>f64</td><td>f64</td><td>f64</td><td>f64</td><td>f64</td><td>f64</td><td>f64</td><td>f64</td><td>f64</td><td>f64</td><td>f64</td><td>f64</td><td>f64</td><td>f64</td><td>f64</td><td>f64</td><td>f64</td><td>f64</td><td>f64</td><td>f64</td><td>f64</td><td>f64</td><td>f64</td><td>f64</td><td>f64</td><td>f64</td><td>f64</td><td>f64</td><td>f64</td><td>f64</td><td>f64</td><td>f64</td><td>f64</td><td>f64</td><td>f64</td><td>f64</td><td>f64</td><td>f64</td><td>f64</td><td>f64</td><td>f64</td><td>f64</td><td>f64</td><td>f64</td><td>f64</td><td>f64</td><td>f64</td><td>f64</td><td>f64</td><td>f64</td><td>f64</td><td>f64</td><td>f64</td><td>f64</td><td>f64</td><td>f64</td><td>f64</td><td>f64</td><td>f64</td><td>f64</td><td>f64</td><td>f64</td><td>f64</td><td>f64</td><td>f64</td><td>f64</td><td>f64</td><td>f64</td><td>f64</td><td>f64</td><td>f64</td><td>f64</td><td>f64</td><td>f64</td><td>f64</td><td>f64</td><td>f64</td><td>f64</td><td>f64</td><td>f64</td><td>f64</td><td>f64</td><td>f64</td><td>f64</td><td>f64</td><td>f64</td><td>f64</td><td>f64</td><td>f64</td><td>f64</td><td>f64</td><td>f64</td><td>f64</td><td>f64</td><td>f64</td><td>f64</td><td>f64</td><td>f64</td><td>f64</td><td>f64</td><td>f64</td><td>f64</td><td>f64</td><td>f64</td><td>f64</td><td>f64</td><td>f64</td><td>f64</td><td>f64</td><td>f64</td><td>f64</td><td>f64</td><td>f64</td><td>f64</td><td>f64</td><td>f64</td><td>f64</td><td>f64</td><td>f64</td><td>f64</td><td>f64</td><td>f64</td><td>f64</td><td>f64</td><td>f64</td><td>f64</td><td>f64</td><td>f64</td><td>f64</td><td>f64</td><td>f64</td><td>f64</td><td>f64</td><td>f64</td><td>f64</td><td>f64</td><td>f64</td><td>f64</td><td>f64</td><td>f64</td><td>f64</td><td>f64</td><td>f64</td><td>f64</td><td>f64</td><td>f64</td><td>f64</td><td>f64</td><td>f64</td><td>f64</td><td>f64</td><td>u8</td><td>u8</td><td>u8</td><td>u8</td><td>u8</td><td>u8</td><td>u8</td><td>u8</td><td>u8</td><td>u8</td><td>u8</td><td>u8</td><td>u8</td><td>f64</td><td>f64</td><td>f64</td><td>f64</td><td>f64</td><td>f64</td><td>f64</td><td>f64</td><td>f64</td><td>f64</td><td>f64</td><td>f64</td><td>f64</td><td>f64</td><td>f64</td><td>f64</td><td>f64</td><td>f64</td><td>f64</td><td>f64</td><td>f64</td><td>f64</td><td>f64</td><td>f64</td><td>f64</td><td>f64</td><td>f64</td><td>f64</td><td>f64</td><td>f64</td></tr></thead><tbody><tr><td>2015</td><td>4</td><td>92553.0</td><td>1.1</td><td>8</td><td>11569.125</td><td>23138.25</td><td>39.0</td><td>-108.0</td><td>0.105995</td><td>-0.852625</td><td>13</td><td>36.0</td><td>6.0</td><td>5.0</td><td>6.0</td><td>3.0</td><td>3.0</td><td>4.0</td><td>13.0</td><td>7.0</td><td>43.0</td><td>3807</td><td>15219</td><td>24785</td><td>22821</td><td>20497</td><td>14602</td><td>14636</td><td>7311</td><td>1419</td><td>804</td><td>13821.114258</td><td>2009.394653</td><td>122670.5</td><td>14994.541016</td><td>2006.456299</td><td>106025.976562</td><td>14407.828125</td><td>2007.925537</td><td>114348.234375</td><td>7.074463</td><td>-21795.234375</td><td>7585.559446</td><td>3983.565554</td><td>14994.540583</td><td>12270.566996</td><td>13298.318128</td><td>13944.440064</td><td>9810.263663</td><td>13821.113801</td><td>11811.757576</td><td>12165.701493</td><td>12736.677094</td><td>0.954906</td><td>0.896019</td><td>0.887426</td><td>0.846305</td><td>0.927814</td><td>3</td><td>3</td><td>16.543735</td><td>12.018252</td><td>93</td><td>1</td><td>-1.273699</td><td>105960.952204</td><td>56874.563704</td><td>371297.0</td><td>120.0</td><td>11159.228185</td><td>13.90479</td><td>9.017663</td><td>102</td><td>1</td><td>101</td><td>111303.293102</td><td>55306.095717</td><td>396512.0</td><td>22.0</td><td>396490.0</td><td>12.261245</td><td>7.081156</td><td>95</td><td>1</td><td>94</td><td>117244.387609</td><td>58720.507136</td><td>396512.0</td><td>73.0</td><td>396439.0</td><td>15.265281</td><td>9.940321</td><td>101</td><td>1</td><td>100</td><td>117500.260147</td><td>58684.114027</td><td>396512.0</td><td>22.0</td><td>396490.0</td><td>13.601151</td><td>7.653625</td><td>101</td><td>1</td><td>100</td><td>120973.966183</td><td>57934.27407</td><td>392519.0</td><td>22.0</td><td>392497.0</td><td>13.605389</td><td>7.198899</td><td>77</td><td>1</td><td>1.664648</td><td>122776.648907</td><td>59081.487533</td><td>392519.0</td><td>110.0</td><td>-5656.468518</td><td>0.735596</td><td>0.409058</td><td>0.30603</td><td>0.38678</td><td>0.210556</td><td>-0.645264</td><td>0.085449</td><td>-1.411072</td><td>0.485107</td><td>0.568481</td><td>0.347549</td><td>0.060425</td><td>-0.108215</td><td>-0.012634</td><td>-0.434875</td><td>-0.02919</td><td>-0.29248</td><td>0.136108</td><td>0.19902</td><td>-0.76123</td><td>-0.149414</td><td>0.078369</td><td>-0.817017</td><td>-0.419678</td><td>0.403442</td><td>-0.008545</td><td>-1.101562</td><td>1.009644</td><td>1.957031</td><td>0.09845</td><td>-0.426514</td><td>-0.332031</td><td>-0.391113</td><td>0.30426</td><td>-0.028786</td><td>-0.425537</td><td>0.811188</td><td>-0.225342</td><td>-0.698486</td><td>0.110107</td><td>0.586426</td><td>-0.37294</td><td>1.114258</td><td>0.352539</td><td>-0.536377</td><td>-0.274902</td><td>-0.136719</td><td>0.259277</td><td>0.740723</td><td>0.51355</td><td>-1.347168</td><td>1.215088</td><td>0.089668</td><td>0.47876</td><td>-0.520142</td><td>0.404053</td><td>0.291016</td><td>0.739258</td><td>0.913452</td><td>-0.736572</td><td>-0.542236</td><td>-0.530884</td><td>-1.80957</td><td>0.136963</td><td>-0.105713</td><td>0.2109375</td><td>-0.813995</td><td>0.066269</td><td>-0.518509</td><td>1.344727</td><td>0.737793</td><td>-0.25647</td><td>-0.308258</td><td>-0.518555</td><td>-0.75708</td><td>-0.179169</td><td>0.289627</td><td>-0.07605</td><td>0.060547</td><td>-0.036621</td><td>0.807861</td><td>-0.014099</td><td>-0.79248</td><td>0.2421875</td><td>0.060181</td><td>0.140274</td><td>-1.125488</td><td>0.939697</td><td>-0.256348</td><td>-0.303589</td><td>-0.226685</td><td>-0.162964</td><td>0.360962</td><td>0.119232</td><td>-0.438538</td><td>-0.00061</td><td>-0.094116</td><td>-0.197739</td><td>0.987549</td><td>0.142822</td><td>-0.206604</td><td>-0.483521</td><td>0.467041</td><td>-0.459991</td><td>0.860474</td><td>-1.006104</td><td>0.324951</td><td>-0.185486</td><td>-0.501953</td><td>0.378418</td><td>-0.385193</td><td>-1.257812</td><td>-0.923004</td><td>0.04303</td><td>0.685364</td><td>0.100098</td><td>0.640259</td><td>0.364779</td><td>-0.183105</td><td>0.111328</td><td>-0.176758</td><td>-0.05249</td><td>-0.104858</td><td>0.080078</td><td>0.181519</td><td>0.26416</td><td>-0.199585</td><td>-0.205078</td><td>0.01709</td><td>0.180176</td><td>-0.159912</td><td>-0.056778</td><td>-0.240967</td><td>-0.342773</td><td>0.822754</td><td>0.123535</td><td>-0.327148</td><td>-0.049561</td><td>-0.040039</td><td>1.639648</td><td>0.12207</td><td>-0.841309</td><td>0.001465</td><td>-0.351929</td><td>-0.07312</td><td>0.36499</td><td>0.751709</td><td>-0.108467</td><td>-0.604652</td><td>-0.745605</td><td>1.277832</td><td>0.115479</td><td>-0.330566</td><td>-0.873535</td><td>0.512299</td><td>0.351196</td><td>-0.609741</td><td>-0.102203</td><td>-0.318146</td><td>0.286133</td><td>-0.825806</td><td>0.789467</td><td>0.370728</td><td>-0.193604</td><td>0.23291</td><td>-0.396729</td><td>0.606689</td><td>0.025391</td><td>0.073286</td><td>-0.260834</td><td>-0.444702</td><td>-0.413452</td><td>-0.490967</td><td>0.067749</td><td>-1.145508</td><td>-0.124268</td><td>0.282288</td><td>-0.891235</td><td>-1.281982</td><td>-0.165039</td><td>-1.185059</td><td>-0.546936</td><td>-0.481201</td><td>0.400146</td><td>0.095802</td><td>-0.065056</td><td>-0.247253</td><td>1.221924</td><td>-0.747314</td><td>0.185425</td><td>-0.409912</td><td>-0.594238</td><td>-0.648682</td><td>-0.268921</td><td>0.173096</td><td>0.752197</td><td>-0.31665</td><td>-0.509766</td><td>0.289551</td><td>-0.02063</td><td>0.343567</td><td>-1.283447</td><td>-0.500732</td><td>-0.233704</td><td>0.714355</td><td>-0.719727</td><td>-0.172729</td><td>-0.328003</td><td>0.643555</td><td>0.53125</td><td>0.439209</td><td>-0.005127</td><td>-0.500427</td><td>0.424072</td><td>-0.532898</td><td>1.162842</td><td>0.59082</td><td>0.813477</td><td>-0.825195</td><td>-0.12793</td><td>-1.823242</td><td>0.044922</td><td>0.831543</td><td>-0.299072</td><td>-0.249878</td><td>0.082764</td><td>0.164429</td><td>0.623657</td><td>-0.124084</td><td>-0.435059</td><td>0.1953125</td><td>-0.015015</td><td>-0.043945</td><td>0.046875</td><td>-1.079132</td><td>0.270325</td><td>-0.432129</td><td>-0.792236</td><td>0.372116</td><td>0.125757</td><td>0.91748</td><td>0.176971</td><td>-1.345459</td><td>-0.346893</td><td>-1.236084</td><td>-0.416992</td><td>0.512207</td><td>0.566528</td><td>1.016113</td><td>-0.359009</td><td>0.216187</td><td>0.32373</td><td>0.517578</td><td>0.220337</td><td>-0.257263</td><td>-0.417969</td><td>0.101074</td><td>-0.14209</td><td>0.475708</td><td>-0.743652</td><td>1.165924</td><td>-0.533691</td><td>0.052505</td><td>0.321045</td><td>0.650146</td><td>0.566406</td><td>-0.79837</td><td>-0.341064</td><td>-0.106201</td><td>-0.453156</td><td>0.144775</td><td>0.052155</td><td>-0.607544</td><td>0.177979</td><td>-0.058716</td><td>0.389648</td><td>-0.18811</td><td>-1.332764</td><td>-0.144531</td><td>0.566162</td><td>-0.424072</td><td>0.587341</td><td>0.469482</td><td>-0.439575</td><td>-0.681976</td><td>0.110596</td><td>0.500122</td><td>-0.319336</td><td>0.506836</td><td>-0.812256</td><td>-0.280762</td><td>-0.236572</td><td>-0.671509</td><td>0.13327</td><td>0.13689</td><td>-0.431702</td><td>-0.061584</td><td>0.802246</td><td>-0.250977</td><td>0.140686</td><td>9.961808</td><td>-0.040784</td><td>0.48113</td><td>-0.000485</td><td>-0.01222</td><td>-0.018684</td><td>-0.004666</td><td>0.030526</td><td>-0.033614</td><td>0.018196</td><td>0.047006</td><td>-0.001702</td><td>-0.006981</td><td>0.010249</td><td>-0.016263</td><td>0.001209</td><td>0.012653</td><td>-0.009912</td><td>-0.02386</td><td>0.028377</td><td>-0.002884</td><td>-0.008256</td><td>-0.018334</td><td>-0.010783</td><td>-0.009846</td><td>-0.013194</td><td>0.006111</td><td>0.00834</td><td>0.004942</td><td>-0.01085</td><td>0.006538</td><td>0.017925</td><td>-0.00606</td><td>0.055612</td><td>0.010087</td><td>0.030615</td><td>0.017831</td><td>-0.030336</td><td>0.003529</td><td>0.005462</td><td>0.012664</td><td>0.008046</td><td>0.023476</td><td>0.003305</td><td>-0.015542</td><td>-0.017484</td><td>-0.005017</td><td>0.006461</td><td>-0.024745</td><td>0.025196</td><td>-0.012423</td><td>-0.004453</td><td>-0.037302</td><td>-0.000811</td><td>0.00732</td><td>-0.015386</td><td>0.007425</td><td>-0.013801</td><td>0.001623</td><td>-0.005259</td><td>0.012174</td><td>-0.02011</td><td>-0.046652</td><td>-0.010618</td><td>-0.001625</td><td>0.001931</td><td>-0.005112</td><td>-0.013962</td><td>0.010706</td><td>-0.004356</td><td>-0.017098</td><td>0.003634</td><td>-0.004496</td><td>-0.003837</td><td>0.016743</td><td>-0.00362</td><td>0.007465</td><td>-0.00605</td><td>-0.025174</td><td>-0.005431</td><td>-0.010835</td><td>0.050308</td><td>-0.005814</td><td>-0.020106</td><td>-0.019076</td><td>-0.010091</td><td>-0.020745</td><td>0.007942</td><td>-0.006866</td><td>0.005137</td><td>0.014866</td><td>-0.014297</td><td>-0.002424</td><td>0.010315</td><td>-0.016797</td><td>-0.025883</td><td>0.021376</td><td>-0.004662</td><td>0.01494</td><td>0.047781</td><td>-0.015398</td><td>-0.004736</td><td>-0.011084</td><td>0.028501</td><td>0.003155</td><td>0.014872</td><td>0.011255</td><td>0.003723</td><td>-0.013483</td><td>-0.009821</td><td>-0.001777</td><td>0.002708</td><td>-0.011383</td><td>0.000488</td><td>0.013691</td><td>-0.006879</td><td>0.01374</td><td>0.022907</td><td>0.022022</td><td>-0.005737</td><td>0.008964</td><td>0.002762</td><td>-0.022006</td><td>-0.002862</td><td>0.007442</td><td>0.010294</td><td>0.001639</td><td>0.00494</td><td>-0.000872</td><td>-0.0086</td><td>-0.012121</td><td>0.026622</td><td>-0.021233</td><td>0.021569</td><td>0.018527</td><td>-0.017578</td><td>0.017542</td><td>0.014212</td><td>-0.001766</td><td>-0.018277</td><td>-0.003371</td><td>0.024088</td><td>0.012424</td><td>-0.00325</td><td>-0.004656</td><td>0.01379</td><td>0.012163</td><td>-0.008507</td><td>-0.023365</td><td>0.007351</td><td>-0.196203</td><td>0.001751</td><td>-0.018835</td><td>-0.016558</td><td>-0.055098</td><td>0.004285</td><td>0.001071</td><td>0.008986</td><td>-0.010818</td><td>0.005162</td><td>0.064897</td><td>-0.016952</td><td>-0.005079</td><td>0.004644</td><td>0.003174</td><td>-0.024415</td><td>0.033313</td><td>0.005688</td><td>-0.003108</td><td>0.01006</td><td>0.017857</td><td>-0.018708</td><td>0.004012</td><td>-0.002836</td><td>-0.006186</td><td>0.017279</td><td>-0.012224</td><td>-0.024008</td><td>-0.010875</td><td>-0.0229</td><td>-0.020283</td><td>0.022128</td><td>-0.003155</td><td>-0.019873</td><td>-0.01254</td><td>0.029224</td><td>-0.031816</td><td>-0.01297</td><td>0.004894</td><td>0.032852</td><td>-0.024588</td><td>-0.034845</td><td>0.016697</td><td>0.016784</td><td>-0.01228</td><td>-0.020475</td><td>0.008518</td><td>0.014984</td><td>0.020366</td><td>0.003514</td><td>0.027443</td><td>-0.011982</td><td>0.014198</td><td>-0.001856</td><td>-0.013915</td><td>0.084456</td><td>0.00962</td><td>-0.015141</td><td>-0.004244</td><td>0.013391</td><td>-0.007612</td><td>0.000934</td><td>-0.001798</td><td>0.027087</td><td>-0.013651</td><td>0.001629</td><td>-0.016899</td><td>0.013572</td><td>0.004941</td><td>-0.010331</td><td>0.008971</td><td>-0.000521</td><td>0.013895</td><td>0.023683</td><td>0.030354</td><td>-0.006288</td><td>-0.019554</td><td>0.026682</td><td>0.030892</td><td>-0.017804</td><td>0.012125</td><td>-0.004624</td><td>-0.000429</td><td>-0.013215</td><td>0.008516</td><td>-0.007392</td><td>0.018323</td><td>-0.009093</td><td>0.001927</td><td>-0.015844</td><td>-0.008903</td><td>-0.033844</td><td>-0.012702</td><td>-0.005749</td><td>0.00118</td><td>0.01673</td><td>0.016409</td><td>-0.054018</td><td>0.277161</td><td>0.006415</td><td>0.01961</td><td>-0.002207</td><td>0.010852</td><td>0.022938</td><td>0.012432</td><td>0.021577</td><td>-0.004661</td><td>-0.010589</td><td>0.001518</td><td>-0.007164</td><td>-0.042279</td><td>-0.013376</td><td>-0.008849</td><td>-0.004048</td><td>0.010939</td><td>0.016875</td><td>-0.009601</td><td>-0.010146</td><td>-0.019207</td><td>0.00956</td><td>-0.00076</td><td>0.005491</td><td>0.003478</td><td>-0.015755</td><td>-0.026254</td><td>0.004859</td><td>-0.011407</td><td>-0.031029</td><td>0.001968</td><td>-0.029678</td><td>-0.014237</td><td>-0.030001</td><td>0.00041</td><td>-0.019747</td><td>0.029683</td><td>0.005609</td><td>-0.094097</td><td>-0.02923</td><td>0.022366</td><td>0.004585</td><td>0.008258</td><td>-0.059648</td><td>-0.025628</td><td>-0.000388</td><td>0.02305</td><td>0.002136</td><td>-0.050652</td><td>0.037903</td><td>-0.010407</td><td>-0.016422</td><td>0.006396</td><td>0.052372</td><td>-0.020715</td><td>0.008</td><td>-3.9373e-16</td><td>1.0</td><td>1.2184e-12</td><td>1.5487e-13</td><td>-1.0113e-12</td><td>-2.3858e-12</td><td>-7.6615e-13</td><td>2.2323e-12</td><td>8.5545e-12</td><td>2.3229e-11</td><td>0</td><td>0</td><td>0</td><td>0</td><td>0</td><td>0</td><td>0</td><td>0</td><td>0</td><td>1</td><td>0</td><td>0</td><td>1</td><td>0.0</td><td>1.0</td><td>0.0</td><td>0.0</td><td>0.0</td><td>0.0</td><td>0.0</td><td>0.0</td><td>0.0</td><td>0.0</td><td>0.0</td><td>-3.6863e-17</td><td>-2.5977e-16</td><td>-2.8623e-17</td><td>-2.7100e-16</td><td>1.0</td><td>-1.2888e-15</td><td>-6.3287e-16</td><td>1.5233e-17</td><td>-1.2537e-18</td><td>-7.6411e-7</td><td>0.000004</td><td>0.000008</td><td>-0.000041</td><td>-0.000041</td><td>0.000074</td><td>-0.001025</td><td>-0.000594</td><td>0.000254</td><td>0.007939</td></tr><tr><td>2013</td><td>4</td><td>134385.0</td><td>1.1</td><td>10</td><td>13438.5</td><td>33596.25</td><td>43.216505</td><td>-123.341738</td><td>0.914012</td><td>-1.723605</td><td>7</td><td>30.0</td><td>4.0</td><td>5.0</td><td>4.0</td><td>3.0</td><td>3.0</td><td>3.0</td><td>14.0</td><td>12.0</td><td>37.0</td><td>1003</td><td>3810</td><td>24785</td><td>985</td><td>20497</td><td>14602</td><td>9411</td><td>9259</td><td>10143</td><td>645</td><td>9939.633789</td><td>2009.920288</td><td>115423.164062</td><td>10004.209961</td><td>2010.975098</td><td>122180.71875</td><td>9971.921875</td><td>2010.447754</td><td>118801.9375</td><td>2.552246</td><td>15583.0625</td><td>9464.595947</td><td>3973.904053</td><td>10004.210369</td><td>12270.566996</td><td>12351.056853</td><td>13944.440064</td><td>9810.263663</td><td>9939.633654</td><td>14798.718624</td><td>13653.979845</td><td>14139.177122</td><td>1.006917</td><td>0.955869</td><td>0.867631</td><td>1.070961</td><td>0.973221</td><td>4</td><td>2</td><td>12.024925</td><td>6.30752</td><td>95</td><td>1</td><td>3.245111</td><td>122262.582915</td><td>58456.216704</td><td>396512.0</td><td>491.0</td><td>-5142.402526</td><td>12.281627</td><td>9.051714</td><td>95</td><td>1</td><td>94</td><td>96607.548515</td><td>57656.409651</td><td>353896.0</td><td>73.0</td><td>353823.0</td><td>12.261245</td><td>7.081156</td><td>95</td><td>1</td><td>94</td><td>117244.387609</td><td>58720.507136</td><td>396512.0</td><td>73.0</td><td>396439.0</td><td>15.265281</td><td>9.940321</td><td>101</td><td>1</td><td>100</td><td>117500.260147</td><td>58684.114027</td><td>396512.0</td><td>22.0</td><td>396490.0</td><td>13.601151</td><td>7.653625</td><td>101</td><td>1</td><td>100</td><td>120973.966183</td><td>57934.27407</td><td>392519.0</td><td>22.0</td><td>392497.0</td><td>13.079706</td><td>7.103995</td><td>101</td><td>1</td><td>2.19033</td><td>115453.008422</td><td>55905.119734</td><td>396512.0</td><td>22.0</td><td>1667.171966</td><td>0.994629</td><td>0.837646</td><td>0.484314</td><td>-0.020569</td><td>0.441895</td><td>-0.440918</td><td>0.05957</td><td>-0.761169</td><td>0.735107</td><td>0.633301</td><td>0.091446</td><td>0.378906</td><td>-0.081299</td><td>-0.18399</td><td>-0.20343</td><td>0.384521</td><td>-0.029297</td><td>-0.044922</td><td>0.574997</td><td>-0.73468</td><td>-0.544617</td><td>-0.024902</td><td>-1.137939</td><td>-1.072266</td><td>0.056274</td><td>0.233398</td><td>-1.431641</td><td>1.104858</td><td>1.6796875</td><td>-0.017273</td><td>-0.546143</td><td>0.027832</td><td>-0.627075</td><td>0.434143</td><td>-0.528786</td><td>-1.146484</td><td>0.865387</td><td>-0.042267</td><td>-0.714111</td><td>0.391846</td><td>0.272461</td><td>-0.264175</td><td>0.949188</td><td>0.889282</td><td>-0.157471</td><td>0.22229</td><td>-0.367432</td><td>0.125</td><td>0.771484</td><td>0.269958</td><td>-1.09082</td><td>0.841614</td><td>0.234688</td><td>0.783691</td><td>-0.080688</td><td>0.302612</td><td>-0.170471</td><td>0.826416</td><td>1.15086</td><td>-0.67627</td><td>-0.747803</td><td>-0.220215</td><td>-1.969727</td><td>-0.371582</td><td>0.091995</td><td>-0.099365</td><td>-0.897949</td><td>0.22168</td><td>-0.313721</td><td>1.625977</td><td>0.564209</td><td>-0.621704</td><td>-0.625153</td><td>0.001953</td><td>-1.071289</td><td>0.129761</td><td>-0.346619</td><td>0.146118</td><td>0.368164</td><td>0.24292</td><td>0.961182</td><td>-0.310181</td><td>-0.956299</td><td>0.626831</td><td>-0.107666</td><td>0.162109</td><td>-0.995117</td><td>0.602173</td><td>-0.088135</td><td>-0.18457</td><td>-0.302246</td><td>-0.515503</td><td>-0.11499</td><td>-0.045227</td><td>-0.488007</td><td>-0.207458</td><td>-0.567688</td><td>-0.32811</td><td>0.860382</td><td>0.327393</td><td>-0.287354</td><td>-0.586792</td><td>0.075684</td><td>-0.654541</td><td>0.741211</td><td>-1.113647</td><td>-0.074951</td><td>0.085144</td><td>-0.135498</td><td>0.229248</td><td>0.028687</td><td>-0.696045</td><td>-0.581421</td><td>0.328186</td><td>0.153473</td><td>-0.031738</td><td>0.092163</td><td>-0.04187</td><td>-0.358521</td><td>0.133545</td><td>-0.141357</td><td>0.536743</td><td>0.049805</td><td>0.080505</td><td>0.173828</td><td>0.20166</td><td>-0.356934</td><td>0.04143</td><td>0.231201</td><td>0.160522</td><td>0.051758</td><td>-0.152725</td><td>-0.570312</td><td>-0.212402</td><td>0.607788</td><td>-0.186035</td><td>-0.411377</td><td>0.003601</td><td>-0.210693</td><td>1.256104</td><td>0.042664</td><td>-1.030762</td><td>0.063721</td><td>0.15918</td><td>-0.601562</td><td>0.135498</td><td>0.703857</td><td>-0.285713</td><td>-0.587074</td><td>-0.537109</td><td>1.418091</td><td>-0.48291</td><td>-0.480713</td><td>-0.531494</td><td>0.430153</td><td>0.139221</td><td>-0.831421</td><td>0.05323</td><td>-0.302338</td><td>0.002686</td><td>-0.78772</td><td>0.636147</td><td>0.207153</td><td>0.081543</td><td>0.130737</td><td>-0.271729</td><td>0.936768</td><td>0.199112</td><td>-0.28537</td><td>0.101471</td><td>-0.619995</td><td>-0.298584</td><td>-0.621826</td><td>0.160645</td><td>-0.533691</td><td>-0.415527</td><td>0.681641</td><td>-1.243652</td><td>-1.49939</td><td>0.137207</td><td>-1.192871</td><td>-0.515747</td><td>-1.055908</td><td>0.236816</td><td>-0.130493</td><td>0.353394</td><td>-0.075195</td><td>1.209473</td><td>-0.794189</td><td>0.142212</td><td>-0.344727</td><td>-0.122192</td><td>-0.779297</td><td>-0.047485</td><td>-0.36322</td><td>0.773407</td><td>-0.206757</td><td>-0.400574</td><td>0.171143</td><td>-0.179688</td><td>0.102783</td><td>-1.231689</td><td>-0.302612</td><td>-0.334595</td><td>-0.0271</td><td>-1.199951</td><td>0.199005</td><td>-0.524414</td><td>0.583374</td><td>0.29126</td><td>0.470459</td><td>0.365295</td><td>-0.178223</td><td>0.656006</td><td>-0.268616</td><td>0.736084</td><td>0.575439</td><td>0.522949</td><td>-0.819336</td><td>-0.216309</td><td>-1.736328</td><td>0.179443</td><td>0.621094</td><td>0.017578</td><td>-0.05542</td><td>0.107178</td><td>0.70105</td><td>0.818237</td><td>-0.174988</td><td>-0.578857</td><td>0.120605</td><td>-0.130127</td><td>0.303467</td><td>0.455566</td><td>-0.499298</td><td>0.144836</td><td>-0.737305</td><td>-0.550507</td><td>0.588257</td><td>-0.582733</td><td>1.207031</td><td>0.126099</td><td>-1.278809</td><td>-0.086151</td><td>-1.563477</td><td>-0.851562</td><td>0.861328</td><td>0.583801</td><td>0.993896</td><td>0.292114</td><td>0.338257</td><td>0.762207</td><td>0.501953</td><td>0.509399</td><td>0.260742</td><td>-0.15625</td><td>0.10498</td><td>0.025879</td><td>-0.140015</td><td>-0.311768</td><td>1.391357</td><td>-0.545898</td><td>-0.535141</td><td>0.597412</td><td>0.4104</td><td>0.345703</td><td>-0.359161</td><td>-0.862793</td><td>-0.115479</td><td>-0.519562</td><td>0.495117</td><td>0.249664</td><td>-0.866577</td><td>0.4765625</td><td>0.347778</td><td>0.133545</td><td>0.069677</td><td>-1.193848</td><td>0.072754</td><td>0.92627</td><td>-0.560059</td><td>-0.155823</td><td>0.337891</td><td>-0.907104</td><td>-0.717712</td><td>0.197021</td><td>0.188721</td><td>-0.539032</td><td>0.444824</td><td>-0.733643</td><td>-0.454102</td><td>0.11438</td><td>-0.585571</td><td>0.28598</td><td>-0.226318</td><td>-0.367188</td><td>-0.008484</td><td>0.752808</td><td>-0.660645</td><td>-0.10437</td><td>10.33593</td><td>-0.046455</td><td>0.481845</td><td>-0.000506</td><td>-0.012832</td><td>-0.02013</td><td>-0.0117</td><td>0.030185</td><td>-0.02893</td><td>0.017888</td><td>0.046792</td><td>0.001901</td><td>-0.005203</td><td>0.016091</td><td>-0.016281</td><td>0.002909</td><td>0.014075</td><td>-0.012478</td><td>-0.024163</td><td>0.02663</td><td>0.000902</td><td>-0.00643</td><td>-0.009675</td><td>-0.005964</td><td>-0.008297</td><td>-0.020844</td><td>0.011401</td><td>0.00843</td><td>0.009016</td><td>-0.007559</td><td>0.007608</td><td>0.023559</td><td>-0.002758</td><td>0.058166</td><td>0.008653</td><td>0.023323</td><td>0.016809</td><td>-0.032565</td><td>0.012562</td><td>0.005399</td><td>0.011252</td><td>0.007304</td><td>0.020692</td><td>0.005816</td><td>-0.016796</td><td>-0.01255</td><td>-0.002432</td><td>0.000638</td><td>-0.029355</td><td>0.017676</td><td>-0.015187</td><td>-0.001735</td><td>-0.038701</td><td>0.000464</td><td>0.008438</td><td>-0.014771</td><td>0.012299</td><td>-0.010222</td><td>-0.002842</td><td>-0.003221</td><td>0.01409</td><td>-0.017877</td><td>-0.046693</td><td>-0.00917</td><td>0.002519</td><td>-0.000468</td><td>-0.00647</td><td>-0.015894</td><td>0.011724</td><td>-0.002727</td><td>-0.018478</td><td>0.002688</td><td>-0.006175</td><td>0.001653</td><td>0.017696</td><td>0.000689</td><td>0.006401</td><td>-0.007168</td><td>-0.03213</td><td>-0.009806</td><td>-0.004832</td><td>0.04536</td><td>-0.006181</td><td>-0.012258</td><td>-0.018868</td><td>-0.006672</td><td>-0.017379</td><td>0.003707</td><td>-0.010282</td><td>0.002518</td><td>0.014267</td><td>-0.007826</td><td>-0.0019</td><td>0.010983</td><td>-0.012381</td><td>-0.032523</td><td>0.01428</td><td>-0.006141</td><td>0.009143</td><td>0.0461</td><td>-0.015471</td><td>-0.003827</td><td>-0.006998</td><td>0.030386</td><td>0.010335</td><td>0.020358</td><td>0.014675</td><td>-0.003101</td><td>-0.005026</td><td>-0.0179</td><td>-0.000603</td><td>0.002321</td><td>-0.009358</td><td>-0.000448</td><td>0.015967</td><td>-0.006981</td><td>0.008737</td><td>0.023573</td><td>0.024056</td><td>-0.005154</td><td>0.006195</td><td>0.006116</td><td>-0.024503</td><td>-0.004643</td><td>0.011159</td><td>0.006891</td><td>0.001456</td><td>0.001805</td><td>-0.000271</td><td>-0.008002</td><td>-0.012092</td><td>0.025749</td><td>-0.018319</td><td>0.022913</td><td>0.01619</td><td>-0.017468</td><td>0.014241</td><td>0.01706</td><td>0.000497</td><td>-0.020589</td><td>-0.005618</td><td>0.023108</td><td>0.010702</td><td>-0.00736</td><td>-0.004669</td><td>0.012014</td><td>0.012165</td><td>-0.00613</td><td>-0.021004</td><td>0.008819</td><td>-0.196513</td><td>-0.000376</td><td>-0.019478</td><td>-0.016831</td><td>-0.053703</td><td>0.003563</td><td>0.001892</td><td>0.006645</td><td>-0.01342</td><td>0.003346</td><td>0.063918</td><td>-0.0218</td><td>-0.005357</td><td>0.003538</td><td>0.003532</td><td>-0.028724</td><td>0.032293</td><td>0.001317</td><td>0.003231</td><td>0.012773</td><td>0.019659</td><td>-0.023233</td><td>-0.001613</td><td>-0.003691</td><td>-0.007959</td><td>0.017232</td><td>-0.010655</td><td>-0.02113</td><td>-0.012291</td><td>-0.024274</td><td>-0.020772</td><td>0.019415</td><td>-0.003088</td><td>-0.017895</td><td>-0.011596</td><td>0.026695</td><td>-0.028238</td><td>-0.014443</td><td>0.011755</td><td>0.03865</td><td>-0.020321</td><td>-0.036736</td><td>0.009632</td><td>0.016842</td><td>-0.009521</td><td>-0.023136</td><td>0.008408</td><td>0.018162</td><td>0.019838</td><td>-0.000555</td><td>0.021704</td><td>-0.013877</td><td>0.020198</td><td>-0.001959</td><td>-0.01275</td><td>0.08341</td><td>0.005807</td><td>-0.015404</td><td>-0.003029</td><td>0.011754</td><td>-0.005922</td><td>0.000664</td><td>-0.004015</td><td>0.02948</td><td>-0.011771</td><td>0.001614</td><td>-0.013957</td><td>0.012378</td><td>0.004687</td><td>-0.011794</td><td>0.009755</td><td>-0.001806</td><td>0.013719</td><td>0.029567</td><td>0.030484</td><td>-0.004836</td><td>-0.021068</td><td>0.023405</td><td>0.031136</td><td>-0.022374</td><td>0.007728</td><td>-0.004424</td><td>-0.002353</td><td>-0.011319</td><td>0.008495</td><td>-0.008053</td><td>0.01894</td><td>-0.005842</td><td>0.001321</td><td>-0.015692</td><td>-0.004987</td><td>-0.032711</td><td>-0.010281</td><td>-0.00206</td><td>-0.0011</td><td>0.018756</td><td>0.015871</td><td>-0.055544</td><td>0.27782</td><td>0.008775</td><td>0.01736</td><td>-0.002041</td><td>0.008576</td><td>0.018825</td><td>0.011229</td><td>0.023178</td><td>-0.009244</td><td>-0.008571</td><td>-0.000179</td><td>-0.005458</td><td>-0.043589</td><td>-0.012291</td><td>-0.008793</td><td>-0.00488</td><td>0.016866</td><td>0.016164</td><td>-0.009906</td><td>-0.005237</td><td>-0.023888</td><td>0.006169</td><td>-0.001709</td><td>0.007855</td><td>0.003406</td><td>-0.013677</td><td>-0.027635</td><td>0.005681</td><td>-0.014495</td><td>-0.031083</td><td>-0.000586</td><td>-0.025482</td><td>-0.020697</td><td>-0.029223</td><td>-0.003731</td><td>-0.016242</td><td>0.02309</td><td>0.003881</td><td>-0.094114</td><td>-0.03455</td><td>0.025316</td><td>0.004995</td><td>0.011628</td><td>-0.065967</td><td>-0.027231</td><td>-0.006195</td><td>0.019556</td><td>-0.000545</td><td>-0.046146</td><td>0.041822</td><td>-0.010168</td><td>-0.01125</td><td>0.007035</td><td>0.051145</td><td>-0.019198</td><td>0.00621</td><td>-2.1536e-14</td><td>9.2646e-13</td><td>-2.2374e-10</td><td>-1.2561e-10</td><td>-4.8530e-10</td><td>1.8993e-9</td><td>1.0</td><td>-5.4926e-8</td><td>8.6372e-8</td><td>5.0854e-11</td><td>0</td><td>0</td><td>0</td><td>0</td><td>0</td><td>0</td><td>0</td><td>0</td><td>1</td><td>1</td><td>0</td><td>0</td><td>1</td><td>1.0</td><td>0.0</td><td>-3.1225e-17</td><td>-1.3010e-18</td><td>7.5894e-19</td><td>-5.1669e-20</td><td>8.4703e-22</td><td>2.9646e-21</td><td>-4.4999e-22</td><td>-1.4558e-22</td><td>1.0</td><td>0.0</td><td>0.0</td><td>0.0</td><td>0.0</td><td>0.0</td><td>0.0</td><td>0.0</td><td>0.0</td><td>0.0</td><td>-9.2408e-7</td><td>0.000006</td><td>0.000011</td><td>-0.000046</td><td>-0.000065</td><td>0.000149</td><td>-0.000316</td><td>-0.000416</td><td>-0.000717</td><td>-0.000241</td></tr></tbody></table></div>"
      ],
      "text/plain": [
       "shape: (2, 778)\n",
       "┌─────┬─────┬─────┬─────┬─────┬─────┬─────┬─────┬─────┬─────┬─────┬─────┬─────┬─────┬─────┬─────┬─────┬─────┬─────┬─────┬─────┬─────┬─────┬─────┬─────┬─────┬─────┬─────┬─────┬─────┬─────┬─────┬─────┬─────┬─────┬─────┬─────┬─────┬─────┬─────┬─────┬─────┬─────┬─────┬─────┬─────┬─────┬─────┬─────┬─────┬─────┬─────┬─────┬─────┬─────┬─────┬─────┬─────┬─────┬─────┬─────┬─────┬─────┬─────┬─────┬─────┬─────┬─────┬─────┬─────┬─────┬─────┬─────┬─────┬─────┬─────┬─────┬─────┬─────┬─────┬─────┬─────┬─────┬─────┬─────┬─────┬─────┬─────┬─────┬─────┬─────┬─────┬─────┬─────┬─────┬─────┬─────┬─────┬─────┬─────┬─────┬─────┬─────┬─────┬─────┬─────┬─────┬─────┬─────┬─────┬─────┬─────┬─────┬─────┬─────┬─────┬─────┬─────┬─────┬─────┬─────┬─────┬─────┬─────┬─────┬─────┬─────┬─────┬─────┬─────┬─────┬─────┬─────┬─────┬─────┬─────┬─────┬─────┬─────┬─────┬─────┬─────┬─────┬─────┬─────┬─────┬─────┬─────┬─────┬─────┬─────┬─────┬─────┬─────┬─────┬─────┬─────┬─────┬─────┬─────┬─────┬─────┬─────┬─────┬─────┬─────┬─────┬─────┬─────┬─────┬─────┬─────┬─────┬─────┬─────┬─────┬─────┬─────┬─────┬─────┬─────┬─────┬─────┬─────┬─────┬─────┬─────┬─────┬─────┬─────┬─────┬─────┬─────┬─────┬─────┬─────┬─────┬─────┬─────┬─────┬─────┬─────┬─────┬─────┬─────┬─────┬─────┬─────┬─────┬─────┬─────┬─────┬─────┬─────┬─────┬─────┬─────┬─────┬─────┬─────┬─────┬─────┬─────┬─────┬─────┬─────┬─────┬─────┬─────┬─────┬─────┬─────┬─────┬─────┬─────┬─────┬─────┬─────┬─────┬─────┬─────┬─────┬─────┬─────┬─────┬─────┬─────┬─────┬─────┬─────┬─────┬─────┬─────┬─────┬─────┬─────┬─────┬─────┬─────┬─────┬─────┬─────┬─────┬─────┬─────┬─────┬─────┬─────┬─────┬─────┬─────┬─────┬─────┬─────┬─────┬─────┬─────┬─────┬─────┬─────┬─────┬─────┬─────┬─────┬─────┬─────┬─────┬─────┬─────┬─────┬─────┬─────┬─────┬─────┬─────┬─────┬─────┬─────┬─────┬─────┬─────┬─────┬─────┬─────┬─────┬─────┬─────┬─────┬─────┬─────┬─────┬─────┬─────┬─────┬─────┬─────┬─────┬─────┬─────┬─────┬─────┬─────┬─────┬─────┬─────┬─────┬─────┬─────┬─────┬─────┬─────┬─────┬─────┬─────┬─────┬─────┬─────┬─────┬─────┬─────┬─────┬─────┬─────┬─────┬─────┬─────┬─────┬─────┬─────┬─────┬─────┬─────┬─────┬─────┬─────┬─────┬─────┬─────┬─────┬─────┬─────┬─────┬─────┬─────┬─────┬─────┬─────┬─────┬─────┬─────┬─────┬─────┬─────┬─────┬─────┬─────┬─────┬─────┬─────┬─────┬─────┬─────┬─────┬─────┬─────┬─────┬─────┬─────┬─────┬─────┬─────┬─────┬─────┬─────┬─────┬─────┬─────┬─────┬─────┬─────┬─────┬─────┬─────┬─────┬─────┬─────┬─────┬─────┬─────┬─────┬─────┬─────┬─────┬─────┬─────┬─────┬─────┬─────┬─────┬─────┬─────┬─────┬─────┬─────┬─────┬─────┬─────┬─────┬─────┬─────┬─────┬─────┬─────┬─────┬─────┬─────┬─────┬─────┬─────┬─────┬─────┬─────┬─────┬─────┬─────┬─────┬─────┬─────┬─────┬─────┬─────┬─────┬─────┬─────┬─────┬─────┬─────┬─────┬─────┬─────┬─────┬─────┬─────┬─────┬─────┬─────┬─────┬─────┬─────┬─────┬─────┬─────┬─────┬─────┬─────┬─────┬─────┬─────┬─────┬─────┬─────┬─────┬─────┬─────┬─────┬─────┬─────┬─────┬─────┬─────┬─────┬─────┬─────┬─────┬─────┬─────┬─────┬─────┬─────┬─────┬─────┬─────┬─────┬─────┬─────┬─────┬─────┬─────┬─────┬─────┬─────┬─────┬─────┬─────┬─────┬─────┬─────┬─────┬─────┬─────┬─────┬─────┬─────┬─────┬─────┬─────┬─────┬─────┬─────┬─────┬─────┬─────┬─────┬─────┬─────┬─────┬─────┬─────┬─────┬─────┬─────┬─────┬─────┬─────┬─────┬─────┬─────┬─────┬─────┬─────┬─────┬─────┬─────┬─────┬─────┬─────┬─────┬─────┬─────┬─────┬─────┬─────┬─────┬─────┬─────┬─────┬─────┬─────┬─────┬─────┬─────┬─────┬─────┬─────┬─────┬─────┬─────┬─────┬─────┬─────┬─────┬─────┬─────┬─────┬─────┬─────┬─────┬─────┬─────┬─────┬─────┬─────┬─────┬─────┬─────┬─────┬─────┬─────┬─────┬─────┬─────┬─────┬─────┬─────┬─────┬─────┬─────┬─────┬─────┬─────┬─────┬─────┬─────┬─────┬─────┬─────┬─────┬─────┬─────┬─────┬─────┬─────┬─────┬─────┬─────┬─────┬─────┬─────┬─────┬─────┬─────┬─────┬─────┬─────┬─────┬─────┬─────┬─────┬─────┬─────┬─────┬─────┬─────┬─────┬─────┬─────┬─────┬─────┬─────┬─────┬─────┬─────┬─────┬─────┬─────┬─────┬─────┬─────┬─────┬─────┬─────┬─────┬─────┬─────┬─────┬─────┬─────┬─────┬─────┬─────┬─────┬─────┬─────┬─────┬─────┬─────┬─────┬─────┬─────┬─────┬─────┬─────┬─────┬─────┬─────┬─────┬─────┬─────┬─────┬─────┬─────┬─────┬─────┬─────┬─────┬─────┬─────┬─────┬─────┬─────┬─────┬─────┬─────┬─────┬─────┬─────┬─────┬─────┬─────┬─────┬─────┬─────┬─────┬─────┬─────┬─────┬─────┬─────┬─────┬─────┬─────┬─────┬─────┬─────┬─────┬─────┬─────┬─────┬─────┬─────┬─────┬─────┬─────┬─────┬─────┬─────┬─────┬─────┬─────┬─────┬─────┬─────┬─────┬─────┬─────┬─────┬─────┬─────┬─────┬─────┬─────┬─────┬─────┬─────┬─────┬─────┬─────┬─────┬─────┬─────┬─────┬─────┬─────┬─────┬─────┬─────┬─────┬─────┬─────┬─────┬─────┬─────┬─────┬─────┬─────┬─────┬─────┬─────┐\n",
       "│ yea ┆ cyl ┆ odo ┆ man ┆ age ┆ odo ┆ odo ┆ lat ┆ lng ┆ lat ┆ lng ┆ lat ┆ man ┆ con ┆ fue ┆ tit ┆ tra ┆ dri ┆ siz ┆ typ ┆ pai ┆ sta ┆ man ┆ con ┆ fue ┆ tit ┆ tra ┆ dri ┆ siz ┆ typ ┆ pai ┆ sta ┆ typ ┆ typ ┆ typ ┆ man ┆ man ┆ man ┆ typ ┆ typ ┆ typ ┆ typ ┆ typ ┆ typ ┆ typ ┆ man ┆ fue ┆ tit ┆ tra ┆ dri ┆ typ ┆ pai ┆ sta ┆ lat ┆ tit ┆ sta ┆ reg ┆ pai ┆ lat ┆ con ┆ siz ┆ man ┆ man ┆ man ┆ man ┆ man ┆ man ┆ man ┆ man ┆ man ┆ man ┆ con ┆ con ┆ con ┆ con ┆ con ┆ con ┆ con ┆ con ┆ con ┆ con ┆ cyl ┆ cyl ┆ cyl ┆ cyl ┆ cyl ┆ cyl ┆ cyl ┆ cyl ┆ cyl ┆ cyl ┆ fue ┆ fue ┆ fue ┆ fue ┆ fue ┆ fue ┆ fue ┆ fue ┆ fue ┆ fue ┆ dri ┆ dri ┆ dri ┆ dri ┆ dri ┆ dri ┆ dri ┆ dri ┆ dri ┆ dri ┆ typ ┆ typ ┆ typ ┆ typ ┆ typ ┆ typ ┆ typ ┆ typ ┆ typ ┆ typ ┆ car ┆ car ┆ car ┆ car ┆ car ┆ car ┆ car ┆ car ┆ car ┆ car ┆ car ┆ car ┆ car ┆ car ┆ car ┆ car ┆ car ┆ car ┆ car ┆ car ┆ car ┆ car ┆ car ┆ car ┆ car ┆ car ┆ car ┆ car ┆ car ┆ car ┆ car ┆ car ┆ car ┆ car ┆ car ┆ car ┆ car ┆ car ┆ car ┆ car ┆ car ┆ car ┆ car ┆ car ┆ car ┆ car ┆ car ┆ car ┆ car ┆ car ┆ car ┆ car ┆ car ┆ car ┆ car ┆ car ┆ car ┆ car ┆ car ┆ car ┆ car ┆ car ┆ car ┆ car ┆ car ┆ car ┆ car ┆ car ┆ car ┆ car ┆ car ┆ car ┆ car ┆ car ┆ car ┆ car ┆ car ┆ car ┆ car ┆ car ┆ car ┆ car ┆ car ┆ car ┆ car ┆ car ┆ car ┆ car ┆ car ┆ car ┆ car ┆ car ┆ car ┆ car ┆ car ┆ car ┆ car ┆ car ┆ car ┆ car ┆ car ┆ car ┆ car ┆ car ┆ car ┆ car ┆ car ┆ car ┆ car ┆ car ┆ car ┆ car ┆ car ┆ car ┆ car ┆ car ┆ car ┆ car ┆ car ┆ car ┆ car ┆ car ┆ car ┆ car ┆ car ┆ car ┆ car ┆ car ┆ car ┆ car ┆ car ┆ car ┆ car ┆ car ┆ car ┆ car ┆ car ┆ car ┆ car ┆ car ┆ car ┆ car ┆ car ┆ car ┆ car ┆ car ┆ car ┆ car ┆ car ┆ car ┆ car ┆ car ┆ car ┆ car ┆ car ┆ car ┆ car ┆ car ┆ car ┆ car ┆ car ┆ car ┆ car ┆ car ┆ car ┆ car ┆ car ┆ car ┆ car ┆ car ┆ car ┆ car ┆ car ┆ car ┆ car ┆ car ┆ car ┆ car ┆ car ┆ car ┆ car ┆ car ┆ car ┆ car ┆ car ┆ car ┆ car ┆ car ┆ car ┆ car ┆ car ┆ car ┆ car ┆ car ┆ car ┆ car ┆ car ┆ car ┆ car ┆ car ┆ car ┆ car ┆ car ┆ car ┆ car ┆ car ┆ car ┆ car ┆ car ┆ car ┆ car ┆ car ┆ car ┆ car ┆ car ┆ car ┆ car ┆ car ┆ car ┆ car ┆ car ┆ car ┆ car ┆ car ┆ car ┆ car ┆ car ┆ car ┆ car ┆ car ┆ car ┆ car ┆ car ┆ car ┆ car ┆ car ┆ car ┆ car ┆ car ┆ car ┆ car ┆ car ┆ car ┆ car ┆ car ┆ car ┆ car ┆ car ┆ car ┆ car ┆ car ┆ car ┆ car ┆ car ┆ car ┆ car ┆ car ┆ car ┆ car ┆ car ┆ car ┆ car ┆ car ┆ car ┆ car ┆ car ┆ car ┆ car ┆ car ┆ car ┆ car ┆ car ┆ car ┆ car ┆ car ┆ car ┆ car ┆ car ┆ car ┆ car ┆ car ┆ car ┆ car ┆ car ┆ car ┆ car ┆ car ┆ car ┆ car ┆ car ┆ car ┆ car ┆ car ┆ car ┆ car ┆ car ┆ car ┆ car ┆ car ┆ car ┆ car ┆ car ┆ car ┆ car ┆ car ┆ car ┆ car ┆ car ┆ car ┆ car ┆ car ┆ car ┆ car ┆ car ┆ car ┆ car ┆ car ┆ car ┆ car ┆ car ┆ car ┆ car ┆ car ┆ car ┆ car ┆ car ┆ car ┆ car ┆ car ┆ car ┆ car ┆ car ┆ car ┆ car ┆ car ┆ car ┆ car ┆ car ┆ car ┆ car ┆ car ┆ car ┆ car ┆ car ┆ car ┆ car ┆ car ┆ car ┆ car ┆ car ┆ car ┆ car ┆ car ┆ car ┆ car ┆ car ┆ car ┆ car ┆ car ┆ car ┆ car ┆ car ┆ car ┆ car ┆ car ┆ car ┆ car ┆ car ┆ car ┆ car ┆ car ┆ car ┆ car ┆ car ┆ car ┆ car ┆ car ┆ car ┆ car ┆ car ┆ car ┆ car ┆ car ┆ car ┆ car ┆ car ┆ car ┆ car ┆ car ┆ car ┆ car ┆ car ┆ car ┆ car ┆ car ┆ car ┆ car ┆ car ┆ car ┆ car ┆ car ┆ car ┆ car ┆ car ┆ car ┆ car ┆ car ┆ car ┆ car ┆ car ┆ car ┆ car ┆ car ┆ car ┆ car ┆ car ┆ car ┆ car ┆ car ┆ car ┆ car ┆ car ┆ car ┆ car ┆ car ┆ car ┆ car ┆ car ┆ car ┆ car ┆ car ┆ car ┆ car ┆ car ┆ car ┆ car ┆ car ┆ car ┆ car ┆ car ┆ car ┆ car ┆ car ┆ car ┆ car ┆ car ┆ car ┆ car ┆ car ┆ car ┆ car ┆ car ┆ car ┆ car ┆ car ┆ car ┆ car ┆ car ┆ car ┆ car ┆ car ┆ car ┆ car ┆ car ┆ car ┆ car ┆ car ┆ car ┆ car ┆ car ┆ car ┆ car ┆ car ┆ car ┆ car ┆ car ┆ car ┆ car ┆ car ┆ car ┆ car ┆ car ┆ car ┆ car ┆ car ┆ car ┆ car ┆ car ┆ car ┆ car ┆ car ┆ car ┆ car ┆ car ┆ car ┆ car ┆ car ┆ car ┆ car ┆ car ┆ car ┆ car ┆ car ┆ car ┆ car ┆ car ┆ car ┆ car ┆ car ┆ car ┆ car ┆ car ┆ car ┆ car ┆ car ┆ car ┆ car ┆ car ┆ car ┆ car ┆ car ┆ car ┆ car ┆ car ┆ car ┆ car ┆ car ┆ car ┆ car ┆ car ┆ car ┆ car ┆ car ┆ car ┆ car ┆ car ┆ car ┆ car ┆ car ┆ car ┆ car ┆ car ┆ car ┆ car ┆ car ┆ car ┆ car ┆ car ┆ car ┆ car ┆ car ┆ car ┆ car ┆ car ┆ car ┆ car ┆ car ┆ car ┆ car ┆ car ┆ car ┆ car ┆ car ┆ car ┆ car ┆ car ┆ car ┆ car ┆ car ┆ car ┆ car ┆ car ┆ car ┆ car ┆ car ┆ car ┆ car ┆ car ┆ car ┆ car ┆ car ┆ car ┆ car ┆ car ┆ car ┆ car ┆ car ┆ car ┆ car ┆ car ┆ car ┆ car ┆ car ┆ car ┆ car ┆ car ┆ car ┆ car ┆ car ┆ car ┆ car ┆ car ┆ car ┆ car ┆ man ┆ man ┆ man ┆ man ┆ man ┆ man ┆ man ┆ man ┆ man ┆ man ┆ fue ┆ fue ┆ fue ┆ fue ┆ tit ┆ tit ┆ tit ┆ tit ┆ tit ┆ tra ┆ tra ┆ dri ┆ dri ┆ typ ┆ typ ┆ typ ┆ typ ┆ typ ┆ typ ┆ typ ┆ typ ┆ typ ┆ typ ┆ pai ┆ pai ┆ pai ┆ pai ┆ pai ┆ pai ┆ pai ┆ pai ┆ pai ┆ pai ┆ sta ┆ sta ┆ sta ┆ sta ┆ sta ┆ sta ┆ sta ┆ sta ┆ sta ┆ sta │\n",
       "│ r   ┆ ind ┆ met ┆ ufa ┆ --- ┆ met ┆ met ┆ --- ┆ --- ┆ _sc ┆ _sc ┆ _ln ┆ ufa ┆ dit ┆ l_r ┆ le_ ┆ nsm ┆ ve_ ┆ e_r ┆ e_r ┆ nt_ ┆ te_ ┆ ufa ┆ dit ┆ l_c ┆ le_ ┆ nsm ┆ ve_ ┆ e_c ┆ e_c ┆ nt_ ┆ te_ ┆ e_b ┆ e_b ┆ e_b ┆ ufa ┆ ufa ┆ ufa ┆ e_m ┆ e_m ┆ e_m ┆ e_m ┆ e_m ┆ e_m ┆ e_m ┆ ufa ┆ l_p ┆ le_ ┆ nsm ┆ ve_ ┆ e_p ┆ nt_ ┆ te_ ┆ _ln ┆ le_ ┆ te_ ┆ ion ┆ nt_ ┆ _ln ┆ dit ┆ e_l ┆ ufa ┆ ufa ┆ ufa ┆ ufa ┆ ufa ┆ ufa ┆ ufa ┆ ufa ┆ ufa ┆ ufa ┆ dit ┆ dit ┆ dit ┆ dit ┆ dit ┆ dit ┆ dit ┆ dit ┆ dit ┆ dit ┆ ind ┆ ind ┆ ind ┆ ind ┆ ind ┆ ind ┆ ind ┆ ind ┆ ind ┆ ind ┆ l_a ┆ l_a ┆ l_a ┆ l_a ┆ l_a ┆ l_o ┆ l_o ┆ l_o ┆ l_o ┆ l_o ┆ ve_ ┆ ve_ ┆ ve_ ┆ ve_ ┆ ve_ ┆ ve_ ┆ ve_ ┆ ve_ ┆ ve_ ┆ ve_ ┆ e_a ┆ e_a ┆ e_a ┆ e_a ┆ e_a ┆ e_o ┆ e_o ┆ e_o ┆ e_o ┆ e_o ┆ _w2 ┆ _w2 ┆ _w2 ┆ _w2 ┆ _w2 ┆ _w2 ┆ _w2 ┆ _w2 ┆ _w2 ┆ _w2 ┆ _w2 ┆ _w2 ┆ _w2 ┆ _w2 ┆ _w2 ┆ _w2 ┆ _w2 ┆ _w2 ┆ _w2 ┆ _w2 ┆ _w2 ┆ _w2 ┆ _w2 ┆ _w2 ┆ _w2 ┆ _w2 ┆ _w2 ┆ _w2 ┆ _w2 ┆ _w2 ┆ _w2 ┆ _w2 ┆ _w2 ┆ _w2 ┆ _w2 ┆ _w2 ┆ _w2 ┆ _w2 ┆ _w2 ┆ _w2 ┆ _w2 ┆ _w2 ┆ _w2 ┆ _w2 ┆ _w2 ┆ _w2 ┆ _w2 ┆ _w2 ┆ _w2 ┆ _w2 ┆ _w2 ┆ _w2 ┆ _w2 ┆ _w2 ┆ _w2 ┆ _w2 ┆ _w2 ┆ _w2 ┆ _w2 ┆ _w2 ┆ _w2 ┆ _w2 ┆ _w2 ┆ _w2 ┆ _w2 ┆ _w2 ┆ _w2 ┆ _w2 ┆ _w2 ┆ _w2 ┆ _w2 ┆ _w2 ┆ _w2 ┆ _w2 ┆ _w2 ┆ _w2 ┆ _w2 ┆ _w2 ┆ _w2 ┆ _w2 ┆ _w2 ┆ _w2 ┆ _w2 ┆ _w2 ┆ _w2 ┆ _w2 ┆ _w2 ┆ _w2 ┆ _w2 ┆ _w2 ┆ _w2 ┆ _w2 ┆ _w2 ┆ _w2 ┆ _w2 ┆ _w2 ┆ _w2 ┆ _w2 ┆ _w2 ┆ _w2 ┆ _w2 ┆ _w2 ┆ _w2 ┆ _w2 ┆ _w2 ┆ _w2 ┆ _w2 ┆ _w2 ┆ _w2 ┆ _w2 ┆ _w2 ┆ _w2 ┆ _w2 ┆ _w2 ┆ _w2 ┆ _w2 ┆ _w2 ┆ _w2 ┆ _w2 ┆ _w2 ┆ _w2 ┆ _w2 ┆ _w2 ┆ _w2 ┆ _w2 ┆ _w2 ┆ _w2 ┆ _w2 ┆ _w2 ┆ _w2 ┆ _w2 ┆ _w2 ┆ _w2 ┆ _w2 ┆ _w2 ┆ _w2 ┆ _w2 ┆ _w2 ┆ _w2 ┆ _w2 ┆ _w2 ┆ _w2 ┆ _w2 ┆ _w2 ┆ _w2 ┆ _w2 ┆ _w2 ┆ _w2 ┆ _w2 ┆ _w2 ┆ _w2 ┆ _w2 ┆ _w2 ┆ _w2 ┆ _w2 ┆ _w2 ┆ _w2 ┆ _w2 ┆ _w2 ┆ _w2 ┆ _w2 ┆ _w2 ┆ _w2 ┆ _w2 ┆ _w2 ┆ _w2 ┆ _w2 ┆ _w2 ┆ _w2 ┆ _w2 ┆ _w2 ┆ _w2 ┆ _w2 ┆ _w2 ┆ _w2 ┆ _w2 ┆ _w2 ┆ _w2 ┆ _w2 ┆ _w2 ┆ _w2 ┆ _w2 ┆ _w2 ┆ _w2 ┆ _w2 ┆ _w2 ┆ _w2 ┆ _w2 ┆ _w2 ┆ _w2 ┆ _w2 ┆ _w2 ┆ _w2 ┆ _w2 ┆ _w2 ┆ _w2 ┆ _w2 ┆ _w2 ┆ _w2 ┆ _w2 ┆ _w2 ┆ _w2 ┆ _w2 ┆ _w2 ┆ _w2 ┆ _w2 ┆ _w2 ┆ _w2 ┆ _w2 ┆ _w2 ┆ _w2 ┆ _w2 ┆ _w2 ┆ _w2 ┆ _w2 ┆ _w2 ┆ _w2 ┆ _w2 ┆ _w2 ┆ _w2 ┆ _w2 ┆ _w2 ┆ _w2 ┆ _w2 ┆ _w2 ┆ _w2 ┆ _w2 ┆ _w2 ┆ _w2 ┆ _w2 ┆ _w2 ┆ _w2 ┆ _w2 ┆ _w2 ┆ _w2 ┆ _w2 ┆ _w2 ┆ _w2 ┆ _w2 ┆ _w2 ┆ _w2 ┆ _w2 ┆ _w2 ┆ _w2 ┆ _w2 ┆ _w2 ┆ _w2 ┆ _w2 ┆ _w2 ┆ _w2 ┆ _w2 ┆ _w2 ┆ _w2 ┆ _w2 ┆ _w2 ┆ _w2 ┆ _w2 ┆ _w2 ┆ _w2 ┆ _w2 ┆ _w2 ┆ _w2 ┆ _w2 ┆ _w2 ┆ _w2 ┆ _w2 ┆ _w2 ┆ _w2 ┆ _w2 ┆ _w2 ┆ _w2 ┆ _w2 ┆ _w2 ┆ _w2 ┆ _w2 ┆ _w2 ┆ _w2 ┆ _w2 ┆ _w2 ┆ _w2 ┆ _w2 ┆ _w2 ┆ _w2 ┆ _w2 ┆ _w2 ┆ _w2 ┆ _w2 ┆ _w2 ┆ _w2 ┆ _w2 ┆ _w2 ┆ _w2 ┆ _w2 ┆ _w2 ┆ _w2 ┆ _w2 ┆ _w2 ┆ _w2 ┆ _w2 ┆ _w2 ┆ _w2 ┆ _w2 ┆ _st ┆ _st ┆ _st ┆ _st ┆ _st ┆ _st ┆ _st ┆ _st ┆ _st ┆ _st ┆ _st ┆ _st ┆ _st ┆ _st ┆ _st ┆ _st ┆ _st ┆ _st ┆ _st ┆ _st ┆ _st ┆ _st ┆ _st ┆ _st ┆ _st ┆ _st ┆ _st ┆ _st ┆ _st ┆ _st ┆ _st ┆ _st ┆ _st ┆ _st ┆ _st ┆ _st ┆ _st ┆ _st ┆ _st ┆ _st ┆ _st ┆ _st ┆ _st ┆ _st ┆ _st ┆ _st ┆ _st ┆ _st ┆ _st ┆ _st ┆ _st ┆ _st ┆ _st ┆ _st ┆ _st ┆ _st ┆ _st ┆ _st ┆ _st ┆ _st ┆ _st ┆ _st ┆ _st ┆ _st ┆ _st ┆ _st ┆ _st ┆ _st ┆ _st ┆ _st ┆ _st ┆ _st ┆ _st ┆ _st ┆ _st ┆ _st ┆ _st ┆ _st ┆ _st ┆ _st ┆ _st ┆ _st ┆ _st ┆ _st ┆ _st ┆ _st ┆ _st ┆ _st ┆ _st ┆ _st ┆ _st ┆ _st ┆ _st ┆ _st ┆ _st ┆ _st ┆ _st ┆ _st ┆ _st ┆ _st ┆ _st ┆ _st ┆ _st ┆ _st ┆ _st ┆ _st ┆ _st ┆ _st ┆ _st ┆ _st ┆ _st ┆ _st ┆ _st ┆ _st ┆ _st ┆ _st ┆ _st ┆ _st ┆ _st ┆ _st ┆ _st ┆ _st ┆ _st ┆ _st ┆ _st ┆ _st ┆ _st ┆ _st ┆ _st ┆ _st ┆ _st ┆ _st ┆ _st ┆ _st ┆ _st ┆ _st ┆ _st ┆ _st ┆ _st ┆ _st ┆ _st ┆ _st ┆ _st ┆ _st ┆ _st ┆ _st ┆ _st ┆ _st ┆ _st ┆ _st ┆ _st ┆ _st ┆ _st ┆ _st ┆ _st ┆ _st ┆ _st ┆ _st ┆ _st ┆ _st ┆ _st ┆ _st ┆ _st ┆ _st ┆ _st ┆ _st ┆ _st ┆ _st ┆ _st ┆ _st ┆ _st ┆ _st ┆ _st ┆ _st ┆ _st ┆ _st ┆ _st ┆ _st ┆ _st ┆ _st ┆ _st ┆ _st ┆ _st ┆ _st ┆ _st ┆ _st ┆ _st ┆ _st ┆ _st ┆ _st ┆ _st ┆ _st ┆ _st ┆ _st ┆ _st ┆ _st ┆ _st ┆ _st ┆ _st ┆ _st ┆ _st ┆ _st ┆ _st ┆ _st ┆ _st ┆ _st ┆ _st ┆ _st ┆ _st ┆ _st ┆ _st ┆ _st ┆ _st ┆ _st ┆ _st ┆ _st ┆ _st ┆ _st ┆ _st ┆ _st ┆ _st ┆ _st ┆ _st ┆ _st ┆ _st ┆ _st ┆ _st ┆ _st ┆ _st ┆ _st ┆ _st ┆ _st ┆ _st ┆ _st ┆ _st ┆ _st ┆ _st ┆ _st ┆ _st ┆ _st ┆ _st ┆ _st ┆ _st ┆ _st ┆ _st ┆ _st ┆ _st ┆ _st ┆ _st ┆ _st ┆ _st ┆ _st ┆ _st ┆ _st ┆ _st ┆ _st ┆ _st ┆ _st ┆ _st ┆ _st ┆ _st ┆ _st ┆ _st ┆ _st ┆ _st ┆ _st ┆ _st ┆ _st ┆ _st ┆ _st ┆ _st ┆ _st ┆ _st ┆ _st ┆ _st ┆ _st ┆ _st ┆ _st ┆ _st ┆ _st ┆ _st ┆ _st ┆ _st ┆ _st ┆ _st ┆ _st ┆ _st ┆ _st ┆ _st ┆ _st ┆ _st ┆ _st ┆ _st ┆ _st ┆ _st ┆ _st ┆ _st ┆ _st ┆ _st ┆ _st ┆ _st ┆ _st ┆ ufa ┆ ufa ┆ ufa ┆ ufa ┆ ufa ┆ ufa ┆ ufa ┆ ufa ┆ ufa ┆ ufa ┆ l_d ┆ l_e ┆ l_h ┆ l_o ┆ le_ ┆ le_ ┆ le_ ┆ le_ ┆ le_ ┆ nsm ┆ nsm ┆ ve_ ┆ ve_ ┆ e_s ┆ e_s ┆ e_s ┆ e_s ┆ e_s ┆ e_s ┆ e_s ┆ e_s ┆ e_s ┆ e_s ┆ nt_ ┆ nt_ ┆ nt_ ┆ nt_ ┆ nt_ ┆ nt_ ┆ nt_ ┆ nt_ ┆ nt_ ┆ nt_ ┆ te_ ┆ te_ ┆ te_ ┆ te_ ┆ te_ ┆ te_ ┆ te_ ┆ te_ ┆ te_ ┆ te_ │\n",
       "│ --- ┆ ers ┆ er  ┆ ctu ┆ i64 ┆ er/ ┆ er/ ┆ f64 ┆ f64 ┆ ale ┆ ale ┆ g_c ┆ ctu ┆ ion ┆ ank ┆ sta ┆ iss ┆ ran ┆ ank ┆ ank ┆ col ┆ ran ┆ ctu ┆ ion ┆ oun ┆ sta ┆ iss ┆ cou ┆ oun ┆ oun ┆ col ┆ cou ┆ ase ┆ ase ┆ ase ┆ ctu ┆ ctu ┆ ctu ┆ anu ┆ anu ┆ anu ┆ anu ┆ anu ┆ anu ┆ anu ┆ ctu ┆ ric ┆ sta ┆ iss ┆ pri ┆ ric ┆ col ┆ pri ┆ g_c ┆ sta ┆ typ ┆ _ty ┆ col ┆ g_c ┆ ion ┆ --- ┆ ctu ┆ ctu ┆ ctu ┆ ctu ┆ ctu ┆ ctu ┆ ctu ┆ ctu ┆ ctu ┆ ctu ┆ ion ┆ ion ┆ ion ┆ ion ┆ ion ┆ ion ┆ ion ┆ ion ┆ ion ┆ ion ┆ ers ┆ ers ┆ ers ┆ ers ┆ ers ┆ ers ┆ ers ┆ ers ┆ ers ┆ ers ┆ ge_ ┆ ge_ ┆ ge_ ┆ ge_ ┆ ge_ ┆ dom ┆ dom ┆ dom ┆ dom ┆ dom ┆ age ┆ age ┆ age ┆ age ┆ age ┆ odo ┆ odo ┆ odo ┆ odo ┆ odo ┆ ge_ ┆ ge_ ┆ ge_ ┆ ge_ ┆ ge_ ┆ dom ┆ dom ┆ dom ┆ dom ┆ dom ┆ v_0 ┆ v_1 ┆ v_2 ┆ v_3 ┆ v_4 ┆ v_5 ┆ v_6 ┆ v_7 ┆ v_8 ┆ v_9 ┆ v_1 ┆ v_1 ┆ v_1 ┆ v_1 ┆ v_1 ┆ v_1 ┆ v_1 ┆ v_1 ┆ v_1 ┆ v_1 ┆ v_2 ┆ v_2 ┆ v_2 ┆ v_2 ┆ v_2 ┆ v_2 ┆ v_2 ┆ v_2 ┆ v_2 ┆ v_2 ┆ v_3 ┆ v_3 ┆ v_3 ┆ v_3 ┆ v_3 ┆ v_3 ┆ v_3 ┆ v_3 ┆ v_3 ┆ v_3 ┆ v_4 ┆ v_4 ┆ v_4 ┆ v_4 ┆ v_4 ┆ v_4 ┆ v_4 ┆ v_4 ┆ v_4 ┆ v_4 ┆ v_5 ┆ v_5 ┆ v_5 ┆ v_5 ┆ v_5 ┆ v_5 ┆ v_5 ┆ v_5 ┆ v_5 ┆ v_5 ┆ v_6 ┆ v_6 ┆ v_6 ┆ v_6 ┆ v_6 ┆ v_6 ┆ v_6 ┆ v_6 ┆ v_6 ┆ v_6 ┆ v_7 ┆ v_7 ┆ v_7 ┆ v_7 ┆ v_7 ┆ v_7 ┆ v_7 ┆ v_7 ┆ v_7 ┆ v_7 ┆ v_8 ┆ v_8 ┆ v_8 ┆ v_8 ┆ v_8 ┆ v_8 ┆ v_8 ┆ v_8 ┆ v_8 ┆ v_8 ┆ v_9 ┆ v_9 ┆ v_9 ┆ v_9 ┆ v_9 ┆ v_9 ┆ v_9 ┆ v_9 ┆ v_9 ┆ v_9 ┆ v_1 ┆ v_1 ┆ v_1 ┆ v_1 ┆ v_1 ┆ v_1 ┆ v_1 ┆ v_1 ┆ v_1 ┆ v_1 ┆ v_1 ┆ v_1 ┆ v_1 ┆ v_1 ┆ v_1 ┆ v_1 ┆ v_1 ┆ v_1 ┆ v_1 ┆ v_1 ┆ v_1 ┆ v_1 ┆ v_1 ┆ v_1 ┆ v_1 ┆ v_1 ┆ v_1 ┆ v_1 ┆ v_1 ┆ v_1 ┆ v_1 ┆ v_1 ┆ v_1 ┆ v_1 ┆ v_1 ┆ v_1 ┆ v_1 ┆ v_1 ┆ v_1 ┆ v_1 ┆ v_1 ┆ v_1 ┆ v_1 ┆ v_1 ┆ v_1 ┆ v_1 ┆ v_1 ┆ v_1 ┆ v_1 ┆ v_1 ┆ v_1 ┆ v_1 ┆ v_1 ┆ v_1 ┆ v_1 ┆ v_1 ┆ v_1 ┆ v_1 ┆ v_1 ┆ v_1 ┆ v_1 ┆ v_1 ┆ v_1 ┆ v_1 ┆ v_1 ┆ v_1 ┆ v_1 ┆ v_1 ┆ v_1 ┆ v_1 ┆ v_1 ┆ v_1 ┆ v_1 ┆ v_1 ┆ v_1 ┆ v_1 ┆ v_1 ┆ v_1 ┆ v_1 ┆ v_1 ┆ v_1 ┆ v_1 ┆ v_1 ┆ v_1 ┆ v_1 ┆ v_1 ┆ v_1 ┆ v_1 ┆ v_1 ┆ v_1 ┆ v_1 ┆ v_1 ┆ v_1 ┆ v_1 ┆ v_1 ┆ v_1 ┆ v_1 ┆ v_1 ┆ v_1 ┆ v_1 ┆ v_2 ┆ v_2 ┆ v_2 ┆ v_2 ┆ v_2 ┆ v_2 ┆ v_2 ┆ v_2 ┆ v_2 ┆ v_2 ┆ v_2 ┆ v_2 ┆ v_2 ┆ v_2 ┆ v_2 ┆ v_2 ┆ v_2 ┆ v_2 ┆ v_2 ┆ v_2 ┆ v_2 ┆ v_2 ┆ v_2 ┆ v_2 ┆ v_2 ┆ v_2 ┆ v_2 ┆ v_2 ┆ v_2 ┆ v_2 ┆ v_2 ┆ v_2 ┆ v_2 ┆ v_2 ┆ v_2 ┆ v_2 ┆ v_2 ┆ v_2 ┆ v_2 ┆ v_2 ┆ v_2 ┆ v_2 ┆ v_2 ┆ v_2 ┆ v_2 ┆ v_2 ┆ v_2 ┆ v_2 ┆ v_2 ┆ v_2 ┆ v_2 ┆ v_2 ┆ v_2 ┆ v_2 ┆ v_2 ┆ v_2 ┆ v_2 ┆ v_2 ┆ v_2 ┆ v_2 ┆ v_2 ┆ v_2 ┆ v_2 ┆ v_2 ┆ v_2 ┆ v_2 ┆ v_2 ┆ v_2 ┆ v_2 ┆ v_2 ┆ v_2 ┆ v_2 ┆ v_2 ┆ v_2 ┆ v_2 ┆ v_2 ┆ v_2 ┆ v_2 ┆ v_2 ┆ v_2 ┆ v_2 ┆ v_2 ┆ v_2 ┆ v_2 ┆ v_2 ┆ v_2 ┆ v_2 ┆ v_2 ┆ v_2 ┆ v_2 ┆ v_2 ┆ v_2 ┆ v_2 ┆ v_2 ┆ v_2 ┆ v_2 ┆ v_2 ┆ v_2 ┆ v_2 ┆ v_2 ┆ v_n ┆ v_m ┆ rin ┆ rin ┆ rin ┆ rin ┆ rin ┆ rin ┆ rin ┆ rin ┆ rin ┆ rin ┆ rin ┆ rin ┆ rin ┆ rin ┆ rin ┆ rin ┆ rin ┆ rin ┆ rin ┆ rin ┆ rin ┆ rin ┆ rin ┆ rin ┆ rin ┆ rin ┆ rin ┆ rin ┆ rin ┆ rin ┆ rin ┆ rin ┆ rin ┆ rin ┆ rin ┆ rin ┆ rin ┆ rin ┆ rin ┆ rin ┆ rin ┆ rin ┆ rin ┆ rin ┆ rin ┆ rin ┆ rin ┆ rin ┆ rin ┆ rin ┆ rin ┆ rin ┆ rin ┆ rin ┆ rin ┆ rin ┆ rin ┆ rin ┆ rin ┆ rin ┆ rin ┆ rin ┆ rin ┆ rin ┆ rin ┆ rin ┆ rin ┆ rin ┆ rin ┆ rin ┆ rin ┆ rin ┆ rin ┆ rin ┆ rin ┆ rin ┆ rin ┆ rin ┆ rin ┆ rin ┆ rin ┆ rin ┆ rin ┆ rin ┆ rin ┆ rin ┆ rin ┆ rin ┆ rin ┆ rin ┆ rin ┆ rin ┆ rin ┆ rin ┆ rin ┆ rin ┆ rin ┆ rin ┆ rin ┆ rin ┆ rin ┆ rin ┆ rin ┆ rin ┆ rin ┆ rin ┆ rin ┆ rin ┆ rin ┆ rin ┆ rin ┆ rin ┆ rin ┆ rin ┆ rin ┆ rin ┆ rin ┆ rin ┆ rin ┆ rin ┆ rin ┆ rin ┆ rin ┆ rin ┆ rin ┆ rin ┆ rin ┆ rin ┆ rin ┆ rin ┆ rin ┆ rin ┆ rin ┆ rin ┆ rin ┆ rin ┆ rin ┆ rin ┆ rin ┆ rin ┆ rin ┆ rin ┆ rin ┆ rin ┆ rin ┆ rin ┆ rin ┆ rin ┆ rin ┆ rin ┆ rin ┆ rin ┆ rin ┆ rin ┆ rin ┆ rin ┆ rin ┆ rin ┆ rin ┆ rin ┆ rin ┆ rin ┆ rin ┆ rin ┆ rin ┆ rin ┆ rin ┆ rin ┆ rin ┆ rin ┆ rin ┆ rin ┆ rin ┆ rin ┆ rin ┆ rin ┆ rin ┆ rin ┆ rin ┆ rin ┆ rin ┆ rin ┆ rin ┆ rin ┆ rin ┆ rin ┆ rin ┆ rin ┆ rin ┆ rin ┆ rin ┆ rin ┆ rin ┆ rin ┆ rin ┆ rin ┆ rin ┆ rin ┆ rin ┆ rin ┆ rin ┆ rin ┆ rin ┆ rin ┆ rin ┆ rin ┆ rin ┆ rin ┆ rin ┆ rin ┆ rin ┆ rin ┆ rin ┆ rin ┆ rin ┆ rin ┆ rin ┆ rin ┆ rin ┆ rin ┆ rin ┆ rin ┆ rin ┆ rin ┆ rin ┆ rin ┆ rin ┆ rin ┆ rin ┆ rin ┆ rin ┆ rin ┆ rin ┆ rin ┆ rin ┆ rin ┆ rin ┆ rin ┆ rin ┆ rin ┆ rin ┆ rin ┆ rin ┆ rin ┆ rin ┆ rin ┆ rin ┆ rin ┆ rin ┆ rin ┆ rin ┆ rin ┆ rin ┆ rin ┆ rin ┆ rin ┆ rin ┆ rin ┆ rin ┆ rin ┆ rin ┆ rin ┆ rin ┆ rin ┆ rin ┆ rin ┆ rin ┆ rin ┆ rin ┆ rin ┆ rin ┆ rin ┆ rin ┆ rin ┆ rin ┆ rin ┆ rin ┆ rin ┆ rin ┆ rin ┆ rin ┆ rin ┆ rin ┆ rin ┆ rin ┆ rin ┆ rin ┆ rin ┆ rin ┆ rin ┆ rin ┆ rin ┆ rin ┆ rin ┆ rin ┆ rin ┆ rin ┆ rin ┆ rin ┆ rin ┆ rin ┆ rin ┆ ctu ┆ ctu ┆ ctu ┆ ctu ┆ ctu ┆ ctu ┆ ctu ┆ ctu ┆ ctu ┆ ctu ┆ ies ┆ lec ┆ ybr ┆ the ┆ sta ┆ sta ┆ sta ┆ sta ┆ sta ┆ iss ┆ iss ┆ 4wd ┆ fwd ┆ vd_ ┆ vd_ ┆ vd_ ┆ vd_ ┆ vd_ ┆ vd_ ┆ vd_ ┆ vd_ ┆ vd_ ┆ vd_ ┆ col ┆ col ┆ col ┆ col ┆ col ┆ col ┆ col ┆ col ┆ col ┆ col ┆ svd ┆ svd ┆ svd ┆ svd ┆ svd ┆ svd ┆ svd ┆ svd ┆ svd ┆ svd │\n",
       "│ i64 ┆ --- ┆ --- ┆ rer ┆     ┆ age ┆ cyl ┆     ┆     ┆ d   ┆ d   ┆ lus ┆ rer ┆ _ra ┆ --- ┆ tus ┆ ion ┆ k   ┆ --- ┆ --- ┆ or_ ┆ k   ┆ rer ┆ _co ┆ t   ┆ tus ┆ ion ┆ nt  ┆ t   ┆ t   ┆ or_ ┆ nt  ┆ _pr ┆ _ye ┆ _od ┆ rer ┆ rer ┆ rer ┆ fac ┆ fac ┆ fac ┆ fac ┆ fac ┆ fac ┆ fac ┆ rer ┆ e_m ┆ tus ┆ ion ┆ ce_ ┆ e_m ┆ or_ ┆ ce_ ┆ lus ┆ tus ┆ e_m ┆ pe_ ┆ or_ ┆ lus ┆ _l  ┆ i64 ┆ rer ┆ rer ┆ rer ┆ rer ┆ rer ┆ rer ┆ rer ┆ rer ┆ rer ┆ rer ┆ _ag ┆ _ag ┆ _ag ┆ _ag ┆ _ag ┆ _od ┆ _od ┆ _od ┆ _od ┆ _od ┆ _ag ┆ _ag ┆ _ag ┆ _ag ┆ _ag ┆ _od ┆ _od ┆ _od ┆ _od ┆ _od ┆ mea ┆ std ┆ max ┆ min ┆ dif ┆ ete ┆ ete ┆ ete ┆ ete ┆ ete ┆ _me ┆ _st ┆ _ma ┆ _mi ┆ _di ┆ met ┆ met ┆ met ┆ met ┆ met ┆ mea ┆ std ┆ max ┆ min ┆ dif ┆ ete ┆ ete ┆ ete ┆ ete ┆ ete ┆ --- ┆ --- ┆ --- ┆ --- ┆ --- ┆ --- ┆ --- ┆ --- ┆ --- ┆ --- ┆ 0   ┆ 1   ┆ 2   ┆ 3   ┆ 4   ┆ 5   ┆ 6   ┆ 7   ┆ 8   ┆ 9   ┆ 0   ┆ 1   ┆ 2   ┆ 3   ┆ 4   ┆ 5   ┆ 6   ┆ 7   ┆ 8   ┆ 9   ┆ 0   ┆ 1   ┆ 2   ┆ 3   ┆ 4   ┆ 5   ┆ 6   ┆ 7   ┆ 8   ┆ 9   ┆ 0   ┆ 1   ┆ 2   ┆ 3   ┆ 4   ┆ 5   ┆ 6   ┆ 7   ┆ 8   ┆ 9   ┆ 0   ┆ 1   ┆ 2   ┆ 3   ┆ 4   ┆ 5   ┆ 6   ┆ 7   ┆ 8   ┆ 9   ┆ 0   ┆ 1   ┆ 2   ┆ 3   ┆ 4   ┆ 5   ┆ 6   ┆ 7   ┆ 8   ┆ 9   ┆ 0   ┆ 1   ┆ 2   ┆ 3   ┆ 4   ┆ 5   ┆ 6   ┆ 7   ┆ 8   ┆ 9   ┆ 0   ┆ 1   ┆ 2   ┆ 3   ┆ 4   ┆ 5   ┆ 6   ┆ 7   ┆ 8   ┆ 9   ┆ 0   ┆ 1   ┆ 2   ┆ 3   ┆ 4   ┆ 5   ┆ 6   ┆ 7   ┆ 8   ┆ 9   ┆ 00  ┆ 01  ┆ 02  ┆ 03  ┆ 04  ┆ 05  ┆ 06  ┆ 07  ┆ 08  ┆ 09  ┆ 10  ┆ 11  ┆ 12  ┆ 13  ┆ 14  ┆ 15  ┆ 16  ┆ 17  ┆ 18  ┆ 19  ┆ 20  ┆ 21  ┆ 22  ┆ 23  ┆ 24  ┆ 25  ┆ 26  ┆ 27  ┆ 28  ┆ 29  ┆ 30  ┆ 31  ┆ 32  ┆ 33  ┆ 34  ┆ 35  ┆ 36  ┆ 37  ┆ 38  ┆ 39  ┆ 40  ┆ 41  ┆ 42  ┆ 43  ┆ 44  ┆ 45  ┆ 46  ┆ 47  ┆ 48  ┆ 49  ┆ 50  ┆ 51  ┆ 52  ┆ 53  ┆ 54  ┆ 55  ┆ 56  ┆ 57  ┆ 58  ┆ 59  ┆ 60  ┆ 61  ┆ 62  ┆ 63  ┆ 64  ┆ 65  ┆ 66  ┆ 67  ┆ 68  ┆ 69  ┆ 70  ┆ 71  ┆ 72  ┆ 73  ┆ 74  ┆ 75  ┆ 76  ┆ 77  ┆ 78  ┆ 79  ┆ 80  ┆ 81  ┆ 82  ┆ 83  ┆ 84  ┆ 85  ┆ 86  ┆ 87  ┆ 88  ┆ 89  ┆ 90  ┆ 91  ┆ 92  ┆ 93  ┆ 94  ┆ 95  ┆ 96  ┆ 97  ┆ 98  ┆ 99  ┆ 00  ┆ 01  ┆ 02  ┆ 03  ┆ 04  ┆ 05  ┆ 06  ┆ 07  ┆ 08  ┆ 09  ┆ 10  ┆ 11  ┆ 12  ┆ 13  ┆ 14  ┆ 15  ┆ 16  ┆ 17  ┆ 18  ┆ 19  ┆ 20  ┆ 21  ┆ 22  ┆ 23  ┆ 24  ┆ 25  ┆ 26  ┆ 27  ┆ 28  ┆ 29  ┆ 30  ┆ 31  ┆ 32  ┆ 33  ┆ 34  ┆ 35  ┆ 36  ┆ 37  ┆ 38  ┆ 39  ┆ 40  ┆ 41  ┆ 42  ┆ 43  ┆ 44  ┆ 45  ┆ 46  ┆ 47  ┆ 48  ┆ 49  ┆ 50  ┆ 51  ┆ 52  ┆ 53  ┆ 54  ┆ 55  ┆ 56  ┆ 57  ┆ 58  ┆ 59  ┆ 60  ┆ 61  ┆ 62  ┆ 63  ┆ 64  ┆ 65  ┆ 66  ┆ 67  ┆ 68  ┆ 69  ┆ 70  ┆ 71  ┆ 72  ┆ 73  ┆ 74  ┆ 75  ┆ 76  ┆ 77  ┆ 78  ┆ 79  ┆ 80  ┆ 81  ┆ 82  ┆ 83  ┆ 84  ┆ 85  ┆ 86  ┆ 87  ┆ 88  ┆ 89  ┆ 90  ┆ 91  ┆ 92  ┆ 93  ┆ 94  ┆ 95  ┆ 96  ┆ 97  ┆ 98  ┆ 99  ┆ orm ┆ ean ┆ g_v ┆ g_v ┆ g_v ┆ g_v ┆ g_v ┆ g_v ┆ g_v ┆ g_v ┆ g_v ┆ g_v ┆ g_v ┆ g_v ┆ g_v ┆ g_v ┆ g_v ┆ g_v ┆ g_v ┆ g_v ┆ g_v ┆ g_v ┆ g_v ┆ g_v ┆ g_v ┆ g_v ┆ g_v ┆ g_v ┆ g_v ┆ g_v ┆ g_v ┆ g_v ┆ g_v ┆ g_v ┆ g_v ┆ g_v ┆ g_v ┆ g_v ┆ g_v ┆ g_v ┆ g_v ┆ g_v ┆ g_v ┆ g_v ┆ g_v ┆ g_v ┆ g_v ┆ g_v ┆ g_v ┆ g_v ┆ g_v ┆ g_v ┆ g_v ┆ g_v ┆ g_v ┆ g_v ┆ g_v ┆ g_v ┆ g_v ┆ g_v ┆ g_v ┆ g_v ┆ g_v ┆ g_v ┆ g_v ┆ g_v ┆ g_v ┆ g_v ┆ g_v ┆ g_v ┆ g_v ┆ g_v ┆ g_v ┆ g_v ┆ g_v ┆ g_v ┆ g_v ┆ g_v ┆ g_v ┆ g_v ┆ g_v ┆ g_v ┆ g_v ┆ g_v ┆ g_v ┆ g_v ┆ g_v ┆ g_v ┆ g_v ┆ g_v ┆ g_v ┆ g_v ┆ g_v ┆ g_v ┆ g_v ┆ g_v ┆ g_v ┆ g_v ┆ g_v ┆ g_v ┆ g_v ┆ g_v ┆ g_v ┆ g_v ┆ g_v ┆ g_v ┆ g_v ┆ g_v ┆ g_v ┆ g_v ┆ g_v ┆ g_v ┆ g_v ┆ g_v ┆ g_v ┆ g_v ┆ g_v ┆ g_v ┆ g_v ┆ g_v ┆ g_v ┆ g_v ┆ g_v ┆ g_v ┆ g_v ┆ g_v ┆ g_v ┆ g_v ┆ g_v ┆ g_v ┆ g_v ┆ g_v ┆ g_v ┆ g_v ┆ g_v ┆ g_v ┆ g_v ┆ g_v ┆ g_v ┆ g_v ┆ g_v ┆ g_v ┆ g_v ┆ g_v ┆ g_v ┆ g_v ┆ g_v ┆ g_v ┆ g_v ┆ g_v ┆ g_v ┆ g_v ┆ g_v ┆ g_v ┆ g_v ┆ g_v ┆ g_v ┆ g_v ┆ g_v ┆ g_v ┆ g_v ┆ g_v ┆ g_v ┆ g_v ┆ g_v ┆ g_v ┆ g_v ┆ g_v ┆ g_v ┆ g_v ┆ g_v ┆ g_v ┆ g_v ┆ g_v ┆ g_v ┆ g_v ┆ g_v ┆ g_v ┆ g_v ┆ g_v ┆ g_v ┆ g_v ┆ g_v ┆ g_v ┆ g_v ┆ g_v ┆ g_v ┆ g_v ┆ g_v ┆ g_v ┆ g_v ┆ g_v ┆ g_v ┆ g_v ┆ g_v ┆ g_v ┆ g_v ┆ g_v ┆ g_v ┆ g_v ┆ g_v ┆ g_v ┆ g_v ┆ g_v ┆ g_v ┆ g_v ┆ g_v ┆ g_v ┆ g_v ┆ g_v ┆ g_v ┆ g_v ┆ g_v ┆ g_v ┆ g_v ┆ g_v ┆ g_v ┆ g_v ┆ g_v ┆ g_v ┆ g_v ┆ g_v ┆ g_v ┆ g_v ┆ g_v ┆ g_v ┆ g_v ┆ g_v ┆ g_v ┆ g_v ┆ g_v ┆ g_v ┆ g_v ┆ g_v ┆ g_v ┆ g_v ┆ g_v ┆ g_v ┆ g_v ┆ g_v ┆ g_v ┆ g_v ┆ g_v ┆ g_v ┆ g_v ┆ g_v ┆ g_v ┆ g_v ┆ g_v ┆ g_v ┆ g_v ┆ g_v ┆ g_v ┆ g_v ┆ g_v ┆ g_v ┆ g_v ┆ g_v ┆ g_v ┆ g_v ┆ g_v ┆ g_v ┆ g_v ┆ g_v ┆ g_v ┆ g_v ┆ g_v ┆ g_v ┆ g_v ┆ g_v ┆ g_v ┆ g_v ┆ g_v ┆ g_v ┆ g_v ┆ g_v ┆ g_v ┆ g_v ┆ g_v ┆ g_v ┆ g_v ┆ g_v ┆ g_v ┆ g_v ┆ g_v ┆ g_v ┆ g_v ┆ g_v ┆ g_v ┆ g_v ┆ g_v ┆ g_v ┆ g_v ┆ g_v ┆ g_v ┆ g_v ┆ g_v ┆ g_v ┆ g_v ┆ g_v ┆ g_v ┆ g_v ┆ g_v ┆ g_v ┆ rer ┆ rer ┆ rer ┆ rer ┆ rer ┆ rer ┆ rer ┆ rer ┆ rer ┆ rer ┆ el  ┆ tri ┆ id  ┆ r   ┆ tus ┆ tus ┆ tus ┆ tus ┆ tus ┆ ion ┆ ion ┆ --- ┆ --- ┆ 0   ┆ 1   ┆ 2   ┆ 3   ┆ 4   ┆ 5   ┆ 6   ┆ 7   ┆ 8   ┆ 9   ┆ or_ ┆ or_ ┆ or_ ┆ or_ ┆ or_ ┆ or_ ┆ or_ ┆ or_ ┆ or_ ┆ or_ ┆ _0  ┆ _1  ┆ _2  ┆ _3  ┆ _4  ┆ _5  ┆ _6  ┆ _7  ┆ _8  ┆ _9  │\n",
       "│     ┆ i8  ┆ f64 ┆ _re ┆     ┆ --- ┆ ind ┆     ┆     ┆ --- ┆ --- ┆ ter ┆ _ra ┆ nk  ┆ f32 ┆ _ra ┆ _ra ┆ --- ┆ f32 ┆ f32 ┆ ran ┆ --- ┆ _co ┆ unt ┆ --- ┆ _co ┆ _co ┆ --- ┆ --- ┆ --- ┆ cou ┆ --- ┆ ice ┆ ar  ┆ ome ┆ _ba ┆ _ba ┆ _ba ┆ tur ┆ tur ┆ tur ┆ tur ┆ tur ┆ tur ┆ tur ┆ _pr ┆ ean ┆ _pr ┆ _pr ┆ mea ┆ ean ┆ pri ┆ mea ┆ ter ┆ _ty ┆ anu ┆ man ┆ typ ┆ ter ┆ --- ┆     ┆ _ag ┆ _ag ┆ _ag ┆ _ag ┆ _ag ┆ _od ┆ _od ┆ _od ┆ _od ┆ _od ┆ e_m ┆ e_s ┆ e_m ┆ e_m ┆ e_d ┆ ome ┆ ome ┆ ome ┆ ome ┆ ome ┆ e_m ┆ e_s ┆ e_m ┆ e_m ┆ e_d ┆ ome ┆ ome ┆ ome ┆ ome ┆ ome ┆ n   ┆ --- ┆ --- ┆ --- ┆ f   ┆ r_m ┆ r_s ┆ r_m ┆ r_m ┆ r_d ┆ an  ┆ d   ┆ x   ┆ n   ┆ ff  ┆ er_ ┆ er_ ┆ er_ ┆ er_ ┆ er_ ┆ n   ┆ --- ┆ --- ┆ --- ┆ f   ┆ r_m ┆ r_s ┆ r_m ┆ r_m ┆ r_d ┆ f64 ┆ f64 ┆ f64 ┆ f64 ┆ f64 ┆ f64 ┆ f64 ┆ f64 ┆ f64 ┆ f64 ┆ --- ┆ --- ┆ --- ┆ --- ┆ --- ┆ --- ┆ --- ┆ --- ┆ --- ┆ --- ┆ --- ┆ --- ┆ --- ┆ --- ┆ --- ┆ --- ┆ --- ┆ --- ┆ --- ┆ --- ┆ --- ┆ --- ┆ --- ┆ --- ┆ --- ┆ --- ┆ --- ┆ --- ┆ --- ┆ --- ┆ --- ┆ --- ┆ --- ┆ --- ┆ --- ┆ --- ┆ --- ┆ --- ┆ --- ┆ --- ┆ --- ┆ --- ┆ --- ┆ --- ┆ --- ┆ --- ┆ --- ┆ --- ┆ --- ┆ --- ┆ --- ┆ --- ┆ --- ┆ --- ┆ --- ┆ --- ┆ --- ┆ --- ┆ --- ┆ --- ┆ --- ┆ --- ┆ --- ┆ --- ┆ --- ┆ --- ┆ --- ┆ --- ┆ --- ┆ --- ┆ --- ┆ --- ┆ --- ┆ --- ┆ --- ┆ --- ┆ --- ┆ --- ┆ --- ┆ --- ┆ --- ┆ --- ┆ --- ┆ --- ┆ --- ┆ --- ┆ --- ┆ --- ┆ --- ┆ --- ┆ --- ┆ --- ┆ --- ┆ --- ┆ --- ┆ --- ┆ --- ┆ --- ┆ --- ┆ --- ┆ --- ┆ --- ┆ --- ┆ --- ┆ --- ┆ --- ┆ --- ┆ --- ┆ --- ┆ --- ┆ --- ┆ --- ┆ --- ┆ --- ┆ --- ┆ --- ┆ --- ┆ --- ┆ --- ┆ --- ┆ --- ┆ --- ┆ --- ┆ --- ┆ --- ┆ --- ┆ --- ┆ --- ┆ --- ┆ --- ┆ --- ┆ --- ┆ --- ┆ --- ┆ --- ┆ --- ┆ --- ┆ --- ┆ --- ┆ --- ┆ --- ┆ --- ┆ --- ┆ --- ┆ --- ┆ --- ┆ --- ┆ --- ┆ --- ┆ --- ┆ --- ┆ --- ┆ --- ┆ --- ┆ --- ┆ --- ┆ --- ┆ --- ┆ --- ┆ --- ┆ --- ┆ --- ┆ --- ┆ --- ┆ --- ┆ --- ┆ --- ┆ --- ┆ --- ┆ --- ┆ --- ┆ --- ┆ --- ┆ --- ┆ --- ┆ --- ┆ --- ┆ --- ┆ --- ┆ --- ┆ --- ┆ --- ┆ --- ┆ --- ┆ --- ┆ --- ┆ --- ┆ --- ┆ --- ┆ --- ┆ --- ┆ --- ┆ --- ┆ --- ┆ --- ┆ --- ┆ --- ┆ --- ┆ --- ┆ --- ┆ --- ┆ --- ┆ --- ┆ --- ┆ --- ┆ --- ┆ --- ┆ --- ┆ --- ┆ --- ┆ --- ┆ --- ┆ --- ┆ --- ┆ --- ┆ --- ┆ --- ┆ --- ┆ --- ┆ --- ┆ --- ┆ --- ┆ --- ┆ --- ┆ --- ┆ --- ┆ --- ┆ --- ┆ --- ┆ --- ┆ --- ┆ --- ┆ --- ┆ --- ┆ --- ┆ --- ┆ --- ┆ --- ┆ --- ┆ --- ┆ --- ┆ --- ┆ --- ┆ --- ┆ --- ┆ --- ┆ --- ┆ --- ┆ --- ┆ --- ┆ --- ┆ --- ┆ --- ┆ --- ┆ --- ┆ --- ┆ --- ┆ --- ┆ --- ┆ --- ┆ --- ┆ --- ┆ --- ┆ --- ┆ --- ┆ --- ┆ --- ┆ --- ┆ --- ┆ --- ┆ --- ┆ --- ┆ --- ┆ --- ┆ --- ┆ --- ┆ --- ┆ --- ┆ --- ┆ --- ┆ --- ┆ --- ┆ --- ┆ --- ┆ --- ┆ --- ┆ --- ┆ --- ┆ --- ┆ --- ┆ 2   ┆ --- ┆ ec_ ┆ ec_ ┆ ec_ ┆ ec_ ┆ ec_ ┆ ec_ ┆ ec_ ┆ ec_ ┆ ec_ ┆ ec_ ┆ ec_ ┆ ec_ ┆ ec_ ┆ ec_ ┆ ec_ ┆ ec_ ┆ ec_ ┆ ec_ ┆ ec_ ┆ ec_ ┆ ec_ ┆ ec_ ┆ ec_ ┆ ec_ ┆ ec_ ┆ ec_ ┆ ec_ ┆ ec_ ┆ ec_ ┆ ec_ ┆ ec_ ┆ ec_ ┆ ec_ ┆ ec_ ┆ ec_ ┆ ec_ ┆ ec_ ┆ ec_ ┆ ec_ ┆ ec_ ┆ ec_ ┆ ec_ ┆ ec_ ┆ ec_ ┆ ec_ ┆ ec_ ┆ ec_ ┆ ec_ ┆ ec_ ┆ ec_ ┆ ec_ ┆ ec_ ┆ ec_ ┆ ec_ ┆ ec_ ┆ ec_ ┆ ec_ ┆ ec_ ┆ ec_ ┆ ec_ ┆ ec_ ┆ ec_ ┆ ec_ ┆ ec_ ┆ ec_ ┆ ec_ ┆ ec_ ┆ ec_ ┆ ec_ ┆ ec_ ┆ ec_ ┆ ec_ ┆ ec_ ┆ ec_ ┆ ec_ ┆ ec_ ┆ ec_ ┆ ec_ ┆ ec_ ┆ ec_ ┆ ec_ ┆ ec_ ┆ ec_ ┆ ec_ ┆ ec_ ┆ ec_ ┆ ec_ ┆ ec_ ┆ ec_ ┆ ec_ ┆ ec_ ┆ ec_ ┆ ec_ ┆ ec_ ┆ ec_ ┆ ec_ ┆ ec_ ┆ ec_ ┆ ec_ ┆ ec_ ┆ ec_ ┆ ec_ ┆ ec_ ┆ ec_ ┆ ec_ ┆ ec_ ┆ ec_ ┆ ec_ ┆ ec_ ┆ ec_ ┆ ec_ ┆ ec_ ┆ ec_ ┆ ec_ ┆ ec_ ┆ ec_ ┆ ec_ ┆ ec_ ┆ ec_ ┆ ec_ ┆ ec_ ┆ ec_ ┆ ec_ ┆ ec_ ┆ ec_ ┆ ec_ ┆ ec_ ┆ ec_ ┆ ec_ ┆ ec_ ┆ ec_ ┆ ec_ ┆ ec_ ┆ ec_ ┆ ec_ ┆ ec_ ┆ ec_ ┆ ec_ ┆ ec_ ┆ ec_ ┆ ec_ ┆ ec_ ┆ ec_ ┆ ec_ ┆ ec_ ┆ ec_ ┆ ec_ ┆ ec_ ┆ ec_ ┆ ec_ ┆ ec_ ┆ ec_ ┆ ec_ ┆ ec_ ┆ ec_ ┆ ec_ ┆ ec_ ┆ ec_ ┆ ec_ ┆ ec_ ┆ ec_ ┆ ec_ ┆ ec_ ┆ ec_ ┆ ec_ ┆ ec_ ┆ ec_ ┆ ec_ ┆ ec_ ┆ ec_ ┆ ec_ ┆ ec_ ┆ ec_ ┆ ec_ ┆ ec_ ┆ ec_ ┆ ec_ ┆ ec_ ┆ ec_ ┆ ec_ ┆ ec_ ┆ ec_ ┆ ec_ ┆ ec_ ┆ ec_ ┆ ec_ ┆ ec_ ┆ ec_ ┆ ec_ ┆ ec_ ┆ ec_ ┆ ec_ ┆ ec_ ┆ ec_ ┆ ec_ ┆ ec_ ┆ ec_ ┆ ec_ ┆ ec_ ┆ ec_ ┆ ec_ ┆ ec_ ┆ ec_ ┆ ec_ ┆ ec_ ┆ ec_ ┆ ec_ ┆ ec_ ┆ ec_ ┆ ec_ ┆ ec_ ┆ ec_ ┆ ec_ ┆ ec_ ┆ ec_ ┆ ec_ ┆ ec_ ┆ ec_ ┆ ec_ ┆ ec_ ┆ ec_ ┆ ec_ ┆ ec_ ┆ ec_ ┆ ec_ ┆ ec_ ┆ ec_ ┆ ec_ ┆ ec_ ┆ ec_ ┆ ec_ ┆ ec_ ┆ ec_ ┆ ec_ ┆ ec_ ┆ ec_ ┆ ec_ ┆ ec_ ┆ ec_ ┆ ec_ ┆ ec_ ┆ ec_ ┆ ec_ ┆ ec_ ┆ ec_ ┆ ec_ ┆ ec_ ┆ ec_ ┆ ec_ ┆ ec_ ┆ ec_ ┆ ec_ ┆ ec_ ┆ ec_ ┆ ec_ ┆ ec_ ┆ ec_ ┆ ec_ ┆ ec_ ┆ ec_ ┆ ec_ ┆ ec_ ┆ ec_ ┆ ec_ ┆ ec_ ┆ ec_ ┆ ec_ ┆ ec_ ┆ ec_ ┆ ec_ ┆ ec_ ┆ ec_ ┆ ec_ ┆ ec_ ┆ ec_ ┆ ec_ ┆ ec_ ┆ ec_ ┆ ec_ ┆ ec_ ┆ ec_ ┆ ec_ ┆ ec_ ┆ ec_ ┆ ec_ ┆ ec_ ┆ ec_ ┆ ec_ ┆ ec_ ┆ ec_ ┆ ec_ ┆ ec_ ┆ ec_ ┆ ec_ ┆ ec_ ┆ ec_ ┆ ec_ ┆ ec_ ┆ ec_ ┆ ec_ ┆ ec_ ┆ ec_ ┆ _sv ┆ _sv ┆ _sv ┆ _sv ┆ _sv ┆ _sv ┆ _sv ┆ _sv ┆ _sv ┆ _sv ┆ --- ┆ c   ┆ --- ┆ --- ┆ _li ┆ _mi ┆ _pa ┆ _re ┆ _sa ┆ _au ┆ _ot ┆ u8  ┆ u8  ┆ --- ┆ --- ┆ --- ┆ --- ┆ --- ┆ --- ┆ --- ┆ --- ┆ --- ┆ --- ┆ svd ┆ svd ┆ svd ┆ svd ┆ svd ┆ svd ┆ svd ┆ svd ┆ svd ┆ svd ┆ --- ┆ --- ┆ --- ┆ --- ┆ --- ┆ --- ┆ --- ┆ --- ┆ --- ┆ --- │\n",
       "│     ┆     ┆     ┆ f_v ┆     ┆ f64 ┆ ers ┆     ┆     ┆ f64 ┆ f64 ┆ --- ┆ nk  ┆ --- ┆     ┆ nk  ┆ nk  ┆ f32 ┆     ┆     ┆ k   ┆ f32 ┆ unt ┆ --- ┆ u32 ┆ unt ┆ unt ┆ u32 ┆ u32 ┆ u32 ┆ nt  ┆ u32 ┆ --- ┆ --- ┆ ter ┆ se_ ┆ se_ ┆ se_ ┆ er_ ┆ er_ ┆ er_ ┆ er_ ┆ er_ ┆ er_ ┆ er_ ┆ ice ┆ --- ┆ ice ┆ ice ┆ n   ┆ --- ┆ ce_ ┆ n   ┆ _pr ┆ pe_ ┆ fac ┆ ufa ┆ e_m ┆ _ty ┆ i64 ┆     ┆ e_m ┆ e_s ┆ e_m ┆ e_m ┆ e_d ┆ ome ┆ ome ┆ ome ┆ ome ┆ ome ┆ ean ┆ td  ┆ ax  ┆ in  ┆ iff ┆ ter ┆ ter ┆ ter ┆ ter ┆ ter ┆ ean ┆ td  ┆ ax  ┆ in  ┆ iff ┆ ter ┆ ter ┆ ter ┆ ter ┆ ter ┆ --- ┆ f64 ┆ i64 ┆ i64 ┆ --- ┆ ean ┆ td  ┆ ax  ┆ in  ┆ iff ┆ --- ┆ --- ┆ --- ┆ --- ┆ --- ┆ mea ┆ std ┆ max ┆ min ┆ dif ┆ --- ┆ f64 ┆ i64 ┆ i64 ┆ --- ┆ ean ┆ td  ┆ ax  ┆ in  ┆ iff ┆     ┆     ┆     ┆     ┆     ┆     ┆     ┆     ┆     ┆     ┆ f64 ┆ f64 ┆ f64 ┆ f64 ┆ f64 ┆ f64 ┆ f64 ┆ f64 ┆ f64 ┆ f64 ┆ f64 ┆ f64 ┆ f64 ┆ f64 ┆ f64 ┆ f64 ┆ f64 ┆ f64 ┆ f64 ┆ f64 ┆ f64 ┆ f64 ┆ f64 ┆ f64 ┆ f64 ┆ f64 ┆ f64 ┆ f64 ┆ f64 ┆ f64 ┆ f64 ┆ f64 ┆ f64 ┆ f64 ┆ f64 ┆ f64 ┆ f64 ┆ f64 ┆ f64 ┆ f64 ┆ f64 ┆ f64 ┆ f64 ┆ f64 ┆ f64 ┆ f64 ┆ f64 ┆ f64 ┆ f64 ┆ f64 ┆ f64 ┆ f64 ┆ f64 ┆ f64 ┆ f64 ┆ f64 ┆ f64 ┆ f64 ┆ f64 ┆ f64 ┆ f64 ┆ f64 ┆ f64 ┆ f64 ┆ f64 ┆ f64 ┆ f64 ┆ f64 ┆ f64 ┆ f64 ┆ f64 ┆ f64 ┆ f64 ┆ f64 ┆ f64 ┆ f64 ┆ f64 ┆ f64 ┆ f64 ┆ f64 ┆ f64 ┆ f64 ┆ f64 ┆ f64 ┆ f64 ┆ f64 ┆ f64 ┆ f64 ┆ f64 ┆ f64 ┆ f64 ┆ f64 ┆ f64 ┆ f64 ┆ f64 ┆ f64 ┆ f64 ┆ f64 ┆ f64 ┆ f64 ┆ f64 ┆ f64 ┆ f64 ┆ f64 ┆ f64 ┆ f64 ┆ f64 ┆ f64 ┆ f64 ┆ f64 ┆ f64 ┆ f64 ┆ f64 ┆ f64 ┆ f64 ┆ f64 ┆ f64 ┆ f64 ┆ f64 ┆ f64 ┆ f64 ┆ f64 ┆ f64 ┆ f64 ┆ f64 ┆ f64 ┆ f64 ┆ f64 ┆ f64 ┆ f64 ┆ f64 ┆ f64 ┆ f64 ┆ f64 ┆ f64 ┆ f64 ┆ f64 ┆ f64 ┆ f64 ┆ f64 ┆ f64 ┆ f64 ┆ f64 ┆ f64 ┆ f64 ┆ f64 ┆ f64 ┆ f64 ┆ f64 ┆ f64 ┆ f64 ┆ f64 ┆ f64 ┆ f64 ┆ f64 ┆ f64 ┆ f64 ┆ f64 ┆ f64 ┆ f64 ┆ f64 ┆ f64 ┆ f64 ┆ f64 ┆ f64 ┆ f64 ┆ f64 ┆ f64 ┆ f64 ┆ f64 ┆ f64 ┆ f64 ┆ f64 ┆ f64 ┆ f64 ┆ f64 ┆ f64 ┆ f64 ┆ f64 ┆ f64 ┆ f64 ┆ f64 ┆ f64 ┆ f64 ┆ f64 ┆ f64 ┆ f64 ┆ f64 ┆ f64 ┆ f64 ┆ f64 ┆ f64 ┆ f64 ┆ f64 ┆ f64 ┆ f64 ┆ f64 ┆ f64 ┆ f64 ┆ f64 ┆ f64 ┆ f64 ┆ f64 ┆ f64 ┆ f64 ┆ f64 ┆ f64 ┆ f64 ┆ f64 ┆ f64 ┆ f64 ┆ f64 ┆ f64 ┆ f64 ┆ f64 ┆ f64 ┆ f64 ┆ f64 ┆ f64 ┆ f64 ┆ f64 ┆ f64 ┆ f64 ┆ f64 ┆ f64 ┆ f64 ┆ f64 ┆ f64 ┆ f64 ┆ f64 ┆ f64 ┆ f64 ┆ f64 ┆ f64 ┆ f64 ┆ f64 ┆ f64 ┆ f64 ┆ f64 ┆ f64 ┆ f64 ┆ f64 ┆ f64 ┆ f64 ┆ f64 ┆ f64 ┆ f64 ┆ f64 ┆ f64 ┆ f64 ┆ f64 ┆ f64 ┆ f64 ┆ f64 ┆ f64 ┆ f64 ┆ f64 ┆ f64 ┆ f64 ┆ f64 ┆ f64 ┆ f64 ┆ f64 ┆ f64 ┆ f64 ┆ f64 ┆ f64 ┆ f64 ┆ f64 ┆ f64 ┆ f64 ┆ f64 ┆ f64 ┆ f64 ┆ f64 ┆ f64 ┆ f64 ┆ f64 ┆ f64 ┆ f64 ┆ f64 ┆ f64 ┆ f64 ┆ f64 ┆ f64 ┆ f64 ┆ f64 ┆ f64 ┆ f64 ┆ f64 ┆ --- ┆ f64 ┆ nor ┆ mea ┆ 0   ┆ 1   ┆ 2   ┆ 3   ┆ 4   ┆ 5   ┆ 6   ┆ 7   ┆ 8   ┆ 9   ┆ 10  ┆ 11  ┆ 12  ┆ 13  ┆ 14  ┆ 15  ┆ 16  ┆ 17  ┆ 18  ┆ 19  ┆ 20  ┆ 21  ┆ 22  ┆ 23  ┆ 24  ┆ 25  ┆ 26  ┆ 27  ┆ 28  ┆ 29  ┆ 30  ┆ 31  ┆ 32  ┆ 33  ┆ 34  ┆ 35  ┆ 36  ┆ 37  ┆ 38  ┆ 39  ┆ 40  ┆ 41  ┆ 42  ┆ 43  ┆ 44  ┆ 45  ┆ 46  ┆ 47  ┆ 48  ┆ 49  ┆ 50  ┆ 51  ┆ 52  ┆ 53  ┆ 54  ┆ 55  ┆ 56  ┆ 57  ┆ 58  ┆ 59  ┆ 60  ┆ 61  ┆ 62  ┆ 63  ┆ 64  ┆ 65  ┆ 66  ┆ 67  ┆ 68  ┆ 69  ┆ 70  ┆ 71  ┆ 72  ┆ 73  ┆ 74  ┆ 75  ┆ 76  ┆ 77  ┆ 78  ┆ 79  ┆ 80  ┆ 81  ┆ 82  ┆ 83  ┆ 84  ┆ 85  ┆ 86  ┆ 87  ┆ 88  ┆ 89  ┆ 90  ┆ 91  ┆ 92  ┆ 93  ┆ 94  ┆ 95  ┆ 96  ┆ 97  ┆ 98  ┆ 99  ┆ 100 ┆ 101 ┆ 102 ┆ 103 ┆ 104 ┆ 105 ┆ 106 ┆ 107 ┆ 108 ┆ 109 ┆ 110 ┆ 111 ┆ 112 ┆ 113 ┆ 114 ┆ 115 ┆ 116 ┆ 117 ┆ 118 ┆ 119 ┆ 120 ┆ 121 ┆ 122 ┆ 123 ┆ 124 ┆ 125 ┆ 126 ┆ 127 ┆ 128 ┆ 129 ┆ 130 ┆ 131 ┆ 132 ┆ 133 ┆ 134 ┆ 135 ┆ 136 ┆ 137 ┆ 138 ┆ 139 ┆ 140 ┆ 141 ┆ 142 ┆ 143 ┆ 144 ┆ 145 ┆ 146 ┆ 147 ┆ 148 ┆ 149 ┆ 150 ┆ 151 ┆ 152 ┆ 153 ┆ 154 ┆ 155 ┆ 156 ┆ 157 ┆ 158 ┆ 159 ┆ 160 ┆ 161 ┆ 162 ┆ 163 ┆ 164 ┆ 165 ┆ 166 ┆ 167 ┆ 168 ┆ 169 ┆ 170 ┆ 171 ┆ 172 ┆ 173 ┆ 174 ┆ 175 ┆ 176 ┆ 177 ┆ 178 ┆ 179 ┆ 180 ┆ 181 ┆ 182 ┆ 183 ┆ 184 ┆ 185 ┆ 186 ┆ 187 ┆ 188 ┆ 189 ┆ 190 ┆ 191 ┆ 192 ┆ 193 ┆ 194 ┆ 195 ┆ 196 ┆ 197 ┆ 198 ┆ 199 ┆ 200 ┆ 201 ┆ 202 ┆ 203 ┆ 204 ┆ 205 ┆ 206 ┆ 207 ┆ 208 ┆ 209 ┆ 210 ┆ 211 ┆ 212 ┆ 213 ┆ 214 ┆ 215 ┆ 216 ┆ 217 ┆ 218 ┆ 219 ┆ 220 ┆ 221 ┆ 222 ┆ 223 ┆ 224 ┆ 225 ┆ 226 ┆ 227 ┆ 228 ┆ 229 ┆ 230 ┆ 231 ┆ 232 ┆ 233 ┆ 234 ┆ 235 ┆ 236 ┆ 237 ┆ 238 ┆ 239 ┆ 240 ┆ 241 ┆ 242 ┆ 243 ┆ 244 ┆ 245 ┆ 246 ┆ 247 ┆ 248 ┆ 249 ┆ 250 ┆ 251 ┆ 252 ┆ 253 ┆ 254 ┆ 255 ┆ 256 ┆ 257 ┆ 258 ┆ 259 ┆ 260 ┆ 261 ┆ 262 ┆ 263 ┆ 264 ┆ 265 ┆ 266 ┆ 267 ┆ 268 ┆ 269 ┆ 270 ┆ 271 ┆ 272 ┆ 273 ┆ 274 ┆ 275 ┆ 276 ┆ 277 ┆ 278 ┆ 279 ┆ 280 ┆ 281 ┆ 282 ┆ 283 ┆ 284 ┆ 285 ┆ 286 ┆ 287 ┆ 288 ┆ 289 ┆ 290 ┆ 291 ┆ 292 ┆ 293 ┆ 294 ┆ 295 ┆ 296 ┆ 297 ┆ 298 ┆ 299 ┆ d_0 ┆ d_1 ┆ d_2 ┆ d_3 ┆ d_4 ┆ d_5 ┆ d_6 ┆ d_7 ┆ d_8 ┆ d_9 ┆ u8  ┆ --- ┆ u8  ┆ u8  ┆ en  ┆ ssi ┆ rts ┆ bui ┆ lva ┆ tom ┆ her ┆     ┆     ┆ f64 ┆ f64 ┆ f64 ┆ f64 ┆ f64 ┆ f64 ┆ f64 ┆ f64 ┆ f64 ┆ f64 ┆ _0  ┆ _1  ┆ _2  ┆ _3  ┆ _4  ┆ _5  ┆ _6  ┆ _7  ┆ _8  ┆ _9  ┆ f64 ┆ f64 ┆ f64 ┆ f64 ┆ f64 ┆ f64 ┆ f64 ┆ f64 ┆ f64 ┆ f64 │\n",
       "│     ┆     ┆     ┆ al  ┆     ┆     ┆ --- ┆     ┆     ┆     ┆     ┆ i8  ┆ --- ┆ f32 ┆     ┆ --- ┆ --- ┆     ┆     ┆     ┆ --- ┆     ┆ --- ┆ u32 ┆     ┆ --- ┆ --- ┆     ┆     ┆     ┆ --- ┆     ┆ f32 ┆ f32 ┆ _f  ┆ pri ┆ yea ┆ odo ┆ bas ┆ bas ┆ bas ┆ yea ┆ odo ┆ odo ┆ odo ┆ _me ┆ f64 ┆ _me ┆ _me ┆ --- ┆ f64 ┆ mea ┆ --- ┆ ice ┆ man ┆ tur ┆ ctu ┆ anu ┆ pe_ ┆     ┆     ┆ ean ┆ td  ┆ ax  ┆ in  ┆ iff ┆ ter ┆ ter ┆ ter ┆ ter ┆ ter ┆ --- ┆ --- ┆ --- ┆ --- ┆ --- ┆ _me ┆ _st ┆ _ma ┆ _mi ┆ _di ┆ --- ┆ --- ┆ --- ┆ --- ┆ --- ┆ _me ┆ _st ┆ _ma ┆ _mi ┆ _di ┆ f64 ┆     ┆     ┆     ┆ i64 ┆ --- ┆ --- ┆ --- ┆ --- ┆ --- ┆ f64 ┆ f64 ┆ i64 ┆ i64 ┆ i64 ┆ n   ┆ --- ┆ --- ┆ --- ┆ f   ┆ f64 ┆     ┆     ┆     ┆ f64 ┆ --- ┆ --- ┆ --- ┆ --- ┆ --- ┆     ┆     ┆     ┆     ┆     ┆     ┆     ┆     ┆     ┆     ┆     ┆     ┆     ┆     ┆     ┆     ┆     ┆     ┆     ┆     ┆     ┆     ┆     ┆     ┆     ┆     ┆     ┆     ┆     ┆     ┆     ┆     ┆     ┆     ┆     ┆     ┆     ┆     ┆     ┆     ┆     ┆     ┆     ┆     ┆     ┆     ┆     ┆     ┆     ┆     ┆     ┆     ┆     ┆     ┆     ┆     ┆     ┆     ┆     ┆     ┆     ┆     ┆     ┆     ┆     ┆     ┆     ┆     ┆     ┆     ┆     ┆     ┆     ┆     ┆     ┆     ┆     ┆     ┆     ┆     ┆     ┆     ┆     ┆     ┆     ┆     ┆     ┆     ┆     ┆     ┆     ┆     ┆     ┆     ┆     ┆     ┆     ┆     ┆     ┆     ┆     ┆     ┆     ┆     ┆     ┆     ┆     ┆     ┆     ┆     ┆     ┆     ┆     ┆     ┆     ┆     ┆     ┆     ┆     ┆     ┆     ┆     ┆     ┆     ┆     ┆     ┆     ┆     ┆     ┆     ┆     ┆     ┆     ┆     ┆     ┆     ┆     ┆     ┆     ┆     ┆     ┆     ┆     ┆     ┆     ┆     ┆     ┆     ┆     ┆     ┆     ┆     ┆     ┆     ┆     ┆     ┆     ┆     ┆     ┆     ┆     ┆     ┆     ┆     ┆     ┆     ┆     ┆     ┆     ┆     ┆     ┆     ┆     ┆     ┆     ┆     ┆     ┆     ┆     ┆     ┆     ┆     ┆     ┆     ┆     ┆     ┆     ┆     ┆     ┆     ┆     ┆     ┆     ┆     ┆     ┆     ┆     ┆     ┆     ┆     ┆     ┆     ┆     ┆     ┆     ┆     ┆     ┆     ┆     ┆     ┆     ┆     ┆     ┆     ┆     ┆     ┆     ┆     ┆     ┆     ┆     ┆     ┆     ┆     ┆     ┆     ┆     ┆     ┆     ┆     ┆     ┆     ┆     ┆     ┆     ┆     ┆     ┆     ┆     ┆     ┆     ┆     ┆     ┆     ┆     ┆     ┆     ┆     ┆     ┆     ┆     ┆     ┆     ┆     ┆     ┆     ┆     ┆     ┆     ┆     ┆     ┆     ┆     ┆     ┆     ┆     ┆     ┆     ┆     ┆     ┆     ┆     ┆     ┆     ┆     ┆     ┆     ┆     ┆     ┆     ┆     ┆     ┆     ┆     ┆     ┆     ┆     ┆     ┆     ┆     ┆     ┆     ┆     ┆     ┆     ┆     ┆     ┆     ┆     ┆     ┆ f64 ┆     ┆ m2  ┆ n   ┆ --- ┆ --- ┆ --- ┆ --- ┆ --- ┆ --- ┆ --- ┆ --- ┆ --- ┆ --- ┆ --- ┆ --- ┆ --- ┆ --- ┆ --- ┆ --- ┆ --- ┆ --- ┆ --- ┆ --- ┆ --- ┆ --- ┆ --- ┆ --- ┆ --- ┆ --- ┆ --- ┆ --- ┆ --- ┆ --- ┆ --- ┆ --- ┆ --- ┆ --- ┆ --- ┆ --- ┆ --- ┆ --- ┆ --- ┆ --- ┆ --- ┆ --- ┆ --- ┆ --- ┆ --- ┆ --- ┆ --- ┆ --- ┆ --- ┆ --- ┆ --- ┆ --- ┆ --- ┆ --- ┆ --- ┆ --- ┆ --- ┆ --- ┆ --- ┆ --- ┆ --- ┆ --- ┆ --- ┆ --- ┆ --- ┆ --- ┆ --- ┆ --- ┆ --- ┆ --- ┆ --- ┆ --- ┆ --- ┆ --- ┆ --- ┆ --- ┆ --- ┆ --- ┆ --- ┆ --- ┆ --- ┆ --- ┆ --- ┆ --- ┆ --- ┆ --- ┆ --- ┆ --- ┆ --- ┆ --- ┆ --- ┆ --- ┆ --- ┆ --- ┆ --- ┆ --- ┆ --- ┆ --- ┆ --- ┆ --- ┆ --- ┆ --- ┆ --- ┆ --- ┆ --- ┆ --- ┆ --- ┆ --- ┆ --- ┆ --- ┆ --- ┆ --- ┆ --- ┆ --- ┆ --- ┆ --- ┆ --- ┆ --- ┆ --- ┆ --- ┆ --- ┆ --- ┆ --- ┆ --- ┆ --- ┆ --- ┆ --- ┆ --- ┆ --- ┆ --- ┆ --- ┆ --- ┆ --- ┆ --- ┆ --- ┆ --- ┆ --- ┆ --- ┆ --- ┆ --- ┆ --- ┆ --- ┆ --- ┆ --- ┆ --- ┆ --- ┆ --- ┆ --- ┆ --- ┆ --- ┆ --- ┆ --- ┆ --- ┆ --- ┆ --- ┆ --- ┆ --- ┆ --- ┆ --- ┆ --- ┆ --- ┆ --- ┆ --- ┆ --- ┆ --- ┆ --- ┆ --- ┆ --- ┆ --- ┆ --- ┆ --- ┆ --- ┆ --- ┆ --- ┆ --- ┆ --- ┆ --- ┆ --- ┆ --- ┆ --- ┆ --- ┆ --- ┆ --- ┆ --- ┆ --- ┆ --- ┆ --- ┆ --- ┆ --- ┆ --- ┆ --- ┆ --- ┆ --- ┆ --- ┆ --- ┆ --- ┆ --- ┆ --- ┆ --- ┆ --- ┆ --- ┆ --- ┆ --- ┆ --- ┆ --- ┆ --- ┆ --- ┆ --- ┆ --- ┆ --- ┆ --- ┆ --- ┆ --- ┆ --- ┆ --- ┆ --- ┆ --- ┆ --- ┆ --- ┆ --- ┆ --- ┆ --- ┆ --- ┆ --- ┆ --- ┆ --- ┆ --- ┆ --- ┆ --- ┆ --- ┆ --- ┆ --- ┆ --- ┆ --- ┆ --- ┆ --- ┆ --- ┆ --- ┆ --- ┆ --- ┆ --- ┆ --- ┆ --- ┆ --- ┆ --- ┆ --- ┆ --- ┆ --- ┆ --- ┆ --- ┆ --- ┆ --- ┆ --- ┆ --- ┆ --- ┆ --- ┆ --- ┆ --- ┆ --- ┆ --- ┆ --- ┆ --- ┆ --- ┆ --- ┆ --- ┆ --- ┆ --- ┆ --- ┆ --- ┆ --- ┆ --- ┆ --- ┆ --- ┆ --- ┆ --- ┆ --- ┆ --- ┆ --- ┆ --- ┆ --- ┆ --- ┆ --- ┆ --- ┆ --- ┆ --- ┆ --- ┆ --- ┆ --- ┆ --- ┆ --- ┆ --- ┆ --- ┆ --- ┆ --- ┆ --- ┆ --- ┆ --- ┆ --- ┆ --- ┆ --- ┆ --- ┆ --- ┆ --- ┆ --- ┆ --- ┆ --- ┆ --- ┆ --- ┆ --- ┆ --- ┆     ┆ u8  ┆     ┆     ┆ --- ┆ ng  ┆ onl ┆ lt  ┆ ge  ┆ ati ┆ --- ┆     ┆     ┆     ┆     ┆     ┆     ┆     ┆     ┆     ┆     ┆     ┆     ┆ --- ┆ --- ┆ --- ┆ --- ┆ --- ┆ --- ┆ --- ┆ --- ┆ --- ┆ --- ┆     ┆     ┆     ┆     ┆     ┆     ┆     ┆     ┆     ┆     │\n",
       "│     ┆     ┆     ┆ --- ┆     ┆     ┆ f64 ┆     ┆     ┆     ┆     ┆     ┆ f32 ┆     ┆     ┆ f32 ┆ f32 ┆     ┆     ┆     ┆ f32 ┆     ┆ u32 ┆     ┆     ┆ u32 ┆ u32 ┆     ┆     ┆     ┆ u32 ┆     ┆     ┆     ┆ --- ┆ ce  ┆ r   ┆ met ┆ e_p ┆ e_y ┆ e_o ┆ r_d ┆ met ┆ met ┆ met ┆ an  ┆     ┆ an  ┆ an  ┆ f64 ┆     ┆ n   ┆ f64 ┆ _me ┆ ufa ┆ er_ ┆ rer ┆ fac ┆ man ┆     ┆     ┆ --- ┆ --- ┆ --- ┆ --- ┆ --- ┆ _me ┆ _st ┆ _ma ┆ _mi ┆ _di ┆ f64 ┆ f64 ┆ i64 ┆ i64 ┆ i64 ┆ an  ┆ d   ┆ x   ┆ n   ┆ ff  ┆ f64 ┆ f64 ┆ i64 ┆ i64 ┆ i64 ┆ an  ┆ d   ┆ x   ┆ n   ┆ ff  ┆     ┆     ┆     ┆     ┆     ┆ f64 ┆ f64 ┆ f64 ┆ f64 ┆ f64 ┆     ┆     ┆     ┆     ┆     ┆ --- ┆ f64 ┆ f64 ┆ f64 ┆ --- ┆     ┆     ┆     ┆     ┆     ┆ f64 ┆ f64 ┆ f64 ┆ f64 ┆ f64 ┆     ┆     ┆     ┆     ┆     ┆     ┆     ┆     ┆     ┆     ┆     ┆     ┆     ┆     ┆     ┆     ┆     ┆     ┆     ┆     ┆     ┆     ┆     ┆     ┆     ┆     ┆     ┆     ┆     ┆     ┆     ┆     ┆     ┆     ┆     ┆     ┆     ┆     ┆     ┆     ┆     ┆     ┆     ┆     ┆     ┆     ┆     ┆     ┆     ┆     ┆     ┆     ┆     ┆     ┆     ┆     ┆     ┆     ┆     ┆     ┆     ┆     ┆     ┆     ┆     ┆     ┆     ┆     ┆     ┆     ┆     ┆     ┆     ┆     ┆     ┆     ┆     ┆     ┆     ┆     ┆     ┆     ┆     ┆     ┆     ┆     ┆     ┆     ┆     ┆     ┆     ┆     ┆     ┆     ┆     ┆     ┆     ┆     ┆     ┆     ┆     ┆     ┆     ┆     ┆     ┆     ┆     ┆     ┆     ┆     ┆     ┆     ┆     ┆     ┆     ┆     ┆     ┆     ┆     ┆     ┆     ┆     ┆     ┆     ┆     ┆     ┆     ┆     ┆     ┆     ┆     ┆     ┆     ┆     ┆     ┆     ┆     ┆     ┆     ┆     ┆     ┆     ┆     ┆     ┆     ┆     ┆     ┆     ┆     ┆     ┆     ┆     ┆     ┆     ┆     ┆     ┆     ┆     ┆     ┆     ┆     ┆     ┆     ┆     ┆     ┆     ┆     ┆     ┆     ┆     ┆     ┆     ┆     ┆     ┆     ┆     ┆     ┆     ┆     ┆     ┆     ┆     ┆     ┆     ┆     ┆     ┆     ┆     ┆     ┆     ┆     ┆     ┆     ┆     ┆     ┆     ┆     ┆     ┆     ┆     ┆     ┆     ┆     ┆     ┆     ┆     ┆     ┆     ┆     ┆     ┆     ┆     ┆     ┆     ┆     ┆     ┆     ┆     ┆     ┆     ┆     ┆     ┆     ┆     ┆     ┆     ┆     ┆     ┆     ┆     ┆     ┆     ┆     ┆     ┆     ┆     ┆     ┆     ┆     ┆     ┆     ┆     ┆     ┆     ┆     ┆     ┆     ┆     ┆     ┆     ┆     ┆     ┆     ┆     ┆     ┆     ┆     ┆     ┆     ┆     ┆     ┆     ┆     ┆     ┆     ┆     ┆     ┆     ┆     ┆     ┆     ┆     ┆     ┆     ┆     ┆     ┆     ┆     ┆     ┆     ┆     ┆     ┆     ┆     ┆     ┆     ┆     ┆     ┆     ┆     ┆     ┆     ┆     ┆     ┆     ┆     ┆     ┆     ┆     ┆     ┆     ┆     ┆ --- ┆ --- ┆ f64 ┆ f64 ┆ f64 ┆ f64 ┆ f64 ┆ f64 ┆ f64 ┆ f64 ┆ f64 ┆ f64 ┆ f64 ┆ f64 ┆ f64 ┆ f64 ┆ f64 ┆ f64 ┆ f64 ┆ f64 ┆ f64 ┆ f64 ┆ f64 ┆ f64 ┆ f64 ┆ f64 ┆ f64 ┆ f64 ┆ f64 ┆ f64 ┆ f64 ┆ f64 ┆ f64 ┆ f64 ┆ f64 ┆ f64 ┆ f64 ┆ f64 ┆ f64 ┆ f64 ┆ f64 ┆ f64 ┆ f64 ┆ f64 ┆ f64 ┆ f64 ┆ f64 ┆ f64 ┆ f64 ┆ f64 ┆ f64 ┆ f64 ┆ f64 ┆ f64 ┆ f64 ┆ f64 ┆ f64 ┆ f64 ┆ f64 ┆ f64 ┆ f64 ┆ f64 ┆ f64 ┆ f64 ┆ f64 ┆ f64 ┆ f64 ┆ f64 ┆ f64 ┆ f64 ┆ f64 ┆ f64 ┆ f64 ┆ f64 ┆ f64 ┆ f64 ┆ f64 ┆ f64 ┆ f64 ┆ f64 ┆ f64 ┆ f64 ┆ f64 ┆ f64 ┆ f64 ┆ f64 ┆ f64 ┆ f64 ┆ f64 ┆ f64 ┆ f64 ┆ f64 ┆ f64 ┆ f64 ┆ f64 ┆ f64 ┆ f64 ┆ f64 ┆ f64 ┆ f64 ┆ f64 ┆ f64 ┆ f64 ┆ f64 ┆ f64 ┆ f64 ┆ f64 ┆ f64 ┆ f64 ┆ f64 ┆ f64 ┆ f64 ┆ f64 ┆ f64 ┆ f64 ┆ f64 ┆ f64 ┆ f64 ┆ f64 ┆ f64 ┆ f64 ┆ f64 ┆ f64 ┆ f64 ┆ f64 ┆ f64 ┆ f64 ┆ f64 ┆ f64 ┆ f64 ┆ f64 ┆ f64 ┆ f64 ┆ f64 ┆ f64 ┆ f64 ┆ f64 ┆ f64 ┆ f64 ┆ f64 ┆ f64 ┆ f64 ┆ f64 ┆ f64 ┆ f64 ┆ f64 ┆ f64 ┆ f64 ┆ f64 ┆ f64 ┆ f64 ┆ f64 ┆ f64 ┆ f64 ┆ f64 ┆ f64 ┆ f64 ┆ f64 ┆ f64 ┆ f64 ┆ f64 ┆ f64 ┆ f64 ┆ f64 ┆ f64 ┆ f64 ┆ f64 ┆ f64 ┆ f64 ┆ f64 ┆ f64 ┆ f64 ┆ f64 ┆ f64 ┆ f64 ┆ f64 ┆ f64 ┆ f64 ┆ f64 ┆ f64 ┆ f64 ┆ f64 ┆ f64 ┆ f64 ┆ f64 ┆ f64 ┆ f64 ┆ f64 ┆ f64 ┆ f64 ┆ f64 ┆ f64 ┆ f64 ┆ f64 ┆ f64 ┆ f64 ┆ f64 ┆ f64 ┆ f64 ┆ f64 ┆ f64 ┆ f64 ┆ f64 ┆ f64 ┆ f64 ┆ f64 ┆ f64 ┆ f64 ┆ f64 ┆ f64 ┆ f64 ┆ f64 ┆ f64 ┆ f64 ┆ f64 ┆ f64 ┆ f64 ┆ f64 ┆ f64 ┆ f64 ┆ f64 ┆ f64 ┆ f64 ┆ f64 ┆ f64 ┆ f64 ┆ f64 ┆ f64 ┆ f64 ┆ f64 ┆ f64 ┆ f64 ┆ f64 ┆ f64 ┆ f64 ┆ f64 ┆ f64 ┆ f64 ┆ f64 ┆ f64 ┆ f64 ┆ f64 ┆ f64 ┆ f64 ┆ f64 ┆ f64 ┆ f64 ┆ f64 ┆ f64 ┆ f64 ┆ f64 ┆ f64 ┆ f64 ┆ f64 ┆ f64 ┆ f64 ┆ f64 ┆ f64 ┆ f64 ┆ f64 ┆ f64 ┆ f64 ┆ f64 ┆ f64 ┆ f64 ┆ f64 ┆ f64 ┆ f64 ┆ f64 ┆ f64 ┆ f64 ┆ f64 ┆ f64 ┆ f64 ┆ f64 ┆ f64 ┆ f64 ┆ f64 ┆ f64 ┆ f64 ┆ f64 ┆ f64 ┆ f64 ┆ f64 ┆ f64 ┆ f64 ┆ f64 ┆ f64 ┆ f64 ┆ f64 ┆ f64 ┆ f64 ┆ f64 ┆ f64 ┆ f64 ┆ f64 ┆ f64 ┆ f64 ┆ f64 ┆ f64 ┆ f64 ┆ f64 ┆ f64 ┆ f64 ┆ f64 ┆ f64 ┆ f64 ┆ f64 ┆ f64 ┆ f64 ┆ f64 ┆ f64 ┆     ┆     ┆     ┆     ┆ u8  ┆ --- ┆ y   ┆ --- ┆ --- ┆ c   ┆ u8  ┆     ┆     ┆     ┆     ┆     ┆     ┆     ┆     ┆     ┆     ┆     ┆     ┆ f64 ┆ f64 ┆ f64 ┆ f64 ┆ f64 ┆ f64 ┆ f64 ┆ f64 ┆ f64 ┆ f64 ┆     ┆     ┆     ┆     ┆     ┆     ┆     ┆     ┆     ┆     │\n",
       "│     ┆     ┆     ┆ f64 ┆     ┆     ┆     ┆     ┆     ┆     ┆     ┆     ┆     ┆     ┆     ┆     ┆     ┆     ┆     ┆     ┆     ┆     ┆     ┆     ┆     ┆     ┆     ┆     ┆     ┆     ┆     ┆     ┆     ┆     ┆ f32 ┆ --- ┆ --- ┆ er_ ┆ ric ┆ ear ┆ dom ┆ iff ┆ er_ ┆ er/ ┆ er/ ┆ --- ┆     ┆ --- ┆ --- ┆     ┆     ┆ --- ┆     ┆ an  ┆ ctu ┆ pri ┆ _pr ┆ tur ┆ ufa ┆     ┆     ┆ f64 ┆ f64 ┆ i64 ┆ i64 ┆ f64 ┆ an  ┆ d   ┆ x   ┆ n   ┆ ff  ┆     ┆     ┆     ┆     ┆     ┆ --- ┆ --- ┆ --- ┆ --- ┆ --- ┆     ┆     ┆     ┆     ┆     ┆ --- ┆ --- ┆ --- ┆ --- ┆ --- ┆     ┆     ┆     ┆     ┆     ┆     ┆     ┆     ┆     ┆     ┆     ┆     ┆     ┆     ┆     ┆ f64 ┆     ┆     ┆     ┆ f64 ┆     ┆     ┆     ┆     ┆     ┆     ┆     ┆     ┆     ┆     ┆     ┆     ┆     ┆     ┆     ┆     ┆     ┆     ┆     ┆     ┆     ┆     ┆     ┆     ┆     ┆     ┆     ┆     ┆     ┆     ┆     ┆     ┆     ┆     ┆     ┆     ┆     ┆     ┆     ┆     ┆     ┆     ┆     ┆     ┆     ┆     ┆     ┆     ┆     ┆     ┆     ┆     ┆     ┆     ┆     ┆     ┆     ┆     ┆     ┆     ┆     ┆     ┆     ┆     ┆     ┆     ┆     ┆     ┆     ┆     ┆     ┆     ┆     ┆     ┆     ┆     ┆     ┆     ┆     ┆     ┆     ┆     ┆     ┆     ┆     ┆     ┆     ┆     ┆     ┆     ┆     ┆     ┆     ┆     ┆     ┆     ┆     ┆     ┆     ┆     ┆     ┆     ┆     ┆     ┆     ┆     ┆     ┆     ┆     ┆     ┆     ┆     ┆     ┆     ┆     ┆     ┆     ┆     ┆     ┆     ┆     ┆     ┆     ┆     ┆     ┆     ┆     ┆     ┆     ┆     ┆     ┆     ┆     ┆     ┆     ┆     ┆     ┆     ┆     ┆     ┆     ┆     ┆     ┆     ┆     ┆     ┆     ┆     ┆     ┆     ┆     ┆     ┆     ┆     ┆     ┆     ┆     ┆     ┆     ┆     ┆     ┆     ┆     ┆     ┆     ┆     ┆     ┆     ┆     ┆     ┆     ┆     ┆     ┆     ┆     ┆     ┆     ┆     ┆     ┆     ┆     ┆     ┆     ┆     ┆     ┆     ┆     ┆     ┆     ┆     ┆     ┆     ┆     ┆     ┆     ┆     ┆     ┆     ┆     ┆     ┆     ┆     ┆     ┆     ┆     ┆     ┆     ┆     ┆     ┆     ┆     ┆     ┆     ┆     ┆     ┆     ┆     ┆     ┆     ┆     ┆     ┆     ┆     ┆     ┆     ┆     ┆     ┆     ┆     ┆     ┆     ┆     ┆     ┆     ┆     ┆     ┆     ┆     ┆     ┆     ┆     ┆     ┆     ┆     ┆     ┆     ┆     ┆     ┆     ┆     ┆     ┆     ┆     ┆     ┆     ┆     ┆     ┆     ┆     ┆     ┆     ┆     ┆     ┆     ┆     ┆     ┆     ┆     ┆     ┆     ┆     ┆     ┆     ┆     ┆     ┆     ┆     ┆     ┆     ┆     ┆     ┆     ┆     ┆     ┆     ┆     ┆     ┆     ┆     ┆     ┆     ┆     ┆     ┆     ┆     ┆     ┆     ┆     ┆     ┆     ┆     ┆     ┆     ┆     ┆     ┆     ┆     ┆     ┆     ┆     ┆     ┆     ┆ f64 ┆ f64 ┆     ┆     ┆     ┆     ┆     ┆     ┆     ┆     ┆     ┆     ┆     ┆     ┆     ┆     ┆     ┆     ┆     ┆     ┆     ┆     ┆     ┆     ┆     ┆     ┆     ┆     ┆     ┆     ┆     ┆     ┆     ┆     ┆     ┆     ┆     ┆     ┆     ┆     ┆     ┆     ┆     ┆     ┆     ┆     ┆     ┆     ┆     ┆     ┆     ┆     ┆     ┆     ┆     ┆     ┆     ┆     ┆     ┆     ┆     ┆     ┆     ┆     ┆     ┆     ┆     ┆     ┆     ┆     ┆     ┆     ┆     ┆     ┆     ┆     ┆     ┆     ┆     ┆     ┆     ┆     ┆     ┆     ┆     ┆     ┆     ┆     ┆     ┆     ┆     ┆     ┆     ┆     ┆     ┆     ┆     ┆     ┆     ┆     ┆     ┆     ┆     ┆     ┆     ┆     ┆     ┆     ┆     ┆     ┆     ┆     ┆     ┆     ┆     ┆     ┆     ┆     ┆     ┆     ┆     ┆     ┆     ┆     ┆     ┆     ┆     ┆     ┆     ┆     ┆     ┆     ┆     ┆     ┆     ┆     ┆     ┆     ┆     ┆     ┆     ┆     ┆     ┆     ┆     ┆     ┆     ┆     ┆     ┆     ┆     ┆     ┆     ┆     ┆     ┆     ┆     ┆     ┆     ┆     ┆     ┆     ┆     ┆     ┆     ┆     ┆     ┆     ┆     ┆     ┆     ┆     ┆     ┆     ┆     ┆     ┆     ┆     ┆     ┆     ┆     ┆     ┆     ┆     ┆     ┆     ┆     ┆     ┆     ┆     ┆     ┆     ┆     ┆     ┆     ┆     ┆     ┆     ┆     ┆     ┆     ┆     ┆     ┆     ┆     ┆     ┆     ┆     ┆     ┆     ┆     ┆     ┆     ┆     ┆     ┆     ┆     ┆     ┆     ┆     ┆     ┆     ┆     ┆     ┆     ┆     ┆     ┆     ┆     ┆     ┆     ┆     ┆     ┆     ┆     ┆     ┆     ┆     ┆     ┆     ┆     ┆     ┆     ┆     ┆     ┆     ┆     ┆     ┆     ┆     ┆     ┆     ┆     ┆     ┆     ┆     ┆     ┆     ┆     ┆     ┆     ┆     ┆     ┆     ┆     ┆     ┆     ┆     ┆     ┆     ┆     ┆     ┆     ┆     ┆     ┆     ┆     ┆     ┆     ┆     ┆     ┆     ┆     ┆     ┆     ┆     ┆     ┆     ┆     ┆     ┆     ┆     ┆     ┆     ┆     ┆     ┆     ┆     ┆     ┆     ┆     ┆     ┆     ┆     ┆     ┆     ┆     ┆     ┆     ┆     ┆     ┆     ┆     ┆     ┆     ┆     ┆     ┆ u8  ┆ --- ┆ u8  ┆ u8  ┆ --- ┆     ┆     ┆     ┆     ┆     ┆     ┆     ┆     ┆     ┆     ┆     ┆     ┆     ┆     ┆     ┆     ┆     ┆     ┆     ┆     ┆     ┆     ┆     ┆     ┆     ┆     ┆     ┆     ┆     ┆     ┆     ┆     ┆     │\n",
       "│     ┆     ┆     ┆     ┆     ┆     ┆     ┆     ┆     ┆     ┆     ┆     ┆     ┆     ┆     ┆     ┆     ┆     ┆     ┆     ┆     ┆     ┆     ┆     ┆     ┆     ┆     ┆     ┆     ┆     ┆     ┆     ┆     ┆     ┆     ┆ f32 ┆ f32 ┆ f   ┆ e   ┆ --- ┆ ete ┆ --- ┆ dif ┆ age ┆ age ┆ f64 ┆     ┆ f64 ┆ f64 ┆     ┆     ┆ f64 ┆     ┆ --- ┆ rer ┆ ce_ ┆ ice ┆ er_ ┆ ctu ┆     ┆     ┆     ┆     ┆     ┆     ┆     ┆ --- ┆ --- ┆ --- ┆ --- ┆ --- ┆     ┆     ┆     ┆     ┆     ┆ f64 ┆ f64 ┆ f64 ┆ f64 ┆ f64 ┆     ┆     ┆     ┆     ┆     ┆ f64 ┆ f64 ┆ f64 ┆ f64 ┆ f64 ┆     ┆     ┆     ┆     ┆     ┆     ┆     ┆     ┆     ┆     ┆     ┆     ┆     ┆     ┆     ┆     ┆     ┆     ┆     ┆     ┆     ┆     ┆     ┆     ┆     ┆     ┆     ┆     ┆     ┆     ┆     ┆     ┆     ┆     ┆     ┆     ┆     ┆     ┆     ┆     ┆     ┆     ┆     ┆     ┆     ┆     ┆     ┆     ┆     ┆     ┆     ┆     ┆     ┆     ┆     ┆     ┆     ┆     ┆     ┆     ┆     ┆     ┆     ┆     ┆     ┆     ┆     ┆     ┆     ┆     ┆     ┆     ┆     ┆     ┆     ┆     ┆     ┆     ┆     ┆     ┆     ┆     ┆     ┆     ┆     ┆     ┆     ┆     ┆     ┆     ┆     ┆     ┆     ┆     ┆     ┆     ┆     ┆     ┆     ┆     ┆     ┆     ┆     ┆     ┆     ┆     ┆     ┆     ┆     ┆     ┆     ┆     ┆     ┆     ┆     ┆     ┆     ┆     ┆     ┆     ┆     ┆     ┆     ┆     ┆     ┆     ┆     ┆     ┆     ┆     ┆     ┆     ┆     ┆     ┆     ┆     ┆     ┆     ┆     ┆     ┆     ┆     ┆     ┆     ┆     ┆     ┆     ┆     ┆     ┆     ┆     ┆     ┆     ┆     ┆     ┆     ┆     ┆     ┆     ┆     ┆     ┆     ┆     ┆     ┆     ┆     ┆     ┆     ┆     ┆     ┆     ┆     ┆     ┆     ┆     ┆     ┆     ┆     ┆     ┆     ┆     ┆     ┆     ┆     ┆     ┆     ┆     ┆     ┆     ┆     ┆     ┆     ┆     ┆     ┆     ┆     ┆     ┆     ┆     ┆     ┆     ┆     ┆     ┆     ┆     ┆     ┆     ┆     ┆     ┆     ┆     ┆     ┆     ┆     ┆     ┆     ┆     ┆     ┆     ┆     ┆     ┆     ┆     ┆     ┆     ┆     ┆     ┆     ┆     ┆     ┆     ┆     ┆     ┆     ┆     ┆     ┆     ┆     ┆     ┆     ┆     ┆     ┆     ┆     ┆     ┆     ┆     ┆     ┆     ┆     ┆     ┆     ┆     ┆     ┆     ┆     ┆     ┆     ┆     ┆     ┆     ┆     ┆     ┆     ┆     ┆     ┆     ┆     ┆     ┆     ┆     ┆     ┆     ┆     ┆     ┆     ┆     ┆     ┆     ┆     ┆     ┆     ┆     ┆     ┆     ┆     ┆     ┆     ┆     ┆     ┆     ┆     ┆     ┆     ┆     ┆     ┆     ┆     ┆     ┆     ┆     ┆     ┆     ┆     ┆     ┆     ┆     ┆     ┆     ┆     ┆     ┆     ┆     ┆     ┆     ┆     ┆     ┆     ┆     ┆     ┆     ┆     ┆     ┆     ┆     ┆     ┆     ┆     ┆     ┆     ┆     ┆     ┆     ┆     ┆     ┆     ┆     ┆     ┆     ┆     ┆     ┆     ┆     ┆     ┆     ┆     ┆     ┆     ┆     ┆     ┆     ┆     ┆     ┆     ┆     ┆     ┆     ┆     ┆     ┆     ┆     ┆     ┆     ┆     ┆     ┆     ┆     ┆     ┆     ┆     ┆     ┆     ┆     ┆     ┆     ┆     ┆     ┆     ┆     ┆     ┆     ┆     ┆     ┆     ┆     ┆     ┆     ┆     ┆     ┆     ┆     ┆     ┆     ┆     ┆     ┆     ┆     ┆     ┆     ┆     ┆     ┆     ┆     ┆     ┆     ┆     ┆     ┆     ┆     ┆     ┆     ┆     ┆     ┆     ┆     ┆     ┆     ┆     ┆     ┆     ┆     ┆     ┆     ┆     ┆     ┆     ┆     ┆     ┆     ┆     ┆     ┆     ┆     ┆     ┆     ┆     ┆     ┆     ┆     ┆     ┆     ┆     ┆     ┆     ┆     ┆     ┆     ┆     ┆     ┆     ┆     ┆     ┆     ┆     ┆     ┆     ┆     ┆     ┆     ┆     ┆     ┆     ┆     ┆     ┆     ┆     ┆     ┆     ┆     ┆     ┆     ┆     ┆     ┆     ┆     ┆     ┆     ┆     ┆     ┆     ┆     ┆     ┆     ┆     ┆     ┆     ┆     ┆     ┆     ┆     ┆     ┆     ┆     ┆     ┆     ┆     ┆     ┆     ┆     ┆     ┆     ┆     ┆     ┆     ┆     ┆     ┆     ┆     ┆     ┆     ┆     ┆     ┆     ┆     ┆     ┆     ┆     ┆     ┆     ┆     ┆     ┆     ┆     ┆     ┆     ┆     ┆     ┆     ┆     ┆     ┆     ┆     ┆     ┆     ┆     ┆     ┆     ┆     ┆     ┆     ┆     ┆     ┆     ┆     ┆     ┆     ┆     ┆     ┆     ┆     ┆     ┆     ┆     ┆     ┆     ┆     ┆     ┆     ┆     ┆     ┆     ┆     ┆     ┆     ┆     ┆     ┆     ┆     ┆     ┆     ┆     ┆     ┆     ┆     ┆     ┆     ┆     ┆     ┆     ┆     ┆     ┆     ┆     ┆     ┆     ┆     ┆     ┆     ┆     ┆     ┆     ┆     ┆     ┆     ┆     ┆     ┆     ┆     ┆     ┆     ┆     ┆     ┆     ┆     ┆     ┆     ┆     ┆     ┆     ┆     ┆     ┆     ┆     ┆     ┆     ┆     ┆     ┆     ┆     ┆     ┆     ┆     ┆     ┆     ┆     ┆     ┆     ┆     ┆     ┆     ┆     ┆     ┆     ┆     ┆     ┆     ┆     ┆     ┆     ┆     ┆     ┆     ┆     ┆     ┆     ┆     ┆     ┆     ┆     ┆     ┆ u8  ┆     ┆     ┆ u8  ┆     ┆     ┆     ┆     ┆     ┆     ┆     ┆     ┆     ┆     ┆     ┆     ┆     ┆     ┆     ┆     ┆     ┆     ┆     ┆     ┆     ┆     ┆     ┆     ┆     ┆     ┆     ┆     ┆     ┆     ┆     ┆     ┆     │\n",
       "│     ┆     ┆     ┆     ┆     ┆     ┆     ┆     ┆     ┆     ┆     ┆     ┆     ┆     ┆     ┆     ┆     ┆     ┆     ┆     ┆     ┆     ┆     ┆     ┆     ┆     ┆     ┆     ┆     ┆     ┆     ┆     ┆     ┆     ┆     ┆     ┆     ┆ --- ┆ --- ┆ f32 ┆ r   ┆ f64 ┆ f   ┆ _b… ┆ _d… ┆     ┆     ┆     ┆     ┆     ┆     ┆     ┆     ┆ f64 ┆ _p… ┆ ra… ┆ _r… ┆ pr… ┆ re… ┆     ┆     ┆     ┆     ┆     ┆     ┆     ┆ f64 ┆ f64 ┆ f64 ┆ f64 ┆ f64 ┆     ┆     ┆     ┆     ┆     ┆     ┆     ┆     ┆     ┆     ┆     ┆     ┆     ┆     ┆     ┆     ┆     ┆     ┆     ┆     ┆     ┆     ┆     ┆     ┆     ┆     ┆     ┆     ┆     ┆     ┆     ┆     ┆     ┆     ┆     ┆     ┆     ┆     ┆     ┆     ┆     ┆     ┆     ┆     ┆     ┆     ┆     ┆     ┆     ┆     ┆     ┆     ┆     ┆     ┆     ┆     ┆     ┆     ┆     ┆     ┆     ┆     ┆     ┆     ┆     ┆     ┆     ┆     ┆     ┆     ┆     ┆     ┆     ┆     ┆     ┆     ┆     ┆     ┆     ┆     ┆     ┆     ┆     ┆     ┆     ┆     ┆     ┆     ┆     ┆     ┆     ┆     ┆     ┆     ┆     ┆     ┆     ┆     ┆     ┆     ┆     ┆     ┆     ┆     ┆     ┆     ┆     ┆     ┆     ┆     ┆     ┆     ┆     ┆     ┆     ┆     ┆     ┆     ┆     ┆     ┆     ┆     ┆     ┆     ┆     ┆     ┆     ┆     ┆     ┆     ┆     ┆     ┆     ┆     ┆     ┆     ┆     ┆     ┆     ┆     ┆     ┆     ┆     ┆     ┆     ┆     ┆     ┆     ┆     ┆     ┆     ┆     ┆     ┆     ┆     ┆     ┆     ┆     ┆     ┆     ┆     ┆     ┆     ┆     ┆     ┆     ┆     ┆     ┆     ┆     ┆     ┆     ┆     ┆     ┆     ┆     ┆     ┆     ┆     ┆     ┆     ┆     ┆     ┆     ┆     ┆     ┆     ┆     ┆     ┆     ┆     ┆     ┆     ┆     ┆     ┆     ┆     ┆     ┆     ┆     ┆     ┆     ┆     ┆     ┆     ┆     ┆     ┆     ┆     ┆     ┆     ┆     ┆     ┆     ┆     ┆     ┆     ┆     ┆     ┆     ┆     ┆     ┆     ┆     ┆     ┆     ┆     ┆     ┆     ┆     ┆     ┆     ┆     ┆     ┆     ┆     ┆     ┆     ┆     ┆     ┆     ┆     ┆     ┆     ┆     ┆     ┆     ┆     ┆     ┆     ┆     ┆     ┆     ┆     ┆     ┆     ┆     ┆     ┆     ┆     ┆     ┆     ┆     ┆     ┆     ┆     ┆     ┆     ┆     ┆     ┆     ┆     ┆     ┆     ┆     ┆     ┆     ┆     ┆     ┆     ┆     ┆     ┆     ┆     ┆     ┆     ┆     ┆     ┆     ┆     ┆     ┆     ┆     ┆     ┆     ┆     ┆     ┆     ┆     ┆     ┆     ┆     ┆     ┆     ┆     ┆     ┆     ┆     ┆     ┆     ┆     ┆     ┆     ┆     ┆     ┆     ┆     ┆     ┆     ┆     ┆     ┆     ┆     ┆     ┆     ┆     ┆     ┆     ┆     ┆     ┆     ┆     ┆     ┆     ┆     ┆     ┆     ┆     ┆     ┆     ┆     ┆     ┆     ┆     ┆     ┆     ┆     ┆     ┆     ┆     ┆     ┆     ┆     ┆     ┆     ┆     ┆     ┆     ┆     ┆     ┆     ┆     ┆     ┆     ┆     ┆     ┆     ┆     ┆     ┆     ┆     ┆     ┆     ┆     ┆     ┆     ┆     ┆     ┆     ┆     ┆     ┆     ┆     ┆     ┆     ┆     ┆     ┆     ┆     ┆     ┆     ┆     ┆     ┆     ┆     ┆     ┆     ┆     ┆     ┆     ┆     ┆     ┆     ┆     ┆     ┆     ┆     ┆     ┆     ┆     ┆     ┆     ┆     ┆     ┆     ┆     ┆     ┆     ┆     ┆     ┆     ┆     ┆     ┆     ┆     ┆     ┆     ┆     ┆     ┆     ┆     ┆     ┆     ┆     ┆     ┆     ┆     ┆     ┆     ┆     ┆     ┆     ┆     ┆     ┆     ┆     ┆     ┆     ┆     ┆     ┆     ┆     ┆     ┆     ┆     ┆     ┆     ┆     ┆     ┆     ┆     ┆     ┆     ┆     ┆     ┆     ┆     ┆     ┆     ┆     ┆     ┆     ┆     ┆     ┆     ┆     ┆     ┆     ┆     ┆     ┆     ┆     ┆     ┆     ┆     ┆     ┆     ┆     ┆     ┆     ┆     ┆     ┆     ┆     ┆     ┆     ┆     ┆     ┆     ┆     ┆     ┆     ┆     ┆     ┆     ┆     ┆     ┆     ┆     ┆     ┆     ┆     ┆     ┆     ┆     ┆     ┆     ┆     ┆     ┆     ┆     ┆     ┆     ┆     ┆     ┆     ┆     ┆     ┆     ┆     ┆     ┆     ┆     ┆     ┆     ┆     ┆     ┆     ┆     ┆     ┆     ┆     ┆     ┆     ┆     ┆     ┆     ┆     ┆     ┆     ┆     ┆     ┆     ┆     ┆     ┆     ┆     ┆     ┆     ┆     ┆     ┆     ┆     ┆     ┆     ┆     ┆     ┆     ┆     ┆     ┆     ┆     ┆     ┆     ┆     ┆     ┆     ┆     ┆     ┆     ┆     ┆     ┆     ┆     ┆     ┆     ┆     ┆     ┆     ┆     ┆     ┆     ┆     ┆     ┆     ┆     ┆     ┆     ┆     ┆     ┆     ┆     ┆     ┆     ┆     ┆     ┆     ┆     ┆     ┆     ┆     ┆     ┆     ┆     ┆     ┆     ┆     ┆     ┆     ┆     ┆     ┆     ┆     ┆     ┆     ┆     ┆     ┆     ┆     ┆     ┆     ┆     ┆     ┆     ┆     ┆     ┆     ┆     ┆     ┆     ┆     ┆     ┆     ┆     ┆     ┆     ┆     ┆     ┆     ┆     ┆     ┆     ┆     ┆     ┆     ┆     ┆     ┆     ┆     ┆     ┆     ┆     ┆     ┆     ┆     ┆     ┆     ┆     ┆     ┆     ┆     ┆     ┆     ┆     ┆     ┆     ┆     ┆     ┆     ┆     ┆     ┆     ┆     ┆     ┆     ┆     ┆     ┆     ┆     ┆     ┆     ┆     ┆     ┆     ┆     ┆     ┆     ┆     ┆     ┆     ┆     ┆     ┆     ┆     ┆     ┆     ┆     │\n",
       "│     ┆     ┆     ┆     ┆     ┆     ┆     ┆     ┆     ┆     ┆     ┆     ┆     ┆     ┆     ┆     ┆     ┆     ┆     ┆     ┆     ┆     ┆     ┆     ┆     ┆     ┆     ┆     ┆     ┆     ┆     ┆     ┆     ┆     ┆     ┆     ┆     ┆ f32 ┆ f32 ┆     ┆ --- ┆     ┆ --- ┆ --- ┆ --- ┆     ┆     ┆     ┆     ┆     ┆     ┆     ┆     ┆     ┆ --- ┆ --- ┆ --- ┆ --- ┆ --- ┆     ┆     ┆     ┆     ┆     ┆     ┆     ┆     ┆     ┆     ┆     ┆     ┆     ┆     ┆     ┆     ┆     ┆     ┆     ┆     ┆     ┆     ┆     ┆     ┆     ┆     ┆     ┆     ┆     ┆     ┆     ┆     ┆     ┆     ┆     ┆     ┆     ┆     ┆     ┆     ┆     ┆     ┆     ┆     ┆     ┆     ┆     ┆     ┆     ┆     ┆     ┆     ┆     ┆     ┆     ┆     ┆     ┆     ┆     ┆     ┆     ┆     ┆     ┆     ┆     ┆     ┆     ┆     ┆     ┆     ┆     ┆     ┆     ┆     ┆     ┆     ┆     ┆     ┆     ┆     ┆     ┆     ┆     ┆     ┆     ┆     ┆     ┆     ┆     ┆     ┆     ┆     ┆     ┆     ┆     ┆     ┆     ┆     ┆     ┆     ┆     ┆     ┆     ┆     ┆     ┆     ┆     ┆     ┆     ┆     ┆     ┆     ┆     ┆     ┆     ┆     ┆     ┆     ┆     ┆     ┆     ┆     ┆     ┆     ┆     ┆     ┆     ┆     ┆     ┆     ┆     ┆     ┆     ┆     ┆     ┆     ┆     ┆     ┆     ┆     ┆     ┆     ┆     ┆     ┆     ┆     ┆     ┆     ┆     ┆     ┆     ┆     ┆     ┆     ┆     ┆     ┆     ┆     ┆     ┆     ┆     ┆     ┆     ┆     ┆     ┆     ┆     ┆     ┆     ┆     ┆     ┆     ┆     ┆     ┆     ┆     ┆     ┆     ┆     ┆     ┆     ┆     ┆     ┆     ┆     ┆     ┆     ┆     ┆     ┆     ┆     ┆     ┆     ┆     ┆     ┆     ┆     ┆     ┆     ┆     ┆     ┆     ┆     ┆     ┆     ┆     ┆     ┆     ┆     ┆     ┆     ┆     ┆     ┆     ┆     ┆     ┆     ┆     ┆     ┆     ┆     ┆     ┆     ┆     ┆     ┆     ┆     ┆     ┆     ┆     ┆     ┆     ┆     ┆     ┆     ┆     ┆     ┆     ┆     ┆     ┆     ┆     ┆     ┆     ┆     ┆     ┆     ┆     ┆     ┆     ┆     ┆     ┆     ┆     ┆     ┆     ┆     ┆     ┆     ┆     ┆     ┆     ┆     ┆     ┆     ┆     ┆     ┆     ┆     ┆     ┆     ┆     ┆     ┆     ┆     ┆     ┆     ┆     ┆     ┆     ┆     ┆     ┆     ┆     ┆     ┆     ┆     ┆     ┆     ┆     ┆     ┆     ┆     ┆     ┆     ┆     ┆     ┆     ┆     ┆     ┆     ┆     ┆     ┆     ┆     ┆     ┆     ┆     ┆     ┆     ┆     ┆     ┆     ┆     ┆     ┆     ┆     ┆     ┆     ┆     ┆     ┆     ┆     ┆     ┆     ┆     ┆     ┆     ┆     ┆     ┆     ┆     ┆     ┆     ┆     ┆     ┆     ┆     ┆     ┆     ┆     ┆     ┆     ┆     ┆     ┆     ┆     ┆     ┆     ┆     ┆     ┆     ┆     ┆     ┆     ┆     ┆     ┆     ┆     ┆     ┆     ┆     ┆     ┆     ┆     ┆     ┆     ┆     ┆     ┆     ┆     ┆     ┆     ┆     ┆     ┆     ┆     ┆     ┆     ┆     ┆     ┆     ┆     ┆     ┆     ┆     ┆     ┆     ┆     ┆     ┆     ┆     ┆     ┆     ┆     ┆     ┆     ┆     ┆     ┆     ┆     ┆     ┆     ┆     ┆     ┆     ┆     ┆     ┆     ┆     ┆     ┆     ┆     ┆     ┆     ┆     ┆     ┆     ┆     ┆     ┆     ┆     ┆     ┆     ┆     ┆     ┆     ┆     ┆     ┆     ┆     ┆     ┆     ┆     ┆     ┆     ┆     ┆     ┆     ┆     ┆     ┆     ┆     ┆     ┆     ┆     ┆     ┆     ┆     ┆     ┆     ┆     ┆     ┆     ┆     ┆     ┆     ┆     ┆     ┆     ┆     ┆     ┆     ┆     ┆     ┆     ┆     ┆     ┆     ┆     ┆     ┆     ┆     ┆     ┆     ┆     ┆     ┆     ┆     ┆     ┆     ┆     ┆     ┆     ┆     ┆     ┆     ┆     ┆     ┆     ┆     ┆     ┆     ┆     ┆     ┆     ┆     ┆     ┆     ┆     ┆     ┆     ┆     ┆     ┆     ┆     ┆     ┆     ┆     ┆     ┆     ┆     ┆     ┆     ┆     ┆     ┆     ┆     ┆     ┆     ┆     ┆     ┆     ┆     ┆     ┆     ┆     ┆     ┆     ┆     ┆     ┆     ┆     ┆     ┆     ┆     ┆     ┆     ┆     ┆     ┆     ┆     ┆     ┆     ┆     ┆     ┆     ┆     ┆     ┆     ┆     ┆     ┆     ┆     ┆     ┆     ┆     ┆     ┆     ┆     ┆     ┆     ┆     ┆     ┆     ┆     ┆     ┆     ┆     ┆     ┆     ┆     ┆     ┆     ┆     ┆     ┆     ┆     ┆     ┆     ┆     ┆     ┆     ┆     ┆     ┆     ┆     ┆     ┆     ┆     ┆     ┆     ┆     ┆     ┆     ┆     ┆     ┆     ┆     ┆     ┆     ┆     ┆     ┆     ┆     ┆     ┆     ┆     ┆     ┆     ┆     ┆     ┆     ┆     ┆     ┆     ┆     ┆     ┆     ┆     ┆     ┆     ┆     ┆     ┆     ┆     ┆     ┆     ┆     ┆     ┆     ┆     ┆     ┆     ┆     ┆     ┆     ┆     ┆     ┆     ┆     ┆     ┆     ┆     ┆     ┆     ┆     ┆     ┆     ┆     ┆     ┆     ┆     ┆     ┆     ┆     ┆     ┆     ┆     ┆     ┆     ┆     ┆     ┆     ┆     ┆     ┆     ┆     ┆     ┆     ┆     ┆     ┆     ┆     ┆     ┆     ┆     ┆     ┆     ┆     ┆     ┆     ┆     ┆     ┆     ┆     ┆     ┆     ┆     ┆     ┆     ┆     ┆     ┆     ┆     ┆     ┆     ┆     ┆     ┆     ┆     ┆     ┆     ┆     ┆     ┆     ┆     ┆     ┆     ┆     ┆     ┆     ┆     ┆     ┆     ┆     ┆     ┆     ┆     │\n",
       "│     ┆     ┆     ┆     ┆     ┆     ┆     ┆     ┆     ┆     ┆     ┆     ┆     ┆     ┆     ┆     ┆     ┆     ┆     ┆     ┆     ┆     ┆     ┆     ┆     ┆     ┆     ┆     ┆     ┆     ┆     ┆     ┆     ┆     ┆     ┆     ┆     ┆     ┆     ┆     ┆ f32 ┆     ┆ f64 ┆ f64 ┆ f64 ┆     ┆     ┆     ┆     ┆     ┆     ┆     ┆     ┆     ┆ f64 ┆ f64 ┆ f64 ┆ f64 ┆ f64 ┆     ┆     ┆     ┆     ┆     ┆     ┆     ┆     ┆     ┆     ┆     ┆     ┆     ┆     ┆     ┆     ┆     ┆     ┆     ┆     ┆     ┆     ┆     ┆     ┆     ┆     ┆     ┆     ┆     ┆     ┆     ┆     ┆     ┆     ┆     ┆     ┆     ┆     ┆     ┆     ┆     ┆     ┆     ┆     ┆     ┆     ┆     ┆     ┆     ┆     ┆     ┆     ┆     ┆     ┆     ┆     ┆     ┆     ┆     ┆     ┆     ┆     ┆     ┆     ┆     ┆     ┆     ┆     ┆     ┆     ┆     ┆     ┆     ┆     ┆     ┆     ┆     ┆     ┆     ┆     ┆     ┆     ┆     ┆     ┆     ┆     ┆     ┆     ┆     ┆     ┆     ┆     ┆     ┆     ┆     ┆     ┆     ┆     ┆     ┆     ┆     ┆     ┆     ┆     ┆     ┆     ┆     ┆     ┆     ┆     ┆     ┆     ┆     ┆     ┆     ┆     ┆     ┆     ┆     ┆     ┆     ┆     ┆     ┆     ┆     ┆     ┆     ┆     ┆     ┆     ┆     ┆     ┆     ┆     ┆     ┆     ┆     ┆     ┆     ┆     ┆     ┆     ┆     ┆     ┆     ┆     ┆     ┆     ┆     ┆     ┆     ┆     ┆     ┆     ┆     ┆     ┆     ┆     ┆     ┆     ┆     ┆     ┆     ┆     ┆     ┆     ┆     ┆     ┆     ┆     ┆     ┆     ┆     ┆     ┆     ┆     ┆     ┆     ┆     ┆     ┆     ┆     ┆     ┆     ┆     ┆     ┆     ┆     ┆     ┆     ┆     ┆     ┆     ┆     ┆     ┆     ┆     ┆     ┆     ┆     ┆     ┆     ┆     ┆     ┆     ┆     ┆     ┆     ┆     ┆     ┆     ┆     ┆     ┆     ┆     ┆     ┆     ┆     ┆     ┆     ┆     ┆     ┆     ┆     ┆     ┆     ┆     ┆     ┆     ┆     ┆     ┆     ┆     ┆     ┆     ┆     ┆     ┆     ┆     ┆     ┆     ┆     ┆     ┆     ┆     ┆     ┆     ┆     ┆     ┆     ┆     ┆     ┆     ┆     ┆     ┆     ┆     ┆     ┆     ┆     ┆     ┆     ┆     ┆     ┆     ┆     ┆     ┆     ┆     ┆     ┆     ┆     ┆     ┆     ┆     ┆     ┆     ┆     ┆     ┆     ┆     ┆     ┆     ┆     ┆     ┆     ┆     ┆     ┆     ┆     ┆     ┆     ┆     ┆     ┆     ┆     ┆     ┆     ┆     ┆     ┆     ┆     ┆     ┆     ┆     ┆     ┆     ┆     ┆     ┆     ┆     ┆     ┆     ┆     ┆     ┆     ┆     ┆     ┆     ┆     ┆     ┆     ┆     ┆     ┆     ┆     ┆     ┆     ┆     ┆     ┆     ┆     ┆     ┆     ┆     ┆     ┆     ┆     ┆     ┆     ┆     ┆     ┆     ┆     ┆     ┆     ┆     ┆     ┆     ┆     ┆     ┆     ┆     ┆     ┆     ┆     ┆     ┆     ┆     ┆     ┆     ┆     ┆     ┆     ┆     ┆     ┆     ┆     ┆     ┆     ┆     ┆     ┆     ┆     ┆     ┆     ┆     ┆     ┆     ┆     ┆     ┆     ┆     ┆     ┆     ┆     ┆     ┆     ┆     ┆     ┆     ┆     ┆     ┆     ┆     ┆     ┆     ┆     ┆     ┆     ┆     ┆     ┆     ┆     ┆     ┆     ┆     ┆     ┆     ┆     ┆     ┆     ┆     ┆     ┆     ┆     ┆     ┆     ┆     ┆     ┆     ┆     ┆     ┆     ┆     ┆     ┆     ┆     ┆     ┆     ┆     ┆     ┆     ┆     ┆     ┆     ┆     ┆     ┆     ┆     ┆     ┆     ┆     ┆     ┆     ┆     ┆     ┆     ┆     ┆     ┆     ┆     ┆     ┆     ┆     ┆     ┆     ┆     ┆     ┆     ┆     ┆     ┆     ┆     ┆     ┆     ┆     ┆     ┆     ┆     ┆     ┆     ┆     ┆     ┆     ┆     ┆     ┆     ┆     ┆     ┆     ┆     ┆     ┆     ┆     ┆     ┆     ┆     ┆     ┆     ┆     ┆     ┆     ┆     ┆     ┆     ┆     ┆     ┆     ┆     ┆     ┆     ┆     ┆     ┆     ┆     ┆     ┆     ┆     ┆     ┆     ┆     ┆     ┆     ┆     ┆     ┆     ┆     ┆     ┆     ┆     ┆     ┆     ┆     ┆     ┆     ┆     ┆     ┆     ┆     ┆     ┆     ┆     ┆     ┆     ┆     ┆     ┆     ┆     ┆     ┆     ┆     ┆     ┆     ┆     ┆     ┆     ┆     ┆     ┆     ┆     ┆     ┆     ┆     ┆     ┆     ┆     ┆     ┆     ┆     ┆     ┆     ┆     ┆     ┆     ┆     ┆     ┆     ┆     ┆     ┆     ┆     ┆     ┆     ┆     ┆     ┆     ┆     ┆     ┆     ┆     ┆     ┆     ┆     ┆     ┆     ┆     ┆     ┆     ┆     ┆     ┆     ┆     ┆     ┆     ┆     ┆     ┆     ┆     ┆     ┆     ┆     ┆     ┆     ┆     ┆     ┆     ┆     ┆     ┆     ┆     ┆     ┆     ┆     ┆     ┆     ┆     ┆     ┆     ┆     ┆     ┆     ┆     ┆     ┆     ┆     ┆     ┆     ┆     ┆     ┆     ┆     ┆     ┆     ┆     ┆     ┆     ┆     ┆     ┆     ┆     ┆     ┆     ┆     ┆     ┆     ┆     ┆     ┆     ┆     ┆     ┆     ┆     ┆     ┆     ┆     ┆     ┆     ┆     ┆     ┆     ┆     ┆     ┆     ┆     ┆     ┆     ┆     ┆     ┆     ┆     ┆     ┆     ┆     ┆     ┆     ┆     ┆     ┆     ┆     ┆     ┆     ┆     ┆     ┆     ┆     ┆     ┆     ┆     ┆     ┆     ┆     ┆     ┆     ┆     ┆     ┆     ┆     ┆     ┆     ┆     ┆     ┆     ┆     ┆     ┆     ┆     ┆     ┆     ┆     ┆     ┆     ┆     ┆     ┆     ┆     ┆     ┆     ┆     │\n",
       "╞═════╪═════╪═════╪═════╪═════╪═════╪═════╪═════╪═════╪═════╪═════╪═════╪═════╪═════╪═════╪═════╪═════╪═════╪═════╪═════╪═════╪═════╪═════╪═════╪═════╪═════╪═════╪═════╪═════╪═════╪═════╪═════╪═════╪═════╪═════╪═════╪═════╪═════╪═════╪═════╪═════╪═════╪═════╪═════╪═════╪═════╪═════╪═════╪═════╪═════╪═════╪═════╪═════╪═════╪═════╪═════╪═════╪═════╪═════╪═════╪═════╪═════╪═════╪═════╪═════╪═════╪═════╪═════╪═════╪═════╪═════╪═════╪═════╪═════╪═════╪═════╪═════╪═════╪═════╪═════╪═════╪═════╪═════╪═════╪═════╪═════╪═════╪═════╪═════╪═════╪═════╪═════╪═════╪═════╪═════╪═════╪═════╪═════╪═════╪═════╪═════╪═════╪═════╪═════╪═════╪═════╪═════╪═════╪═════╪═════╪═════╪═════╪═════╪═════╪═════╪═════╪═════╪═════╪═════╪═════╪═════╪═════╪═════╪═════╪═════╪═════╪═════╪═════╪═════╪═════╪═════╪═════╪═════╪═════╪═════╪═════╪═════╪═════╪═════╪═════╪═════╪═════╪═════╪═════╪═════╪═════╪═════╪═════╪═════╪═════╪═════╪═════╪═════╪═════╪═════╪═════╪═════╪═════╪═════╪═════╪═════╪═════╪═════╪═════╪═════╪═════╪═════╪═════╪═════╪═════╪═════╪═════╪═════╪═════╪═════╪═════╪═════╪═════╪═════╪═════╪═════╪═════╪═════╪═════╪═════╪═════╪═════╪═════╪═════╪═════╪═════╪═════╪═════╪═════╪═════╪═════╪═════╪═════╪═════╪═════╪═════╪═════╪═════╪═════╪═════╪═════╪═════╪═════╪═════╪═════╪═════╪═════╪═════╪═════╪═════╪═════╪═════╪═════╪═════╪═════╪═════╪═════╪═════╪═════╪═════╪═════╪═════╪═════╪═════╪═════╪═════╪═════╪═════╪═════╪═════╪═════╪═════╪═════╪═════╪═════╪═════╪═════╪═════╪═════╪═════╪═════╪═════╪═════╪═════╪═════╪═════╪═════╪═════╪═════╪═════╪═════╪═════╪═════╪═════╪═════╪═════╪═════╪═════╪═════╪═════╪═════╪═════╪═════╪═════╪═════╪═════╪═════╪═════╪═════╪═════╪═════╪═════╪═════╪═════╪═════╪═════╪═════╪═════╪═════╪═════╪═════╪═════╪═════╪═════╪═════╪═════╪═════╪═════╪═════╪═════╪═════╪═════╪═════╪═════╪═════╪═════╪═════╪═════╪═════╪═════╪═════╪═════╪═════╪═════╪═════╪═════╪═════╪═════╪═════╪═════╪═════╪═════╪═════╪═════╪═════╪═════╪═════╪═════╪═════╪═════╪═════╪═════╪═════╪═════╪═════╪═════╪═════╪═════╪═════╪═════╪═════╪═════╪═════╪═════╪═════╪═════╪═════╪═════╪═════╪═════╪═════╪═════╪═════╪═════╪═════╪═════╪═════╪═════╪═════╪═════╪═════╪═════╪═════╪═════╪═════╪═════╪═════╪═════╪═════╪═════╪═════╪═════╪═════╪═════╪═════╪═════╪═════╪═════╪═════╪═════╪═════╪═════╪═════╪═════╪═════╪═════╪═════╪═════╪═════╪═════╪═════╪═════╪═════╪═════╪═════╪═════╪═════╪═════╪═════╪═════╪═════╪═════╪═════╪═════╪═════╪═════╪═════╪═════╪═════╪═════╪═════╪═════╪═════╪═════╪═════╪═════╪═════╪═════╪═════╪═════╪═════╪═════╪═════╪═════╪═════╪═════╪═════╪═════╪═════╪═════╪═════╪═════╪═════╪═════╪═════╪═════╪═════╪═════╪═════╪═════╪═════╪═════╪═════╪═════╪═════╪═════╪═════╪═════╪═════╪═════╪═════╪═════╪═════╪═════╪═════╪═════╪═════╪═════╪═════╪═════╪═════╪═════╪═════╪═════╪═════╪═════╪═════╪═════╪═════╪═════╪═════╪═════╪═════╪═════╪═════╪═════╪═════╪═════╪═════╪═════╪═════╪═════╪═════╪═════╪═════╪═════╪═════╪═════╪═════╪═════╪═════╪═════╪═════╪═════╪═════╪═════╪═════╪═════╪═════╪═════╪═════╪═════╪═════╪═════╪═════╪═════╪═════╪═════╪═════╪═════╪═════╪═════╪═════╪═════╪═════╪═════╪═════╪═════╪═════╪═════╪═════╪═════╪═════╪═════╪═════╪═════╪═════╪═════╪═════╪═════╪═════╪═════╪═════╪═════╪═════╪═════╪═════╪═════╪═════╪═════╪═════╪═════╪═════╪═════╪═════╪═════╪═════╪═════╪═════╪═════╪═════╪═════╪═════╪═════╪═════╪═════╪═════╪═════╪═════╪═════╪═════╪═════╪═════╪═════╪═════╪═════╪═════╪═════╪═════╪═════╪═════╪═════╪═════╪═════╪═════╪═════╪═════╪═════╪═════╪═════╪═════╪═════╪═════╪═════╪═════╪═════╪═════╪═════╪═════╪═════╪═════╪═════╪═════╪═════╪═════╪═════╪═════╪═════╪═════╪═════╪═════╪═════╪═════╪═════╪═════╪═════╪═════╪═════╪═════╪═════╪═════╪═════╪═════╪═════╪═════╪═════╪═════╪═════╪═════╪═════╪═════╪═════╪═════╪═════╪═════╪═════╪═════╪═════╪═════╪═════╪═════╪═════╪═════╪═════╪═════╪═════╪═════╪═════╪═════╪═════╪═════╪═════╪═════╪═════╪═════╪═════╪═════╪═════╪═════╪═════╪═════╪═════╪═════╪═════╪═════╪═════╪═════╪═════╪═════╪═════╪═════╪═════╪═════╪═════╪═════╪═════╪═════╪═════╪═════╪═════╪═════╪═════╪═════╪═════╪═════╪═════╪═════╪═════╪═════╪═════╪═════╪═════╪═════╪═════╪═════╪═════╪═════╪═════╪═════╪═════╪═════╪═════╪═════╪═════╪═════╪═════╪═════╪═════╪═════╪═════╪═════╪═════╪═════╪═════╪═════╪═════╪═════╪═════╪═════╪═════╪═════╪═════╪═════╪═════╪═════╪═════╪═════╪═════╪═════╪═════╪═════╪═════╪═════╪═════╪═════╪═════╪═════╪═════╪═════╪═════╪═════╪═════╪═════╪═════╪═════╪═════╪═════╪═════╪═════╪═════╪═════╪═════╪═════╪═════╪═════╪═════╪═════╪═════╪═════╪═════╪═════╪═════╪═════╪═════╪═════╪═════╪═════╪═════╪═════╪═════╪═════╪═════╪═════╪═════╪═════╪═════╪═════╪═════╪═════╪═════╪═════╪═════╪═════╪═════╪═════╪═════╪═════╪═════╪═════╪═════╪═════╪═════╪═════╡\n",
       "│ 201 ┆ 4   ┆ 925 ┆ 1.1 ┆ 8   ┆ 115 ┆ 231 ┆ 39. ┆ -10 ┆ 0.1 ┆ -0. ┆ 13  ┆ 36. ┆ 6.0 ┆ 5.0 ┆ 6.0 ┆ 3.0 ┆ 3.0 ┆ 4.0 ┆ 13. ┆ 7.0 ┆ 43. ┆ 380 ┆ 152 ┆ 247 ┆ 228 ┆ 204 ┆ 146 ┆ 146 ┆ 731 ┆ 141 ┆ 804 ┆ 138 ┆ 200 ┆ 122 ┆ 149 ┆ 200 ┆ 106 ┆ 144 ┆ 200 ┆ 114 ┆ 7.0 ┆ -21 ┆ 758 ┆ 398 ┆ 149 ┆ 122 ┆ 132 ┆ 139 ┆ 981 ┆ 138 ┆ 118 ┆ 121 ┆ 127 ┆ 0.9 ┆ 0.8 ┆ 0.8 ┆ 0.8 ┆ 0.9 ┆ 3   ┆ 3   ┆ 16. ┆ 12. ┆ 93  ┆ 1   ┆ -1. ┆ 105 ┆ 568 ┆ 371 ┆ 120 ┆ 111 ┆ 13. ┆ 9.0 ┆ 102 ┆ 1   ┆ 101 ┆ 111 ┆ 553 ┆ 396 ┆ 22. ┆ 396 ┆ 12. ┆ 7.0 ┆ 95  ┆ 1   ┆ 94  ┆ 117 ┆ 587 ┆ 396 ┆ 73. ┆ 396 ┆ 15. ┆ 9.9 ┆ 101 ┆ 1   ┆ 100 ┆ 117 ┆ 586 ┆ 396 ┆ 22. ┆ 396 ┆ 13. ┆ 7.6 ┆ 101 ┆ 1   ┆ 100 ┆ 120 ┆ 579 ┆ 392 ┆ 22. ┆ 392 ┆ 13. ┆ 7.1 ┆ 77  ┆ 1   ┆ 1.6 ┆ 122 ┆ 590 ┆ 392 ┆ 110 ┆ -56 ┆ 0.7 ┆ 0.4 ┆ 0.3 ┆ 0.3 ┆ 0.2 ┆ -0. ┆ 0.0 ┆ -1. ┆ 0.4 ┆ 0.5 ┆ 0.3 ┆ 0.0 ┆ -0. ┆ -0. ┆ -0. ┆ -0. ┆ -0. ┆ 0.1 ┆ 0.1 ┆ -0. ┆ -0. ┆ 0.0 ┆ -0. ┆ -0. ┆ 0.4 ┆ -0. ┆ -1. ┆ 1.0 ┆ 1.9 ┆ 0.0 ┆ -0. ┆ -0. ┆ -0. ┆ 0.3 ┆ -0. ┆ -0. ┆ 0.8 ┆ -0. ┆ -0. ┆ 0.1 ┆ 0.5 ┆ -0. ┆ 1.1 ┆ 0.3 ┆ -0. ┆ -0. ┆ -0. ┆ 0.2 ┆ 0.7 ┆ 0.5 ┆ -1. ┆ 1.2 ┆ 0.0 ┆ 0.4 ┆ -0. ┆ 0.4 ┆ 0.2 ┆ 0.7 ┆ 0.9 ┆ -0. ┆ -0. ┆ -0. ┆ -1. ┆ 0.1 ┆ -0. ┆ 0.2 ┆ -0. ┆ 0.0 ┆ -0. ┆ 1.3 ┆ 0.7 ┆ -0. ┆ -0. ┆ -0. ┆ -0. ┆ -0. ┆ 0.2 ┆ -0. ┆ 0.0 ┆ -0. ┆ 0.8 ┆ -0. ┆ -0. ┆ 0.2 ┆ 0.0 ┆ 0.1 ┆ -1. ┆ 0.9 ┆ -0. ┆ -0. ┆ -0. ┆ -0. ┆ 0.3 ┆ 0.1 ┆ -0. ┆ -0. ┆ -0. ┆ -0. ┆ 0.9 ┆ 0.1 ┆ -0. ┆ -0. ┆ 0.4 ┆ -0. ┆ 0.8 ┆ -1. ┆ 0.3 ┆ -0. ┆ -0. ┆ 0.3 ┆ -0. ┆ -1. ┆ -0. ┆ 0.0 ┆ 0.6 ┆ 0.1 ┆ 0.6 ┆ 0.3 ┆ -0. ┆ 0.1 ┆ -0. ┆ -0. ┆ -0. ┆ 0.0 ┆ 0.1 ┆ 0.2 ┆ -0. ┆ -0. ┆ 0.0 ┆ 0.1 ┆ -0. ┆ -0. ┆ -0. ┆ -0. ┆ 0.8 ┆ 0.1 ┆ -0. ┆ -0. ┆ -0. ┆ 1.6 ┆ 0.1 ┆ -0. ┆ 0.0 ┆ -0. ┆ -0. ┆ 0.3 ┆ 0.7 ┆ -0. ┆ -0. ┆ -0. ┆ 1.2 ┆ 0.1 ┆ -0. ┆ -0. ┆ 0.5 ┆ 0.3 ┆ -0. ┆ -0. ┆ -0. ┆ 0.2 ┆ -0. ┆ 0.7 ┆ 0.3 ┆ -0. ┆ 0.2 ┆ -0. ┆ 0.6 ┆ 0.0 ┆ 0.0 ┆ -0. ┆ -0. ┆ -0. ┆ -0. ┆ 0.0 ┆ -1. ┆ -0. ┆ 0.2 ┆ -0. ┆ -1. ┆ -0. ┆ -1. ┆ -0. ┆ -0. ┆ 0.4 ┆ 0.0 ┆ -0. ┆ -0. ┆ 1.2 ┆ -0. ┆ 0.1 ┆ -0. ┆ -0. ┆ -0. ┆ -0. ┆ 0.1 ┆ 0.7 ┆ -0. ┆ -0. ┆ 0.2 ┆ -0. ┆ 0.3 ┆ -1. ┆ -0. ┆ -0. ┆ 0.7 ┆ -0. ┆ -0. ┆ -0. ┆ 0.6 ┆ 0.5 ┆ 0.4 ┆ -0. ┆ -0. ┆ 0.4 ┆ -0. ┆ 1.1 ┆ 0.5 ┆ 0.8 ┆ -0. ┆ -0. ┆ -1. ┆ 0.0 ┆ 0.8 ┆ -0. ┆ -0. ┆ 0.0 ┆ 0.1 ┆ 0.6 ┆ -0. ┆ -0. ┆ 0.1 ┆ -0. ┆ -0. ┆ 0.0 ┆ -1. ┆ 0.2 ┆ -0. ┆ -0. ┆ 0.3 ┆ 0.1 ┆ 0.9 ┆ 0.1 ┆ -1. ┆ -0. ┆ -1. ┆ -0. ┆ 0.5 ┆ 0.5 ┆ 1.0 ┆ -0. ┆ 0.2 ┆ 0.3 ┆ 0.5 ┆ 0.2 ┆ -0. ┆ -0. ┆ 0.1 ┆ -0. ┆ 0.4 ┆ -0. ┆ 1.1 ┆ -0. ┆ 0.0 ┆ 0.3 ┆ 0.6 ┆ 0.5 ┆ -0. ┆ -0. ┆ -0. ┆ -0. ┆ 0.1 ┆ 0.0 ┆ -0. ┆ 0.1 ┆ -0. ┆ 0.3 ┆ -0. ┆ -1. ┆ -0. ┆ 0.5 ┆ -0. ┆ 0.5 ┆ 0.4 ┆ -0. ┆ -0. ┆ 0.1 ┆ 0.5 ┆ -0. ┆ 0.5 ┆ -0. ┆ -0. ┆ -0. ┆ -0. ┆ 0.1 ┆ 0.1 ┆ -0. ┆ -0. ┆ 0.8 ┆ -0. ┆ 0.1 ┆ 9.9 ┆ -0. ┆ 0.4 ┆ -0. ┆ -0. ┆ -0. ┆ -0. ┆ 0.0 ┆ -0. ┆ 0.0 ┆ 0.0 ┆ -0. ┆ -0. ┆ 0.0 ┆ -0. ┆ 0.0 ┆ 0.0 ┆ -0. ┆ -0. ┆ 0.0 ┆ -0. ┆ -0. ┆ -0. ┆ -0. ┆ -0. ┆ -0. ┆ 0.0 ┆ 0.0 ┆ 0.0 ┆ -0. ┆ 0.0 ┆ 0.0 ┆ -0. ┆ 0.0 ┆ 0.0 ┆ 0.0 ┆ 0.0 ┆ -0. ┆ 0.0 ┆ 0.0 ┆ 0.0 ┆ 0.0 ┆ 0.0 ┆ 0.0 ┆ -0. ┆ -0. ┆ -0. ┆ 0.0 ┆ -0. ┆ 0.0 ┆ -0. ┆ -0. ┆ -0. ┆ -0. ┆ 0.0 ┆ -0. ┆ 0.0 ┆ -0. ┆ 0.0 ┆ -0. ┆ 0.0 ┆ -0. ┆ -0. ┆ -0. ┆ -0. ┆ 0.0 ┆ -0. ┆ -0. ┆ 0.0 ┆ -0. ┆ -0. ┆ 0.0 ┆ -0. ┆ -0. ┆ 0.0 ┆ -0. ┆ 0.0 ┆ -0. ┆ -0. ┆ -0. ┆ -0. ┆ 0.0 ┆ -0. ┆ -0. ┆ -0. ┆ -0. ┆ -0. ┆ 0.0 ┆ -0. ┆ 0.0 ┆ 0.0 ┆ -0. ┆ -0. ┆ 0.0 ┆ -0. ┆ -0. ┆ 0.0 ┆ -0. ┆ 0.0 ┆ 0.0 ┆ -0. ┆ -0. ┆ -0. ┆ 0.0 ┆ 0.0 ┆ 0.0 ┆ 0.0 ┆ 0.0 ┆ -0. ┆ -0. ┆ -0. ┆ 0.0 ┆ -0. ┆ 0.0 ┆ 0.0 ┆ -0. ┆ 0.0 ┆ 0.0 ┆ 0.0 ┆ -0. ┆ 0.0 ┆ 0.0 ┆ -0. ┆ -0. ┆ 0.0 ┆ 0.0 ┆ 0.0 ┆ 0.0 ┆ -0. ┆ -0. ┆ -0. ┆ 0.0 ┆ -0. ┆ 0.0 ┆ 0.0 ┆ -0. ┆ 0.0 ┆ 0.0 ┆ -0. ┆ -0. ┆ -0. ┆ 0.0 ┆ 0.0 ┆ -0. ┆ -0. ┆ 0.0 ┆ 0.0 ┆ -0. ┆ -0. ┆ 0.0 ┆ -0. ┆ 0.0 ┆ -0. ┆ -0. ┆ -0. ┆ 0.0 ┆ 0.0 ┆ 0.0 ┆ -0. ┆ 0.0 ┆ 0.0 ┆ -0. ┆ -0. ┆ 0.0 ┆ 0.0 ┆ -0. ┆ 0.0 ┆ 0.0 ┆ -0. ┆ 0.0 ┆ 0.0 ┆ -0. ┆ 0.0 ┆ -0. ┆ -0. ┆ 0.0 ┆ -0. ┆ -0. ┆ -0. ┆ -0. ┆ -0. ┆ 0.0 ┆ -0. ┆ -0. ┆ -0. ┆ 0.0 ┆ -0. ┆ -0. ┆ 0.0 ┆ 0.0 ┆ -0. ┆ -0. ┆ 0.0 ┆ 0.0 ┆ -0. ┆ -0. ┆ 0.0 ┆ 0.0 ┆ 0.0 ┆ 0.0 ┆ 0.0 ┆ -0. ┆ 0.0 ┆ -0. ┆ -0. ┆ 0.0 ┆ 0.0 ┆ -0. ┆ -0. ┆ 0.0 ┆ -0. ┆ 0.0 ┆ -0. ┆ 0.0 ┆ -0. ┆ 0.0 ┆ -0. ┆ 0.0 ┆ 0.0 ┆ -0. ┆ 0.0 ┆ -0. ┆ 0.0 ┆ 0.0 ┆ 0.0 ┆ -0. ┆ -0. ┆ 0.0 ┆ 0.0 ┆ -0. ┆ 0.0 ┆ -0. ┆ -0. ┆ -0. ┆ 0.0 ┆ -0. ┆ 0.0 ┆ -0. ┆ 0.0 ┆ -0. ┆ -0. ┆ -0. ┆ -0. ┆ -0. ┆ 0.0 ┆ 0.0 ┆ 0.0 ┆ -0. ┆ 0.2 ┆ 0.0 ┆ 0.0 ┆ -0. ┆ 0.0 ┆ 0.0 ┆ 0.0 ┆ 0.0 ┆ -0. ┆ -0. ┆ 0.0 ┆ -0. ┆ -0. ┆ -0. ┆ -0. ┆ -0. ┆ 0.0 ┆ 0.0 ┆ -0. ┆ -0. ┆ -0. ┆ 0.0 ┆ -0. ┆ 0.0 ┆ 0.0 ┆ -0. ┆ -0. ┆ 0.0 ┆ -0. ┆ -0. ┆ 0.0 ┆ -0. ┆ -0. ┆ -0. ┆ 0.0 ┆ -0. ┆ 0.0 ┆ 0.0 ┆ -0. ┆ -0. ┆ 0.0 ┆ 0.0 ┆ 0.0 ┆ -0. ┆ -0. ┆ -0. ┆ 0.0 ┆ 0.0 ┆ -0. ┆ 0.0 ┆ -0. ┆ -0. ┆ 0.0 ┆ 0.0 ┆ -0. ┆ 0.0 ┆ -3. ┆ 1.0 ┆ 1.2 ┆ 1.5 ┆ -1. ┆ -2. ┆ -7. ┆ 2.2 ┆ 8.5 ┆ 2.3 ┆ 0   ┆ 0   ┆ 0   ┆ 0   ┆ 0   ┆ 0   ┆ 0   ┆ 0   ┆ 0   ┆ 1   ┆ 0   ┆ 0   ┆ 1   ┆ 0.0 ┆ 1.0 ┆ 0.0 ┆ 0.0 ┆ 0.0 ┆ 0.0 ┆ 0.0 ┆ 0.0 ┆ 0.0 ┆ 0.0 ┆ 0.0 ┆ -3. ┆ -2. ┆ -2. ┆ -2. ┆ 1.0 ┆ -1. ┆ -6. ┆ 1.5 ┆ -1. ┆ -7. ┆ 0.0 ┆ 0.0 ┆ -0. ┆ -0. ┆ 0.0 ┆ -0. ┆ -0. ┆ 0.0 ┆ 0.0 │\n",
       "│ 5   ┆     ┆ 53. ┆     ┆     ┆ 69. ┆ 38. ┆ 0   ┆ 8.0 ┆ 059 ┆ 852 ┆     ┆ 0   ┆     ┆     ┆     ┆     ┆     ┆     ┆ 0   ┆     ┆ 0   ┆ 7   ┆ 19  ┆ 85  ┆ 21  ┆ 97  ┆ 02  ┆ 36  ┆ 1   ┆ 9   ┆     ┆ 21. ┆ 9.3 ┆ 670 ┆ 94. ┆ 6.4 ┆ 025 ┆ 07. ┆ 7.9 ┆ 348 ┆ 744 ┆ 795 ┆ 5.5 ┆ 3.5 ┆ 94. ┆ 70. ┆ 98. ┆ 44. ┆ 0.2 ┆ 21. ┆ 11. ┆ 65. ┆ 36. ┆ 549 ┆ 960 ┆ 874 ┆ 463 ┆ 278 ┆     ┆     ┆ 543 ┆ 018 ┆     ┆     ┆ 273 ┆ 960 ┆ 74. ┆ 297 ┆ .0  ┆ 59. ┆ 904 ┆ 176 ┆     ┆     ┆     ┆ 303 ┆ 06. ┆ 512 ┆ 0   ┆ 490 ┆ 261 ┆ 811 ┆     ┆     ┆     ┆ 244 ┆ 20. ┆ 512 ┆ 0   ┆ 439 ┆ 265 ┆ 403 ┆     ┆     ┆     ┆ 500 ┆ 84. ┆ 512 ┆ 0   ┆ 490 ┆ 601 ┆ 536 ┆     ┆     ┆     ┆ 973 ┆ 34. ┆ 519 ┆ 0   ┆ 497 ┆ 605 ┆ 988 ┆     ┆     ┆ 646 ┆ 776 ┆ 81. ┆ 519 ┆ .0  ┆ 56. ┆ 355 ┆ 090 ┆ 060 ┆ 867 ┆ 105 ┆ 645 ┆ 854 ┆ 411 ┆ 851 ┆ 684 ┆ 475 ┆ 604 ┆ 108 ┆ 012 ┆ 434 ┆ 029 ┆ 292 ┆ 361 ┆ 990 ┆ 761 ┆ 149 ┆ 783 ┆ 817 ┆ 419 ┆ 034 ┆ 008 ┆ 101 ┆ 096 ┆ 570 ┆ 984 ┆ 426 ┆ 332 ┆ 391 ┆ 042 ┆ 028 ┆ 425 ┆ 111 ┆ 225 ┆ 698 ┆ 101 ┆ 864 ┆ 372 ┆ 142 ┆ 525 ┆ 536 ┆ 274 ┆ 136 ┆ 592 ┆ 407 ┆ 135 ┆ 347 ┆ 150 ┆ 896 ┆ 787 ┆ 520 ┆ 040 ┆ 910 ┆ 392 ┆ 134 ┆ 736 ┆ 542 ┆ 530 ┆ 809 ┆ 369 ┆ 105 ┆ 109 ┆ 813 ┆ 662 ┆ 518 ┆ 447 ┆ 377 ┆ 256 ┆ 308 ┆ 518 ┆ 757 ┆ 179 ┆ 896 ┆ 076 ┆ 605 ┆ 036 ┆ 078 ┆ 014 ┆ 792 ┆ 421 ┆ 601 ┆ 402 ┆ 125 ┆ 396 ┆ 256 ┆ 303 ┆ 226 ┆ 162 ┆ 609 ┆ 192 ┆ 438 ┆ 000 ┆ 094 ┆ 197 ┆ 875 ┆ 428 ┆ 206 ┆ 483 ┆ 670 ┆ 459 ┆ 604 ┆ 006 ┆ 249 ┆ 185 ┆ 501 ┆ 784 ┆ 385 ┆ 257 ┆ 923 ┆ 430 ┆ 853 ┆ 000 ┆ 402 ┆ 647 ┆ 183 ┆ 113 ┆ 176 ┆ 052 ┆ 104 ┆ 800 ┆ 815 ┆ 641 ┆ 199 ┆ 205 ┆ 170 ┆ 801 ┆ 159 ┆ 056 ┆ 240 ┆ 342 ┆ 227 ┆ 235 ┆ 327 ┆ 049 ┆ 040 ┆ 396 ┆ 220 ┆ 841 ┆ 014 ┆ 351 ┆ 073 ┆ 649 ┆ 517 ┆ 108 ┆ 604 ┆ 745 ┆ 778 ┆ 154 ┆ 330 ┆ 873 ┆ 122 ┆ 511 ┆ 609 ┆ 102 ┆ 318 ┆ 861 ┆ 825 ┆ 894 ┆ 707 ┆ 193 ┆ 329 ┆ 396 ┆ 066 ┆ 253 ┆ 732 ┆ 260 ┆ 444 ┆ 413 ┆ 490 ┆ 677 ┆ 145 ┆ 124 ┆ 822 ┆ 891 ┆ 281 ┆ 165 ┆ 185 ┆ 546 ┆ 481 ┆ 001 ┆ 958 ┆ 065 ┆ 247 ┆ 219 ┆ 747 ┆ 854 ┆ 409 ┆ 594 ┆ 648 ┆ 268 ┆ 730 ┆ 521 ┆ 316 ┆ 509 ┆ 895 ┆ 020 ┆ 435 ┆ 283 ┆ 500 ┆ 233 ┆ 143 ┆ 719 ┆ 172 ┆ 328 ┆ 435 ┆ 312 ┆ 392 ┆ 005 ┆ 500 ┆ 240 ┆ 532 ┆ 628 ┆ 908 ┆ 134 ┆ 825 ┆ 127 ┆ 823 ┆ 449 ┆ 315 ┆ 299 ┆ 249 ┆ 827 ┆ 644 ┆ 236 ┆ 124 ┆ 435 ┆ 953 ┆ 015 ┆ 043 ┆ 468 ┆ 079 ┆ 703 ┆ 432 ┆ 792 ┆ 721 ┆ 257 ┆ 174 ┆ 769 ┆ 345 ┆ 346 ┆ 236 ┆ 416 ┆ 122 ┆ 665 ┆ 161 ┆ 359 ┆ 161 ┆ 237 ┆ 175 ┆ 203 ┆ 257 ┆ 417 ┆ 010 ┆ 142 ┆ 757 ┆ 743 ┆ 659 ┆ 533 ┆ 525 ┆ 210 ┆ 501 ┆ 664 ┆ 798 ┆ 341 ┆ 106 ┆ 453 ┆ 447 ┆ 521 ┆ 607 ┆ 779 ┆ 058 ┆ 896 ┆ 188 ┆ 332 ┆ 144 ┆ 661 ┆ 424 ┆ 873 ┆ 694 ┆ 439 ┆ 681 ┆ 105 ┆ 001 ┆ 319 ┆ 068 ┆ 812 ┆ 280 ┆ 236 ┆ 671 ┆ 332 ┆ 368 ┆ 431 ┆ 061 ┆ 022 ┆ 250 ┆ 406 ┆ 618 ┆ 040 ┆ 811 ┆ 000 ┆ 012 ┆ 018 ┆ 004 ┆ 305 ┆ 033 ┆ 181 ┆ 470 ┆ 001 ┆ 006 ┆ 102 ┆ 016 ┆ 012 ┆ 126 ┆ 009 ┆ 023 ┆ 283 ┆ 002 ┆ 008 ┆ 018 ┆ 010 ┆ 009 ┆ 013 ┆ 061 ┆ 083 ┆ 049 ┆ 010 ┆ 065 ┆ 179 ┆ 006 ┆ 556 ┆ 100 ┆ 306 ┆ 178 ┆ 030 ┆ 035 ┆ 054 ┆ 126 ┆ 080 ┆ 234 ┆ 033 ┆ 015 ┆ 017 ┆ 005 ┆ 064 ┆ 024 ┆ 251 ┆ 012 ┆ 004 ┆ 037 ┆ 000 ┆ 073 ┆ 015 ┆ 074 ┆ 013 ┆ 016 ┆ 005 ┆ 121 ┆ 020 ┆ 046 ┆ 010 ┆ 001 ┆ 019 ┆ 005 ┆ 013 ┆ 107 ┆ 004 ┆ 017 ┆ 036 ┆ 004 ┆ 003 ┆ 167 ┆ 003 ┆ 074 ┆ 006 ┆ 025 ┆ 005 ┆ 010 ┆ 503 ┆ 005 ┆ 020 ┆ 019 ┆ 010 ┆ 020 ┆ 079 ┆ 006 ┆ 051 ┆ 148 ┆ 014 ┆ 002 ┆ 103 ┆ 016 ┆ 025 ┆ 213 ┆ 004 ┆ 149 ┆ 477 ┆ 015 ┆ 004 ┆ 011 ┆ 285 ┆ 031 ┆ 148 ┆ 112 ┆ 037 ┆ 013 ┆ 009 ┆ 001 ┆ 027 ┆ 011 ┆ 004 ┆ 136 ┆ 006 ┆ 137 ┆ 229 ┆ 220 ┆ 005 ┆ 089 ┆ 027 ┆ 022 ┆ 002 ┆ 074 ┆ 102 ┆ 016 ┆ 049 ┆ 000 ┆ 008 ┆ 012 ┆ 266 ┆ 021 ┆ 215 ┆ 185 ┆ 017 ┆ 175 ┆ 142 ┆ 001 ┆ 018 ┆ 003 ┆ 240 ┆ 124 ┆ 003 ┆ 004 ┆ 137 ┆ 121 ┆ 008 ┆ 023 ┆ 073 ┆ 196 ┆ 017 ┆ 018 ┆ 016 ┆ 055 ┆ 042 ┆ 010 ┆ 089 ┆ 010 ┆ 051 ┆ 648 ┆ 016 ┆ 005 ┆ 046 ┆ 031 ┆ 024 ┆ 333 ┆ 056 ┆ 003 ┆ 100 ┆ 178 ┆ 018 ┆ 040 ┆ 002 ┆ 006 ┆ 172 ┆ 012 ┆ 024 ┆ 010 ┆ 022 ┆ 020 ┆ 221 ┆ 003 ┆ 019 ┆ 012 ┆ 292 ┆ 031 ┆ 012 ┆ 048 ┆ 328 ┆ 024 ┆ 034 ┆ 166 ┆ 167 ┆ 012 ┆ 020 ┆ 085 ┆ 149 ┆ 203 ┆ 035 ┆ 274 ┆ 011 ┆ 141 ┆ 001 ┆ 013 ┆ 844 ┆ 096 ┆ 015 ┆ 004 ┆ 133 ┆ 007 ┆ 009 ┆ 001 ┆ 270 ┆ 013 ┆ 016 ┆ 016 ┆ 135 ┆ 049 ┆ 010 ┆ 089 ┆ 000 ┆ 138 ┆ 236 ┆ 303 ┆ 006 ┆ 019 ┆ 266 ┆ 308 ┆ 017 ┆ 121 ┆ 004 ┆ 000 ┆ 013 ┆ 085 ┆ 007 ┆ 183 ┆ 009 ┆ 019 ┆ 015 ┆ 008 ┆ 033 ┆ 012 ┆ 005 ┆ 011 ┆ 167 ┆ 164 ┆ 054 ┆ 771 ┆ 064 ┆ 196 ┆ 002 ┆ 108 ┆ 229 ┆ 124 ┆ 215 ┆ 004 ┆ 010 ┆ 015 ┆ 007 ┆ 042 ┆ 013 ┆ 008 ┆ 004 ┆ 109 ┆ 168 ┆ 009 ┆ 010 ┆ 019 ┆ 095 ┆ 000 ┆ 054 ┆ 034 ┆ 015 ┆ 026 ┆ 048 ┆ 011 ┆ 031 ┆ 019 ┆ 029 ┆ 014 ┆ 030 ┆ 004 ┆ 019 ┆ 296 ┆ 056 ┆ 094 ┆ 029 ┆ 223 ┆ 045 ┆ 082 ┆ 059 ┆ 025 ┆ 000 ┆ 230 ┆ 021 ┆ 050 ┆ 379 ┆ 010 ┆ 016 ┆ 063 ┆ 523 ┆ 020 ┆ 08  ┆ 937 ┆     ┆ 184 ┆ 487 ┆ 011 ┆ 385 ┆ 661 ┆ 323 ┆ 545 ┆ 229 ┆     ┆     ┆     ┆     ┆     ┆     ┆     ┆     ┆     ┆     ┆     ┆     ┆     ┆     ┆     ┆     ┆     ┆     ┆     ┆     ┆     ┆     ┆     ┆     ┆ 686 ┆ 597 ┆ 862 ┆ 710 ┆     ┆ 288 ┆ 328 ┆ 233 ┆ 253 ┆ 641 ┆ 000 ┆ 000 ┆ 000 ┆ 000 ┆ 000 ┆ 001 ┆ 000 ┆ 002 ┆ 079 │\n",
       "│     ┆     ┆ 0   ┆     ┆     ┆ 125 ┆ 25  ┆     ┆     ┆ 95  ┆ 625 ┆     ┆     ┆     ┆     ┆     ┆     ┆     ┆     ┆     ┆     ┆     ┆     ┆     ┆     ┆     ┆     ┆     ┆     ┆     ┆     ┆     ┆ 114 ┆ 946 ┆ .5  ┆ 541 ┆ 562 ┆ .97 ┆ 828 ┆ 255 ┆ .23 ┆ 63  ┆ .23 ┆ 594 ┆ 655 ┆ 540 ┆ 566 ┆ 318 ┆ 440 ┆ 636 ┆ 113 ┆ 757 ┆ 701 ┆ 677 ┆ 06  ┆ 19  ┆ 26  ┆ 05  ┆ 14  ┆     ┆     ┆ 735 ┆ 252 ┆     ┆     ┆ 699 ┆ .95 ┆ 563 ┆ .0  ┆     ┆ 228 ┆ 79  ┆ 63  ┆     ┆     ┆     ┆ .29 ┆ 095 ┆ .0  ┆     ┆ .0  ┆ 245 ┆ 56  ┆     ┆     ┆     ┆ .38 ┆ 507 ┆ .0  ┆     ┆ .0  ┆ 281 ┆ 21  ┆     ┆     ┆     ┆ .26 ┆ 114 ┆ .0  ┆     ┆ .0  ┆ 151 ┆ 25  ┆     ┆     ┆     ┆ .96 ┆ 274 ┆ .0  ┆     ┆ .0  ┆ 389 ┆ 99  ┆     ┆     ┆ 48  ┆ .64 ┆ 487 ┆ .0  ┆     ┆ 468 ┆ 96  ┆ 58  ┆ 3   ┆ 8   ┆ 56  ┆ 264 ┆ 49  ┆ 072 ┆ 07  ┆ 81  ┆ 49  ┆ 25  ┆ 215 ┆ 634 ┆ 875 ┆ 19  ┆ 48  ┆ 08  ┆ 2   ┆ 23  ┆ 414 ┆ 69  ┆ 017 ┆ 678 ┆ 42  ┆ 545 ┆ 562 ┆ 44  ┆ 31  ┆ 5   ┆ 514 ┆ 031 ┆ 113 ┆ 6   ┆ 786 ┆ 537 ┆ 88  ┆ 342 ┆ 486 ┆ 07  ┆ 26  ┆ 94  ┆ 58  ┆ 39  ┆ 377 ┆ 902 ┆ 719 ┆ 77  ┆ 23  ┆ 5   ┆ 168 ┆ 88  ┆ 68  ┆ 6   ┆ 142 ┆ 53  ┆ 16  ┆ 58  ┆ 52  ┆ 572 ┆ 236 ┆ 884 ┆ 57  ┆ 63  ┆ 713 ┆ 375 ┆ 995 ┆ 69  ┆ 509 ┆ 27  ┆ 93  ┆ 47  ┆ 258 ┆ 555 ┆ 08  ┆ 169 ┆ 27  ┆ 05  ┆ 47  ┆ 621 ┆ 61  ┆ 099 ┆ 48  ┆ 875 ┆ 81  ┆ 74  ┆ 488 ┆ 97  ┆ 348 ┆ 589 ┆ 685 ┆ 964 ┆ 62  ┆ 32  ┆ 538 ┆ 61  ┆ 116 ┆ 739 ┆ 49  ┆ 22  ┆ 604 ┆ 521 ┆ 41  ┆ 991 ┆ 74  ┆ 104 ┆ 51  ┆ 486 ┆ 953 ┆ 18  ┆ 193 ┆ 812 ┆ 004 ┆ 3   ┆ 64  ┆ 98  ┆ 59  ┆ 79  ┆ 105 ┆ 28  ┆ 758 ┆ 49  ┆ 858 ┆ 78  ┆ 19  ┆ 6   ┆ 585 ┆ 078 ┆ 9   ┆ 76  ┆ 912 ┆ 778 ┆ 967 ┆ 773 ┆ 54  ┆ 35  ┆ 148 ┆ 561 ┆ 039 ┆ 48  ┆ 7   ┆ 309 ┆ 65  ┆ 929 ┆ 12  ┆ 9   ┆ 09  ┆ 467 ┆ 652 ┆ 605 ┆ 32  ┆ 79  ┆ 566 ┆ 535 ┆ 99  ┆ 96  ┆ 741 ┆ 203 ┆ 146 ┆ 33  ┆ 806 ┆ 67  ┆ 28  ┆ 604 ┆ 1   ┆ 729 ┆ 89  ┆ 91  ┆ 86  ┆ 834 ┆ 702 ┆ 452 ┆ 967 ┆ 49  ┆ 508 ┆ 268 ┆ 88  ┆ 235 ┆ 982 ┆ 039 ┆ 059 ┆ 936 ┆ 201 ┆ 46  ┆ 02  ┆ 056 ┆ 253 ┆ 24  ┆ 314 ┆ 25  ┆ 912 ┆ 238 ┆ 682 ┆ 921 ┆ 96  ┆ 97  ┆ 65  ┆ 766 ┆ 51  ┆ 63  ┆ 67  ┆ 447 ┆ 732 ┆ 704 ┆ 55  ┆ 727 ┆ 729 ┆ 003 ┆ 55  ┆ 5   ┆ 09  ┆ 127 ┆ 427 ┆ 72  ┆ 898 ┆ 42  ┆ 2   ┆ 77  ┆ 195 ┆ 93  ┆ 242 ┆ 22  ┆ 43  ┆ 072 ┆ 878 ┆ 64  ┆ 29  ┆ 57  ┆ 084 ┆ 059 ┆ 125 ┆ 015 ┆ 945 ┆ 75  ┆ 132 ┆ 25  ┆ 129 ┆ 236 ┆ 16  ┆ 57  ┆ 8   ┆ 71  ┆ 459 ┆ 893 ┆ 084 ┆ 992 ┆ 07  ┆ 28  ┆ 13  ┆ 009 ┆ 87  ┆ 3   ┆ 78  ┆ 37  ┆ 263 ┆ 969 ┆ 74  ┆ 09  ┆ 08  ┆ 652 ┆ 24  ┆ 691 ┆ 05  ┆ 45  ┆ 46  ┆ 06  ┆ 37  ┆ 064 ┆ 201 ┆ 156 ┆ 75  ┆ 55  ┆ 544 ┆ 79  ┆ 716 ┆ 48  ┆ 11  ┆ 764 ┆ 531 ┆ 62  ┆ 072 ┆ 41  ┆ 82  ┆ 575 ┆ 976 ┆ 96  ┆ 22  ┆ 336 ┆ 36  ┆ 256 ┆ 762 ┆ 572 ┆ 509 ┆ 7   ┆ 9   ┆ 702 ┆ 584 ┆ 46  ┆ 977 ┆ 86  ┆ 08  ┆ 784 ┆ 3   ┆ 485 ┆ 22  ┆ 684 ┆ 666 ┆ 26  ┆ 614 ┆ 96  ┆ 06  ┆ 702 ┆ 981 ┆ 49  ┆ 263 ┆ 09  ┆ 53  ┆ 912 ┆ 86  ┆ 77  ┆ 884 ┆ 256 ┆ 334 ┆ 783 ┆ 846 ┆ 194 ┆ 11  ┆ 4   ┆ 42  ┆ 85  ┆ 38  ┆ 25  ┆ 06  ┆ 12  ┆ 87  ┆ 15  ┆ 31  ┆ 336 ┆ 29  ┆ 62  ┆ 64  ┆ 46  ┆ 76  ┆ 05  ┆ 542 ┆ 484 ┆ 017 ┆ 61  ┆ 745 ┆ 96  ┆ 423 ┆ 453 ┆ 302 ┆ 811 ┆ 2   ┆ 386 ┆ 25  ┆ 801 ┆ 23  ┆ 259 ┆ 74  ┆ 11  ┆ 652 ┆ 618 ┆ 625 ┆ 31  ┆ 112 ┆ 962 ┆ 06  ┆ 356 ┆ 098 ┆ 34  ┆ 496 ┆ 837 ┆ 43  ┆ 62  ┆ 65  ┆ 05  ┆ 174 ┆ 431 ┆ 835 ┆ 08  ┆ 814 ┆ 106 ┆ 076 ┆ 091 ┆ 745 ┆ 42  ┆ 866 ┆ 37  ┆ 66  ┆ 297 ┆ 424 ┆ 15  ┆ 797 ┆ 883 ┆ 76  ┆ 662 ┆ 4   ┆ 81  ┆ 398 ┆ 736 ┆ 084 ┆ 01  ┆ 55  ┆ 72  ┆ 55  ┆ 23  ┆ 483 ┆ 821 ┆ 777 ┆ 08  ┆ 383 ┆ 88  ┆ 91  ┆ 879 ┆ 4   ┆ 07  ┆ 22  ┆ 737 ┆ 64  ┆ 62  ┆ 006 ┆ 862 ┆ 42  ┆ 94  ┆ 39  ┆ 4   ┆ 872 ┆ 6   ┆ 121 ┆ 22  ┆ 233 ┆ 69  ┆ 27  ┆ 578 ┆ 42  ┆ 12  ┆ 766 ┆ 277 ┆ 371 ┆ 88  ┆ 24  ┆ 25  ┆ 656 ┆ 9   ┆ 63  ┆ 507 ┆ 365 ┆ 51  ┆ 203 ┆ 51  ┆ 835 ┆ 558 ┆ 098 ┆ 85  ┆ 71  ┆ 86  ┆ 818 ┆ 62  ┆ 97  ┆ 952 ┆ 079 ┆ 44  ┆ 74  ┆ 415 ┆ 13  ┆ 88  ┆ 108 ┆ 6   ┆ 57  ┆ 708 ┆ 12  ┆ 836 ┆ 186 ┆ 79  ┆ 224 ┆ 008 ┆ 875 ┆ 9   ┆ 283 ┆ 28  ┆ 155 ┆ 873 ┆ 54  ┆ 24  ┆ 816 ┆ 97  ┆ 94  ┆ 52  ┆ 588 ┆ 845 ┆ 97  ┆ 84  ┆ 28  ┆ 475 ┆ 18  ┆ 84  ┆ 66  ┆ 14  ┆ 43  ┆ 982 ┆ 98  ┆ 856 ┆ 915 ┆ 56  ┆ 2   ┆ 141 ┆ 244 ┆ 91  ┆ 612 ┆ 34  ┆ 798 ┆ 87  ┆ 651 ┆ 29  ┆ 899 ┆ 72  ┆ 41  ┆ 331 ┆ 71  ┆ 521 ┆ 95  ┆ 83  ┆ 54  ┆ 288 ┆ 554 ┆ 82  ┆ 92  ┆ 804 ┆ 25  ┆ 624 ┆ 429 ┆ 215 ┆ 16  ┆ 392 ┆ 23  ┆ 093 ┆ 27  ┆ 844 ┆ 903 ┆ 844 ┆ 702 ┆ 749 ┆ 8   ┆ 3   ┆ 09  ┆ 018 ┆ 61  ┆ 15  ┆ 1   ┆ 207 ┆ 52  ┆ 38  ┆ 32  ┆ 77  ┆ 661 ┆ 589 ┆ 18  ┆ 164 ┆ 279 ┆ 376 ┆ 849 ┆ 048 ┆ 39  ┆ 75  ┆ 601 ┆ 146 ┆ 207 ┆ 6   ┆ 76  ┆ 91  ┆ 78  ┆ 755 ┆ 254 ┆ 59  ┆ 407 ┆ 029 ┆ 68  ┆ 678 ┆ 237 ┆ 001 ┆ 1   ┆ 747 ┆ 83  ┆ 09  ┆ 097 ┆ 23  ┆ 66  ┆ 85  ┆ 58  ┆ 648 ┆ 628 ┆ 388 ┆ 5   ┆ 36  ┆ 652 ┆ 03  ┆ 407 ┆ 422 ┆ 96  ┆ 72  ┆ 715 ┆     ┆ 3e- ┆     ┆ e-1 ┆ e-1 ┆ 3e- ┆ 8e- ┆ 5e- ┆ e-1 ┆ e-1 ┆ e-1 ┆     ┆     ┆     ┆     ┆     ┆     ┆     ┆     ┆     ┆     ┆     ┆     ┆     ┆     ┆     ┆     ┆     ┆     ┆     ┆     ┆     ┆     ┆     ┆     ┆ 3e- ┆ 7e- ┆ 3e- ┆ 0e- ┆     ┆ 8e- ┆ 7e- ┆ e-1 ┆ 7e- ┆ 1e- ┆ 04  ┆ 08  ┆ 041 ┆ 041 ┆ 74  ┆ 025 ┆ 594 ┆ 54  ┆ 39  │\n",
       "│     ┆     ┆     ┆     ┆     ┆     ┆     ┆     ┆     ┆     ┆     ┆     ┆     ┆     ┆     ┆     ┆     ┆     ┆     ┆     ┆     ┆     ┆     ┆     ┆     ┆     ┆     ┆     ┆     ┆     ┆     ┆     ┆ 258 ┆ 53  ┆     ┆ 016 ┆ 99  ┆ 656 ┆ 125 ┆ 37  ┆ 437 ┆     ┆ 437 ┆ 46  ┆ 54  ┆ 583 ┆ 996 ┆ 128 ┆ 064 ┆ 63  ┆ 801 ┆ 576 ┆ 493 ┆ 094 ┆     ┆     ┆     ┆     ┆     ┆     ┆     ┆     ┆     ┆     ┆     ┆     ┆ 220 ┆ 704 ┆     ┆     ┆ 185 ┆     ┆     ┆     ┆     ┆     ┆ 310 ┆ 717 ┆     ┆     ┆     ┆     ┆     ┆     ┆     ┆     ┆ 760 ┆ 136 ┆     ┆     ┆     ┆     ┆     ┆     ┆     ┆     ┆ 014 ┆ 027 ┆     ┆     ┆     ┆     ┆     ┆     ┆     ┆     ┆ 618 ┆ 07  ┆     ┆     ┆     ┆     ┆     ┆     ┆     ┆     ┆ 890 ┆ 533 ┆     ┆     ┆ 518 ┆     ┆     ┆     ┆     ┆     ┆     ┆     ┆     ┆     ┆     ┆     ┆     ┆     ┆     ┆     ┆     ┆     ┆     ┆     ┆     ┆     ┆     ┆     ┆     ┆     ┆     ┆     ┆     ┆     ┆     ┆     ┆     ┆     ┆     ┆     ┆     ┆     ┆     ┆     ┆     ┆     ┆     ┆     ┆     ┆     ┆     ┆     ┆     ┆     ┆     ┆     ┆     ┆     ┆     ┆     ┆     ┆     ┆     ┆     ┆     ┆     ┆     ┆     ┆     ┆     ┆     ┆     ┆     ┆     ┆     ┆     ┆     ┆     ┆     ┆     ┆     ┆     ┆     ┆     ┆     ┆     ┆     ┆     ┆     ┆     ┆     ┆     ┆     ┆     ┆     ┆     ┆     ┆     ┆     ┆     ┆     ┆     ┆     ┆     ┆     ┆     ┆     ┆     ┆     ┆     ┆     ┆     ┆     ┆     ┆     ┆     ┆     ┆     ┆     ┆     ┆     ┆     ┆     ┆     ┆     ┆     ┆     ┆     ┆     ┆     ┆     ┆     ┆     ┆     ┆     ┆     ┆     ┆     ┆     ┆     ┆     ┆     ┆     ┆     ┆     ┆     ┆     ┆     ┆     ┆     ┆     ┆     ┆     ┆     ┆     ┆     ┆     ┆     ┆     ┆     ┆     ┆     ┆     ┆     ┆     ┆     ┆     ┆     ┆     ┆     ┆     ┆     ┆     ┆     ┆     ┆     ┆     ┆     ┆     ┆     ┆     ┆     ┆     ┆     ┆     ┆     ┆     ┆     ┆     ┆     ┆     ┆     ┆     ┆     ┆     ┆     ┆     ┆     ┆     ┆     ┆     ┆     ┆     ┆     ┆     ┆     ┆     ┆     ┆     ┆     ┆     ┆     ┆     ┆     ┆     ┆     ┆     ┆     ┆     ┆     ┆     ┆     ┆     ┆     ┆     ┆     ┆     ┆     ┆     ┆     ┆     ┆     ┆     ┆     ┆     ┆     ┆     ┆     ┆     ┆     ┆     ┆     ┆     ┆     ┆     ┆     ┆     ┆     ┆     ┆     ┆     ┆     ┆     ┆     ┆     ┆     ┆     ┆     ┆     ┆     ┆     ┆     ┆     ┆     ┆     ┆     ┆     ┆     ┆     ┆     ┆     ┆     ┆     ┆     ┆     ┆     ┆     ┆     ┆     ┆     ┆     ┆     ┆     ┆     ┆     ┆     ┆     ┆     ┆     ┆     ┆     ┆     ┆     ┆     ┆     ┆     ┆     ┆     ┆     ┆     ┆     ┆     ┆     ┆     ┆     ┆     ┆     ┆     ┆     ┆     ┆     ┆     ┆     ┆     ┆     ┆     ┆     ┆     ┆     ┆     ┆     ┆     ┆     ┆     ┆     ┆     ┆     ┆     ┆     ┆     ┆     ┆     ┆     ┆     ┆     ┆     ┆     ┆     ┆     ┆     ┆     ┆     ┆     ┆     ┆     ┆     ┆     ┆     ┆     ┆     ┆     ┆     ┆     ┆     ┆     ┆     ┆     ┆     ┆     ┆     ┆     ┆     ┆     ┆     ┆     ┆     ┆     ┆     ┆     ┆     ┆     ┆     ┆     ┆     ┆     ┆     ┆     ┆     ┆     ┆     ┆     ┆     ┆     ┆     ┆     ┆     ┆     ┆     ┆     ┆     ┆     ┆     ┆     ┆     ┆     ┆     ┆     ┆     ┆     ┆     ┆     ┆     ┆     ┆     ┆     ┆     ┆     ┆     ┆     ┆     ┆     ┆     ┆     ┆     ┆     ┆     ┆     ┆     ┆     ┆     ┆     ┆     ┆     ┆     ┆     ┆     ┆     ┆     ┆     ┆     ┆     ┆     ┆     ┆     ┆     ┆     ┆     ┆     ┆     ┆     ┆     ┆     ┆     ┆     ┆     ┆     ┆     ┆     ┆     ┆     ┆     ┆     ┆     ┆     ┆     ┆     ┆     ┆     ┆     ┆     ┆     ┆     ┆     ┆     ┆     ┆     ┆     ┆     ┆     ┆     ┆     ┆     ┆     ┆     ┆     ┆     ┆     ┆     ┆     ┆     ┆     ┆     ┆     ┆     ┆     ┆     ┆     ┆     ┆     ┆     ┆     ┆     ┆     ┆     ┆     ┆     ┆     ┆     ┆     ┆     ┆     ┆     ┆     ┆     ┆     ┆     ┆     ┆     ┆     ┆     ┆     ┆     ┆     ┆     ┆     ┆     ┆     ┆     ┆     ┆     ┆     ┆     ┆     ┆     ┆     ┆     ┆     ┆     ┆     ┆     ┆     ┆     ┆     ┆     ┆     ┆     ┆     ┆     ┆     ┆     ┆     ┆     ┆     ┆     ┆     ┆     ┆     ┆     ┆     ┆     ┆     ┆     ┆     ┆     ┆     ┆     ┆     ┆     ┆     ┆     ┆     ┆     ┆     ┆     ┆     ┆     ┆     ┆     ┆     ┆     ┆     ┆     ┆     ┆     ┆     ┆     ┆     ┆     ┆     ┆     ┆     ┆     ┆     ┆     ┆     ┆     ┆     ┆     ┆     ┆     ┆     ┆     ┆     ┆     ┆     ┆     ┆     ┆     ┆     ┆     ┆     ┆     ┆     ┆     ┆     ┆     ┆     ┆     ┆     ┆ 16  ┆     ┆ 2   ┆ 3   ┆ 12  ┆ 12  ┆ 13  ┆ 2   ┆ 2   ┆ 1   ┆     ┆     ┆     ┆     ┆     ┆     ┆     ┆     ┆     ┆     ┆     ┆     ┆     ┆     ┆     ┆     ┆     ┆     ┆     ┆     ┆     ┆     ┆     ┆     ┆ 17  ┆ 16  ┆ 17  ┆ 16  ┆     ┆ 15  ┆ 16  ┆ 7   ┆ 18  ┆ 7   ┆     ┆     ┆     ┆     ┆     ┆     ┆     ┆     ┆     │\n",
       "│     ┆     ┆     ┆     ┆     ┆     ┆     ┆     ┆     ┆     ┆     ┆     ┆     ┆     ┆     ┆     ┆     ┆     ┆     ┆     ┆     ┆     ┆     ┆     ┆     ┆     ┆     ┆     ┆     ┆     ┆     ┆     ┆     ┆     ┆     ┆     ┆     ┆ 2   ┆     ┆     ┆ 5   ┆     ┆ 5   ┆     ┆     ┆     ┆     ┆     ┆     ┆     ┆     ┆     ┆     ┆     ┆     ┆     ┆     ┆     ┆     ┆     ┆     ┆     ┆     ┆     ┆     ┆     ┆ 4   ┆     ┆     ┆     ┆     ┆     ┆     ┆     ┆     ┆     ┆ 2   ┆     ┆     ┆     ┆     ┆     ┆     ┆     ┆     ┆     ┆ 9   ┆     ┆     ┆     ┆     ┆     ┆     ┆     ┆     ┆     ┆ 7   ┆     ┆     ┆     ┆     ┆     ┆     ┆     ┆     ┆     ┆ 3   ┆     ┆     ┆     ┆     ┆     ┆     ┆     ┆     ┆     ┆ 7   ┆     ┆     ┆     ┆     ┆     ┆     ┆     ┆     ┆     ┆     ┆     ┆     ┆     ┆     ┆     ┆     ┆     ┆     ┆     ┆     ┆     ┆     ┆     ┆     ┆     ┆     ┆     ┆     ┆     ┆     ┆     ┆     ┆     ┆     ┆     ┆     ┆     ┆     ┆     ┆     ┆     ┆     ┆     ┆     ┆     ┆     ┆     ┆     ┆     ┆     ┆     ┆     ┆     ┆     ┆     ┆     ┆     ┆     ┆     ┆     ┆     ┆     ┆     ┆     ┆     ┆     ┆     ┆     ┆     ┆     ┆     ┆     ┆     ┆     ┆     ┆     ┆     ┆     ┆     ┆     ┆     ┆     ┆     ┆     ┆     ┆     ┆     ┆     ┆     ┆     ┆     ┆     ┆     ┆     ┆     ┆     ┆     ┆     ┆     ┆     ┆     ┆     ┆     ┆     ┆     ┆     ┆     ┆     ┆     ┆     ┆     ┆     ┆     ┆     ┆     ┆     ┆     ┆     ┆     ┆     ┆     ┆     ┆     ┆     ┆     ┆     ┆     ┆     ┆     ┆     ┆     ┆     ┆     ┆     ┆     ┆     ┆     ┆     ┆     ┆     ┆     ┆     ┆     ┆     ┆     ┆     ┆     ┆     ┆     ┆     ┆     ┆     ┆     ┆     ┆     ┆     ┆     ┆     ┆     ┆     ┆     ┆     ┆     ┆     ┆     ┆     ┆     ┆     ┆     ┆     ┆     ┆     ┆     ┆     ┆     ┆     ┆     ┆     ┆     ┆     ┆     ┆     ┆     ┆     ┆     ┆     ┆     ┆     ┆     ┆     ┆     ┆     ┆     ┆     ┆     ┆     ┆     ┆     ┆     ┆     ┆     ┆     ┆     ┆     ┆     ┆     ┆     ┆     ┆     ┆     ┆     ┆     ┆     ┆     ┆     ┆     ┆     ┆     ┆     ┆     ┆     ┆     ┆     ┆     ┆     ┆     ┆     ┆     ┆     ┆     ┆     ┆     ┆     ┆     ┆     ┆     ┆     ┆     ┆     ┆     ┆     ┆     ┆     ┆     ┆     ┆     ┆     ┆     ┆     ┆     ┆     ┆     ┆     ┆     ┆     ┆     ┆     ┆     ┆     ┆     ┆     ┆     ┆     ┆     ┆     ┆     ┆     ┆     ┆     ┆     ┆     ┆     ┆     ┆     ┆     ┆     ┆     ┆     ┆     ┆     ┆     ┆     ┆     ┆     ┆     ┆     ┆     ┆     ┆     ┆     ┆     ┆     ┆     ┆     ┆     ┆     ┆     ┆     ┆     ┆     ┆     ┆     ┆     ┆     ┆     ┆     ┆     ┆     ┆     ┆     ┆     ┆     ┆     ┆     ┆     ┆     ┆     ┆     ┆     ┆     ┆     ┆     ┆     ┆     ┆     ┆     ┆     ┆     ┆     ┆     ┆     ┆     ┆     ┆     ┆     ┆     ┆     ┆     ┆     ┆     ┆     ┆     ┆     ┆     ┆     ┆     ┆     ┆     ┆     ┆     ┆     ┆     ┆     ┆     ┆     ┆     ┆     ┆     ┆     ┆     ┆     ┆     ┆     ┆     ┆     ┆     ┆     ┆     ┆     ┆     ┆     ┆     ┆     ┆     ┆     ┆     ┆     ┆     ┆     ┆     ┆     ┆     ┆     ┆     ┆     ┆     ┆     ┆     ┆     ┆     ┆     ┆     ┆     ┆     ┆     ┆     ┆     ┆     ┆     ┆     ┆     ┆     ┆     ┆     ┆     ┆     ┆     ┆     ┆     ┆     ┆     ┆     ┆     ┆     ┆     ┆     ┆     ┆     ┆     ┆     ┆     ┆     ┆     ┆     ┆     ┆     ┆     ┆     ┆     ┆     ┆     ┆     ┆     ┆     ┆     ┆     ┆     ┆     ┆     ┆     ┆     ┆     ┆     ┆     ┆     ┆     ┆     ┆     ┆     ┆     ┆     ┆     ┆     ┆     ┆     ┆     ┆     ┆     ┆     ┆     ┆     ┆     ┆     ┆     ┆     ┆     ┆     ┆     ┆     ┆     ┆     ┆     ┆     ┆     ┆     ┆     ┆     ┆     ┆     ┆     ┆     ┆     ┆     ┆     ┆     ┆     ┆     ┆     ┆     ┆     ┆     ┆     ┆     ┆     ┆     ┆     ┆     ┆     ┆     ┆     ┆     ┆     ┆     ┆     ┆     ┆     ┆     ┆     ┆     ┆     ┆     ┆     ┆     ┆     ┆     ┆     ┆     ┆     ┆     ┆     ┆     ┆     ┆     ┆     ┆     ┆     ┆     ┆     ┆     ┆     ┆     ┆     ┆     ┆     ┆     ┆     ┆     ┆     ┆     ┆     ┆     ┆     ┆     ┆     ┆     ┆     ┆     ┆     ┆     ┆     ┆     ┆     ┆     ┆     ┆     ┆     ┆     ┆     ┆     ┆     ┆     ┆     ┆     ┆     ┆     ┆     ┆     ┆     ┆     ┆     ┆     ┆     ┆     ┆     ┆     ┆     ┆     ┆     ┆     ┆     ┆     ┆     ┆     ┆     ┆     ┆     ┆     ┆     ┆     ┆     ┆     ┆     ┆     ┆     ┆     ┆     ┆     ┆     ┆     ┆     ┆     ┆     ┆     ┆     ┆     ┆     ┆     ┆     ┆     ┆     ┆     ┆     ┆     ┆     ┆     ┆     ┆     ┆     ┆     ┆     ┆     ┆     ┆     ┆     ┆     ┆     ┆     ┆     ┆     ┆     ┆     ┆     ┆     ┆     ┆     ┆     ┆     ┆     ┆     ┆     ┆     ┆     ┆     ┆     ┆     ┆     ┆     ┆     ┆     ┆     ┆     ┆     ┆     ┆     ┆     ┆     ┆     ┆     ┆     ┆     ┆     │\n",
       "│ 201 ┆ 4   ┆ 134 ┆ 1.1 ┆ 10  ┆ 134 ┆ 335 ┆ 43. ┆ -12 ┆ 0.9 ┆ -1. ┆ 7   ┆ 30. ┆ 4.0 ┆ 5.0 ┆ 4.0 ┆ 3.0 ┆ 3.0 ┆ 3.0 ┆ 14. ┆ 12. ┆ 37. ┆ 100 ┆ 381 ┆ 247 ┆ 985 ┆ 204 ┆ 146 ┆ 941 ┆ 925 ┆ 101 ┆ 645 ┆ 993 ┆ 200 ┆ 115 ┆ 100 ┆ 201 ┆ 122 ┆ 997 ┆ 201 ┆ 118 ┆ 2.5 ┆ 155 ┆ 946 ┆ 397 ┆ 100 ┆ 122 ┆ 123 ┆ 139 ┆ 981 ┆ 993 ┆ 147 ┆ 136 ┆ 141 ┆ 1.0 ┆ 0.9 ┆ 0.8 ┆ 1.0 ┆ 0.9 ┆ 4   ┆ 2   ┆ 12. ┆ 6.3 ┆ 95  ┆ 1   ┆ 3.2 ┆ 122 ┆ 584 ┆ 396 ┆ 491 ┆ -51 ┆ 12. ┆ 9.0 ┆ 95  ┆ 1   ┆ 94  ┆ 966 ┆ 576 ┆ 353 ┆ 73. ┆ 353 ┆ 12. ┆ 7.0 ┆ 95  ┆ 1   ┆ 94  ┆ 117 ┆ 587 ┆ 396 ┆ 73. ┆ 396 ┆ 15. ┆ 9.9 ┆ 101 ┆ 1   ┆ 100 ┆ 117 ┆ 586 ┆ 396 ┆ 22. ┆ 396 ┆ 13. ┆ 7.6 ┆ 101 ┆ 1   ┆ 100 ┆ 120 ┆ 579 ┆ 392 ┆ 22. ┆ 392 ┆ 13. ┆ 7.1 ┆ 101 ┆ 1   ┆ 2.1 ┆ 115 ┆ 559 ┆ 396 ┆ 22. ┆ 166 ┆ 0.9 ┆ 0.8 ┆ 0.4 ┆ -0. ┆ 0.4 ┆ -0. ┆ 0.0 ┆ -0. ┆ 0.7 ┆ 0.6 ┆ 0.0 ┆ 0.3 ┆ -0. ┆ -0. ┆ -0. ┆ 0.3 ┆ -0. ┆ -0. ┆ 0.5 ┆ -0. ┆ -0. ┆ -0. ┆ -1. ┆ -1. ┆ 0.0 ┆ 0.2 ┆ -1. ┆ 1.1 ┆ 1.6 ┆ -0. ┆ -0. ┆ 0.0 ┆ -0. ┆ 0.4 ┆ -0. ┆ -1. ┆ 0.8 ┆ -0. ┆ -0. ┆ 0.3 ┆ 0.2 ┆ -0. ┆ 0.9 ┆ 0.8 ┆ -0. ┆ 0.2 ┆ -0. ┆ 0.1 ┆ 0.7 ┆ 0.2 ┆ -1. ┆ 0.8 ┆ 0.2 ┆ 0.7 ┆ -0. ┆ 0.3 ┆ -0. ┆ 0.8 ┆ 1.1 ┆ -0. ┆ -0. ┆ -0. ┆ -1. ┆ -0. ┆ 0.0 ┆ -0. ┆ -0. ┆ 0.2 ┆ -0. ┆ 1.6 ┆ 0.5 ┆ -0. ┆ -0. ┆ 0.0 ┆ -1. ┆ 0.1 ┆ -0. ┆ 0.1 ┆ 0.3 ┆ 0.2 ┆ 0.9 ┆ -0. ┆ -0. ┆ 0.6 ┆ -0. ┆ 0.1 ┆ -0. ┆ 0.6 ┆ -0. ┆ -0. ┆ -0. ┆ -0. ┆ -0. ┆ -0. ┆ -0. ┆ -0. ┆ -0. ┆ -0. ┆ 0.8 ┆ 0.3 ┆ -0. ┆ -0. ┆ 0.0 ┆ -0. ┆ 0.7 ┆ -1. ┆ -0. ┆ 0.0 ┆ -0. ┆ 0.2 ┆ 0.0 ┆ -0. ┆ -0. ┆ 0.3 ┆ 0.1 ┆ -0. ┆ 0.0 ┆ -0. ┆ -0. ┆ 0.1 ┆ -0. ┆ 0.5 ┆ 0.0 ┆ 0.0 ┆ 0.1 ┆ 0.2 ┆ -0. ┆ 0.0 ┆ 0.2 ┆ 0.1 ┆ 0.0 ┆ -0. ┆ -0. ┆ -0. ┆ 0.6 ┆ -0. ┆ -0. ┆ 0.0 ┆ -0. ┆ 1.2 ┆ 0.0 ┆ -1. ┆ 0.0 ┆ 0.1 ┆ -0. ┆ 0.1 ┆ 0.7 ┆ -0. ┆ -0. ┆ -0. ┆ 1.4 ┆ -0. ┆ -0. ┆ -0. ┆ 0.4 ┆ 0.1 ┆ -0. ┆ 0.0 ┆ -0. ┆ 0.0 ┆ -0. ┆ 0.6 ┆ 0.2 ┆ 0.0 ┆ 0.1 ┆ -0. ┆ 0.9 ┆ 0.1 ┆ -0. ┆ 0.1 ┆ -0. ┆ -0. ┆ -0. ┆ 0.1 ┆ -0. ┆ -0. ┆ 0.6 ┆ -1. ┆ -1. ┆ 0.1 ┆ -1. ┆ -0. ┆ -1. ┆ 0.2 ┆ -0. ┆ 0.3 ┆ -0. ┆ 1.2 ┆ -0. ┆ 0.1 ┆ -0. ┆ -0. ┆ -0. ┆ -0. ┆ -0. ┆ 0.7 ┆ -0. ┆ -0. ┆ 0.1 ┆ -0. ┆ 0.1 ┆ -1. ┆ -0. ┆ -0. ┆ -0. ┆ -1. ┆ 0.1 ┆ -0. ┆ 0.5 ┆ 0.2 ┆ 0.4 ┆ 0.3 ┆ -0. ┆ 0.6 ┆ -0. ┆ 0.7 ┆ 0.5 ┆ 0.5 ┆ -0. ┆ -0. ┆ -1. ┆ 0.1 ┆ 0.6 ┆ 0.0 ┆ -0. ┆ 0.1 ┆ 0.7 ┆ 0.8 ┆ -0. ┆ -0. ┆ 0.1 ┆ -0. ┆ 0.3 ┆ 0.4 ┆ -0. ┆ 0.1 ┆ -0. ┆ -0. ┆ 0.5 ┆ -0. ┆ 1.2 ┆ 0.1 ┆ -1. ┆ -0. ┆ -1. ┆ -0. ┆ 0.8 ┆ 0.5 ┆ 0.9 ┆ 0.2 ┆ 0.3 ┆ 0.7 ┆ 0.5 ┆ 0.5 ┆ 0.2 ┆ -0. ┆ 0.1 ┆ 0.0 ┆ -0. ┆ -0. ┆ 1.3 ┆ -0. ┆ -0. ┆ 0.5 ┆ 0.4 ┆ 0.3 ┆ -0. ┆ -0. ┆ -0. ┆ -0. ┆ 0.4 ┆ 0.2 ┆ -0. ┆ 0.4 ┆ 0.3 ┆ 0.1 ┆ 0.0 ┆ -1. ┆ 0.0 ┆ 0.9 ┆ -0. ┆ -0. ┆ 0.3 ┆ -0. ┆ -0. ┆ 0.1 ┆ 0.1 ┆ -0. ┆ 0.4 ┆ -0. ┆ -0. ┆ 0.1 ┆ -0. ┆ 0.2 ┆ -0. ┆ -0. ┆ -0. ┆ 0.7 ┆ -0. ┆ -0. ┆ 10. ┆ -0. ┆ 0.4 ┆ -0. ┆ -0. ┆ -0. ┆ -0. ┆ 0.0 ┆ -0. ┆ 0.0 ┆ 0.0 ┆ 0.0 ┆ -0. ┆ 0.0 ┆ -0. ┆ 0.0 ┆ 0.0 ┆ -0. ┆ -0. ┆ 0.0 ┆ 0.0 ┆ -0. ┆ -0. ┆ -0. ┆ -0. ┆ -0. ┆ 0.0 ┆ 0.0 ┆ 0.0 ┆ -0. ┆ 0.0 ┆ 0.0 ┆ -0. ┆ 0.0 ┆ 0.0 ┆ 0.0 ┆ 0.0 ┆ -0. ┆ 0.0 ┆ 0.0 ┆ 0.0 ┆ 0.0 ┆ 0.0 ┆ 0.0 ┆ -0. ┆ -0. ┆ -0. ┆ 0.0 ┆ -0. ┆ 0.0 ┆ -0. ┆ -0. ┆ -0. ┆ 0.0 ┆ 0.0 ┆ -0. ┆ 0.0 ┆ -0. ┆ -0. ┆ -0. ┆ 0.0 ┆ -0. ┆ -0. ┆ -0. ┆ 0.0 ┆ -0. ┆ -0. ┆ -0. ┆ 0.0 ┆ -0. ┆ -0. ┆ 0.0 ┆ -0. ┆ 0.0 ┆ 0.0 ┆ 0.0 ┆ 0.0 ┆ -0. ┆ -0. ┆ -0. ┆ -0. ┆ 0.0 ┆ -0. ┆ -0. ┆ -0. ┆ -0. ┆ -0. ┆ 0.0 ┆ -0. ┆ 0.0 ┆ 0.0 ┆ -0. ┆ -0. ┆ 0.0 ┆ -0. ┆ -0. ┆ 0.0 ┆ -0. ┆ 0.0 ┆ 0.0 ┆ -0. ┆ -0. ┆ -0. ┆ 0.0 ┆ 0.0 ┆ 0.0 ┆ 0.0 ┆ -0. ┆ -0. ┆ -0. ┆ -0. ┆ 0.0 ┆ -0. ┆ -0. ┆ 0.0 ┆ -0. ┆ 0.0 ┆ 0.0 ┆ 0.0 ┆ -0. ┆ 0.0 ┆ 0.0 ┆ -0. ┆ -0. ┆ 0.0 ┆ 0.0 ┆ 0.0 ┆ 0.0 ┆ -0. ┆ -0. ┆ -0. ┆ 0.0 ┆ -0. ┆ 0.0 ┆ 0.0 ┆ -0. ┆ 0.0 ┆ 0.0 ┆ 0.0 ┆ -0. ┆ -0. ┆ 0.0 ┆ 0.0 ┆ -0. ┆ -0. ┆ 0.0 ┆ 0.0 ┆ -0. ┆ -0. ┆ 0.0 ┆ -0. ┆ -0. ┆ -0. ┆ -0. ┆ -0. ┆ 0.0 ┆ 0.0 ┆ 0.0 ┆ -0. ┆ 0.0 ┆ 0.0 ┆ -0. ┆ -0. ┆ 0.0 ┆ 0.0 ┆ -0. ┆ 0.0 ┆ 0.0 ┆ 0.0 ┆ 0.0 ┆ 0.0 ┆ -0. ┆ -0. ┆ -0. ┆ -0. ┆ 0.0 ┆ -0. ┆ -0. ┆ -0. ┆ -0. ┆ -0. ┆ 0.0 ┆ -0. ┆ -0. ┆ -0. ┆ 0.0 ┆ -0. ┆ -0. ┆ 0.0 ┆ 0.0 ┆ -0. ┆ -0. ┆ 0.0 ┆ 0.0 ┆ -0. ┆ -0. ┆ 0.0 ┆ 0.0 ┆ 0.0 ┆ -0. ┆ 0.0 ┆ -0. ┆ 0.0 ┆ -0. ┆ -0. ┆ 0.0 ┆ 0.0 ┆ -0. ┆ -0. ┆ 0.0 ┆ -0. ┆ 0.0 ┆ -0. ┆ 0.0 ┆ -0. ┆ 0.0 ┆ -0. ┆ 0.0 ┆ 0.0 ┆ -0. ┆ 0.0 ┆ -0. ┆ 0.0 ┆ 0.0 ┆ 0.0 ┆ -0. ┆ -0. ┆ 0.0 ┆ 0.0 ┆ -0. ┆ 0.0 ┆ -0. ┆ -0. ┆ -0. ┆ 0.0 ┆ -0. ┆ 0.0 ┆ -0. ┆ 0.0 ┆ -0. ┆ -0. ┆ -0. ┆ -0. ┆ -0. ┆ -0. ┆ 0.0 ┆ 0.0 ┆ -0. ┆ 0.2 ┆ 0.0 ┆ 0.0 ┆ -0. ┆ 0.0 ┆ 0.0 ┆ 0.0 ┆ 0.0 ┆ -0. ┆ -0. ┆ -0. ┆ -0. ┆ -0. ┆ -0. ┆ -0. ┆ -0. ┆ 0.0 ┆ 0.0 ┆ -0. ┆ -0. ┆ -0. ┆ 0.0 ┆ -0. ┆ 0.0 ┆ 0.0 ┆ -0. ┆ -0. ┆ 0.0 ┆ -0. ┆ -0. ┆ -0. ┆ -0. ┆ -0. ┆ -0. ┆ -0. ┆ -0. ┆ 0.0 ┆ 0.0 ┆ -0. ┆ -0. ┆ 0.0 ┆ 0.0 ┆ 0.0 ┆ -0. ┆ -0. ┆ -0. ┆ 0.0 ┆ -0. ┆ -0. ┆ 0.0 ┆ -0. ┆ -0. ┆ 0.0 ┆ 0.0 ┆ -0. ┆ 0.0 ┆ -2. ┆ 9.2 ┆ -2. ┆ -1. ┆ -4. ┆ 1.8 ┆ 1.0 ┆ -5. ┆ 8.6 ┆ 5.0 ┆ 0   ┆ 0   ┆ 0   ┆ 0   ┆ 0   ┆ 0   ┆ 0   ┆ 0   ┆ 1   ┆ 1   ┆ 0   ┆ 0   ┆ 1   ┆ 1.0 ┆ 0.0 ┆ -3. ┆ -1. ┆ 7.5 ┆ -5. ┆ 8.4 ┆ 2.9 ┆ -4. ┆ -1. ┆ 1.0 ┆ 0.0 ┆ 0.0 ┆ 0.0 ┆ 0.0 ┆ 0.0 ┆ 0.0 ┆ 0.0 ┆ 0.0 ┆ 0.0 ┆ -9. ┆ 0.0 ┆ 0.0 ┆ -0. ┆ -0. ┆ 0.0 ┆ -0. ┆ -0. ┆ -0. ┆ -0. │\n",
       "│ 3   ┆     ┆ 385 ┆     ┆     ┆ 38. ┆ 96. ┆ 216 ┆ 3.3 ┆ 140 ┆ 723 ┆     ┆ 0   ┆     ┆     ┆     ┆     ┆     ┆     ┆ 0   ┆ 0   ┆ 0   ┆ 3   ┆ 0   ┆ 85  ┆     ┆ 97  ┆ 02  ┆ 1   ┆ 9   ┆ 43  ┆     ┆ 9.6 ┆ 9.9 ┆ 423 ┆ 04. ┆ 0.9 ┆ 180 ┆ 1.9 ┆ 0.4 ┆ 801 ┆ 522 ┆ 83. ┆ 4.5 ┆ 3.9 ┆ 04. ┆ 70. ┆ 51. ┆ 44. ┆ 0.2 ┆ 9.6 ┆ 98. ┆ 53. ┆ 39. ┆ 069 ┆ 558 ┆ 676 ┆ 709 ┆ 732 ┆     ┆     ┆ 024 ┆ 075 ┆     ┆     ┆ 451 ┆ 262 ┆ 56. ┆ 512 ┆ .0  ┆ 42. ┆ 281 ┆ 517 ┆     ┆     ┆     ┆ 07. ┆ 56. ┆ 896 ┆ 0   ┆ 823 ┆ 261 ┆ 811 ┆     ┆     ┆     ┆ 244 ┆ 20. ┆ 512 ┆ 0   ┆ 439 ┆ 265 ┆ 403 ┆     ┆     ┆     ┆ 500 ┆ 84. ┆ 512 ┆ 0   ┆ 490 ┆ 601 ┆ 536 ┆     ┆     ┆     ┆ 973 ┆ 34. ┆ 519 ┆ 0   ┆ 497 ┆ 079 ┆ 039 ┆     ┆     ┆ 903 ┆ 453 ┆ 05. ┆ 512 ┆ 0   ┆ 7.1 ┆ 946 ┆ 376 ┆ 843 ┆ 020 ┆ 418 ┆ 440 ┆ 595 ┆ 761 ┆ 351 ┆ 333 ┆ 914 ┆ 789 ┆ 081 ┆ 183 ┆ 203 ┆ 845 ┆ 029 ┆ 044 ┆ 749 ┆ 734 ┆ 544 ┆ 024 ┆ 137 ┆ 072 ┆ 562 ┆ 333 ┆ 431 ┆ 048 ┆ 796 ┆ 017 ┆ 546 ┆ 278 ┆ 627 ┆ 341 ┆ 528 ┆ 146 ┆ 653 ┆ 042 ┆ 714 ┆ 918 ┆ 724 ┆ 264 ┆ 491 ┆ 892 ┆ 157 ┆ 222 ┆ 367 ┆ 25  ┆ 714 ┆ 699 ┆ 090 ┆ 416 ┆ 346 ┆ 836 ┆ 080 ┆ 026 ┆ 170 ┆ 264 ┆ 508 ┆ 676 ┆ 747 ┆ 220 ┆ 969 ┆ 371 ┆ 919 ┆ 099 ┆ 897 ┆ 216 ┆ 313 ┆ 259 ┆ 642 ┆ 621 ┆ 625 ┆ 019 ┆ 071 ┆ 297 ┆ 346 ┆ 461 ┆ 681 ┆ 429 ┆ 611 ┆ 310 ┆ 956 ┆ 268 ┆ 107 ┆ 621 ┆ 995 ┆ 021 ┆ 088 ┆ 184 ┆ 302 ┆ 515 ┆ 114 ┆ 045 ┆ 488 ┆ 207 ┆ 567 ┆ 328 ┆ 603 ┆ 273 ┆ 287 ┆ 586 ┆ 756 ┆ 654 ┆ 412 ┆ 113 ┆ 074 ┆ 851 ┆ 135 ┆ 292 ┆ 286 ┆ 696 ┆ 581 ┆ 281 ┆ 534 ┆ 031 ┆ 921 ┆ 041 ┆ 358 ┆ 335 ┆ 141 ┆ 367 ┆ 498 ┆ 805 ┆ 738 ┆ 016 ┆ 356 ┆ 414 ┆ 312 ┆ 605 ┆ 517 ┆ 152 ┆ 570 ┆ 212 ┆ 077 ┆ 186 ┆ 411 ┆ 036 ┆ 210 ┆ 561 ┆ 426 ┆ 030 ┆ 637 ┆ 591 ┆ 601 ┆ 354 ┆ 038 ┆ 285 ┆ 587 ┆ 537 ┆ 180 ┆ 482 ┆ 480 ┆ 531 ┆ 301 ┆ 392 ┆ 831 ┆ 532 ┆ 302 ┆ 026 ┆ 787 ┆ 361 ┆ 071 ┆ 815 ┆ 307 ┆ 271 ┆ 367 ┆ 991 ┆ 285 ┆ 014 ┆ 619 ┆ 298 ┆ 621 ┆ 606 ┆ 533 ┆ 415 ┆ 816 ┆ 243 ┆ 499 ┆ 372 ┆ 192 ┆ 515 ┆ 055 ┆ 368 ┆ 130 ┆ 533 ┆ 075 ┆ 094 ┆ 794 ┆ 422 ┆ 344 ┆ 122 ┆ 779 ┆ 047 ┆ 363 ┆ 734 ┆ 206 ┆ 400 ┆ 711 ┆ 179 ┆ 027 ┆ 231 ┆ 302 ┆ 334 ┆ 027 ┆ 199 ┆ 990 ┆ 524 ┆ 833 ┆ 912 ┆ 704 ┆ 652 ┆ 178 ┆ 560 ┆ 268 ┆ 360 ┆ 754 ┆ 229 ┆ 819 ┆ 216 ┆ 736 ┆ 794 ┆ 210 ┆ 175 ┆ 055 ┆ 071 ┆ 010 ┆ 182 ┆ 174 ┆ 578 ┆ 206 ┆ 130 ┆ 034 ┆ 555 ┆ 499 ┆ 448 ┆ 737 ┆ 550 ┆ 882 ┆ 582 ┆ 070 ┆ 260 ┆ 278 ┆ 086 ┆ 563 ┆ 851 ┆ 613 ┆ 838 ┆ 938 ┆ 921 ┆ 382 ┆ 622 ┆ 019 ┆ 093 ┆ 607 ┆ 156 ┆ 049 ┆ 258 ┆ 140 ┆ 311 ┆ 913 ┆ 545 ┆ 535 ┆ 974 ┆ 104 ┆ 457 ┆ 359 ┆ 862 ┆ 115 ┆ 519 ┆ 951 ┆ 496 ┆ 866 ┆ 765 ┆ 477 ┆ 335 ┆ 696 ┆ 193 ┆ 727 ┆ 262 ┆ 560 ┆ 155 ┆ 378 ┆ 907 ┆ 717 ┆ 970 ┆ 887 ┆ 539 ┆ 448 ┆ 733 ┆ 454 ┆ 143 ┆ 585 ┆ 859 ┆ 226 ┆ 367 ┆ 008 ┆ 528 ┆ 660 ┆ 104 ┆ 335 ┆ 046 ┆ 818 ┆ 000 ┆ 012 ┆ 020 ┆ 011 ┆ 301 ┆ 028 ┆ 178 ┆ 467 ┆ 019 ┆ 005 ┆ 160 ┆ 016 ┆ 029 ┆ 140 ┆ 012 ┆ 024 ┆ 266 ┆ 009 ┆ 006 ┆ 009 ┆ 005 ┆ 008 ┆ 020 ┆ 114 ┆ 084 ┆ 090 ┆ 007 ┆ 076 ┆ 235 ┆ 002 ┆ 581 ┆ 086 ┆ 233 ┆ 168 ┆ 032 ┆ 125 ┆ 053 ┆ 112 ┆ 073 ┆ 206 ┆ 058 ┆ 016 ┆ 012 ┆ 002 ┆ 006 ┆ 029 ┆ 176 ┆ 015 ┆ 001 ┆ 038 ┆ 004 ┆ 084 ┆ 014 ┆ 122 ┆ 010 ┆ 002 ┆ 003 ┆ 140 ┆ 017 ┆ 046 ┆ 009 ┆ 025 ┆ 000 ┆ 006 ┆ 015 ┆ 117 ┆ 002 ┆ 018 ┆ 026 ┆ 006 ┆ 016 ┆ 176 ┆ 006 ┆ 064 ┆ 007 ┆ 032 ┆ 009 ┆ 004 ┆ 453 ┆ 006 ┆ 012 ┆ 018 ┆ 006 ┆ 017 ┆ 037 ┆ 010 ┆ 025 ┆ 142 ┆ 007 ┆ 001 ┆ 109 ┆ 012 ┆ 032 ┆ 142 ┆ 006 ┆ 091 ┆ 461 ┆ 015 ┆ 003 ┆ 006 ┆ 303 ┆ 103 ┆ 203 ┆ 146 ┆ 003 ┆ 005 ┆ 017 ┆ 000 ┆ 023 ┆ 009 ┆ 000 ┆ 159 ┆ 006 ┆ 087 ┆ 235 ┆ 240 ┆ 005 ┆ 061 ┆ 061 ┆ 024 ┆ 004 ┆ 111 ┆ 068 ┆ 014 ┆ 018 ┆ 000 ┆ 008 ┆ 012 ┆ 257 ┆ 018 ┆ 229 ┆ 161 ┆ 017 ┆ 142 ┆ 170 ┆ 004 ┆ 020 ┆ 005 ┆ 231 ┆ 107 ┆ 007 ┆ 004 ┆ 120 ┆ 121 ┆ 006 ┆ 021 ┆ 088 ┆ 196 ┆ 000 ┆ 019 ┆ 016 ┆ 053 ┆ 035 ┆ 018 ┆ 066 ┆ 013 ┆ 033 ┆ 639 ┆ 021 ┆ 005 ┆ 035 ┆ 035 ┆ 028 ┆ 322 ┆ 013 ┆ 032 ┆ 127 ┆ 196 ┆ 023 ┆ 001 ┆ 003 ┆ 007 ┆ 172 ┆ 010 ┆ 021 ┆ 012 ┆ 024 ┆ 020 ┆ 194 ┆ 003 ┆ 017 ┆ 011 ┆ 266 ┆ 028 ┆ 014 ┆ 117 ┆ 386 ┆ 020 ┆ 036 ┆ 096 ┆ 168 ┆ 009 ┆ 023 ┆ 084 ┆ 181 ┆ 198 ┆ 000 ┆ 217 ┆ 013 ┆ 201 ┆ 001 ┆ 012 ┆ 834 ┆ 058 ┆ 015 ┆ 003 ┆ 117 ┆ 005 ┆ 006 ┆ 004 ┆ 294 ┆ 011 ┆ 016 ┆ 013 ┆ 123 ┆ 046 ┆ 011 ┆ 097 ┆ 001 ┆ 137 ┆ 295 ┆ 304 ┆ 004 ┆ 021 ┆ 234 ┆ 311 ┆ 022 ┆ 077 ┆ 004 ┆ 002 ┆ 011 ┆ 084 ┆ 008 ┆ 189 ┆ 005 ┆ 013 ┆ 015 ┆ 004 ┆ 032 ┆ 010 ┆ 002 ┆ 001 ┆ 187 ┆ 158 ┆ 055 ┆ 778 ┆ 087 ┆ 173 ┆ 002 ┆ 085 ┆ 188 ┆ 112 ┆ 231 ┆ 009 ┆ 008 ┆ 000 ┆ 005 ┆ 043 ┆ 012 ┆ 008 ┆ 004 ┆ 168 ┆ 161 ┆ 009 ┆ 005 ┆ 023 ┆ 061 ┆ 001 ┆ 078 ┆ 034 ┆ 013 ┆ 027 ┆ 056 ┆ 014 ┆ 031 ┆ 000 ┆ 025 ┆ 020 ┆ 029 ┆ 003 ┆ 016 ┆ 230 ┆ 038 ┆ 094 ┆ 034 ┆ 253 ┆ 049 ┆ 116 ┆ 065 ┆ 027 ┆ 006 ┆ 195 ┆ 000 ┆ 046 ┆ 418 ┆ 010 ┆ 011 ┆ 070 ┆ 511 ┆ 019 ┆ 062 ┆ 153 ┆ 646 ┆ 237 ┆ 256 ┆ 853 ┆ 993 ┆     ┆ 492 ┆ 372 ┆ 854 ┆     ┆     ┆     ┆     ┆     ┆     ┆     ┆     ┆     ┆     ┆     ┆     ┆     ┆     ┆     ┆ 122 ┆ 301 ┆ 894 ┆ 166 ┆ 703 ┆ 646 ┆ 499 ┆ 455 ┆     ┆     ┆     ┆     ┆     ┆     ┆     ┆     ┆     ┆     ┆ 240 ┆ 000 ┆ 000 ┆ 000 ┆ 000 ┆ 001 ┆ 000 ┆ 000 ┆ 000 ┆ 000 │\n",
       "│     ┆     ┆ .0  ┆     ┆     ┆ 5   ┆ 25  ┆ 505 ┆ 417 ┆ 12  ┆ 605 ┆     ┆     ┆     ┆     ┆     ┆     ┆     ┆     ┆     ┆     ┆     ┆     ┆     ┆     ┆     ┆     ┆     ┆     ┆     ┆     ┆     ┆ 337 ┆ 202 ┆ .16 ┆ 209 ┆ 750 ┆ .71 ┆ 218 ┆ 477 ┆ .93 ┆ 46  ┆ 062 ┆ 959 ┆ 040 ┆ 210 ┆ 566 ┆ 056 ┆ 440 ┆ 636 ┆ 336 ┆ 718 ┆ 979 ┆ 177 ┆ 17  ┆ 69  ┆ 31  ┆ 61  ┆ 21  ┆     ┆     ┆ 925 ┆ 2   ┆     ┆     ┆ 11  ┆ .58 ┆ 216 ┆ .0  ┆     ┆ 402 ┆ 627 ┆ 14  ┆     ┆     ┆     ┆ 548 ┆ 409 ┆ .0  ┆     ┆ .0  ┆ 245 ┆ 56  ┆     ┆     ┆     ┆ .38 ┆ 507 ┆ .0  ┆     ┆ .0  ┆ 281 ┆ 21  ┆     ┆     ┆     ┆ .26 ┆ 114 ┆ .0  ┆     ┆ .0  ┆ 151 ┆ 25  ┆     ┆     ┆     ┆ .96 ┆ 274 ┆ .0  ┆     ┆ .0  ┆ 706 ┆ 95  ┆     ┆     ┆ 3   ┆ .00 ┆ 119 ┆ .0  ┆     ┆ 719 ┆ 29  ┆ 46  ┆ 14  ┆ 569 ┆ 95  ┆ 918 ┆ 7   ┆ 169 ┆ 07  ┆ 01  ┆ 46  ┆ 06  ┆ 299 ┆ 99  ┆ 43  ┆ 21  ┆ 297 ┆ 922 ┆ 97  ┆ 68  ┆ 617 ┆ 902 ┆ 939 ┆ 266 ┆ 74  ┆ 98  ┆ 641 ┆ 58  ┆ 875 ┆ 273 ┆ 143 ┆ 32  ┆ 075 ┆ 43  ┆ 786 ┆ 484 ┆ 87  ┆ 267 ┆ 111 ┆ 46  ┆ 61  ┆ 175 ┆ 88  ┆ 82  ┆ 471 ┆ 9   ┆ 432 ┆     ┆ 84  ┆ 58  ┆ 82  ┆ 14  ┆ 88  ┆ 91  ┆ 688 ┆ 12  ┆ 471 ┆ 16  ┆ 6   ┆ 27  ┆ 803 ┆ 215 ┆ 727 ┆ 582 ┆ 95  ┆ 365 ┆ 949 ┆ 8   ┆ 721 ┆ 77  ┆ 09  ┆ 704 ┆ 153 ┆ 53  ┆ 289 ┆ 61  ┆ 619 ┆ 18  ┆ 64  ┆ 2   ┆ 82  ┆ 181 ┆ 299 ┆ 31  ┆ 666 ┆ 09  ┆ 117 ┆ 73  ┆ 135 ┆ 57  ┆ 246 ┆ 503 ┆ 99  ┆ 227 ┆ 007 ┆ 458 ┆ 688 ┆ 11  ┆ 82  ┆ 93  ┆ 354 ┆ 792 ┆ 84  ┆ 541 ┆ 11  ┆ 647 ┆ 951 ┆ 44  ┆ 498 ┆ 48  ┆ 87  ┆ 045 ┆ 421 ┆ 86  ┆ 73  ┆ 738 ┆ 63  ┆ 87  ┆ 521 ┆ 45  ┆ 357 ┆ 43  ┆ 05  ┆ 05  ┆ 28  ┆ 6   ┆ 934 ┆ 3   ┆ 01  ┆ 22  ┆ 58  ┆ 725 ┆ 312 ┆ 402 ┆ 88  ┆ 035 ┆ 377 ┆ 01  ┆ 693 ┆ 04  ┆ 64  ┆ 762 ┆ 21  ┆ 8   ┆ 562 ┆ 98  ┆ 57  ┆ 713 ┆ 074 ┆ 109 ┆ 91  ┆ 91  ┆ 713 ┆ 494 ┆ 53  ┆ 21  ┆ 421 ┆ 3   ┆ 338 ┆ 86  ┆ 72  ┆ 47  ┆ 53  ┆ 43  ┆ 37  ┆ 729 ┆ 68  ┆ 12  ┆ 37  ┆ 71  ┆ 995 ┆ 584 ┆ 826 ┆ 45  ┆ 691 ┆ 527 ┆ 41  ┆ 652 ┆ 39  ┆ 07  ┆ 871 ┆ 747 ┆ 908 ┆ 16  ┆ 493 ┆ 94  ┆ 195 ┆ 73  ┆ 189 ┆ 12  ┆ 727 ┆ 192 ┆ 297 ┆ 485 ┆ 22  ┆ 07  ┆ 757 ┆ 574 ┆ 43  ┆ 688 ┆ 83  ┆ 689 ┆ 612 ┆ 595 ┆ 1   ┆ 951 ┆ 05  ┆ 414 ┆ 74  ┆ 6   ┆ 59  ┆ 95  ┆ 223 ┆ 06  ┆ 616 ┆ 84  ┆ 39  ┆ 49  ┆ 336 ┆ 309 ┆ 328 ┆ 43  ┆ 94  ┆ 78  ┆ 42  ┆ 78  ┆ 5   ┆ 37  ┆ 988 ┆ 857 ┆ 05  ┆ 127 ┆ 67  ┆ 66  ┆ 298 ┆ 36  ┆ 305 ┆ 507 ┆ 57  ┆ 733 ┆ 31  ┆ 99  ┆ 809 ┆ 151 ┆ 477 ┆ 562 ┆ 28  ┆ 01  ┆ 96  ┆ 14  ┆ 57  ┆ 07  ┆ 53  ┆ 99  ┆ 42  ┆ 25  ┆ 8   ┆ 79  ┆ 015 ┆ 768 ┆ 57  ┆ 898 ┆ 141 ┆ 12  ┆     ┆ 03  ┆ 161 ┆ 793 ┆ 479 ┆ 562 ┆ 17  ┆ 64  ┆ 577 ┆ 625 ┆ 78  ┆ 45  ┆ 77  ┆ 848 ┆ 54  ┆ 7   ┆ 059 ┆ 823 ┆ 91  ┆ 104 ┆ 712 ┆ 21  ┆ 21  ┆ 032 ┆ 24  ┆ 643 ┆ 102 ┆ 8   ┆ 571 ┆ 8   ┆ 318 ┆ 188 ┆ 484 ┆ 08  ┆ 645 ┆ 37  ┆ 93  ┆ 455 ┆ 45  ┆ 506 ┆ 832 ┆ 13  ┆ 7   ┆ 85  ┆ 93  ┆ 88  ┆ 92  ┆ 01  ┆ 203 ┆ 91  ┆ 281 ┆ 09  ┆ 75  ┆ 478 ┆ 163 ┆ 3   ┆ 02  ┆ 43  ┆ 675 ┆ 964 ┆ 297 ┆ 844 ┆ 01  ┆ 3   ┆ 16  ┆ 559 ┆ 08  ┆ 59  ┆ 758 ┆ 66  ┆ 53  ┆ 23  ┆ 09  ┆ 565 ┆ 62  ┆ 99  ┆ 52  ┆ 04  ┆ 92  ┆ 16  ┆ 796 ┆ 55  ┆ 432 ┆ 38  ┆ 355 ┆ 76  ┆ 187 ┆ 735 ┆ 701 ┆ 64  ┆ 38  ┆ 771 ┆ 99  ┆ 222 ┆ 842 ┆ 221 ┆ 9   ┆ 877 ┆ 693 ┆ 17  ┆ 19  ┆ 468 ┆ 47  ┆ 894 ┆ 24  ┆ 727 ┆ 478 ┆ 88  ┆ 175 ┆ 53  ┆ 96  ┆ 89  ┆ 01  ┆ 168 ┆ 13  ┆ 806 ┆ 832 ┆ 6   ┆ 181 ┆ 258 ┆ 868 ┆ 672 ┆ 379 ┆ 07  ┆ 282 ┆ 18  ┆ 67  ┆ 826 ┆ 9   ┆ 83  ┆ 381 ┆ 523 ┆ 8   ┆ 141 ┆ 43  ┆     ┆ 471 ┆ 827 ┆ 998 ┆ 86  ┆ 35  ┆ 58  ┆ 75  ┆ 101 ┆ 026 ┆ 9   ┆ 603 ┆ 21  ┆ 358 ┆ 448 ┆ 67  ┆ 981 ┆ 37  ┆ 73  ┆ 56  ┆ 154 ┆ 95  ┆ 16  ┆ 503 ┆ 643 ┆ 59  ┆ 91  ┆ 56  ┆ 05  ┆ 271 ┆ 002 ┆ 092 ┆ 49  ┆ 319 ┆ 13  ┆ 9   ┆ 468 ┆ 41  ┆ 6   ┆ 97  ┆ 589 ┆ 618 ┆ 08  ┆ 02  ┆ 36  ┆ 669 ┆ 14  ┆ 65  ┆ 13  ┆ 004 ┆ 19  ┆ 513 ┆ 376 ┆ 478 ┆ 831 ┆ 703 ┆ 63  ┆ 92  ┆ 45  ┆ 42  ┆ 46  ┆ 18  ┆ 8   ┆ 357 ┆ 38  ┆ 32  ┆ 724 ┆ 93  ┆ 17  ┆ 31  ┆ 73  ┆ 59  ┆ 233 ┆ 613 ┆ 691 ┆ 959 ┆ 32  ┆ 655 ┆ 13  ┆ 291 ┆ 274 ┆ 772 ┆ 15  ┆ 088 ┆ 895 ┆ 596 ┆ 95  ┆ 238 ┆ 443 ┆ 55  ┆ 5   ┆ 321 ┆ 736 ┆ 32  ┆ 42  ┆ 521 ┆ 136 ┆ 08  ┆ 62  ┆ 38  ┆ 555 ┆ 04  ┆ 877 ┆ 98  ┆ 959 ┆ 75  ┆ 1   ┆ 07  ┆ 404 ┆ 029 ┆ 54  ┆ 922 ┆ 64  ┆ 015 ┆ 8   ┆ 771 ┆ 14  ┆ 957 ┆ 78  ┆ 87  ┆ 794 ┆ 55  ┆ 806 ┆ 19  ┆ 67  ┆ 84  ┆ 836 ┆ 068 ┆ 05  ┆ 36  ┆ 374 ┆ 28  ┆ 424 ┆ 353 ┆ 319 ┆ 95  ┆ 053 ┆ 4   ┆ 842 ┆ 21  ┆ 692 ┆ 987 ┆ 711 ┆ 281 ┆ 06  ┆ 1   ┆ 56  ┆ 71  ┆ 544 ┆ 2   ┆ 75  ┆ 6   ┆ 041 ┆ 76  ┆ 25  ┆ 29  ┆ 78  ┆ 244 ┆ 571 ┆ 179 ┆ 458 ┆ 589 ┆ 291 ┆ 793 ┆ 88  ┆ 66  ┆ 64  ┆ 906 ┆ 237 ┆ 888 ┆ 69  ┆ 709 ┆ 55  ┆ 06  ┆ 677 ┆ 635 ┆ 81  ┆ 495 ┆ 083 ┆ 586 ┆ 482 ┆ 697 ┆ 223 ┆ 731 ┆ 242 ┆ 9   ┆ 81  ┆ 114 ┆ 55  ┆ 16  ┆ 95  ┆ 28  ┆ 967 ┆ 231 ┆ 195 ┆ 56  ┆ 545 ┆ 146 ┆ 22  ┆ 168 ┆ 25  ┆ 35  ┆ 45  ┆ 198 ┆ 1   ┆ 6e- ┆ e-1 ┆ 4e- ┆ 1e- ┆ 0e- ┆ e-9 ┆     ┆ 6e- ┆ e-8 ┆ e-1 ┆     ┆     ┆     ┆     ┆     ┆     ┆     ┆     ┆     ┆     ┆     ┆     ┆     ┆     ┆     ┆ 5e- ┆ 0e- ┆ e-1 ┆ 9e- ┆ e-2 ┆ e-2 ┆ 9e- ┆ 8e- ┆     ┆     ┆     ┆     ┆     ┆     ┆     ┆     ┆     ┆     ┆ 8e- ┆ 06  ┆ 11  ┆ 046 ┆ 065 ┆ 49  ┆ 316 ┆ 416 ┆ 717 ┆ 241 │\n",
       "│     ┆     ┆     ┆     ┆     ┆     ┆     ┆     ┆ 38  ┆     ┆     ┆     ┆     ┆     ┆     ┆     ┆     ┆     ┆     ┆     ┆     ┆     ┆     ┆     ┆     ┆     ┆     ┆     ┆     ┆     ┆     ┆     ┆ 89  ┆ 88  ┆ 406 ┆ 961 ┆ 98  ┆ 875 ┆ 75  ┆ 54  ┆ 75  ┆     ┆ 5   ┆ 47  ┆ 53  ┆ 369 ┆ 996 ┆ 853 ┆ 064 ┆ 63  ┆ 54  ┆ 624 ┆ 845 ┆ 122 ┆     ┆     ┆     ┆     ┆     ┆     ┆     ┆     ┆     ┆     ┆     ┆     ┆ 291 ┆ 704 ┆     ┆     ┆ 526 ┆     ┆     ┆     ┆     ┆     ┆ 515 ┆ 651 ┆     ┆     ┆     ┆     ┆     ┆     ┆     ┆     ┆ 760 ┆ 136 ┆     ┆     ┆     ┆     ┆     ┆     ┆     ┆     ┆ 014 ┆ 027 ┆     ┆     ┆     ┆     ┆     ┆     ┆     ┆     ┆ 618 ┆ 07  ┆     ┆     ┆     ┆     ┆     ┆     ┆     ┆     ┆ 842 ┆ 734 ┆     ┆     ┆ 66  ┆     ┆     ┆     ┆     ┆     ┆     ┆     ┆     ┆     ┆     ┆     ┆     ┆     ┆     ┆     ┆     ┆     ┆     ┆     ┆     ┆     ┆     ┆     ┆     ┆     ┆     ┆     ┆     ┆     ┆     ┆     ┆     ┆     ┆     ┆     ┆     ┆     ┆     ┆     ┆     ┆     ┆     ┆     ┆     ┆     ┆     ┆     ┆     ┆     ┆     ┆     ┆     ┆     ┆     ┆     ┆     ┆     ┆     ┆     ┆     ┆     ┆     ┆     ┆     ┆     ┆     ┆     ┆     ┆     ┆     ┆     ┆     ┆     ┆     ┆     ┆     ┆     ┆     ┆     ┆     ┆     ┆     ┆     ┆     ┆     ┆     ┆     ┆     ┆     ┆     ┆     ┆     ┆     ┆     ┆     ┆     ┆     ┆     ┆     ┆     ┆     ┆     ┆     ┆     ┆     ┆     ┆     ┆     ┆     ┆     ┆     ┆     ┆     ┆     ┆     ┆     ┆     ┆     ┆     ┆     ┆     ┆     ┆     ┆     ┆     ┆     ┆     ┆     ┆     ┆     ┆     ┆     ┆     ┆     ┆     ┆     ┆     ┆     ┆     ┆     ┆     ┆     ┆     ┆     ┆     ┆     ┆     ┆     ┆     ┆     ┆     ┆     ┆     ┆     ┆     ┆     ┆     ┆     ┆     ┆     ┆     ┆     ┆     ┆     ┆     ┆     ┆     ┆     ┆     ┆     ┆     ┆     ┆     ┆     ┆     ┆     ┆     ┆     ┆     ┆     ┆     ┆     ┆     ┆     ┆     ┆     ┆     ┆     ┆     ┆     ┆     ┆     ┆     ┆     ┆     ┆     ┆     ┆     ┆     ┆     ┆     ┆     ┆     ┆     ┆     ┆     ┆     ┆     ┆     ┆     ┆     ┆     ┆     ┆     ┆     ┆     ┆     ┆     ┆     ┆     ┆     ┆     ┆     ┆     ┆     ┆     ┆     ┆     ┆     ┆     ┆     ┆     ┆     ┆     ┆     ┆     ┆     ┆     ┆     ┆     ┆     ┆     ┆     ┆     ┆     ┆     ┆     ┆     ┆     ┆     ┆     ┆     ┆     ┆     ┆     ┆     ┆     ┆     ┆     ┆     ┆     ┆     ┆     ┆     ┆     ┆     ┆     ┆     ┆     ┆     ┆     ┆     ┆     ┆     ┆     ┆     ┆     ┆     ┆     ┆     ┆     ┆     ┆     ┆     ┆     ┆     ┆     ┆     ┆     ┆     ┆     ┆     ┆     ┆     ┆     ┆     ┆     ┆     ┆     ┆     ┆     ┆     ┆     ┆     ┆     ┆     ┆     ┆     ┆     ┆     ┆     ┆     ┆     ┆     ┆     ┆     ┆     ┆     ┆     ┆     ┆     ┆     ┆     ┆     ┆     ┆     ┆     ┆     ┆     ┆     ┆     ┆     ┆     ┆     ┆     ┆     ┆     ┆     ┆     ┆     ┆     ┆     ┆     ┆     ┆     ┆     ┆     ┆     ┆     ┆     ┆     ┆     ┆     ┆     ┆     ┆     ┆     ┆     ┆     ┆     ┆     ┆     ┆     ┆     ┆     ┆     ┆     ┆     ┆     ┆     ┆     ┆     ┆     ┆     ┆     ┆     ┆     ┆     ┆     ┆     ┆     ┆     ┆     ┆     ┆     ┆     ┆     ┆     ┆     ┆     ┆     ┆     ┆     ┆     ┆     ┆     ┆     ┆     ┆     ┆     ┆     ┆     ┆     ┆     ┆     ┆     ┆     ┆     ┆     ┆     ┆     ┆     ┆     ┆     ┆     ┆     ┆     ┆     ┆     ┆     ┆     ┆     ┆     ┆     ┆     ┆     ┆     ┆     ┆     ┆     ┆     ┆     ┆     ┆     ┆     ┆     ┆     ┆     ┆     ┆     ┆     ┆     ┆     ┆     ┆     ┆     ┆     ┆     ┆     ┆     ┆     ┆     ┆     ┆     ┆     ┆     ┆     ┆     ┆     ┆     ┆     ┆     ┆     ┆     ┆     ┆     ┆     ┆     ┆     ┆     ┆     ┆     ┆     ┆     ┆     ┆     ┆     ┆     ┆     ┆     ┆     ┆     ┆     ┆     ┆     ┆     ┆     ┆     ┆     ┆     ┆     ┆     ┆     ┆     ┆     ┆     ┆     ┆     ┆     ┆     ┆     ┆     ┆     ┆     ┆     ┆     ┆     ┆     ┆     ┆     ┆     ┆     ┆     ┆     ┆     ┆     ┆     ┆     ┆     ┆     ┆     ┆     ┆     ┆     ┆     ┆     ┆     ┆     ┆     ┆     ┆     ┆     ┆     ┆     ┆     ┆     ┆     ┆     ┆     ┆     ┆     ┆     ┆     ┆     ┆     ┆     ┆     ┆     ┆     ┆     ┆     ┆     ┆     ┆     ┆     ┆     ┆     ┆     ┆     ┆     ┆     ┆     ┆     ┆     ┆     ┆     ┆     ┆     ┆     ┆     ┆     ┆     ┆     ┆     ┆     ┆     ┆     ┆     ┆     ┆     ┆     ┆     ┆     ┆     ┆     ┆     ┆     ┆     ┆     ┆     ┆     ┆     ┆     ┆     ┆     ┆     ┆     ┆     ┆     ┆     ┆     ┆     ┆     ┆     ┆ 14  ┆ 3   ┆ 10  ┆ 10  ┆ 10  ┆     ┆     ┆ 8   ┆     ┆ 1   ┆     ┆     ┆     ┆     ┆     ┆     ┆     ┆     ┆     ┆     ┆     ┆     ┆     ┆     ┆     ┆ 17  ┆ 18  ┆ 9   ┆ 20  ┆ 2   ┆ 1   ┆ 22  ┆ 22  ┆     ┆     ┆     ┆     ┆     ┆     ┆     ┆     ┆     ┆     ┆ 7   ┆     ┆     ┆     ┆     ┆     ┆     ┆     ┆     ┆     │\n",
       "│     ┆     ┆     ┆     ┆     ┆     ┆     ┆     ┆     ┆     ┆     ┆     ┆     ┆     ┆     ┆     ┆     ┆     ┆     ┆     ┆     ┆     ┆     ┆     ┆     ┆     ┆     ┆     ┆     ┆     ┆     ┆     ┆     ┆     ┆ 2   ┆     ┆     ┆     ┆     ┆     ┆     ┆     ┆     ┆     ┆     ┆     ┆     ┆     ┆     ┆     ┆     ┆     ┆     ┆     ┆     ┆     ┆     ┆     ┆     ┆     ┆     ┆     ┆     ┆     ┆     ┆     ┆ 5   ┆     ┆     ┆     ┆     ┆     ┆     ┆     ┆     ┆     ┆     ┆     ┆     ┆     ┆     ┆     ┆     ┆     ┆     ┆     ┆ 9   ┆     ┆     ┆     ┆     ┆     ┆     ┆     ┆     ┆     ┆ 7   ┆     ┆     ┆     ┆     ┆     ┆     ┆     ┆     ┆     ┆ 3   ┆     ┆     ┆     ┆     ┆     ┆     ┆     ┆     ┆     ┆ 2   ┆     ┆     ┆     ┆     ┆     ┆     ┆     ┆     ┆     ┆     ┆     ┆     ┆     ┆     ┆     ┆     ┆     ┆     ┆     ┆     ┆     ┆     ┆     ┆     ┆     ┆     ┆     ┆     ┆     ┆     ┆     ┆     ┆     ┆     ┆     ┆     ┆     ┆     ┆     ┆     ┆     ┆     ┆     ┆     ┆     ┆     ┆     ┆     ┆     ┆     ┆     ┆     ┆     ┆     ┆     ┆     ┆     ┆     ┆     ┆     ┆     ┆     ┆     ┆     ┆     ┆     ┆     ┆     ┆     ┆     ┆     ┆     ┆     ┆     ┆     ┆     ┆     ┆     ┆     ┆     ┆     ┆     ┆     ┆     ┆     ┆     ┆     ┆     ┆     ┆     ┆     ┆     ┆     ┆     ┆     ┆     ┆     ┆     ┆     ┆     ┆     ┆     ┆     ┆     ┆     ┆     ┆     ┆     ┆     ┆     ┆     ┆     ┆     ┆     ┆     ┆     ┆     ┆     ┆     ┆     ┆     ┆     ┆     ┆     ┆     ┆     ┆     ┆     ┆     ┆     ┆     ┆     ┆     ┆     ┆     ┆     ┆     ┆     ┆     ┆     ┆     ┆     ┆     ┆     ┆     ┆     ┆     ┆     ┆     ┆     ┆     ┆     ┆     ┆     ┆     ┆     ┆     ┆     ┆     ┆     ┆     ┆     ┆     ┆     ┆     ┆     ┆     ┆     ┆     ┆     ┆     ┆     ┆     ┆     ┆     ┆     ┆     ┆     ┆     ┆     ┆     ┆     ┆     ┆     ┆     ┆     ┆     ┆     ┆     ┆     ┆     ┆     ┆     ┆     ┆     ┆     ┆     ┆     ┆     ┆     ┆     ┆     ┆     ┆     ┆     ┆     ┆     ┆     ┆     ┆     ┆     ┆     ┆     ┆     ┆     ┆     ┆     ┆     ┆     ┆     ┆     ┆     ┆     ┆     ┆     ┆     ┆     ┆     ┆     ┆     ┆     ┆     ┆     ┆     ┆     ┆     ┆     ┆     ┆     ┆     ┆     ┆     ┆     ┆     ┆     ┆     ┆     ┆     ┆     ┆     ┆     ┆     ┆     ┆     ┆     ┆     ┆     ┆     ┆     ┆     ┆     ┆     ┆     ┆     ┆     ┆     ┆     ┆     ┆     ┆     ┆     ┆     ┆     ┆     ┆     ┆     ┆     ┆     ┆     ┆     ┆     ┆     ┆     ┆     ┆     ┆     ┆     ┆     ┆     ┆     ┆     ┆     ┆     ┆     ┆     ┆     ┆     ┆     ┆     ┆     ┆     ┆     ┆     ┆     ┆     ┆     ┆     ┆     ┆     ┆     ┆     ┆     ┆     ┆     ┆     ┆     ┆     ┆     ┆     ┆     ┆     ┆     ┆     ┆     ┆     ┆     ┆     ┆     ┆     ┆     ┆     ┆     ┆     ┆     ┆     ┆     ┆     ┆     ┆     ┆     ┆     ┆     ┆     ┆     ┆     ┆     ┆     ┆     ┆     ┆     ┆     ┆     ┆     ┆     ┆     ┆     ┆     ┆     ┆     ┆     ┆     ┆     ┆     ┆     ┆     ┆     ┆     ┆     ┆     ┆     ┆     ┆     ┆     ┆     ┆     ┆     ┆     ┆     ┆     ┆     ┆     ┆     ┆     ┆     ┆     ┆     ┆     ┆     ┆     ┆     ┆     ┆     ┆     ┆     ┆     ┆     ┆     ┆     ┆     ┆     ┆     ┆     ┆     ┆     ┆     ┆     ┆     ┆     ┆     ┆     ┆     ┆     ┆     ┆     ┆     ┆     ┆     ┆     ┆     ┆     ┆     ┆     ┆     ┆     ┆     ┆     ┆     ┆     ┆     ┆     ┆     ┆     ┆     ┆     ┆     ┆     ┆     ┆     ┆     ┆     ┆     ┆     ┆     ┆     ┆     ┆     ┆     ┆     ┆     ┆     ┆     ┆     ┆     ┆     ┆     ┆     ┆     ┆     ┆     ┆     ┆     ┆     ┆     ┆     ┆     ┆     ┆     ┆     ┆     ┆     ┆     ┆     ┆     ┆     ┆     ┆     ┆     ┆     ┆     ┆     ┆     ┆     ┆     ┆     ┆     ┆     ┆     ┆     ┆     ┆     ┆     ┆     ┆     ┆     ┆     ┆     ┆     ┆     ┆     ┆     ┆     ┆     ┆     ┆     ┆     ┆     ┆     ┆     ┆     ┆     ┆     ┆     ┆     ┆     ┆     ┆     ┆     ┆     ┆     ┆     ┆     ┆     ┆     ┆     ┆     ┆     ┆     ┆     ┆     ┆     ┆     ┆     ┆     ┆     ┆     ┆     ┆     ┆     ┆     ┆     ┆     ┆     ┆     ┆     ┆     ┆     ┆     ┆     ┆     ┆     ┆     ┆     ┆     ┆     ┆     ┆     ┆     ┆     ┆     ┆     ┆     ┆     ┆     ┆     ┆     ┆     ┆     ┆     ┆     ┆     ┆     ┆     ┆     ┆     ┆     ┆     ┆     ┆     ┆     ┆     ┆     ┆     ┆     ┆     ┆     ┆     ┆     ┆     ┆     ┆     ┆     ┆     ┆     ┆     ┆     ┆     ┆     ┆     ┆     ┆     ┆     ┆     ┆     ┆     ┆     ┆     ┆     ┆     ┆     ┆     ┆     ┆     ┆     ┆     ┆     ┆     ┆     ┆     ┆     ┆     ┆     ┆     ┆     ┆     ┆     ┆     ┆     ┆     ┆     ┆     ┆     ┆     ┆     ┆     ┆     ┆     ┆     ┆     ┆     ┆     ┆     ┆     ┆     ┆     ┆     ┆     ┆     ┆     ┆     ┆     ┆     ┆     ┆     ┆     ┆     ┆     ┆     ┆     ┆     ┆     ┆     │\n",
       "└─────┴─────┴─────┴─────┴─────┴─────┴─────┴─────┴─────┴─────┴─────┴─────┴─────┴─────┴─────┴─────┴─────┴─────┴─────┴─────┴─────┴─────┴─────┴─────┴─────┴─────┴─────┴─────┴─────┴─────┴─────┴─────┴─────┴─────┴─────┴─────┴─────┴─────┴─────┴─────┴─────┴─────┴─────┴─────┴─────┴─────┴─────┴─────┴─────┴─────┴─────┴─────┴─────┴─────┴─────┴─────┴─────┴─────┴─────┴─────┴─────┴─────┴─────┴─────┴─────┴─────┴─────┴─────┴─────┴─────┴─────┴─────┴─────┴─────┴─────┴─────┴─────┴─────┴─────┴─────┴─────┴─────┴─────┴─────┴─────┴─────┴─────┴─────┴─────┴─────┴─────┴─────┴─────┴─────┴─────┴─────┴─────┴─────┴─────┴─────┴─────┴─────┴─────┴─────┴─────┴─────┴─────┴─────┴─────┴─────┴─────┴─────┴─────┴─────┴─────┴─────┴─────┴─────┴─────┴─────┴─────┴─────┴─────┴─────┴─────┴─────┴─────┴─────┴─────┴─────┴─────┴─────┴─────┴─────┴─────┴─────┴─────┴─────┴─────┴─────┴─────┴─────┴─────┴─────┴─────┴─────┴─────┴─────┴─────┴─────┴─────┴─────┴─────┴─────┴─────┴─────┴─────┴─────┴─────┴─────┴─────┴─────┴─────┴─────┴─────┴─────┴─────┴─────┴─────┴─────┴─────┴─────┴─────┴─────┴─────┴─────┴─────┴─────┴─────┴─────┴─────┴─────┴─────┴─────┴─────┴─────┴─────┴─────┴─────┴─────┴─────┴─────┴─────┴─────┴─────┴─────┴─────┴─────┴─────┴─────┴─────┴─────┴─────┴─────┴─────┴─────┴─────┴─────┴─────┴─────┴─────┴─────┴─────┴─────┴─────┴─────┴─────┴─────┴─────┴─────┴─────┴─────┴─────┴─────┴─────┴─────┴─────┴─────┴─────┴─────┴─────┴─────┴─────┴─────┴─────┴─────┴─────┴─────┴─────┴─────┴─────┴─────┴─────┴─────┴─────┴─────┴─────┴─────┴─────┴─────┴─────┴─────┴─────┴─────┴─────┴─────┴─────┴─────┴─────┴─────┴─────┴─────┴─────┴─────┴─────┴─────┴─────┴─────┴─────┴─────┴─────┴─────┴─────┴─────┴─────┴─────┴─────┴─────┴─────┴─────┴─────┴─────┴─────┴─────┴─────┴─────┴─────┴─────┴─────┴─────┴─────┴─────┴─────┴─────┴─────┴─────┴─────┴─────┴─────┴─────┴─────┴─────┴─────┴─────┴─────┴─────┴─────┴─────┴─────┴─────┴─────┴─────┴─────┴─────┴─────┴─────┴─────┴─────┴─────┴─────┴─────┴─────┴─────┴─────┴─────┴─────┴─────┴─────┴─────┴─────┴─────┴─────┴─────┴─────┴─────┴─────┴─────┴─────┴─────┴─────┴─────┴─────┴─────┴─────┴─────┴─────┴─────┴─────┴─────┴─────┴─────┴─────┴─────┴─────┴─────┴─────┴─────┴─────┴─────┴─────┴─────┴─────┴─────┴─────┴─────┴─────┴─────┴─────┴─────┴─────┴─────┴─────┴─────┴─────┴─────┴─────┴─────┴─────┴─────┴─────┴─────┴─────┴─────┴─────┴─────┴─────┴─────┴─────┴─────┴─────┴─────┴─────┴─────┴─────┴─────┴─────┴─────┴─────┴─────┴─────┴─────┴─────┴─────┴─────┴─────┴─────┴─────┴─────┴─────┴─────┴─────┴─────┴─────┴─────┴─────┴─────┴─────┴─────┴─────┴─────┴─────┴─────┴─────┴─────┴─────┴─────┴─────┴─────┴─────┴─────┴─────┴─────┴─────┴─────┴─────┴─────┴─────┴─────┴─────┴─────┴─────┴─────┴─────┴─────┴─────┴─────┴─────┴─────┴─────┴─────┴─────┴─────┴─────┴─────┴─────┴─────┴─────┴─────┴─────┴─────┴─────┴─────┴─────┴─────┴─────┴─────┴─────┴─────┴─────┴─────┴─────┴─────┴─────┴─────┴─────┴─────┴─────┴─────┴─────┴─────┴─────┴─────┴─────┴─────┴─────┴─────┴─────┴─────┴─────┴─────┴─────┴─────┴─────┴─────┴─────┴─────┴─────┴─────┴─────┴─────┴─────┴─────┴─────┴─────┴─────┴─────┴─────┴─────┴─────┴─────┴─────┴─────┴─────┴─────┴─────┴─────┴─────┴─────┴─────┴─────┴─────┴─────┴─────┴─────┴─────┴─────┴─────┴─────┴─────┴─────┴─────┴─────┴─────┴─────┴─────┴─────┴─────┴─────┴─────┴─────┴─────┴─────┴─────┴─────┴─────┴─────┴─────┴─────┴─────┴─────┴─────┴─────┴─────┴─────┴─────┴─────┴─────┴─────┴─────┴─────┴─────┴─────┴─────┴─────┴─────┴─────┴─────┴─────┴─────┴─────┴─────┴─────┴─────┴─────┴─────┴─────┴─────┴─────┴─────┴─────┴─────┴─────┴─────┴─────┴─────┴─────┴─────┴─────┴─────┴─────┴─────┴─────┴─────┴─────┴─────┴─────┴─────┴─────┴─────┴─────┴─────┴─────┴─────┴─────┴─────┴─────┴─────┴─────┴─────┴─────┴─────┴─────┴─────┴─────┴─────┴─────┴─────┴─────┴─────┴─────┴─────┴─────┴─────┴─────┴─────┴─────┴─────┴─────┴─────┴─────┴─────┴─────┴─────┴─────┴─────┴─────┴─────┴─────┴─────┴─────┴─────┴─────┴─────┴─────┴─────┴─────┴─────┴─────┴─────┴─────┴─────┴─────┴─────┴─────┴─────┴─────┴─────┴─────┴─────┴─────┴─────┴─────┴─────┴─────┴─────┴─────┴─────┴─────┴─────┴─────┴─────┴─────┴─────┴─────┴─────┴─────┴─────┴─────┴─────┴─────┴─────┴─────┴─────┴─────┴─────┴─────┴─────┴─────┴─────┴─────┴─────┴─────┴─────┴─────┴─────┴─────┴─────┴─────┴─────┴─────┴─────┴─────┴─────┴─────┴─────┴─────┴─────┴─────┴─────┴─────┴─────┴─────┴─────┴─────┴─────┴─────┴─────┴─────┴─────┴─────┴─────┴─────┴─────┴─────┴─────┴─────┴─────┴─────┴─────┴─────┴─────┴─────┴─────┴─────┴─────┴─────┴─────┴─────┴─────┴─────┴─────┴─────┴─────┴─────┴─────┴─────┴─────┴─────┴─────┴─────┴─────┴─────┴─────┴─────┴─────┴─────┴─────┴─────┴─────┴─────┴─────┴─────┴─────┴─────┴─────┴─────┴─────┴─────┴─────┴─────┴─────┴─────┴─────┴─────┴─────┴─────┴─────┴─────┘"
      ]
     },
     "execution_count": 4,
     "metadata": {},
     "output_type": "execute_result"
    }
   ],
   "source": [
    "selecter.get_dataframe(\"lgbm\")[1].head(2)"
   ]
  },
  {
   "cell_type": "code",
   "execution_count": 5,
   "metadata": {},
   "outputs": [],
   "source": [
    "predictions = pl.concat([train[\"price\"].to_frame(), pl.DataFrame([None] * test.height, schema={\"price\": pl.Float64})])"
   ]
  },
  {
   "cell_type": "code",
   "execution_count": 6,
   "metadata": {},
   "outputs": [
    {
     "name": "stderr",
     "output_type": "stream",
     "text": [
      "[I 2023-08-23 14:15:09,767] A new study created in memory with name: no-name-3bf50ad8-c6ce-45f8-a8f2-e0082e41b9cf\n",
      "Best trial: 0. Best value: 0.449222:   0%|          | 1/200 [00:04<13:53,  4.19s/it]"
     ]
    },
    {
     "name": "stdout",
     "output_type": "stream",
     "text": [
      "[I 2023-08-23 14:15:13,958] Trial 0 finished with value: 0.4492221447925056 and parameters: {'num_leaves': 36, 'min_child_samples': 92, 'subsample': 0.40138168803582197, 'colsample_bytree': 0.37244159149844847, 'reg_alpha': 0.013130280280658591, 'reg_lambda': 0.1696174638729098, 'subsample_freq': 5}. Best is trial 0 with value: 0.4492221447925056.\n"
     ]
    },
    {
     "name": "stderr",
     "output_type": "stream",
     "text": [
      "Best trial: 0. Best value: 0.449222:   1%|          | 2/200 [00:12<22:06,  6.70s/it]"
     ]
    },
    {
     "name": "stdout",
     "output_type": "stream",
     "text": [
      "[I 2023-08-23 14:15:22,418] Trial 1 finished with value: 0.4527103060529149 and parameters: {'num_leaves': 51, 'min_child_samples': 69, 'subsample': 0.3840222805469662, 'colsample_bytree': 0.5627983191463305, 'reg_alpha': 0.00022655846366566662, 'reg_lambda': 0.00027267573880087313, 'subsample_freq': 10}. Best is trial 0 with value: 0.4492221447925056.\n"
     ]
    },
    {
     "name": "stderr",
     "output_type": "stream",
     "text": [
      "Best trial: 2. Best value: 0.448562:   2%|▏         | 3/200 [00:17<19:01,  5.80s/it]"
     ]
    },
    {
     "name": "stdout",
     "output_type": "stream",
     "text": [
      "[I 2023-08-23 14:15:27,136] Trial 2 finished with value: 0.4485617734564628 and parameters: {'num_leaves': 63, 'min_child_samples': 103, 'subsample': 0.3307396811264659, 'colsample_bytree': 0.4902645881432277, 'reg_alpha': 0.00039027625535532966, 'reg_lambda': 0.15834527427829725, 'subsample_freq': 2}. Best is trial 2 with value: 0.4485617734564628.\n"
     ]
    },
    {
     "name": "stderr",
     "output_type": "stream",
     "text": [
      "Best trial: 2. Best value: 0.448562:   2%|▏         | 4/200 [00:22<17:58,  5.50s/it]"
     ]
    },
    {
     "name": "stdout",
     "output_type": "stream",
     "text": [
      "[I 2023-08-23 14:15:32,189] Trial 3 finished with value: 0.45417269313625297 and parameters: {'num_leaves': 18, 'min_child_samples': 100, 'subsample': 0.32807516610827425, 'colsample_bytree': 0.38421697443432423, 'reg_alpha': 0.00012415065128756021, 'reg_lambda': 0.12251167718003077, 'subsample_freq': 5}. Best is trial 2 with value: 0.4485617734564628.\n"
     ]
    },
    {
     "name": "stderr",
     "output_type": "stream",
     "text": [
      "Best trial: 2. Best value: 0.448562:   2%|▎         | 5/200 [00:23<12:53,  3.97s/it]"
     ]
    },
    {
     "name": "stdout",
     "output_type": "stream",
     "text": [
      "[I 2023-08-23 14:15:33,432] Trial 4 finished with value: 0.5611069215487741 and parameters: {'num_leaves': 24, 'min_child_samples': 57, 'subsample': 0.44881559796363246, 'colsample_bytree': 0.13011273581463492, 'reg_alpha': 0.21569177143056179, 'reg_lambda': 0.2255222252394579, 'subsample_freq': 10}. Best is trial 2 with value: 0.4485617734564628.\n"
     ]
    },
    {
     "name": "stderr",
     "output_type": "stream",
     "text": [
      "Best trial: 2. Best value: 0.448562:   3%|▎         | 6/200 [00:29<14:22,  4.45s/it]"
     ]
    },
    {
     "name": "stdout",
     "output_type": "stream",
     "text": [
      "[I 2023-08-23 14:15:38,809] Trial 5 finished with value: 0.451395962804679 and parameters: {'num_leaves': 37, 'min_child_samples': 57, 'subsample': 0.5941869190296131, 'colsample_bytree': 0.15102240537401404, 'reg_alpha': 0.0011076021254597269, 'reg_lambda': 0.0006405419674802734, 'subsample_freq': 1}. Best is trial 2 with value: 0.4485617734564628.\n"
     ]
    },
    {
     "name": "stderr",
     "output_type": "stream",
     "text": [
      "Best trial: 2. Best value: 0.448562:   4%|▎         | 7/200 [00:35<16:11,  5.03s/it]"
     ]
    },
    {
     "name": "stdout",
     "output_type": "stream",
     "text": [
      "[I 2023-08-23 14:15:45,046] Trial 6 finished with value: 0.4568375637512937 and parameters: {'num_leaves': 12, 'min_child_samples': 16, 'subsample': 0.4281647947326367, 'colsample_bytree': 0.1690914756743069, 'reg_alpha': 0.0009614170248896969, 'reg_lambda': 0.006976311326833805, 'subsample_freq': 5}. Best is trial 2 with value: 0.4485617734564628.\n"
     ]
    },
    {
     "name": "stderr",
     "output_type": "stream",
     "text": [
      "Best trial: 2. Best value: 0.448562:   4%|▍         | 8/200 [00:36<12:26,  3.89s/it]"
     ]
    },
    {
     "name": "stdout",
     "output_type": "stream",
     "text": [
      "[I 2023-08-23 14:15:46,490] Trial 7 finished with value: 0.5674946789703694 and parameters: {'num_leaves': 63, 'min_child_samples': 61, 'subsample': 0.5883805440951686, 'colsample_bytree': 0.40242275987252296, 'reg_alpha': 0.49695595258807024, 'reg_lambda': 0.00015701421102720542, 'subsample_freq': 5}. Best is trial 2 with value: 0.4485617734564628.\n"
     ]
    },
    {
     "name": "stderr",
     "output_type": "stream",
     "text": [
      "Best trial: 2. Best value: 0.448562:   4%|▍         | 9/200 [00:37<09:46,  3.07s/it]"
     ]
    },
    {
     "name": "stdout",
     "output_type": "stream",
     "text": [
      "[I 2023-08-23 14:15:47,758] Trial 8 finished with value: 0.5641695481532916 and parameters: {'num_leaves': 22, 'min_child_samples': 54, 'subsample': 0.13207374817439219, 'colsample_bytree': 0.4462360596850099, 'reg_alpha': 0.06807807563467863, 'reg_lambda': 0.0021229875861272385, 'subsample_freq': 10}. Best is trial 2 with value: 0.4485617734564628.\n"
     ]
    },
    {
     "name": "stderr",
     "output_type": "stream",
     "text": [
      "Best trial: 2. Best value: 0.448562:   5%|▌         | 10/200 [00:41<10:00,  3.16s/it]"
     ]
    },
    {
     "name": "stdout",
     "output_type": "stream",
     "text": [
      "[I 2023-08-23 14:15:51,126] Trial 9 finished with value: 0.45675451832268404 and parameters: {'num_leaves': 22, 'min_child_samples': 86, 'subsample': 0.1658989312021961, 'colsample_bytree': 0.45816360205928275, 'reg_alpha': 0.0027991776684745248, 'reg_lambda': 0.0008240561597326754, 'subsample_freq': 5}. Best is trial 2 with value: 0.4485617734564628.\n"
     ]
    },
    {
     "name": "stderr",
     "output_type": "stream",
     "text": [
      "Best trial: 2. Best value: 0.448562:   6%|▌         | 11/200 [00:42<08:14,  2.62s/it]"
     ]
    },
    {
     "name": "stdout",
     "output_type": "stream",
     "text": [
      "[I 2023-08-23 14:15:52,502] Trial 10 finished with value: 0.5674946789703694 and parameters: {'num_leaves': 3, 'min_child_samples': 126, 'subsample': 0.25418759308928424, 'colsample_bytree': 0.5648201775139152, 'reg_alpha': 5.577000965824031, 'reg_lambda': 4.852527252373001, 'subsample_freq': 2}. Best is trial 2 with value: 0.4485617734564628.\n"
     ]
    },
    {
     "name": "stderr",
     "output_type": "stream",
     "text": [
      "Best trial: 2. Best value: 0.448562:   6%|▌         | 12/200 [00:45<08:25,  2.69s/it]"
     ]
    },
    {
     "name": "stdout",
     "output_type": "stream",
     "text": [
      "[I 2023-08-23 14:15:55,361] Trial 11 finished with value: 0.45081655929752407 and parameters: {'num_leaves': 41, 'min_child_samples': 126, 'subsample': 0.2895244400144871, 'colsample_bytree': 0.29042238599836045, 'reg_alpha': 0.008213689831831326, 'reg_lambda': 0.04214916832741476, 'subsample_freq': 2}. Best is trial 2 with value: 0.4485617734564628.\n"
     ]
    },
    {
     "name": "stderr",
     "output_type": "stream",
     "text": [
      "Best trial: 2. Best value: 0.448562:   6%|▋         | 13/200 [00:49<09:33,  3.07s/it]"
     ]
    },
    {
     "name": "stdout",
     "output_type": "stream",
     "text": [
      "[I 2023-08-23 14:15:59,297] Trial 12 finished with value: 0.45017567070756054 and parameters: {'num_leaves': 60, 'min_child_samples': 96, 'subsample': 0.47747382140132527, 'colsample_bytree': 0.3009289509734656, 'reg_alpha': 0.014919596098615715, 'reg_lambda': 0.5831087600384006, 'subsample_freq': 2}. Best is trial 2 with value: 0.4485617734564628.\n"
     ]
    },
    {
     "name": "stderr",
     "output_type": "stream",
     "text": [
      "Best trial: 2. Best value: 0.448562:   7%|▋         | 14/200 [00:53<10:28,  3.38s/it]"
     ]
    },
    {
     "name": "stdout",
     "output_type": "stream",
     "text": [
      "[I 2023-08-23 14:16:03,402] Trial 13 finished with value: 0.4498594433133028 and parameters: {'num_leaves': 47, 'min_child_samples': 110, 'subsample': 0.36160711345081686, 'colsample_bytree': 0.4962563192390741, 'reg_alpha': 0.0065257980140375794, 'reg_lambda': 0.02977388420157105, 'subsample_freq': 1}. Best is trial 2 with value: 0.4485617734564628.\n"
     ]
    },
    {
     "name": "stderr",
     "output_type": "stream",
     "text": [
      "Best trial: 2. Best value: 0.448562:   8%|▊         | 15/200 [00:59<12:16,  3.98s/it]"
     ]
    },
    {
     "name": "stdout",
     "output_type": "stream",
     "text": [
      "[I 2023-08-23 14:16:08,778] Trial 14 finished with value: 0.45366989502545735 and parameters: {'num_leaves': 32, 'min_child_samples': 80, 'subsample': 0.26389667608747025, 'colsample_bytree': 0.5033349229347686, 'reg_alpha': 0.0006366115552383604, 'reg_lambda': 1.2818626280796614, 'subsample_freq': 2}. Best is trial 2 with value: 0.4485617734564628.\n"
     ]
    },
    {
     "name": "stderr",
     "output_type": "stream",
     "text": [
      "Best trial: 2. Best value: 0.448562:   8%|▊         | 16/200 [01:00<09:53,  3.23s/it]"
     ]
    },
    {
     "name": "stdout",
     "output_type": "stream",
     "text": [
      "[I 2023-08-23 14:16:10,255] Trial 15 finished with value: 0.4738119723088192 and parameters: {'num_leaves': 56, 'min_child_samples': 24, 'subsample': 0.21704432223788356, 'colsample_bytree': 0.3387756358514368, 'reg_alpha': 0.03191351885469258, 'reg_lambda': 9.777103558712634, 'subsample_freq': 5}. Best is trial 2 with value: 0.4485617734564628.\n"
     ]
    },
    {
     "name": "stderr",
     "output_type": "stream",
     "text": [
      "Best trial: 2. Best value: 0.448562:   8%|▊         | 17/200 [01:05<11:35,  3.80s/it]"
     ]
    },
    {
     "name": "stdout",
     "output_type": "stream",
     "text": [
      "[I 2023-08-23 14:16:15,393] Trial 16 finished with value: 0.44872064675886264 and parameters: {'num_leaves': 47, 'min_child_samples': 111, 'subsample': 0.32406189363128857, 'colsample_bytree': 0.5863385075462293, 'reg_alpha': 0.00010711194230679353, 'reg_lambda': 0.02857873375764573, 'subsample_freq': 2}. Best is trial 2 with value: 0.4485617734564628.\n"
     ]
    },
    {
     "name": "stderr",
     "output_type": "stream",
     "text": [
      "Best trial: 2. Best value: 0.448562:   9%|▉         | 18/200 [01:10<12:39,  4.18s/it]"
     ]
    },
    {
     "name": "stdout",
     "output_type": "stream",
     "text": [
      "[I 2023-08-23 14:16:20,436] Trial 17 finished with value: 0.4501671480278964 and parameters: {'num_leaves': 50, 'min_child_samples': 111, 'subsample': 0.3192132640672517, 'colsample_bytree': 0.596419969485613, 'reg_alpha': 0.00020428847648802992, 'reg_lambda': 0.011621154071335413, 'subsample_freq': 2}. Best is trial 2 with value: 0.4485617734564628.\n"
     ]
    },
    {
     "name": "stderr",
     "output_type": "stream",
     "text": [
      "Best trial: 2. Best value: 0.448562:  10%|▉         | 19/200 [01:17<14:57,  4.96s/it]"
     ]
    },
    {
     "name": "stdout",
     "output_type": "stream",
     "text": [
      "[I 2023-08-23 14:16:27,219] Trial 18 finished with value: 0.4582341577388605 and parameters: {'num_leaves': 56, 'min_child_samples': 33, 'subsample': 0.21532189580792052, 'colsample_bytree': 0.527081086137754, 'reg_alpha': 0.00010566119495942312, 'reg_lambda': 0.04870174894835056, 'subsample_freq': 2}. Best is trial 2 with value: 0.4485617734564628.\n"
     ]
    },
    {
     "name": "stderr",
     "output_type": "stream",
     "text": [
      "Best trial: 2. Best value: 0.448562:  10%|█         | 20/200 [01:22<15:00,  5.00s/it]"
     ]
    },
    {
     "name": "stdout",
     "output_type": "stream",
     "text": [
      "[I 2023-08-23 14:16:32,326] Trial 19 finished with value: 0.44935297266582264 and parameters: {'num_leaves': 46, 'min_child_samples': 116, 'subsample': 0.3474519037104621, 'colsample_bytree': 0.5916123495911798, 'reg_alpha': 0.0004045038666026034, 'reg_lambda': 0.00659922636349918, 'subsample_freq': 2}. Best is trial 2 with value: 0.4485617734564628.\n"
     ]
    },
    {
     "name": "stderr",
     "output_type": "stream",
     "text": [
      "Best trial: 2. Best value: 0.448562:  10%|█         | 21/200 [01:27<14:45,  4.95s/it]"
     ]
    },
    {
     "name": "stdout",
     "output_type": "stream",
     "text": [
      "[I 2023-08-23 14:16:37,149] Trial 20 finished with value: 0.45208996087711467 and parameters: {'num_leaves': 63, 'min_child_samples': 76, 'subsample': 0.29348673694125654, 'colsample_bytree': 0.5388381918300459, 'reg_alpha': 0.0017405852275184507, 'reg_lambda': 0.4334875741154928, 'subsample_freq': 2}. Best is trial 2 with value: 0.4485617734564628.\n"
     ]
    },
    {
     "name": "stderr",
     "output_type": "stream",
     "text": [
      "Best trial: 2. Best value: 0.448562:  11%|█         | 22/200 [01:33<16:10,  5.45s/it]"
     ]
    },
    {
     "name": "stdout",
     "output_type": "stream",
     "text": [
      "[I 2023-08-23 14:16:43,766] Trial 21 finished with value: 0.45349150266144644 and parameters: {'num_leaves': 31, 'min_child_samples': 97, 'subsample': 0.3894847023400996, 'colsample_bytree': 0.47524088420923594, 'reg_alpha': 0.000497897370086545, 'reg_lambda': 0.11988403914843244, 'subsample_freq': 5}. Best is trial 2 with value: 0.4485617734564628.\n"
     ]
    },
    {
     "name": "stderr",
     "output_type": "stream",
     "text": [
      "Best trial: 2. Best value: 0.448562:  12%|█▏        | 23/200 [01:39<15:50,  5.37s/it]"
     ]
    },
    {
     "name": "stdout",
     "output_type": "stream",
     "text": [
      "[I 2023-08-23 14:16:48,952] Trial 22 finished with value: 0.4518347414733703 and parameters: {'num_leaves': 42, 'min_child_samples': 89, 'subsample': 0.40950356672276067, 'colsample_bytree': 0.5267139424466691, 'reg_alpha': 0.0032735952636978836, 'reg_lambda': 0.07740904977730494, 'subsample_freq': 1}. Best is trial 2 with value: 0.4485617734564628.\n"
     ]
    },
    {
     "name": "stderr",
     "output_type": "stream",
     "text": [
      "Best trial: 2. Best value: 0.448562:  12%|█▏        | 24/200 [01:44<15:22,  5.24s/it]"
     ]
    },
    {
     "name": "stdout",
     "output_type": "stream",
     "text": [
      "[I 2023-08-23 14:16:53,891] Trial 23 finished with value: 0.4497673058812136 and parameters: {'num_leaves': 37, 'min_child_samples': 107, 'subsample': 0.3367367386084754, 'colsample_bytree': 0.460323921119447, 'reg_alpha': 0.00010406584592210085, 'reg_lambda': 0.022394151921999866, 'subsample_freq': 2}. Best is trial 2 with value: 0.4485617734564628.\n"
     ]
    },
    {
     "name": "stderr",
     "output_type": "stream",
     "text": [
      "Best trial: 2. Best value: 0.448562:  12%|█▎        | 25/200 [01:48<14:49,  5.09s/it]"
     ]
    },
    {
     "name": "stdout",
     "output_type": "stream",
     "text": [
      "[I 2023-08-23 14:16:58,614] Trial 24 finished with value: 0.45040609201033877 and parameters: {'num_leaves': 55, 'min_child_samples': 93, 'subsample': 0.3670422031113452, 'colsample_bytree': 0.4156808463827555, 'reg_alpha': 0.0003645032178797908, 'reg_lambda': 0.22720627541602553, 'subsample_freq': 2}. Best is trial 2 with value: 0.4485617734564628.\n"
     ]
    },
    {
     "name": "stderr",
     "output_type": "stream",
     "text": [
      "Best trial: 2. Best value: 0.448562:  13%|█▎        | 26/200 [01:55<16:12,  5.59s/it]"
     ]
    },
    {
     "name": "stdout",
     "output_type": "stream",
     "text": [
      "[I 2023-08-23 14:17:05,381] Trial 25 finished with value: 0.4500334323575186 and parameters: {'num_leaves': 28, 'min_child_samples': 119, 'subsample': 0.4730119376814857, 'colsample_bytree': 0.5012581598082003, 'reg_alpha': 0.0015009756187789659, 'reg_lambda': 0.017858398745839305, 'subsample_freq': 5}. Best is trial 2 with value: 0.4485617734564628.\n"
     ]
    },
    {
     "name": "stderr",
     "output_type": "stream",
     "text": [
      "Best trial: 2. Best value: 0.448562:  14%|█▎        | 27/200 [02:02<16:58,  5.89s/it]"
     ]
    },
    {
     "name": "stdout",
     "output_type": "stream",
     "text": [
      "[I 2023-08-23 14:17:11,971] Trial 26 finished with value: 0.4527542221462685 and parameters: {'num_leaves': 39, 'min_child_samples': 74, 'subsample': 0.3082840173119226, 'colsample_bytree': 0.5479842585022492, 'reg_alpha': 0.0002756669697993052, 'reg_lambda': 0.08992847852528504, 'subsample_freq': 10}. Best is trial 2 with value: 0.4485617734564628.\n"
     ]
    },
    {
     "name": "stderr",
     "output_type": "stream",
     "text": [
      "Best trial: 2. Best value: 0.448562:  14%|█▍        | 28/200 [02:06<15:55,  5.56s/it]"
     ]
    },
    {
     "name": "stdout",
     "output_type": "stream",
     "text": [
      "[I 2023-08-23 14:17:16,751] Trial 27 finished with value: 0.44903159402496645 and parameters: {'num_leaves': 45, 'min_child_samples': 105, 'subsample': 0.4091403966136113, 'colsample_bytree': 0.423510516320491, 'reg_alpha': 0.0007442021345822795, 'reg_lambda': 0.570910963734812, 'subsample_freq': 2}. Best is trial 2 with value: 0.4485617734564628.\n"
     ]
    },
    {
     "name": "stderr",
     "output_type": "stream",
     "text": [
      "Best trial: 2. Best value: 0.448562:  14%|█▍        | 29/200 [02:12<15:22,  5.40s/it]"
     ]
    },
    {
     "name": "stdout",
     "output_type": "stream",
     "text": [
      "[I 2023-08-23 14:17:21,770] Trial 28 finished with value: 0.44928469802069054 and parameters: {'num_leaves': 47, 'min_child_samples': 104, 'subsample': 0.37243155373874964, 'colsample_bytree': 0.4365136410071626, 'reg_alpha': 0.0008008407743315593, 'reg_lambda': 1.459108547627918, 'subsample_freq': 2}. Best is trial 2 with value: 0.4485617734564628.\n"
     ]
    },
    {
     "name": "stderr",
     "output_type": "stream",
     "text": [
      "Best trial: 29. Best value: 0.447992:  15%|█▌        | 30/200 [02:17<15:35,  5.50s/it]"
     ]
    },
    {
     "name": "stdout",
     "output_type": "stream",
     "text": [
      "[I 2023-08-23 14:17:27,520] Trial 29 finished with value: 0.4479915955771038 and parameters: {'num_leaves': 52, 'min_child_samples': 118, 'subsample': 0.4174471520055504, 'colsample_bytree': 0.4875180555032888, 'reg_alpha': 0.0002628897176158578, 'reg_lambda': 0.3732582083225257, 'subsample_freq': 2}. Best is trial 29 with value: 0.4479915955771038.\n"
     ]
    },
    {
     "name": "stderr",
     "output_type": "stream",
     "text": [
      "Best trial: 29. Best value: 0.447992:  16%|█▌        | 31/200 [02:26<18:00,  6.39s/it]"
     ]
    },
    {
     "name": "stdout",
     "output_type": "stream",
     "text": [
      "[I 2023-08-23 14:17:35,988] Trial 30 finished with value: 0.45494994367770425 and parameters: {'num_leaves': 53, 'min_child_samples': 42, 'subsample': 0.3419472566986599, 'colsample_bytree': 0.5965686382253774, 'reg_alpha': 0.00021740099435547846, 'reg_lambda': 0.0553563984946133, 'subsample_freq': 2}. Best is trial 29 with value: 0.4479915955771038.\n"
     ]
    },
    {
     "name": "stderr",
     "output_type": "stream",
     "text": [
      "Best trial: 29. Best value: 0.447992:  16%|█▌        | 32/200 [02:30<16:32,  5.91s/it]"
     ]
    },
    {
     "name": "stdout",
     "output_type": "stream",
     "text": [
      "[I 2023-08-23 14:17:40,763] Trial 31 finished with value: 0.44878174546677907 and parameters: {'num_leaves': 44, 'min_child_samples': 117, 'subsample': 0.422429032524929, 'colsample_bytree': 0.4858385081110317, 'reg_alpha': 0.0005411452370340993, 'reg_lambda': 0.2966538199764794, 'subsample_freq': 2}. Best is trial 29 with value: 0.4479915955771038.\n"
     ]
    },
    {
     "name": "stderr",
     "output_type": "stream",
     "text": [
      "Best trial: 32. Best value: 0.44711:  16%|█▋        | 33/200 [02:36<15:52,  5.70s/it] "
     ]
    },
    {
     "name": "stdout",
     "output_type": "stream",
     "text": [
      "[I 2023-08-23 14:17:45,988] Trial 32 finished with value: 0.44710991651386606 and parameters: {'num_leaves': 59, 'min_child_samples': 118, 'subsample': 0.4352126777942235, 'colsample_bytree': 0.47664583630596996, 'reg_alpha': 0.0002961162253727143, 'reg_lambda': 0.21633477325393033, 'subsample_freq': 2}. Best is trial 32 with value: 0.44710991651386606.\n"
     ]
    },
    {
     "name": "stderr",
     "output_type": "stream",
     "text": [
      "Best trial: 32. Best value: 0.44711:  17%|█▋        | 34/200 [02:41<15:43,  5.68s/it]"
     ]
    },
    {
     "name": "stdout",
     "output_type": "stream",
     "text": [
      "[I 2023-08-23 14:17:51,621] Trial 33 finished with value: 0.4479055398358425 and parameters: {'num_leaves': 59, 'min_child_samples': 128, 'subsample': 0.38862780038711525, 'colsample_bytree': 0.5678750090240202, 'reg_alpha': 0.00019242835359240123, 'reg_lambda': 0.14490462527838738, 'subsample_freq': 2}. Best is trial 32 with value: 0.44710991651386606.\n"
     ]
    },
    {
     "name": "stderr",
     "output_type": "stream",
     "text": [
      "Best trial: 32. Best value: 0.44711:  18%|█▊        | 35/200 [02:47<15:21,  5.58s/it]"
     ]
    },
    {
     "name": "stdout",
     "output_type": "stream",
     "text": [
      "[I 2023-08-23 14:17:56,977] Trial 34 finished with value: 0.44938548136211764 and parameters: {'num_leaves': 60, 'min_child_samples': 122, 'subsample': 0.38984341278071144, 'colsample_bytree': 0.520394781698588, 'reg_alpha': 0.0002657672992908143, 'reg_lambda': 0.16285673439750373, 'subsample_freq': 2}. Best is trial 32 with value: 0.44710991651386606.\n"
     ]
    },
    {
     "name": "stderr",
     "output_type": "stream",
     "text": [
      "Best trial: 32. Best value: 0.44711:  18%|█▊        | 36/200 [02:53<15:41,  5.74s/it]"
     ]
    },
    {
     "name": "stdout",
     "output_type": "stream",
     "text": [
      "[I 2023-08-23 14:18:03,080] Trial 35 finished with value: 0.44781238241816357 and parameters: {'num_leaves': 59, 'min_child_samples': 126, 'subsample': 0.4535824903927776, 'colsample_bytree': 0.5583006512304896, 'reg_alpha': 0.00022724500976666387, 'reg_lambda': 0.1413597985108678, 'subsample_freq': 1}. Best is trial 32 with value: 0.44710991651386606.\n"
     ]
    },
    {
     "name": "stderr",
     "output_type": "stream",
     "text": [
      "Best trial: 32. Best value: 0.44711:  18%|█▊        | 37/200 [02:59<16:08,  5.94s/it]"
     ]
    },
    {
     "name": "stdout",
     "output_type": "stream",
     "text": [
      "[I 2023-08-23 14:18:09,499] Trial 36 finished with value: 0.4474843832265147 and parameters: {'num_leaves': 58, 'min_child_samples': 126, 'subsample': 0.4600098934931633, 'colsample_bytree': 0.5625290550772407, 'reg_alpha': 0.0001865255497370833, 'reg_lambda': 0.11295438397164852, 'subsample_freq': 1}. Best is trial 32 with value: 0.44710991651386606.\n"
     ]
    },
    {
     "name": "stderr",
     "output_type": "stream",
     "text": [
      "Best trial: 32. Best value: 0.44711:  19%|█▉        | 38/200 [03:05<16:12,  6.00s/it]"
     ]
    },
    {
     "name": "stdout",
     "output_type": "stream",
     "text": [
      "[I 2023-08-23 14:18:15,644] Trial 37 finished with value: 0.4471573999781854 and parameters: {'num_leaves': 60, 'min_child_samples': 128, 'subsample': 0.46376121800854264, 'colsample_bytree': 0.5604380183309432, 'reg_alpha': 0.00017174852915277286, 'reg_lambda': 0.09604034740761999, 'subsample_freq': 1}. Best is trial 32 with value: 0.44710991651386606.\n"
     ]
    },
    {
     "name": "stderr",
     "output_type": "stream",
     "text": [
      "Best trial: 32. Best value: 0.44711:  20%|█▉        | 39/200 [03:12<16:26,  6.13s/it]"
     ]
    },
    {
     "name": "stdout",
     "output_type": "stream",
     "text": [
      "[I 2023-08-23 14:18:22,060] Trial 38 finished with value: 0.4480075908147553 and parameters: {'num_leaves': 59, 'min_child_samples': 127, 'subsample': 0.5065462804004592, 'colsample_bytree': 0.5507753105836692, 'reg_alpha': 0.00015719796196771632, 'reg_lambda': 0.06808958534499383, 'subsample_freq': 1}. Best is trial 32 with value: 0.44710991651386606.\n"
     ]
    },
    {
     "name": "stderr",
     "output_type": "stream",
     "text": [
      "Best trial: 32. Best value: 0.44711:  20%|██        | 40/200 [03:18<16:12,  6.08s/it]"
     ]
    },
    {
     "name": "stdout",
     "output_type": "stream",
     "text": [
      "[I 2023-08-23 14:18:28,014] Trial 39 finished with value: 0.44910607749653725 and parameters: {'num_leaves': 64, 'min_child_samples': 114, 'subsample': 0.4528571047290454, 'colsample_bytree': 0.5582420871110219, 'reg_alpha': 0.0010998496934450457, 'reg_lambda': 0.09441639022061157, 'subsample_freq': 1}. Best is trial 32 with value: 0.44710991651386606.\n"
     ]
    },
    {
     "name": "stderr",
     "output_type": "stream",
     "text": [
      "Best trial: 32. Best value: 0.44711:  20%|██        | 41/200 [03:24<16:19,  6.16s/it]"
     ]
    },
    {
     "name": "stdout",
     "output_type": "stream",
     "text": [
      "[I 2023-08-23 14:18:34,370] Trial 40 finished with value: 0.4480913178053823 and parameters: {'num_leaves': 50, 'min_child_samples': 123, 'subsample': 0.5088351874509975, 'colsample_bytree': 0.5178008519922169, 'reg_alpha': 0.0003511081005134107, 'reg_lambda': 0.16707385495337027, 'subsample_freq': 1}. Best is trial 32 with value: 0.44710991651386606.\n"
     ]
    },
    {
     "name": "stderr",
     "output_type": "stream",
     "text": [
      "Best trial: 32. Best value: 0.44711:  21%|██        | 42/200 [03:30<16:05,  6.11s/it]"
     ]
    },
    {
     "name": "stdout",
     "output_type": "stream",
     "text": [
      "[I 2023-08-23 14:18:40,374] Trial 41 finished with value: 0.44720836965872235 and parameters: {'num_leaves': 59, 'min_child_samples': 128, 'subsample': 0.4385999159353195, 'colsample_bytree': 0.571506712083577, 'reg_alpha': 0.00015991374359761572, 'reg_lambda': 0.1689369075175222, 'subsample_freq': 1}. Best is trial 32 with value: 0.44710991651386606.\n"
     ]
    },
    {
     "name": "stderr",
     "output_type": "stream",
     "text": [
      "Best trial: 32. Best value: 0.44711:  22%|██▏       | 43/200 [03:36<16:00,  6.12s/it]"
     ]
    },
    {
     "name": "stdout",
     "output_type": "stream",
     "text": [
      "[I 2023-08-23 14:18:46,512] Trial 42 finished with value: 0.44729175285928546 and parameters: {'num_leaves': 57, 'min_child_samples': 121, 'subsample': 0.4458520010923164, 'colsample_bytree': 0.5570015215930303, 'reg_alpha': 0.00016257381092115296, 'reg_lambda': 0.2743880790542051, 'subsample_freq': 1}. Best is trial 32 with value: 0.44710991651386606.\n"
     ]
    },
    {
     "name": "stderr",
     "output_type": "stream",
     "text": [
      "Best trial: 32. Best value: 0.44711:  22%|██▏       | 44/200 [03:43<16:46,  6.45s/it]"
     ]
    },
    {
     "name": "stdout",
     "output_type": "stream",
     "text": [
      "[I 2023-08-23 14:18:53,740] Trial 43 finished with value: 0.4500891746863172 and parameters: {'num_leaves': 55, 'min_child_samples': 102, 'subsample': 0.4356950677819876, 'colsample_bytree': 0.5784954375353024, 'reg_alpha': 0.00014716059126247403, 'reg_lambda': 0.23914933833139168, 'subsample_freq': 1}. Best is trial 32 with value: 0.44710991651386606.\n"
     ]
    },
    {
     "name": "stderr",
     "output_type": "stream",
     "text": [
      "Best trial: 32. Best value: 0.44711:  22%|██▎       | 45/200 [03:50<16:55,  6.55s/it]"
     ]
    },
    {
     "name": "stdout",
     "output_type": "stream",
     "text": [
      "[I 2023-08-23 14:19:00,527] Trial 44 finished with value: 0.44732325320967237 and parameters: {'num_leaves': 62, 'min_child_samples': 121, 'subsample': 0.49987319592208007, 'colsample_bytree': 0.5422464914679683, 'reg_alpha': 0.0001044358038513131, 'reg_lambda': 0.7506330589778858, 'subsample_freq': 1}. Best is trial 32 with value: 0.44710991651386606.\n"
     ]
    },
    {
     "name": "stderr",
     "output_type": "stream",
     "text": [
      "Best trial: 32. Best value: 0.44711:  23%|██▎       | 46/200 [03:58<17:24,  6.79s/it]"
     ]
    },
    {
     "name": "stdout",
     "output_type": "stream",
     "text": [
      "[I 2023-08-23 14:19:07,853] Trial 45 finished with value: 0.4478544914602505 and parameters: {'num_leaves': 62, 'min_child_samples': 120, 'subsample': 0.5123182316776501, 'colsample_bytree': 0.5403938110807629, 'reg_alpha': 0.00010266113337906971, 'reg_lambda': 0.867498089054687, 'subsample_freq': 1}. Best is trial 32 with value: 0.44710991651386606.\n"
     ]
    },
    {
     "name": "stderr",
     "output_type": "stream",
     "text": [
      "Best trial: 32. Best value: 0.44711:  24%|██▎       | 47/200 [04:04<16:51,  6.61s/it]"
     ]
    },
    {
     "name": "stdout",
     "output_type": "stream",
     "text": [
      "[I 2023-08-23 14:19:14,060] Trial 46 finished with value: 0.448146795723734 and parameters: {'num_leaves': 64, 'min_child_samples': 114, 'subsample': 0.5397240393142863, 'colsample_bytree': 0.5122787949214718, 'reg_alpha': 0.000487069144468156, 'reg_lambda': 0.35022277324918366, 'subsample_freq': 1}. Best is trial 32 with value: 0.44710991651386606.\n"
     ]
    },
    {
     "name": "stderr",
     "output_type": "stream",
     "text": [
      "Best trial: 32. Best value: 0.44711:  24%|██▍       | 48/200 [04:10<16:32,  6.53s/it]"
     ]
    },
    {
     "name": "stdout",
     "output_type": "stream",
     "text": [
      "[I 2023-08-23 14:19:20,396] Trial 47 finished with value: 0.4475435492235952 and parameters: {'num_leaves': 53, 'min_child_samples': 121, 'subsample': 0.48052846758066364, 'colsample_bytree': 0.5751569543755579, 'reg_alpha': 0.0007806116330746257, 'reg_lambda': 0.7270371158186464, 'subsample_freq': 1}. Best is trial 32 with value: 0.44710991651386606.\n"
     ]
    },
    {
     "name": "stderr",
     "output_type": "stream",
     "text": [
      "Best trial: 32. Best value: 0.44711:  24%|██▍       | 49/200 [04:21<19:42,  7.83s/it]"
     ]
    },
    {
     "name": "stdout",
     "output_type": "stream",
     "text": [
      "[I 2023-08-23 14:19:31,270] Trial 48 finished with value: 0.45659553833906863 and parameters: {'num_leaves': 10, 'min_child_samples': 49, 'subsample': 0.43348168020492545, 'colsample_bytree': 0.47444096865438024, 'reg_alpha': 0.0004342813888457844, 'reg_lambda': 1.0583187910651481, 'subsample_freq': 10}. Best is trial 32 with value: 0.44710991651386606.\n"
     ]
    },
    {
     "name": "stderr",
     "output_type": "stream",
     "text": [
      "Best trial: 32. Best value: 0.44711:  25%|██▌       | 50/200 [04:33<22:22,  8.95s/it]"
     ]
    },
    {
     "name": "stdout",
     "output_type": "stream",
     "text": [
      "[I 2023-08-23 14:19:42,820] Trial 49 finished with value: 0.46152863817939876 and parameters: {'num_leaves': 61, 'min_child_samples': 3, 'subsample': 0.4372751930928483, 'colsample_bytree': 0.5295846071193432, 'reg_alpha': 0.0001368897258937776, 'reg_lambda': 0.24545297379036102, 'subsample_freq': 1}. Best is trial 32 with value: 0.44710991651386606.\n"
     ]
    },
    {
     "name": "stderr",
     "output_type": "stream",
     "text": [
      "Best trial: 32. Best value: 0.44711:  26%|██▌       | 51/200 [04:40<20:58,  8.44s/it]"
     ]
    },
    {
     "name": "stdout",
     "output_type": "stream",
     "text": [
      "[I 2023-08-23 14:19:50,091] Trial 50 finished with value: 0.45013399096534373 and parameters: {'num_leaves': 56, 'min_child_samples': 108, 'subsample': 0.4849404121566022, 'colsample_bytree': 0.5993533830268668, 'reg_alpha': 0.0012666167104493542, 'reg_lambda': 1.9852416247387483, 'subsample_freq': 1}. Best is trial 32 with value: 0.44710991651386606.\n"
     ]
    },
    {
     "name": "stderr",
     "output_type": "stream",
     "text": [
      "Best trial: 32. Best value: 0.44711:  26%|██▌       | 52/200 [04:46<19:02,  7.72s/it]"
     ]
    },
    {
     "name": "stdout",
     "output_type": "stream",
     "text": [
      "[I 2023-08-23 14:19:56,129] Trial 51 finished with value: 0.4488108495129422 and parameters: {'num_leaves': 58, 'min_child_samples': 128, 'subsample': 0.4547539673709281, 'colsample_bytree': 0.5561917712596403, 'reg_alpha': 0.00018334254742119604, 'reg_lambda': 0.49832442296920565, 'subsample_freq': 1}. Best is trial 32 with value: 0.44710991651386606.\n"
     ]
    },
    {
     "name": "stderr",
     "output_type": "stream",
     "text": [
      "Best trial: 32. Best value: 0.44711:  26%|██▋       | 53/200 [04:52<17:52,  7.30s/it]"
     ]
    },
    {
     "name": "stdout",
     "output_type": "stream",
     "text": [
      "[I 2023-08-23 14:20:02,436] Trial 52 finished with value: 0.448942598500642 and parameters: {'num_leaves': 57, 'min_child_samples': 113, 'subsample': 0.46031316999919397, 'colsample_bytree': 0.5669372622121318, 'reg_alpha': 0.00032823453825697366, 'reg_lambda': 0.04379512267362092, 'subsample_freq': 1}. Best is trial 32 with value: 0.44710991651386606.\n"
     ]
    },
    {
     "name": "stderr",
     "output_type": "stream",
     "text": [
      "Best trial: 32. Best value: 0.44711:  27%|██▋       | 54/200 [04:59<17:24,  7.16s/it]"
     ]
    },
    {
     "name": "stdout",
     "output_type": "stream",
     "text": [
      "[I 2023-08-23 14:20:09,263] Trial 53 finished with value: 0.44916576494871324 and parameters: {'num_leaves': 50, 'min_child_samples': 123, 'subsample': 0.5386545108970079, 'colsample_bytree': 0.5398065983743405, 'reg_alpha': 0.00016276639066432173, 'reg_lambda': 0.10060845953026476, 'subsample_freq': 1}. Best is trial 32 with value: 0.44710991651386606.\n"
     ]
    },
    {
     "name": "stderr",
     "output_type": "stream",
     "text": [
      "Best trial: 32. Best value: 0.44711:  28%|██▊       | 55/200 [05:05<16:24,  6.79s/it]"
     ]
    },
    {
     "name": "stdout",
     "output_type": "stream",
     "text": [
      "[I 2023-08-23 14:20:15,190] Trial 54 finished with value: 0.44788363982214263 and parameters: {'num_leaves': 62, 'min_child_samples': 117, 'subsample': 0.4058962198487784, 'colsample_bytree': 0.5742127475217441, 'reg_alpha': 0.00015774666947587635, 'reg_lambda': 0.2427887469240512, 'subsample_freq': 1}. Best is trial 32 with value: 0.44710991651386606.\n"
     ]
    },
    {
     "name": "stderr",
     "output_type": "stream",
     "text": [
      "Best trial: 32. Best value: 0.44711:  28%|██▊       | 56/200 [05:11<16:04,  6.70s/it]"
     ]
    },
    {
     "name": "stdout",
     "output_type": "stream",
     "text": [
      "[I 2023-08-23 14:20:21,674] Trial 55 finished with value: 0.4492663596670067 and parameters: {'num_leaves': 53, 'min_child_samples': 98, 'subsample': 0.43384223973786784, 'colsample_bytree': 0.5032777316538418, 'reg_alpha': 0.0005718938919026655, 'reg_lambda': 0.4199972710828038, 'subsample_freq': 1}. Best is trial 32 with value: 0.44710991651386606.\n"
     ]
    },
    {
     "name": "stderr",
     "output_type": "stream",
     "text": [
      "Best trial: 32. Best value: 0.44711:  28%|██▊       | 57/200 [05:18<16:01,  6.72s/it]"
     ]
    },
    {
     "name": "stdout",
     "output_type": "stream",
     "text": [
      "[I 2023-08-23 14:20:28,457] Trial 56 finished with value: 0.4485017282344278 and parameters: {'num_leaves': 64, 'min_child_samples': 110, 'subsample': 0.4941648796200542, 'colsample_bytree': 0.5786497242844408, 'reg_alpha': 0.00030925741561371967, 'reg_lambda': 0.06530604194082003, 'subsample_freq': 1}. Best is trial 32 with value: 0.44710991651386606.\n"
     ]
    },
    {
     "name": "stderr",
     "output_type": "stream",
     "text": [
      "Best trial: 57. Best value: 0.445912:  29%|██▉       | 58/200 [05:25<15:58,  6.75s/it]"
     ]
    },
    {
     "name": "stdout",
     "output_type": "stream",
     "text": [
      "[I 2023-08-23 14:20:35,269] Trial 57 finished with value: 0.4459118069459937 and parameters: {'num_leaves': 57, 'min_child_samples': 123, 'subsample': 0.46171167987176187, 'colsample_bytree': 0.5414087699789922, 'reg_alpha': 0.00010448783727540639, 'reg_lambda': 0.7428687881277694, 'subsample_freq': 10}. Best is trial 57 with value: 0.4459118069459937.\n"
     ]
    },
    {
     "name": "stderr",
     "output_type": "stream",
     "text": [
      "Best trial: 57. Best value: 0.445912:  30%|██▉       | 59/200 [05:33<16:25,  6.99s/it]"
     ]
    },
    {
     "name": "stdout",
     "output_type": "stream",
     "text": [
      "[I 2023-08-23 14:20:42,821] Trial 58 finished with value: 0.4498387714742161 and parameters: {'num_leaves': 61, 'min_child_samples': 83, 'subsample': 0.4720537635315926, 'colsample_bytree': 0.5302321162176544, 'reg_alpha': 0.00010257681155943387, 'reg_lambda': 0.6712985737568535, 'subsample_freq': 10}. Best is trial 57 with value: 0.4459118069459937.\n"
     ]
    },
    {
     "name": "stderr",
     "output_type": "stream",
     "text": [
      "Best trial: 57. Best value: 0.445912:  30%|███       | 60/200 [05:37<14:48,  6.35s/it]"
     ]
    },
    {
     "name": "stdout",
     "output_type": "stream",
     "text": [
      "[I 2023-08-23 14:20:47,674] Trial 59 finished with value: 0.44913136845660295 and parameters: {'num_leaves': 55, 'min_child_samples': 123, 'subsample': 0.40066346416600374, 'colsample_bytree': 0.5116563136805091, 'reg_alpha': 0.002047790576464713, 'reg_lambda': 1.7415990149789535, 'subsample_freq': 10}. Best is trial 57 with value: 0.4459118069459937.\n"
     ]
    },
    {
     "name": "stderr",
     "output_type": "stream",
     "text": [
      "Best trial: 57. Best value: 0.445912:  30%|███       | 61/200 [05:43<14:12,  6.13s/it]"
     ]
    },
    {
     "name": "stdout",
     "output_type": "stream",
     "text": [
      "[I 2023-08-23 14:20:53,301] Trial 60 finished with value: 0.45016918950514906 and parameters: {'num_leaves': 48, 'min_child_samples': 101, 'subsample': 0.42500839641103544, 'colsample_bytree': 0.5401644327216153, 'reg_alpha': 0.0009718727043054928, 'reg_lambda': 1.005558285083734, 'subsample_freq': 10}. Best is trial 57 with value: 0.4459118069459937.\n"
     ]
    },
    {
     "name": "stderr",
     "output_type": "stream",
     "text": [
      "Best trial: 57. Best value: 0.445912:  31%|███       | 62/200 [05:49<13:59,  6.09s/it]"
     ]
    },
    {
     "name": "stdout",
     "output_type": "stream",
     "text": [
      "[I 2023-08-23 14:20:59,280] Trial 61 finished with value: 0.44705692260094976 and parameters: {'num_leaves': 58, 'min_child_samples': 128, 'subsample': 0.46863630616292057, 'colsample_bytree': 0.5853434295653251, 'reg_alpha': 0.00015470861308348202, 'reg_lambda': 0.12440990216966218, 'subsample_freq': 10}. Best is trial 57 with value: 0.4459118069459937.\n"
     ]
    },
    {
     "name": "stderr",
     "output_type": "stream",
     "text": [
      "Best trial: 57. Best value: 0.445912:  32%|███▏      | 63/200 [05:55<13:53,  6.09s/it]"
     ]
    },
    {
     "name": "stdout",
     "output_type": "stream",
     "text": [
      "[I 2023-08-23 14:21:05,370] Trial 62 finished with value: 0.44909177447877235 and parameters: {'num_leaves': 61, 'min_child_samples': 120, 'subsample': 0.4469359161996878, 'colsample_bytree': 0.5851814256921123, 'reg_alpha': 0.00010024907429309927, 'reg_lambda': 0.19111982936134853, 'subsample_freq': 10}. Best is trial 57 with value: 0.4459118069459937.\n"
     ]
    },
    {
     "name": "stderr",
     "output_type": "stream",
     "text": [
      "Best trial: 57. Best value: 0.445912:  32%|███▏      | 64/200 [06:01<13:51,  6.11s/it]"
     ]
    },
    {
     "name": "stdout",
     "output_type": "stream",
     "text": [
      "[I 2023-08-23 14:21:11,539] Trial 63 finished with value: 0.4481311711449263 and parameters: {'num_leaves': 57, 'min_child_samples': 114, 'subsample': 0.4709463024319315, 'colsample_bytree': 0.5489135571612441, 'reg_alpha': 0.000281013111080401, 'reg_lambda': 0.329325860468966, 'subsample_freq': 10}. Best is trial 57 with value: 0.4459118069459937.\n"
     ]
    },
    {
     "name": "stderr",
     "output_type": "stream",
     "text": [
      "Best trial: 57. Best value: 0.445912:  32%|███▎      | 65/200 [06:10<15:48,  7.02s/it]"
     ]
    },
    {
     "name": "stdout",
     "output_type": "stream",
     "text": [
      "[I 2023-08-23 14:21:20,690] Trial 64 finished with value: 0.45174942675991075 and parameters: {'num_leaves': 54, 'min_child_samples': 67, 'subsample': 0.4910695352947122, 'colsample_bytree': 0.5995897733154519, 'reg_alpha': 0.00015102371685237522, 'reg_lambda': 0.6208643493029526, 'subsample_freq': 10}. Best is trial 57 with value: 0.4459118069459937.\n"
     ]
    },
    {
     "name": "stderr",
     "output_type": "stream",
     "text": [
      "Best trial: 57. Best value: 0.445912:  33%|███▎      | 66/200 [06:17<15:22,  6.88s/it]"
     ]
    },
    {
     "name": "stdout",
     "output_type": "stream",
     "text": [
      "[I 2023-08-23 14:21:27,249] Trial 65 finished with value: 0.45036115990750575 and parameters: {'num_leaves': 50, 'min_child_samples': 107, 'subsample': 0.4394632692764656, 'colsample_bytree': 0.5854000062403528, 'reg_alpha': 0.0004094778915528648, 'reg_lambda': 0.4796216753836345, 'subsample_freq': 10}. Best is trial 57 with value: 0.4459118069459937.\n"
     ]
    },
    {
     "name": "stderr",
     "output_type": "stream",
     "text": [
      "Best trial: 57. Best value: 0.445912:  34%|███▎      | 67/200 [06:23<14:25,  6.51s/it]"
     ]
    },
    {
     "name": "stdout",
     "output_type": "stream",
     "text": [
      "[I 2023-08-23 14:21:32,874] Trial 66 finished with value: 0.44748097500853246 and parameters: {'num_leaves': 57, 'min_child_samples': 124, 'subsample': 0.41282755166206275, 'colsample_bytree': 0.5002998284553718, 'reg_alpha': 0.00023273249778555145, 'reg_lambda': 0.18314403382749833, 'subsample_freq': 5}. Best is trial 57 with value: 0.4459118069459937.\n"
     ]
    },
    {
     "name": "stderr",
     "output_type": "stream",
     "text": [
      "Best trial: 57. Best value: 0.445912:  34%|███▍      | 68/200 [06:28<13:25,  6.10s/it]"
     ]
    },
    {
     "name": "stdout",
     "output_type": "stream",
     "text": [
      "[I 2023-08-23 14:21:38,035] Trial 67 finished with value: 0.4491154281404776 and parameters: {'num_leaves': 60, 'min_child_samples': 128, 'subsample': 0.3744006839406021, 'colsample_bytree': 0.5252228338661343, 'reg_alpha': 0.0006694534684728888, 'reg_lambda': 0.040371733848913925, 'subsample_freq': 10}. Best is trial 57 with value: 0.4459118069459937.\n"
     ]
    },
    {
     "name": "stderr",
     "output_type": "stream",
     "text": [
      "Best trial: 57. Best value: 0.445912:  34%|███▍      | 69/200 [06:34<13:16,  6.08s/it]"
     ]
    },
    {
     "name": "stdout",
     "output_type": "stream",
     "text": [
      "[I 2023-08-23 14:21:44,059] Trial 68 finished with value: 0.4485540829642501 and parameters: {'num_leaves': 51, 'min_child_samples': 117, 'subsample': 0.4642834549751145, 'colsample_bytree': 0.5494137435497819, 'reg_alpha': 0.00014669539732839313, 'reg_lambda': 0.08224789452164481, 'subsample_freq': 10}. Best is trial 57 with value: 0.4459118069459937.\n"
     ]
    },
    {
     "name": "stderr",
     "output_type": "stream",
     "text": [
      "Best trial: 57. Best value: 0.445912:  35%|███▌      | 70/200 [06:41<13:49,  6.38s/it]"
     ]
    },
    {
     "name": "stdout",
     "output_type": "stream",
     "text": [
      "[I 2023-08-23 14:21:51,153] Trial 69 finished with value: 0.44685275509505645 and parameters: {'num_leaves': 62, 'min_child_samples': 111, 'subsample': 0.4946427567605729, 'colsample_bytree': 0.5674997775719107, 'reg_alpha': 0.00023121518457002276, 'reg_lambda': 0.31953442901388, 'subsample_freq': 5}. Best is trial 57 with value: 0.4459118069459937.\n"
     ]
    },
    {
     "name": "stderr",
     "output_type": "stream",
     "text": [
      "Best trial: 57. Best value: 0.445912:  36%|███▌      | 71/200 [06:47<13:52,  6.45s/it]"
     ]
    },
    {
     "name": "stdout",
     "output_type": "stream",
     "text": [
      "[I 2023-08-23 14:21:57,766] Trial 70 finished with value: 0.4481710485652975 and parameters: {'num_leaves': 58, 'min_child_samples': 112, 'subsample': 0.4793293136319129, 'colsample_bytree': 0.5817919026568422, 'reg_alpha': 0.0003932841073187257, 'reg_lambda': 0.12827196959787174, 'subsample_freq': 5}. Best is trial 57 with value: 0.4459118069459937.\n"
     ]
    },
    {
     "name": "stderr",
     "output_type": "stream",
     "text": [
      "Best trial: 57. Best value: 0.445912:  36%|███▌      | 72/200 [06:54<13:38,  6.39s/it]"
     ]
    },
    {
     "name": "stdout",
     "output_type": "stream",
     "text": [
      "[I 2023-08-23 14:22:04,021] Trial 71 finished with value: 0.448230403897125 and parameters: {'num_leaves': 62, 'min_child_samples': 120, 'subsample': 0.44673408655701935, 'colsample_bytree': 0.5564348041239549, 'reg_alpha': 0.00021858439522789777, 'reg_lambda': 0.3331377358141887, 'subsample_freq': 5}. Best is trial 57 with value: 0.4459118069459937.\n"
     ]
    },
    {
     "name": "stderr",
     "output_type": "stream",
     "text": [
      "Best trial: 57. Best value: 0.445912:  36%|███▋      | 73/200 [07:01<14:11,  6.71s/it]"
     ]
    },
    {
     "name": "stdout",
     "output_type": "stream",
     "text": [
      "[I 2023-08-23 14:22:11,455] Trial 72 finished with value: 0.4482273729400079 and parameters: {'num_leaves': 64, 'min_child_samples': 124, 'subsample': 0.49784333306066836, 'colsample_bytree': 0.5696675901210103, 'reg_alpha': 0.00012870782145114513, 'reg_lambda': 0.2832015141698484, 'subsample_freq': 5}. Best is trial 57 with value: 0.4459118069459937.\n"
     ]
    },
    {
     "name": "stderr",
     "output_type": "stream",
     "text": [
      "Best trial: 57. Best value: 0.445912:  37%|███▋      | 74/200 [07:09<14:36,  6.96s/it]"
     ]
    },
    {
     "name": "stdout",
     "output_type": "stream",
     "text": [
      "[I 2023-08-23 14:22:18,993] Trial 73 finished with value: 0.4494086108049315 and parameters: {'num_leaves': 60, 'min_child_samples': 93, 'subsample': 0.5229276812023256, 'colsample_bytree': 0.5399923026469138, 'reg_alpha': 0.0002704110203362765, 'reg_lambda': 0.1249791027300521, 'subsample_freq': 5}. Best is trial 57 with value: 0.4459118069459937.\n"
     ]
    },
    {
     "name": "stderr",
     "output_type": "stream",
     "text": [
      "Best trial: 57. Best value: 0.445912:  38%|███▊      | 75/200 [07:14<13:36,  6.53s/it]"
     ]
    },
    {
     "name": "stdout",
     "output_type": "stream",
     "text": [
      "[I 2023-08-23 14:22:24,536] Trial 74 finished with value: 0.449217848575738 and parameters: {'num_leaves': 54, 'min_child_samples': 117, 'subsample': 0.46749731166721153, 'colsample_bytree': 0.511706710551459, 'reg_alpha': 0.0005896402736560773, 'reg_lambda': 0.43324362327540783, 'subsample_freq': 1}. Best is trial 57 with value: 0.4459118069459937.\n"
     ]
    },
    {
     "name": "stderr",
     "output_type": "stream",
     "text": [
      "Best trial: 57. Best value: 0.445912:  38%|███▊      | 76/200 [07:21<13:55,  6.74s/it]"
     ]
    },
    {
     "name": "stdout",
     "output_type": "stream",
     "text": [
      "[I 2023-08-23 14:22:31,750] Trial 75 finished with value: 0.4526996058610628 and parameters: {'num_leaves': 14, 'min_child_samples': 108, 'subsample': 0.49122021143907274, 'colsample_bytree': 0.5696942451745024, 'reg_alpha': 0.00020681239557391646, 'reg_lambda': 0.18429092315307777, 'subsample_freq': 5}. Best is trial 57 with value: 0.4459118069459937.\n"
     ]
    },
    {
     "name": "stderr",
     "output_type": "stream",
     "text": [
      "Best trial: 57. Best value: 0.445912:  38%|███▊      | 77/200 [07:28<13:22,  6.53s/it]"
     ]
    },
    {
     "name": "stdout",
     "output_type": "stream",
     "text": [
      "[I 2023-08-23 14:22:37,793] Trial 76 finished with value: 0.4472364992074693 and parameters: {'num_leaves': 34, 'min_child_samples': 128, 'subsample': 0.42419234019450697, 'colsample_bytree': 0.5256665722438755, 'reg_alpha': 0.00013188754454266575, 'reg_lambda': 0.07879761412481902, 'subsample_freq': 1}. Best is trial 57 with value: 0.4459118069459937.\n"
     ]
    },
    {
     "name": "stderr",
     "output_type": "stream",
     "text": [
      "Best trial: 57. Best value: 0.445912:  39%|███▉      | 78/200 [07:32<11:47,  5.80s/it]"
     ]
    },
    {
     "name": "stdout",
     "output_type": "stream",
     "text": [
      "[I 2023-08-23 14:22:41,894] Trial 77 finished with value: 0.4600700720900393 and parameters: {'num_leaves': 2, 'min_child_samples': 128, 'subsample': 0.42674467101053865, 'colsample_bytree': 0.4816282706018857, 'reg_alpha': 0.00031779597711706136, 'reg_lambda': 0.05731022461842866, 'subsample_freq': 10}. Best is trial 57 with value: 0.4459118069459937.\n"
     ]
    },
    {
     "name": "stderr",
     "output_type": "stream",
     "text": [
      "Best trial: 57. Best value: 0.445912:  40%|███▉      | 79/200 [07:38<11:46,  5.84s/it]"
     ]
    },
    {
     "name": "stdout",
     "output_type": "stream",
     "text": [
      "[I 2023-08-23 14:22:47,823] Trial 78 finished with value: 0.4521003233395756 and parameters: {'num_leaves': 23, 'min_child_samples': 125, 'subsample': 0.4003828892084636, 'colsample_bytree': 0.5281398755756539, 'reg_alpha': 0.00014392410903030567, 'reg_lambda': 0.1012862703648386, 'subsample_freq': 1}. Best is trial 57 with value: 0.4459118069459937.\n"
     ]
    },
    {
     "name": "stderr",
     "output_type": "stream",
     "text": [
      "Best trial: 57. Best value: 0.445912:  40%|████      | 80/200 [07:44<12:15,  6.13s/it]"
     ]
    },
    {
     "name": "stdout",
     "output_type": "stream",
     "text": [
      "[I 2023-08-23 14:22:54,637] Trial 79 finished with value: 0.45303702682323643 and parameters: {'num_leaves': 17, 'min_child_samples': 115, 'subsample': 0.4173523016151966, 'colsample_bytree': 0.4951411154995776, 'reg_alpha': 0.0005048815839948035, 'reg_lambda': 0.07731076108312461, 'subsample_freq': 1}. Best is trial 57 with value: 0.4459118069459937.\n"
     ]
    },
    {
     "name": "stderr",
     "output_type": "stream",
     "text": [
      "Best trial: 57. Best value: 0.445912:  40%|████      | 81/200 [07:52<13:07,  6.62s/it]"
     ]
    },
    {
     "name": "stdout",
     "output_type": "stream",
     "text": [
      "[I 2023-08-23 14:23:02,382] Trial 80 finished with value: 0.45016079762225336 and parameters: {'num_leaves': 36, 'min_child_samples': 111, 'subsample': 0.4477009976339045, 'colsample_bytree': 0.5906058999009963, 'reg_alpha': 0.00020698806761424655, 'reg_lambda': 0.2098877235730428, 'subsample_freq': 10}. Best is trial 57 with value: 0.4459118069459937.\n"
     ]
    },
    {
     "name": "stderr",
     "output_type": "stream",
     "text": [
      "Best trial: 57. Best value: 0.445912:  41%|████      | 82/200 [07:59<12:53,  6.55s/it]"
     ]
    },
    {
     "name": "stdout",
     "output_type": "stream",
     "text": [
      "[I 2023-08-23 14:23:08,796] Trial 81 finished with value: 0.44875239879632317 and parameters: {'num_leaves': 59, 'min_child_samples': 121, 'subsample': 0.4779857437961774, 'colsample_bytree': 0.5573396521023699, 'reg_alpha': 0.00011924519141099511, 'reg_lambda': 0.2616904724076771, 'subsample_freq': 1}. Best is trial 57 with value: 0.4459118069459937.\n"
     ]
    },
    {
     "name": "stderr",
     "output_type": "stream",
     "text": [
      "Best trial: 57. Best value: 0.445912:  42%|████▏     | 83/200 [08:05<12:35,  6.46s/it]"
     ]
    },
    {
     "name": "stdout",
     "output_type": "stream",
     "text": [
      "[I 2023-08-23 14:23:15,021] Trial 82 finished with value: 0.45095330975153114 and parameters: {'num_leaves': 27, 'min_child_samples': 119, 'subsample': 0.46757790370454394, 'colsample_bytree': 0.5198033431342561, 'reg_alpha': 0.00013414778308162525, 'reg_lambda': 0.14744106968835555, 'subsample_freq': 1}. Best is trial 57 with value: 0.4459118069459937.\n"
     ]
    },
    {
     "name": "stderr",
     "output_type": "stream",
     "text": [
      "Best trial: 57. Best value: 0.445912:  42%|████▏     | 84/200 [08:11<12:25,  6.43s/it]"
     ]
    },
    {
     "name": "stdout",
     "output_type": "stream",
     "text": [
      "[I 2023-08-23 14:23:21,385] Trial 83 finished with value: 0.44836482582795884 and parameters: {'num_leaves': 62, 'min_child_samples': 125, 'subsample': 0.4558166870456817, 'colsample_bytree': 0.5390867985172361, 'reg_alpha': 0.0001912430207860178, 'reg_lambda': 0.5489621157822616, 'subsample_freq': 1}. Best is trial 57 with value: 0.4459118069459937.\n"
     ]
    },
    {
     "name": "stderr",
     "output_type": "stream",
     "text": [
      "Best trial: 57. Best value: 0.445912:  42%|████▎     | 85/200 [08:17<12:01,  6.28s/it]"
     ]
    },
    {
     "name": "stdout",
     "output_type": "stream",
     "text": [
      "[I 2023-08-23 14:23:27,311] Trial 84 finished with value: 0.448478362728579 and parameters: {'num_leaves': 56, 'min_child_samples': 122, 'subsample': 0.42529705648326616, 'colsample_bytree': 0.5645937488500907, 'reg_alpha': 0.0003756681260028198, 'reg_lambda': 0.8040471935414153, 'subsample_freq': 1}. Best is trial 57 with value: 0.4459118069459937.\n"
     ]
    },
    {
     "name": "stderr",
     "output_type": "stream",
     "text": [
      "Best trial: 57. Best value: 0.445912:  43%|████▎     | 86/200 [08:27<14:01,  7.38s/it]"
     ]
    },
    {
     "name": "stdout",
     "output_type": "stream",
     "text": [
      "[I 2023-08-23 14:23:37,275] Trial 85 finished with value: 0.4550010243411659 and parameters: {'num_leaves': 7, 'min_child_samples': 128, 'subsample': 0.44270857798825985, 'colsample_bytree': 0.5858835521788496, 'reg_alpha': 0.0002733704993918464, 'reg_lambda': 0.12289615499394421, 'subsample_freq': 1}. Best is trial 57 with value: 0.4459118069459937.\n"
     ]
    },
    {
     "name": "stderr",
     "output_type": "stream",
     "text": [
      "Best trial: 57. Best value: 0.445912:  44%|████▎     | 87/200 [08:36<14:35,  7.75s/it]"
     ]
    },
    {
     "name": "stdout",
     "output_type": "stream",
     "text": [
      "[I 2023-08-23 14:23:45,879] Trial 86 finished with value: 0.4502483143752457 and parameters: {'num_leaves': 34, 'min_child_samples': 105, 'subsample': 0.4975338066397362, 'colsample_bytree': 0.5486916414356496, 'reg_alpha': 0.00010341452538298268, 'reg_lambda': 0.06565761046461047, 'subsample_freq': 1}. Best is trial 57 with value: 0.4459118069459937.\n"
     ]
    },
    {
     "name": "stderr",
     "output_type": "stream",
     "text": [
      "Best trial: 57. Best value: 0.445912:  44%|████▍     | 88/200 [08:43<14:17,  7.66s/it]"
     ]
    },
    {
     "name": "stdout",
     "output_type": "stream",
     "text": [
      "[I 2023-08-23 14:23:53,327] Trial 87 finished with value: 0.447172192953349 and parameters: {'num_leaves': 42, 'min_child_samples': 116, 'subsample': 0.4608054908879901, 'colsample_bytree': 0.5724829021261977, 'reg_alpha': 0.0001832694799111879, 'reg_lambda': 0.35580911560613937, 'subsample_freq': 5}. Best is trial 57 with value: 0.4459118069459937.\n"
     ]
    },
    {
     "name": "stderr",
     "output_type": "stream",
     "text": [
      "Best trial: 57. Best value: 0.445912:  44%|████▍     | 89/200 [08:54<15:54,  8.60s/it]"
     ]
    },
    {
     "name": "stdout",
     "output_type": "stream",
     "text": [
      "[I 2023-08-23 14:24:04,120] Trial 88 finished with value: 0.45289493335457837 and parameters: {'num_leaves': 43, 'min_child_samples': 61, 'subsample': 0.46027025603360106, 'colsample_bytree': 0.5734844515311993, 'reg_alpha': 0.00018828658588809343, 'reg_lambda': 0.3418528390430432, 'subsample_freq': 5}. Best is trial 57 with value: 0.4459118069459937.\n"
     ]
    },
    {
     "name": "stderr",
     "output_type": "stream",
     "text": [
      "Best trial: 57. Best value: 0.445912:  45%|████▌     | 90/200 [09:01<15:05,  8.23s/it]"
     ]
    },
    {
     "name": "stdout",
     "output_type": "stream",
     "text": [
      "[I 2023-08-23 14:24:11,501] Trial 89 finished with value: 0.4520906859817528 and parameters: {'num_leaves': 29, 'min_child_samples': 117, 'subsample': 0.39474202074028986, 'colsample_bytree': 0.561769576114845, 'reg_alpha': 0.00045603339518830217, 'reg_lambda': 0.19750870137905638, 'subsample_freq': 5}. Best is trial 57 with value: 0.4459118069459937.\n"
     ]
    },
    {
     "name": "stderr",
     "output_type": "stream",
     "text": [
      "Best trial: 57. Best value: 0.445912:  46%|████▌     | 91/200 [09:09<14:52,  8.19s/it]"
     ]
    },
    {
     "name": "stdout",
     "output_type": "stream",
     "text": [
      "[I 2023-08-23 14:24:19,590] Trial 90 finished with value: 0.45149981256225463 and parameters: {'num_leaves': 34, 'min_child_samples': 110, 'subsample': 0.4121055177978085, 'colsample_bytree': 0.5923815060212595, 'reg_alpha': 0.0008841630590099821, 'reg_lambda': 0.10318979360105927, 'subsample_freq': 5}. Best is trial 57 with value: 0.4459118069459937.\n"
     ]
    },
    {
     "name": "stderr",
     "output_type": "stream",
     "text": [
      "Best trial: 57. Best value: 0.445912:  46%|████▌     | 92/200 [09:16<13:59,  7.78s/it]"
     ]
    },
    {
     "name": "stdout",
     "output_type": "stream",
     "text": [
      "[I 2023-08-23 14:24:26,397] Trial 91 finished with value: 0.4478657218966415 and parameters: {'num_leaves': 38, 'min_child_samples': 124, 'subsample': 0.48061219249141435, 'colsample_bytree': 0.5377126952908491, 'reg_alpha': 0.00013036226758618533, 'reg_lambda': 0.2792175005664839, 'subsample_freq': 5}. Best is trial 57 with value: 0.4459118069459937.\n"
     ]
    },
    {
     "name": "stderr",
     "output_type": "stream",
     "text": [
      "Best trial: 57. Best value: 0.445912:  46%|████▋     | 93/200 [09:25<14:26,  8.10s/it]"
     ]
    },
    {
     "name": "stdout",
     "output_type": "stream",
     "text": [
      "[I 2023-08-23 14:24:35,261] Trial 92 finished with value: 0.45181283179451287 and parameters: {'num_leaves': 26, 'min_child_samples': 120, 'subsample': 0.4375254502557704, 'colsample_bytree': 0.5697442297684164, 'reg_alpha': 0.0002524599559827581, 'reg_lambda': 0.5078330862099683, 'subsample_freq': 2}. Best is trial 57 with value: 0.4459118069459937.\n"
     ]
    },
    {
     "name": "stderr",
     "output_type": "stream",
     "text": [
      "Best trial: 57. Best value: 0.445912:  47%|████▋     | 94/200 [09:32<13:50,  7.84s/it]"
     ]
    },
    {
     "name": "stdout",
     "output_type": "stream",
     "text": [
      "[I 2023-08-23 14:24:42,483] Trial 93 finished with value: 0.44879135522049607 and parameters: {'num_leaves': 63, 'min_child_samples': 115, 'subsample': 0.4833102236925515, 'colsample_bytree': 0.512193263190956, 'reg_alpha': 0.00016719355072413348, 'reg_lambda': 0.38122055113674413, 'subsample_freq': 1}. Best is trial 57 with value: 0.4459118069459937.\n"
     ]
    },
    {
     "name": "stderr",
     "output_type": "stream",
     "text": [
      "Best trial: 57. Best value: 0.445912:  48%|████▊     | 95/200 [09:39<13:02,  7.45s/it]"
     ]
    },
    {
     "name": "stdout",
     "output_type": "stream",
     "text": [
      "[I 2023-08-23 14:24:49,039] Trial 94 finished with value: 0.4488101615474658 and parameters: {'num_leaves': 58, 'min_child_samples': 125, 'subsample': 0.45227715391115697, 'colsample_bytree': 0.5505277496463636, 'reg_alpha': 0.00012683576030062733, 'reg_lambda': 0.16072224698501933, 'subsample_freq': 5}. Best is trial 57 with value: 0.4459118069459937.\n"
     ]
    },
    {
     "name": "stderr",
     "output_type": "stream",
     "text": [
      "Best trial: 57. Best value: 0.445912:  48%|████▊     | 96/200 [09:47<13:27,  7.76s/it]"
     ]
    },
    {
     "name": "stdout",
     "output_type": "stream",
     "text": [
      "[I 2023-08-23 14:24:57,531] Trial 95 finished with value: 0.448650726588086 and parameters: {'num_leaves': 40, 'min_child_samples': 122, 'subsample': 0.5163891203436005, 'colsample_bytree': 0.5807832452738809, 'reg_alpha': 0.0003270662332576095, 'reg_lambda': 0.7093389700195528, 'subsample_freq': 1}. Best is trial 57 with value: 0.4459118069459937.\n"
     ]
    },
    {
     "name": "stderr",
     "output_type": "stream",
     "text": [
      "Best trial: 57. Best value: 0.445912:  48%|████▊     | 97/200 [09:54<13:00,  7.58s/it]"
     ]
    },
    {
     "name": "stdout",
     "output_type": "stream",
     "text": [
      "[I 2023-08-23 14:25:04,682] Trial 96 finished with value: 0.44983340843046643 and parameters: {'num_leaves': 30, 'min_child_samples': 113, 'subsample': 0.46057868357288734, 'colsample_bytree': 0.5277657776556569, 'reg_alpha': 0.00010193583448670847, 'reg_lambda': 1.0822287584486774, 'subsample_freq': 2}. Best is trial 57 with value: 0.4459118069459937.\n"
     ]
    },
    {
     "name": "stderr",
     "output_type": "stream",
     "text": [
      "Best trial: 57. Best value: 0.445912:  49%|████▉     | 98/200 [10:02<12:40,  7.46s/it]"
     ]
    },
    {
     "name": "stdout",
     "output_type": "stream",
     "text": [
      "[I 2023-08-23 14:25:11,854] Trial 97 finished with value: 0.44870683382288173 and parameters: {'num_leaves': 48, 'min_child_samples': 118, 'subsample': 0.5043907068628175, 'colsample_bytree': 0.5955543139316514, 'reg_alpha': 0.00018226752360884542, 'reg_lambda': 0.24392106124342813, 'subsample_freq': 10}. Best is trial 57 with value: 0.4459118069459937.\n"
     ]
    },
    {
     "name": "stderr",
     "output_type": "stream",
     "text": [
      "Best trial: 57. Best value: 0.445912:  50%|████▉     | 99/200 [10:08<11:54,  7.07s/it]"
     ]
    },
    {
     "name": "stdout",
     "output_type": "stream",
     "text": [
      "[I 2023-08-23 14:25:18,037] Trial 98 finished with value: 0.4475226240799182 and parameters: {'num_leaves': 52, 'min_child_samples': 126, 'subsample': 0.42793346450415126, 'colsample_bytree': 0.5595676002912489, 'reg_alpha': 0.00023136899575973782, 'reg_lambda': 0.43352770751439423, 'subsample_freq': 1}. Best is trial 57 with value: 0.4459118069459937.\n"
     ]
    },
    {
     "name": "stderr",
     "output_type": "stream",
     "text": [
      "Best trial: 57. Best value: 0.445912:  50%|█████     | 100/200 [10:14<11:19,  6.80s/it]"
     ]
    },
    {
     "name": "stdout",
     "output_type": "stream",
     "text": [
      "[I 2023-08-23 14:25:24,180] Trial 99 finished with value: 0.44673573423412943 and parameters: {'num_leaves': 61, 'min_child_samples': 122, 'subsample': 0.4714666920105296, 'colsample_bytree': 0.5350265383434705, 'reg_alpha': 0.0006515930508960918, 'reg_lambda': 0.14990437921513283, 'subsample_freq': 1}. Best is trial 57 with value: 0.4459118069459937.\n"
     ]
    },
    {
     "name": "stderr",
     "output_type": "stream",
     "text": [
      "Best trial: 57. Best value: 0.445912:  50%|█████     | 101/200 [10:24<13:04,  7.93s/it]"
     ]
    },
    {
     "name": "stdout",
     "output_type": "stream",
     "text": [
      "[I 2023-08-23 14:25:34,751] Trial 100 finished with value: 0.4544602108387377 and parameters: {'num_leaves': 55, 'min_child_samples': 19, 'subsample': 0.4424921181433688, 'colsample_bytree': 0.534170323235538, 'reg_alpha': 0.0007336686280122707, 'reg_lambda': 0.05123322793570121, 'subsample_freq': 5}. Best is trial 57 with value: 0.4459118069459937.\n"
     ]
    },
    {
     "name": "stderr",
     "output_type": "stream",
     "text": [
      "Best trial: 57. Best value: 0.445912:  51%|█████     | 102/200 [10:31<12:03,  7.38s/it]"
     ]
    },
    {
     "name": "stdout",
     "output_type": "stream",
     "text": [
      "[I 2023-08-23 14:25:40,859] Trial 101 finished with value: 0.447458142789 and parameters: {'num_leaves': 61, 'min_child_samples': 122, 'subsample': 0.47278287487041915, 'colsample_bytree': 0.546605062809182, 'reg_alpha': 0.0003283452135157391, 'reg_lambda': 0.09506366047510392, 'subsample_freq': 1}. Best is trial 57 with value: 0.4459118069459937.\n"
     ]
    },
    {
     "name": "stderr",
     "output_type": "stream",
     "text": [
      "Best trial: 57. Best value: 0.445912:  52%|█████▏    | 103/200 [10:37<11:25,  7.07s/it]"
     ]
    },
    {
     "name": "stdout",
     "output_type": "stream",
     "text": [
      "[I 2023-08-23 14:25:47,202] Trial 102 finished with value: 0.4471594947495916 and parameters: {'num_leaves': 60, 'min_child_samples': 128, 'subsample': 0.4652004440777538, 'colsample_bytree': 0.5175636475717957, 'reg_alpha': 0.00018046794063761055, 'reg_lambda': 0.1794648353128127, 'subsample_freq': 1}. Best is trial 57 with value: 0.4459118069459937.\n"
     ]
    },
    {
     "name": "stderr",
     "output_type": "stream",
     "text": [
      "Best trial: 103. Best value: 0.445881:  52%|█████▏    | 104/200 [10:44<11:04,  6.92s/it]"
     ]
    },
    {
     "name": "stdout",
     "output_type": "stream",
     "text": [
      "[I 2023-08-23 14:25:53,784] Trial 103 finished with value: 0.44588062891279834 and parameters: {'num_leaves': 59, 'min_child_samples': 128, 'subsample': 0.4867703597244411, 'colsample_bytree': 0.5233294534478868, 'reg_alpha': 0.00017002384414899942, 'reg_lambda': 0.16109003115987577, 'subsample_freq': 1}. Best is trial 103 with value: 0.44588062891279834.\n"
     ]
    },
    {
     "name": "stderr",
     "output_type": "stream",
     "text": [
      "Best trial: 103. Best value: 0.445881:  52%|█████▎    | 105/200 [10:49<10:28,  6.61s/it]"
     ]
    },
    {
     "name": "stdout",
     "output_type": "stream",
     "text": [
      "[I 2023-08-23 14:25:59,674] Trial 104 finished with value: 0.4484559683568503 and parameters: {'num_leaves': 59, 'min_child_samples': 127, 'subsample': 0.4826085387278114, 'colsample_bytree': 0.5203606377088081, 'reg_alpha': 0.00023774805249644572, 'reg_lambda': 0.1315676715770241, 'subsample_freq': 1}. Best is trial 103 with value: 0.44588062891279834.\n"
     ]
    },
    {
     "name": "stderr",
     "output_type": "stream",
     "text": [
      "Best trial: 103. Best value: 0.445881:  53%|█████▎    | 106/200 [10:55<09:51,  6.29s/it]"
     ]
    },
    {
     "name": "stdout",
     "output_type": "stream",
     "text": [
      "[I 2023-08-23 14:26:05,222] Trial 105 finished with value: 0.4470157299899039 and parameters: {'num_leaves': 63, 'min_child_samples': 128, 'subsample': 0.4681961400671966, 'colsample_bytree': 0.5045846812581711, 'reg_alpha': 0.0004024472290787733, 'reg_lambda': 0.15524398667027028, 'subsample_freq': 1}. Best is trial 103 with value: 0.44588062891279834.\n"
     ]
    },
    {
     "name": "stderr",
     "output_type": "stream",
     "text": [
      "Best trial: 103. Best value: 0.445881:  54%|█████▎    | 107/200 [11:00<09:20,  6.03s/it]"
     ]
    },
    {
     "name": "stdout",
     "output_type": "stream",
     "text": [
      "[I 2023-08-23 14:26:10,627] Trial 106 finished with value: 0.44973800478857884 and parameters: {'num_leaves': 63, 'min_child_samples': 125, 'subsample': 0.4870780629452662, 'colsample_bytree': 0.493141177691217, 'reg_alpha': 0.0004373863754854258, 'reg_lambda': 0.16157236833904998, 'subsample_freq': 2}. Best is trial 103 with value: 0.44588062891279834.\n"
     ]
    },
    {
     "name": "stderr",
     "output_type": "stream",
     "text": [
      "Best trial: 103. Best value: 0.445881:  54%|█████▍    | 108/200 [11:06<08:53,  5.80s/it]"
     ]
    },
    {
     "name": "stdout",
     "output_type": "stream",
     "text": [
      "[I 2023-08-23 14:26:15,900] Trial 107 finished with value: 0.44829568000907233 and parameters: {'num_leaves': 60, 'min_child_samples': 119, 'subsample': 0.4739953987128107, 'colsample_bytree': 0.47022951995779394, 'reg_alpha': 0.0006020940954089875, 'reg_lambda': 0.20759923509691441, 'subsample_freq': 10}. Best is trial 103 with value: 0.44588062891279834.\n"
     ]
    },
    {
     "name": "stderr",
     "output_type": "stream",
     "text": [
      "Best trial: 103. Best value: 0.445881:  55%|█████▍    | 109/200 [11:12<09:03,  5.97s/it]"
     ]
    },
    {
     "name": "stdout",
     "output_type": "stream",
     "text": [
      "[I 2023-08-23 14:26:22,264] Trial 108 finished with value: 0.44957853378016277 and parameters: {'num_leaves': 57, 'min_child_samples': 123, 'subsample': 0.46593663010681236, 'colsample_bytree': 0.4998807810607469, 'reg_alpha': 0.00029300711955195793, 'reg_lambda': 0.318501691341322, 'subsample_freq': 1}. Best is trial 103 with value: 0.44588062891279834.\n"
     ]
    },
    {
     "name": "stderr",
     "output_type": "stream",
     "text": [
      "Best trial: 103. Best value: 0.445881:  55%|█████▌    | 110/200 [11:19<09:21,  6.23s/it]"
     ]
    },
    {
     "name": "stdout",
     "output_type": "stream",
     "text": [
      "[I 2023-08-23 14:26:29,117] Trial 109 finished with value: 0.44974254341284253 and parameters: {'num_leaves': 61, 'min_child_samples': 116, 'subsample': 0.49048230708246143, 'colsample_bytree': 0.507210081804729, 'reg_alpha': 0.0005091961643057207, 'reg_lambda': 0.1496209209074412, 'subsample_freq': 1}. Best is trial 103 with value: 0.44588062891279834.\n"
     ]
    },
    {
     "name": "stderr",
     "output_type": "stream",
     "text": [
      "Best trial: 103. Best value: 0.445881:  56%|█████▌    | 111/200 [11:25<09:10,  6.18s/it]"
     ]
    },
    {
     "name": "stdout",
     "output_type": "stream",
     "text": [
      "[I 2023-08-23 14:26:35,180] Trial 110 finished with value: 0.4478112378021239 and parameters: {'num_leaves': 64, 'min_child_samples': 128, 'subsample': 0.4549390094172656, 'colsample_bytree': 0.48611172370714945, 'reg_alpha': 0.0003799113211965866, 'reg_lambda': 0.1022271165844708, 'subsample_freq': 10}. Best is trial 103 with value: 0.44588062891279834.\n"
     ]
    },
    {
     "name": "stderr",
     "output_type": "stream",
     "text": [
      "Best trial: 103. Best value: 0.445881:  56%|█████▌    | 112/200 [11:33<09:46,  6.67s/it]"
     ]
    },
    {
     "name": "stdout",
     "output_type": "stream",
     "text": [
      "[I 2023-08-23 14:26:42,975] Trial 111 finished with value: 0.45083406321467595 and parameters: {'num_leaves': 59, 'min_child_samples': 74, 'subsample': 0.46169978674091555, 'colsample_bytree': 0.5327109141531751, 'reg_alpha': 0.00016690583288106678, 'reg_lambda': 0.07526575410678743, 'subsample_freq': 1}. Best is trial 103 with value: 0.44588062891279834.\n"
     ]
    },
    {
     "name": "stderr",
     "output_type": "stream",
     "text": [
      "Best trial: 103. Best value: 0.445881:  56%|█████▋    | 113/200 [11:38<09:13,  6.36s/it]"
     ]
    },
    {
     "name": "stdout",
     "output_type": "stream",
     "text": [
      "[I 2023-08-23 14:26:48,617] Trial 112 finished with value: 0.44827827021982414 and parameters: {'num_leaves': 56, 'min_child_samples': 128, 'subsample': 0.41697591901057307, 'colsample_bytree': 0.5255489371473355, 'reg_alpha': 0.0001250350740710583, 'reg_lambda': 0.21419158477696493, 'subsample_freq': 1}. Best is trial 103 with value: 0.44588062891279834.\n"
     ]
    },
    {
     "name": "stderr",
     "output_type": "stream",
     "text": [
      "Best trial: 103. Best value: 0.445881:  57%|█████▋    | 114/200 [11:45<09:02,  6.31s/it]"
     ]
    },
    {
     "name": "stdout",
     "output_type": "stream",
     "text": [
      "[I 2023-08-23 14:26:54,800] Trial 113 finished with value: 0.44863540062531265 and parameters: {'num_leaves': 60, 'min_child_samples': 124, 'subsample': 0.4328536861663272, 'colsample_bytree': 0.5126715041826275, 'reg_alpha': 0.00022081548679193382, 'reg_lambda': 0.07868814731804236, 'subsample_freq': 1}. Best is trial 103 with value: 0.44588062891279834.\n"
     ]
    },
    {
     "name": "stderr",
     "output_type": "stream",
     "text": [
      "Best trial: 103. Best value: 0.445881:  57%|█████▊    | 115/200 [11:51<09:09,  6.47s/it]"
     ]
    },
    {
     "name": "stdout",
     "output_type": "stream",
     "text": [
      "[I 2023-08-23 14:27:01,637] Trial 114 finished with value: 0.4484278485425 and parameters: {'num_leaves': 63, 'min_child_samples': 119, 'subsample': 0.5045528528315477, 'colsample_bytree': 0.5745325988632183, 'reg_alpha': 0.0001726840725660581, 'reg_lambda': 0.12762401009216331, 'subsample_freq': 1}. Best is trial 103 with value: 0.44588062891279834.\n"
     ]
    },
    {
     "name": "stderr",
     "output_type": "stream",
     "text": [
      "Best trial: 103. Best value: 0.445881:  58%|█████▊    | 116/200 [11:58<08:58,  6.42s/it]"
     ]
    },
    {
     "name": "stdout",
     "output_type": "stream",
     "text": [
      "[I 2023-08-23 14:27:07,935] Trial 115 finished with value: 0.44785820573993046 and parameters: {'num_leaves': 58, 'min_child_samples': 126, 'subsample': 0.4481350071223241, 'colsample_bytree': 0.54858462055692, 'reg_alpha': 0.0002587600661537668, 'reg_lambda': 0.18188145883111081, 'subsample_freq': 1}. Best is trial 103 with value: 0.44588062891279834.\n"
     ]
    },
    {
     "name": "stderr",
     "output_type": "stream",
     "text": [
      "Best trial: 103. Best value: 0.445881:  58%|█████▊    | 117/200 [12:04<08:46,  6.34s/it]"
     ]
    },
    {
     "name": "stdout",
     "output_type": "stream",
     "text": [
      "[I 2023-08-23 14:27:14,099] Trial 116 finished with value: 0.44917333999787934 and parameters: {'num_leaves': 54, 'min_child_samples': 123, 'subsample': 0.4773426616450989, 'colsample_bytree': 0.5205651861249895, 'reg_alpha': 0.0001332110146963325, 'reg_lambda': 0.03770084099004304, 'subsample_freq': 1}. Best is trial 103 with value: 0.44588062891279834.\n"
     ]
    },
    {
     "name": "stderr",
     "output_type": "stream",
     "text": [
      "Best trial: 103. Best value: 0.445881:  59%|█████▉    | 118/200 [12:10<08:35,  6.29s/it]"
     ]
    },
    {
     "name": "stdout",
     "output_type": "stream",
     "text": [
      "[I 2023-08-23 14:27:20,276] Trial 117 finished with value: 0.44741458777823506 and parameters: {'num_leaves': 62, 'min_child_samples': 126, 'subsample': 0.4670539471019109, 'colsample_bytree': 0.5073235959140815, 'reg_alpha': 0.0003434849545919778, 'reg_lambda': 0.08751071792815951, 'subsample_freq': 5}. Best is trial 103 with value: 0.44588062891279834.\n"
     ]
    },
    {
     "name": "stderr",
     "output_type": "stream",
     "text": [
      "Best trial: 103. Best value: 0.445881:  60%|█████▉    | 119/200 [12:16<08:24,  6.23s/it]"
     ]
    },
    {
     "name": "stdout",
     "output_type": "stream",
     "text": [
      "[I 2023-08-23 14:27:26,356] Trial 118 finished with value: 0.44908855471570275 and parameters: {'num_leaves': 61, 'min_child_samples': 113, 'subsample': 0.4944812804646528, 'colsample_bytree': 0.46406165482283995, 'reg_alpha': 0.00021079602683340344, 'reg_lambda': 0.05911488957469852, 'subsample_freq': 2}. Best is trial 103 with value: 0.44588062891279834.\n"
     ]
    },
    {
     "name": "stderr",
     "output_type": "stream",
     "text": [
      "Best trial: 103. Best value: 0.445881:  60%|██████    | 120/200 [12:22<08:04,  6.06s/it]"
     ]
    },
    {
     "name": "stdout",
     "output_type": "stream",
     "text": [
      "[I 2023-08-23 14:27:32,015] Trial 119 finished with value: 0.4469319788612365 and parameters: {'num_leaves': 58, 'min_child_samples': 121, 'subsample': 0.43429146456300355, 'colsample_bytree': 0.45028655952605623, 'reg_alpha': 0.0002784948036055599, 'reg_lambda': 0.2907264812417577, 'subsample_freq': 1}. Best is trial 103 with value: 0.44588062891279834.\n"
     ]
    },
    {
     "name": "stderr",
     "output_type": "stream",
     "text": [
      "Best trial: 103. Best value: 0.445881:  60%|██████    | 121/200 [12:31<09:20,  7.09s/it]"
     ]
    },
    {
     "name": "stdout",
     "output_type": "stream",
     "text": [
      "[I 2023-08-23 14:27:41,528] Trial 120 finished with value: 0.4536824286219224 and parameters: {'num_leaves': 57, 'min_child_samples': 29, 'subsample': 0.5169091572800106, 'colsample_bytree': 0.45453004757140597, 'reg_alpha': 0.00069867585032341, 'reg_lambda': 0.2473331536748675, 'subsample_freq': 10}. Best is trial 103 with value: 0.44588062891279834.\n"
     ]
    },
    {
     "name": "stderr",
     "output_type": "stream",
     "text": [
      "Best trial: 103. Best value: 0.445881:  61%|██████    | 122/200 [12:37<08:52,  6.83s/it]"
     ]
    },
    {
     "name": "stdout",
     "output_type": "stream",
     "text": [
      "[I 2023-08-23 14:27:47,739] Trial 121 finished with value: 0.44790261249724084 and parameters: {'num_leaves': 58, 'min_child_samples': 121, 'subsample': 0.433518739009819, 'colsample_bytree': 0.49234790003152534, 'reg_alpha': 0.0001559083242146736, 'reg_lambda': 0.34075210273348855, 'subsample_freq': 1}. Best is trial 103 with value: 0.44588062891279834.\n"
     ]
    },
    {
     "name": "stderr",
     "output_type": "stream",
     "text": [
      "Best trial: 103. Best value: 0.445881:  62%|██████▏   | 123/200 [12:43<08:15,  6.43s/it]"
     ]
    },
    {
     "name": "stdout",
     "output_type": "stream",
     "text": [
      "[I 2023-08-23 14:27:53,237] Trial 122 finished with value: 0.45115598748520347 and parameters: {'num_leaves': 20, 'min_child_samples': 116, 'subsample': 0.45002503917567727, 'colsample_bytree': 0.47652091564956384, 'reg_alpha': 0.0002881924029311483, 'reg_lambda': 0.1630554651110497, 'subsample_freq': 1}. Best is trial 103 with value: 0.44588062891279834.\n"
     ]
    },
    {
     "name": "stderr",
     "output_type": "stream",
     "text": [
      "Best trial: 103. Best value: 0.445881:  62%|██████▏   | 124/200 [12:48<07:47,  6.16s/it]"
     ]
    },
    {
     "name": "stdout",
     "output_type": "stream",
     "text": [
      "[I 2023-08-23 14:27:58,760] Trial 123 finished with value: 0.4486648554779362 and parameters: {'num_leaves': 60, 'min_child_samples': 128, 'subsample': 0.42418669088843475, 'colsample_bytree': 0.5630486100122748, 'reg_alpha': 0.00042097537012841997, 'reg_lambda': 0.28559385346794236, 'subsample_freq': 1}. Best is trial 103 with value: 0.44588062891279834.\n"
     ]
    },
    {
     "name": "stderr",
     "output_type": "stream",
     "text": [
      "Best trial: 103. Best value: 0.445881:  62%|██████▎   | 125/200 [12:54<07:27,  5.97s/it]"
     ]
    },
    {
     "name": "stdout",
     "output_type": "stream",
     "text": [
      "[I 2023-08-23 14:28:04,276] Trial 124 finished with value: 0.4485226668229037 and parameters: {'num_leaves': 55, 'min_child_samples': 118, 'subsample': 0.4392666829074572, 'colsample_bytree': 0.48332405242319315, 'reg_alpha': 0.0001875050429326295, 'reg_lambda': 0.4121351490351651, 'subsample_freq': 1}. Best is trial 103 with value: 0.44588062891279834.\n"
     ]
    },
    {
     "name": "stderr",
     "output_type": "stream",
     "text": [
      "Best trial: 103. Best value: 0.445881:  63%|██████▎   | 126/200 [13:00<07:20,  5.96s/it]"
     ]
    },
    {
     "name": "stdout",
     "output_type": "stream",
     "text": [
      "[I 2023-08-23 14:28:10,220] Trial 125 finished with value: 0.4461619468518679 and parameters: {'num_leaves': 63, 'min_child_samples': 124, 'subsample': 0.4694028601716548, 'colsample_bytree': 0.4366222191505306, 'reg_alpha': 0.00012355732645364658, 'reg_lambda': 0.11719911978953843, 'subsample_freq': 1}. Best is trial 103 with value: 0.44588062891279834.\n"
     ]
    },
    {
     "name": "stderr",
     "output_type": "stream",
     "text": [
      "Best trial: 103. Best value: 0.445881:  64%|██████▎   | 127/200 [13:05<06:58,  5.73s/it]"
     ]
    },
    {
     "name": "stdout",
     "output_type": "stream",
     "text": [
      "[I 2023-08-23 14:28:15,420] Trial 126 finished with value: 0.44773927863516555 and parameters: {'num_leaves': 64, 'min_child_samples': 122, 'subsample': 0.46833600039670237, 'colsample_bytree': 0.4271438545967338, 'reg_alpha': 0.00024033061554736262, 'reg_lambda': 0.12069310962080922, 'subsample_freq': 1}. Best is trial 103 with value: 0.44588062891279834.\n"
     ]
    },
    {
     "name": "stderr",
     "output_type": "stream",
     "text": [
      "Best trial: 103. Best value: 0.445881:  64%|██████▍   | 128/200 [13:11<06:50,  5.70s/it]"
     ]
    },
    {
     "name": "stdout",
     "output_type": "stream",
     "text": [
      "[I 2023-08-23 14:28:21,052] Trial 127 finished with value: 0.4476164556993622 and parameters: {'num_leaves': 59, 'min_child_samples': 125, 'subsample': 0.4870885062412934, 'colsample_bytree': 0.4590699878929097, 'reg_alpha': 0.00010062642929504727, 'reg_lambda': 0.2130512422289025, 'subsample_freq': 1}. Best is trial 103 with value: 0.44588062891279834.\n"
     ]
    },
    {
     "name": "stderr",
     "output_type": "stream",
     "text": [
      "Best trial: 103. Best value: 0.445881:  64%|██████▍   | 129/200 [13:19<07:31,  6.35s/it]"
     ]
    },
    {
     "name": "stdout",
     "output_type": "stream",
     "text": [
      "[I 2023-08-23 14:28:28,925] Trial 128 finished with value: 0.4526478511581935 and parameters: {'num_leaves': 62, 'min_child_samples': 45, 'subsample': 0.45654227483552096, 'colsample_bytree': 0.4441011057074373, 'reg_alpha': 0.00015596883087431828, 'reg_lambda': 0.5676315975266266, 'subsample_freq': 5}. Best is trial 103 with value: 0.44588062891279834.\n"
     ]
    },
    {
     "name": "stderr",
     "output_type": "stream",
     "text": [
      "Best trial: 103. Best value: 0.445881:  65%|██████▌   | 130/200 [13:24<07:03,  6.05s/it]"
     ]
    },
    {
     "name": "stdout",
     "output_type": "stream",
     "text": [
      "[I 2023-08-23 14:28:34,283] Trial 129 finished with value: 0.44954608212360664 and parameters: {'num_leaves': 61, 'min_child_samples': 120, 'subsample': 0.4965213770924266, 'colsample_bytree': 0.469982493868612, 'reg_alpha': 0.0005130407014836939, 'reg_lambda': 0.11124464006128143, 'subsample_freq': 1}. Best is trial 103 with value: 0.44588062891279834.\n"
     ]
    },
    {
     "name": "stderr",
     "output_type": "stream",
     "text": [
      "Best trial: 103. Best value: 0.445881:  66%|██████▌   | 131/200 [13:31<07:21,  6.40s/it]"
     ]
    },
    {
     "name": "stdout",
     "output_type": "stream",
     "text": [
      "[I 2023-08-23 14:28:41,500] Trial 130 finished with value: 0.44819832546588706 and parameters: {'num_leaves': 59, 'min_child_samples': 115, 'subsample': 0.47580958415181995, 'colsample_bytree': 0.5857226726963985, 'reg_alpha': 0.00034632041813959186, 'reg_lambda': 0.15808332413201587, 'subsample_freq': 10}. Best is trial 103 with value: 0.44588062891279834.\n"
     ]
    },
    {
     "name": "stderr",
     "output_type": "stream",
     "text": [
      "Best trial: 103. Best value: 0.445881:  66%|██████▌   | 132/200 [13:37<07:04,  6.24s/it]"
     ]
    },
    {
     "name": "stdout",
     "output_type": "stream",
     "text": [
      "[I 2023-08-23 14:28:47,352] Trial 131 finished with value: 0.44620078875085045 and parameters: {'num_leaves': 63, 'min_child_samples': 128, 'subsample': 0.4466683163561895, 'colsample_bytree': 0.5345119276063349, 'reg_alpha': 0.00012564347522346498, 'reg_lambda': 0.06972778175756608, 'subsample_freq': 1}. Best is trial 103 with value: 0.44588062891279834.\n"
     ]
    },
    {
     "name": "stderr",
     "output_type": "stream",
     "text": [
      "Best trial: 103. Best value: 0.445881:  66%|██████▋   | 133/200 [13:43<06:50,  6.13s/it]"
     ]
    },
    {
     "name": "stdout",
     "output_type": "stream",
     "text": [
      "[I 2023-08-23 14:28:53,219] Trial 132 finished with value: 0.44746671685239625 and parameters: {'num_leaves': 63, 'min_child_samples': 124, 'subsample': 0.4462500341910818, 'colsample_bytree': 0.5381693284626778, 'reg_alpha': 0.00012443546354685587, 'reg_lambda': 0.2074772758766426, 'subsample_freq': 1}. Best is trial 103 with value: 0.44588062891279834.\n"
     ]
    },
    {
     "name": "stderr",
     "output_type": "stream",
     "text": [
      "Best trial: 103. Best value: 0.445881:  67%|██████▋   | 134/200 [13:50<07:00,  6.37s/it]"
     ]
    },
    {
     "name": "stdout",
     "output_type": "stream",
     "text": [
      "[I 2023-08-23 14:29:00,146] Trial 133 finished with value: 0.44981021717459024 and parameters: {'num_leaves': 63, 'min_child_samples': 89, 'subsample': 0.45944229561796307, 'colsample_bytree': 0.554071408471671, 'reg_alpha': 0.00019679343705422846, 'reg_lambda': 0.050212693702970324, 'subsample_freq': 1}. Best is trial 103 with value: 0.44588062891279834.\n"
     ]
    },
    {
     "name": "stderr",
     "output_type": "stream",
     "text": [
      "Best trial: 103. Best value: 0.445881:  68%|██████▊   | 135/200 [13:56<06:54,  6.38s/it]"
     ]
    },
    {
     "name": "stdout",
     "output_type": "stream",
     "text": [
      "[I 2023-08-23 14:29:06,558] Trial 134 finished with value: 0.4497304408513647 and parameters: {'num_leaves': 56, 'min_child_samples': 122, 'subsample': 0.4707746874332422, 'colsample_bytree': 0.5019900059041525, 'reg_alpha': 0.00026283589412331716, 'reg_lambda': 0.13554914301463045, 'subsample_freq': 1}. Best is trial 103 with value: 0.44588062891279834.\n"
     ]
    },
    {
     "name": "stderr",
     "output_type": "stream",
     "text": [
      "Best trial: 103. Best value: 0.445881:  68%|██████▊   | 136/200 [14:01<06:20,  5.95s/it]"
     ]
    },
    {
     "name": "stdout",
     "output_type": "stream",
     "text": [
      "[I 2023-08-23 14:29:11,491] Trial 135 finished with value: 0.446961129622517 and parameters: {'num_leaves': 61, 'min_child_samples': 125, 'subsample': 0.4067437882915728, 'colsample_bytree': 0.40927608357272827, 'reg_alpha': 0.0001532978883165517, 'reg_lambda': 0.28436842351291275, 'subsample_freq': 1}. Best is trial 103 with value: 0.44588062891279834.\n"
     ]
    },
    {
     "name": "stderr",
     "output_type": "stream",
     "text": [
      "Best trial: 103. Best value: 0.445881:  68%|██████▊   | 137/200 [14:06<05:50,  5.57s/it]"
     ]
    },
    {
     "name": "stdout",
     "output_type": "stream",
     "text": [
      "[I 2023-08-23 14:29:16,184] Trial 136 finished with value: 0.44706866887125357 and parameters: {'num_leaves': 61, 'min_child_samples': 125, 'subsample': 0.4072885053831066, 'colsample_bytree': 0.40675335207233865, 'reg_alpha': 0.0001296618406209226, 'reg_lambda': 0.29201770830258583, 'subsample_freq': 2}. Best is trial 103 with value: 0.44588062891279834.\n"
     ]
    },
    {
     "name": "stderr",
     "output_type": "stream",
     "text": [
      "Best trial: 103. Best value: 0.445881:  69%|██████▉   | 138/200 [14:11<05:31,  5.35s/it]"
     ]
    },
    {
     "name": "stdout",
     "output_type": "stream",
     "text": [
      "[I 2023-08-23 14:29:21,006] Trial 137 finished with value: 0.4480057318991713 and parameters: {'num_leaves': 62, 'min_child_samples': 125, 'subsample': 0.38730277364732246, 'colsample_bytree': 0.41869297772741815, 'reg_alpha': 0.00013921723859407675, 'reg_lambda': 0.2740649849569248, 'subsample_freq': 2}. Best is trial 103 with value: 0.44588062891279834.\n"
     ]
    },
    {
     "name": "stderr",
     "output_type": "stream",
     "text": [
      "Best trial: 103. Best value: 0.445881:  70%|██████▉   | 139/200 [14:16<05:17,  5.20s/it]"
     ]
    },
    {
     "name": "stdout",
     "output_type": "stream",
     "text": [
      "[I 2023-08-23 14:29:25,877] Trial 138 finished with value: 0.44887153513974254 and parameters: {'num_leaves': 64, 'min_child_samples': 119, 'subsample': 0.4116567924612237, 'colsample_bytree': 0.3996785132701797, 'reg_alpha': 0.00012123745472749984, 'reg_lambda': 0.09571164456307375, 'subsample_freq': 2}. Best is trial 103 with value: 0.44588062891279834.\n"
     ]
    },
    {
     "name": "stderr",
     "output_type": "stream",
     "text": [
      "Best trial: 103. Best value: 0.445881:  70%|███████   | 140/200 [14:21<05:10,  5.17s/it]"
     ]
    },
    {
     "name": "stdout",
     "output_type": "stream",
     "text": [
      "[I 2023-08-23 14:29:30,962] Trial 139 finished with value: 0.44680159994015783 and parameters: {'num_leaves': 61, 'min_child_samples': 126, 'subsample': 0.40238579823021525, 'colsample_bytree': 0.4505054148860096, 'reg_alpha': 0.00010386507022964043, 'reg_lambda': 0.44465697018087896, 'subsample_freq': 2}. Best is trial 103 with value: 0.44588062891279834.\n"
     ]
    },
    {
     "name": "stderr",
     "output_type": "stream",
     "text": [
      "Best trial: 103. Best value: 0.445881:  70%|███████   | 141/200 [14:27<05:16,  5.37s/it]"
     ]
    },
    {
     "name": "stdout",
     "output_type": "stream",
     "text": [
      "[I 2023-08-23 14:29:36,791] Trial 140 finished with value: 0.4470572806834063 and parameters: {'num_leaves': 61, 'min_child_samples': 123, 'subsample': 0.4055993110019486, 'colsample_bytree': 0.4438330598777112, 'reg_alpha': 0.0001184588138646354, 'reg_lambda': 0.48935164268062564, 'subsample_freq': 2}. Best is trial 103 with value: 0.44588062891279834.\n"
     ]
    },
    {
     "name": "stderr",
     "output_type": "stream",
     "text": [
      "Best trial: 103. Best value: 0.445881:  71%|███████   | 142/200 [14:31<05:01,  5.20s/it]"
     ]
    },
    {
     "name": "stdout",
     "output_type": "stream",
     "text": [
      "[I 2023-08-23 14:29:41,594] Trial 141 finished with value: 0.4483034015787018 and parameters: {'num_leaves': 61, 'min_child_samples': 122, 'subsample': 0.40265707634590625, 'colsample_bytree': 0.43499269999552964, 'reg_alpha': 0.00011052037797394578, 'reg_lambda': 0.6407478948574049, 'subsample_freq': 2}. Best is trial 103 with value: 0.44588062891279834.\n"
     ]
    },
    {
     "name": "stderr",
     "output_type": "stream",
     "text": [
      "Best trial: 103. Best value: 0.445881:  72%|███████▏  | 143/200 [14:36<04:54,  5.17s/it]"
     ]
    },
    {
     "name": "stdout",
     "output_type": "stream",
     "text": [
      "[I 2023-08-23 14:29:46,711] Trial 142 finished with value: 0.44909317137377036 and parameters: {'num_leaves': 62, 'min_child_samples': 125, 'subsample': 0.39978409218734895, 'colsample_bytree': 0.44473574982487724, 'reg_alpha': 0.00010475730998611813, 'reg_lambda': 0.48431647344485435, 'subsample_freq': 2}. Best is trial 103 with value: 0.44588062891279834.\n"
     ]
    },
    {
     "name": "stderr",
     "output_type": "stream",
     "text": [
      "Best trial: 103. Best value: 0.445881:  72%|███████▏  | 144/200 [14:42<04:49,  5.18s/it]"
     ]
    },
    {
     "name": "stdout",
     "output_type": "stream",
     "text": [
      "[I 2023-08-23 14:29:51,890] Trial 143 finished with value: 0.4471471474700159 and parameters: {'num_leaves': 58, 'min_child_samples': 120, 'subsample': 0.38380120931225703, 'colsample_bytree': 0.4522106987384591, 'reg_alpha': 0.0001499228833216847, 'reg_lambda': 0.3968870614028753, 'subsample_freq': 2}. Best is trial 103 with value: 0.44588062891279834.\n"
     ]
    },
    {
     "name": "stderr",
     "output_type": "stream",
     "text": [
      "Best trial: 103. Best value: 0.445881:  72%|███████▎  | 145/200 [14:47<04:40,  5.10s/it]"
     ]
    },
    {
     "name": "stdout",
     "output_type": "stream",
     "text": [
      "[I 2023-08-23 14:29:56,821] Trial 144 finished with value: 0.4481841361861262 and parameters: {'num_leaves': 58, 'min_child_samples': 119, 'subsample': 0.38439386622748495, 'colsample_bytree': 0.43468236379176556, 'reg_alpha': 0.0002244638566059256, 'reg_lambda': 0.4054728104241258, 'subsample_freq': 2}. Best is trial 103 with value: 0.44588062891279834.\n"
     ]
    },
    {
     "name": "stderr",
     "output_type": "stream",
     "text": [
      "Best trial: 103. Best value: 0.445881:  73%|███████▎  | 146/200 [14:52<04:34,  5.08s/it]"
     ]
    },
    {
     "name": "stdout",
     "output_type": "stream",
     "text": [
      "[I 2023-08-23 14:30:01,854] Trial 145 finished with value: 0.4485556705509327 and parameters: {'num_leaves': 64, 'min_child_samples': 123, 'subsample': 0.3741190469653821, 'colsample_bytree': 0.3992285807831208, 'reg_alpha': 0.0001508120926462949, 'reg_lambda': 0.5382905921974839, 'subsample_freq': 2}. Best is trial 103 with value: 0.44588062891279834.\n"
     ]
    },
    {
     "name": "stderr",
     "output_type": "stream",
     "text": [
      "Best trial: 103. Best value: 0.445881:  74%|███████▎  | 147/200 [15:04<06:31,  7.39s/it]"
     ]
    },
    {
     "name": "stdout",
     "output_type": "stream",
     "text": [
      "[I 2023-08-23 14:30:14,631] Trial 146 finished with value: 0.4621561430869658 and parameters: {'num_leaves': 59, 'min_child_samples': 2, 'subsample': 0.3624612221810746, 'colsample_bytree': 0.4496014703606487, 'reg_alpha': 0.00012937197845771557, 'reg_lambda': 0.28675491655307894, 'subsample_freq': 2}. Best is trial 103 with value: 0.44588062891279834.\n"
     ]
    },
    {
     "name": "stderr",
     "output_type": "stream",
     "text": [
      "Best trial: 103. Best value: 0.445881:  74%|███████▍  | 148/200 [15:10<05:53,  6.80s/it]"
     ]
    },
    {
     "name": "stdout",
     "output_type": "stream",
     "text": [
      "[I 2023-08-23 14:30:20,051] Trial 147 finished with value: 0.4474239359046815 and parameters: {'num_leaves': 61, 'min_child_samples': 111, 'subsample': 0.4090063324365246, 'colsample_bytree': 0.4095451805889454, 'reg_alpha': 0.00010128857146415502, 'reg_lambda': 0.36346617880299686, 'subsample_freq': 2}. Best is trial 103 with value: 0.44588062891279834.\n"
     ]
    },
    {
     "name": "stderr",
     "output_type": "stream",
     "text": [
      "Best trial: 103. Best value: 0.445881:  74%|███████▍  | 149/200 [15:15<05:17,  6.23s/it]"
     ]
    },
    {
     "name": "stdout",
     "output_type": "stream",
     "text": [
      "[I 2023-08-23 14:30:24,946] Trial 148 finished with value: 0.4478649364883266 and parameters: {'num_leaves': 57, 'min_child_samples': 120, 'subsample': 0.39509051484671737, 'colsample_bytree': 0.4420238318917188, 'reg_alpha': 0.00015471124976922598, 'reg_lambda': 0.6667915738098377, 'subsample_freq': 2}. Best is trial 103 with value: 0.44588062891279834.\n"
     ]
    },
    {
     "name": "stderr",
     "output_type": "stream",
     "text": [
      "Best trial: 103. Best value: 0.445881:  75%|███████▌  | 150/200 [15:20<04:57,  5.95s/it]"
     ]
    },
    {
     "name": "stdout",
     "output_type": "stream",
     "text": [
      "[I 2023-08-23 14:30:30,265] Trial 149 finished with value: 0.4487266130991017 and parameters: {'num_leaves': 63, 'min_child_samples': 118, 'subsample': 0.3921560620151902, 'colsample_bytree': 0.4566669598314916, 'reg_alpha': 0.00028572545017915287, 'reg_lambda': 0.2513770813210908, 'subsample_freq': 2}. Best is trial 103 with value: 0.44588062891279834.\n"
     ]
    },
    {
     "name": "stderr",
     "output_type": "stream",
     "text": [
      "Best trial: 103. Best value: 0.445881:  76%|███████▌  | 151/200 [15:25<04:42,  5.77s/it]"
     ]
    },
    {
     "name": "stdout",
     "output_type": "stream",
     "text": [
      "[I 2023-08-23 14:30:35,619] Trial 150 finished with value: 0.44753317854735214 and parameters: {'num_leaves': 60, 'min_child_samples': 126, 'subsample': 0.420253313556713, 'colsample_bytree': 0.4613793565758454, 'reg_alpha': 0.00022398046982800073, 'reg_lambda': 0.44662351043195714, 'subsample_freq': 2}. Best is trial 103 with value: 0.44588062891279834.\n"
     ]
    },
    {
     "name": "stderr",
     "output_type": "stream",
     "text": [
      "Best trial: 103. Best value: 0.445881:  76%|███████▌  | 152/200 [15:30<04:21,  5.44s/it]"
     ]
    },
    {
     "name": "stdout",
     "output_type": "stream",
     "text": [
      "[I 2023-08-23 14:30:40,280] Trial 151 finished with value: 0.44801495873684355 and parameters: {'num_leaves': 62, 'min_child_samples': 128, 'subsample': 0.37528830801162105, 'colsample_bytree': 0.4300801049434749, 'reg_alpha': 0.00018556576612797503, 'reg_lambda': 0.35370216546534766, 'subsample_freq': 2}. Best is trial 103 with value: 0.44588062891279834.\n"
     ]
    },
    {
     "name": "stderr",
     "output_type": "stream",
     "text": [
      "Best trial: 103. Best value: 0.445881:  76%|███████▋  | 153/200 [15:36<04:16,  5.46s/it]"
     ]
    },
    {
     "name": "stdout",
     "output_type": "stream",
     "text": [
      "[I 2023-08-23 14:30:45,797] Trial 152 finished with value: 0.4486063397192009 and parameters: {'num_leaves': 58, 'min_child_samples': 124, 'subsample': 0.409295688551683, 'colsample_bytree': 0.42727533022010933, 'reg_alpha': 0.0001332931540681684, 'reg_lambda': 0.811612947251888, 'subsample_freq': 2}. Best is trial 103 with value: 0.44588062891279834.\n"
     ]
    },
    {
     "name": "stderr",
     "output_type": "stream",
     "text": [
      "Best trial: 103. Best value: 0.445881:  77%|███████▋  | 154/200 [15:40<04:00,  5.22s/it]"
     ]
    },
    {
     "name": "stdout",
     "output_type": "stream",
     "text": [
      "[I 2023-08-23 14:30:50,454] Trial 153 finished with value: 0.44755101754797444 and parameters: {'num_leaves': 60, 'min_child_samples': 121, 'subsample': 0.4286144555446602, 'colsample_bytree': 0.45058422983595386, 'reg_alpha': 0.008519702235309066, 'reg_lambda': 0.23864983423779207, 'subsample_freq': 2}. Best is trial 103 with value: 0.44588062891279834.\n"
     ]
    },
    {
     "name": "stderr",
     "output_type": "stream",
     "text": [
      "Best trial: 103. Best value: 0.445881:  78%|███████▊  | 155/200 [15:46<04:00,  5.35s/it]"
     ]
    },
    {
     "name": "stdout",
     "output_type": "stream",
     "text": [
      "[I 2023-08-23 14:30:56,103] Trial 154 finished with value: 0.448051893598523 and parameters: {'num_leaves': 60, 'min_child_samples': 126, 'subsample': 0.417837218906522, 'colsample_bytree': 0.4166225071117657, 'reg_alpha': 0.0001682135992087103, 'reg_lambda': 0.19453915334304886, 'subsample_freq': 2}. Best is trial 103 with value: 0.44588062891279834.\n"
     ]
    },
    {
     "name": "stderr",
     "output_type": "stream",
     "text": [
      "Best trial: 103. Best value: 0.445881:  78%|███████▊  | 156/200 [15:51<03:48,  5.20s/it]"
     ]
    },
    {
     "name": "stdout",
     "output_type": "stream",
     "text": [
      "[I 2023-08-23 14:31:00,964] Trial 155 finished with value: 0.44930887085743304 and parameters: {'num_leaves': 57, 'min_child_samples': 117, 'subsample': 0.38148875553191164, 'colsample_bytree': 0.4706179554555897, 'reg_alpha': 0.0011108697110011573, 'reg_lambda': 0.066632278022693, 'subsample_freq': 2}. Best is trial 103 with value: 0.44588062891279834.\n"
     ]
    },
    {
     "name": "stderr",
     "output_type": "stream",
     "text": [
      "Best trial: 103. Best value: 0.445881:  78%|███████▊  | 157/200 [15:56<03:45,  5.25s/it]"
     ]
    },
    {
     "name": "stdout",
     "output_type": "stream",
     "text": [
      "[I 2023-08-23 14:31:06,335] Trial 156 finished with value: 0.4480528815771631 and parameters: {'num_leaves': 62, 'min_child_samples': 123, 'subsample': 0.4423621432412056, 'colsample_bytree': 0.3843904338157551, 'reg_alpha': 0.00030005910285530607, 'reg_lambda': 0.3070279131017879, 'subsample_freq': 10}. Best is trial 103 with value: 0.44588062891279834.\n"
     ]
    },
    {
     "name": "stderr",
     "output_type": "stream",
     "text": [
      "Best trial: 103. Best value: 0.445881:  79%|███████▉  | 158/200 [16:02<03:51,  5.51s/it]"
     ]
    },
    {
     "name": "stdout",
     "output_type": "stream",
     "text": [
      "[I 2023-08-23 14:31:12,436] Trial 157 finished with value: 0.44928576435336864 and parameters: {'num_leaves': 64, 'min_child_samples': 128, 'subsample': 0.43270617087862717, 'colsample_bytree': 0.4414380291985276, 'reg_alpha': 0.00012489142788503233, 'reg_lambda': 0.1478693656190283, 'subsample_freq': 2}. Best is trial 103 with value: 0.44588062891279834.\n"
     ]
    },
    {
     "name": "stderr",
     "output_type": "stream",
     "text": [
      "Best trial: 103. Best value: 0.445881:  80%|███████▉  | 159/200 [16:07<03:40,  5.38s/it]"
     ]
    },
    {
     "name": "stdout",
     "output_type": "stream",
     "text": [
      "[I 2023-08-23 14:31:17,507] Trial 158 finished with value: 0.44916755770224104 and parameters: {'num_leaves': 61, 'min_child_samples': 114, 'subsample': 0.4052826979005123, 'colsample_bytree': 0.42417413603512205, 'reg_alpha': 0.00010038984270773007, 'reg_lambda': 0.904265482630109, 'subsample_freq': 2}. Best is trial 103 with value: 0.44588062891279834.\n"
     ]
    },
    {
     "name": "stderr",
     "output_type": "stream",
     "text": [
      "Best trial: 103. Best value: 0.445881:  80%|████████  | 160/200 [16:12<03:28,  5.20s/it]"
     ]
    },
    {
     "name": "stdout",
     "output_type": "stream",
     "text": [
      "[I 2023-08-23 14:31:22,300] Trial 159 finished with value: 0.44949200504682896 and parameters: {'num_leaves': 59, 'min_child_samples': 121, 'subsample': 0.39528434156368947, 'colsample_bytree': 0.43595770002075207, 'reg_alpha': 0.00022906589788001277, 'reg_lambda': 0.11212607240360806, 'subsample_freq': 10}. Best is trial 103 with value: 0.44588062891279834.\n"
     ]
    },
    {
     "name": "stderr",
     "output_type": "stream",
     "text": [
      "Best trial: 103. Best value: 0.445881:  80%|████████  | 161/200 [16:18<03:29,  5.37s/it]"
     ]
    },
    {
     "name": "stdout",
     "output_type": "stream",
     "text": [
      "[I 2023-08-23 14:31:28,058] Trial 160 finished with value: 0.44832517819135154 and parameters: {'num_leaves': 56, 'min_child_samples': 125, 'subsample': 0.448530561700937, 'colsample_bytree': 0.4521340544009797, 'reg_alpha': 0.0003974683241739391, 'reg_lambda': 0.5651419019271637, 'subsample_freq': 1}. Best is trial 103 with value: 0.44588062891279834.\n"
     ]
    },
    {
     "name": "stderr",
     "output_type": "stream",
     "text": [
      "Best trial: 103. Best value: 0.445881:  81%|████████  | 162/200 [16:22<03:12,  5.07s/it]"
     ]
    },
    {
     "name": "stdout",
     "output_type": "stream",
     "text": [
      "[I 2023-08-23 14:31:32,418] Trial 161 finished with value: 0.44928169303345594 and parameters: {'num_leaves': 60, 'min_child_samples': 128, 'subsample': 0.3501809600477654, 'colsample_bytree': 0.4752600275404746, 'reg_alpha': 0.00017502389025624436, 'reg_lambda': 0.1732732757028689, 'subsample_freq': 1}. Best is trial 103 with value: 0.44588062891279834.\n"
     ]
    },
    {
     "name": "stderr",
     "output_type": "stream",
     "text": [
      "Best trial: 103. Best value: 0.445881:  82%|████████▏ | 163/200 [16:28<03:17,  5.33s/it]"
     ]
    },
    {
     "name": "stdout",
     "output_type": "stream",
     "text": [
      "[I 2023-08-23 14:31:38,357] Trial 162 finished with value: 0.44597818213074875 and parameters: {'num_leaves': 58, 'min_child_samples': 126, 'subsample': 0.4845595956091292, 'colsample_bytree': 0.4810390601315367, 'reg_alpha': 0.00019712557464962534, 'reg_lambda': 0.17195700299218683, 'subsample_freq': 1}. Best is trial 103 with value: 0.44588062891279834.\n"
     ]
    },
    {
     "name": "stderr",
     "output_type": "stream",
     "text": [
      "Best trial: 103. Best value: 0.445881:  82%|████████▏ | 164/200 [16:34<03:17,  5.49s/it]"
     ]
    },
    {
     "name": "stdout",
     "output_type": "stream",
     "text": [
      "[I 2023-08-23 14:31:44,233] Trial 163 finished with value: 0.4479229420594902 and parameters: {'num_leaves': 58, 'min_child_samples': 123, 'subsample': 0.4832101454928176, 'colsample_bytree': 0.4659289405123325, 'reg_alpha': 0.0001467339251797379, 'reg_lambda': 0.23923187083457761, 'subsample_freq': 1}. Best is trial 103 with value: 0.44588062891279834.\n"
     ]
    },
    {
     "name": "stderr",
     "output_type": "stream",
     "text": [
      "Best trial: 103. Best value: 0.445881:  82%|████████▎ | 165/200 [16:40<03:15,  5.59s/it]"
     ]
    },
    {
     "name": "stdout",
     "output_type": "stream",
     "text": [
      "[I 2023-08-23 14:31:50,051] Trial 164 finished with value: 0.4484510134614514 and parameters: {'num_leaves': 54, 'min_child_samples': 79, 'subsample': 0.47396757829447406, 'colsample_bytree': 0.48240850634635674, 'reg_alpha': 0.003987285441416304, 'reg_lambda': 0.11470662192695043, 'subsample_freq': 1}. Best is trial 103 with value: 0.44588062891279834.\n"
     ]
    },
    {
     "name": "stderr",
     "output_type": "stream",
     "text": [
      "Best trial: 103. Best value: 0.445881:  83%|████████▎ | 166/200 [16:46<03:17,  5.81s/it]"
     ]
    },
    {
     "name": "stdout",
     "output_type": "stream",
     "text": [
      "[I 2023-08-23 14:31:56,381] Trial 165 finished with value: 0.44647546421634343 and parameters: {'num_leaves': 63, 'min_child_samples': 126, 'subsample': 0.5095762036778617, 'colsample_bytree': 0.4622054434395363, 'reg_alpha': 0.0002046207852589058, 'reg_lambda': 0.08571873164807964, 'subsample_freq': 1}. Best is trial 103 with value: 0.44588062891279834.\n"
     ]
    },
    {
     "name": "stderr",
     "output_type": "stream",
     "text": [
      "Best trial: 103. Best value: 0.445881:  84%|████████▎ | 167/200 [16:52<03:08,  5.73s/it]"
     ]
    },
    {
     "name": "stdout",
     "output_type": "stream",
     "text": [
      "[I 2023-08-23 14:32:01,906] Trial 166 finished with value: 0.44780825652078643 and parameters: {'num_leaves': 63, 'min_child_samples': 125, 'subsample': 0.5021065785701964, 'colsample_bytree': 0.460741827930323, 'reg_alpha': 0.0002124349817197288, 'reg_lambda': 0.3103680688633186, 'subsample_freq': 1}. Best is trial 103 with value: 0.44588062891279834.\n"
     ]
    },
    {
     "name": "stderr",
     "output_type": "stream",
     "text": [
      "Best trial: 103. Best value: 0.445881:  84%|████████▍ | 168/200 [16:58<03:09,  5.92s/it]"
     ]
    },
    {
     "name": "stdout",
     "output_type": "stream",
     "text": [
      "[I 2023-08-23 14:32:08,264] Trial 167 finished with value: 0.4484110305855119 and parameters: {'num_leaves': 61, 'min_child_samples': 121, 'subsample': 0.5106474117695413, 'colsample_bytree': 0.4914909456665689, 'reg_alpha': 0.0003317127059919161, 'reg_lambda': 0.08434972533809057, 'subsample_freq': 1}. Best is trial 103 with value: 0.44588062891279834.\n"
     ]
    },
    {
     "name": "stderr",
     "output_type": "stream",
     "text": [
      "Best trial: 103. Best value: 0.445881:  84%|████████▍ | 169/200 [17:04<03:04,  5.95s/it]"
     ]
    },
    {
     "name": "stdout",
     "output_type": "stream",
     "text": [
      "[I 2023-08-23 14:32:14,292] Trial 168 finished with value: 0.44730763377457755 and parameters: {'num_leaves': 62, 'min_child_samples': 117, 'subsample': 0.49118013511353265, 'colsample_bytree': 0.4470422530380107, 'reg_alpha': 0.00024276223390225026, 'reg_lambda': 0.40129279881992735, 'subsample_freq': 2}. Best is trial 103 with value: 0.44588062891279834.\n"
     ]
    },
    {
     "name": "stderr",
     "output_type": "stream",
     "text": [
      "Best trial: 103. Best value: 0.445881:  85%|████████▌ | 170/200 [17:09<02:52,  5.74s/it]"
     ]
    },
    {
     "name": "stdout",
     "output_type": "stream",
     "text": [
      "[I 2023-08-23 14:32:19,539] Trial 169 finished with value: 0.45098295371317776 and parameters: {'num_leaves': 64, 'min_child_samples': 126, 'subsample': 0.48621059967538827, 'colsample_bytree': 0.47701752268054637, 'reg_alpha': 0.017041792971724704, 'reg_lambda': 0.2056206250153482, 'subsample_freq': 1}. Best is trial 103 with value: 0.44588062891279834.\n"
     ]
    },
    {
     "name": "stderr",
     "output_type": "stream",
     "text": [
      "Best trial: 103. Best value: 0.445881:  86%|████████▌ | 171/200 [17:15<02:42,  5.61s/it]"
     ]
    },
    {
     "name": "stdout",
     "output_type": "stream",
     "text": [
      "[I 2023-08-23 14:32:24,834] Trial 170 finished with value: 0.4482070406195516 and parameters: {'num_leaves': 58, 'min_child_samples': 123, 'subsample': 0.4195820685273377, 'colsample_bytree': 0.46618243062132814, 'reg_alpha': 0.0001298056368034485, 'reg_lambda': 0.13347904485945536, 'subsample_freq': 1}. Best is trial 103 with value: 0.44588062891279834.\n"
     ]
    },
    {
     "name": "stderr",
     "output_type": "stream",
     "text": [
      "Best trial: 171. Best value: 0.445398:  86%|████████▌ | 172/200 [17:20<02:34,  5.51s/it]"
     ]
    },
    {
     "name": "stdout",
     "output_type": "stream",
     "text": [
      "[I 2023-08-23 14:32:30,137] Trial 171 finished with value: 0.44539756025823735 and parameters: {'num_leaves': 60, 'min_child_samples': 128, 'subsample': 0.4557739655602947, 'colsample_bytree': 0.4544303943274487, 'reg_alpha': 0.00018337518898873693, 'reg_lambda': 0.06367058193742765, 'subsample_freq': 1}. Best is trial 171 with value: 0.44539756025823735.\n"
     ]
    },
    {
     "name": "stderr",
     "output_type": "stream",
     "text": [
      "Best trial: 171. Best value: 0.445398:  86%|████████▋ | 173/200 [17:26<02:30,  5.58s/it]"
     ]
    },
    {
     "name": "stdout",
     "output_type": "stream",
     "text": [
      "[I 2023-08-23 14:32:35,881] Trial 172 finished with value: 0.4479533041916577 and parameters: {'num_leaves': 59, 'min_child_samples': 125, 'subsample': 0.5233253016608413, 'colsample_bytree': 0.4584610685413945, 'reg_alpha': 0.00017652235329758962, 'reg_lambda': 0.07077050735286669, 'subsample_freq': 1}. Best is trial 171 with value: 0.44539756025823735.\n"
     ]
    },
    {
     "name": "stderr",
     "output_type": "stream",
     "text": [
      "Best trial: 171. Best value: 0.445398:  87%|████████▋ | 174/200 [17:31<02:23,  5.53s/it]"
     ]
    },
    {
     "name": "stdout",
     "output_type": "stream",
     "text": [
      "[I 2023-08-23 14:32:41,275] Trial 173 finished with value: 0.4473335821813654 and parameters: {'num_leaves': 62, 'min_child_samples': 128, 'subsample': 0.45444713913250745, 'colsample_bytree': 0.4510466950641866, 'reg_alpha': 0.0002767241946887186, 'reg_lambda': 0.04044958131359868, 'subsample_freq': 1}. Best is trial 171 with value: 0.44539756025823735.\n"
     ]
    },
    {
     "name": "stderr",
     "output_type": "stream",
     "text": [
      "Best trial: 171. Best value: 0.445398:  88%|████████▊ | 175/200 [17:37<02:18,  5.53s/it]"
     ]
    },
    {
     "name": "stdout",
     "output_type": "stream",
     "text": [
      "[I 2023-08-23 14:32:46,820] Trial 174 finished with value: 0.4470722175360532 and parameters: {'num_leaves': 61, 'min_child_samples': 119, 'subsample': 0.4364722209000502, 'colsample_bytree': 0.43263252950955716, 'reg_alpha': 0.00014669452892497823, 'reg_lambda': 0.06191106032913176, 'subsample_freq': 1}. Best is trial 171 with value: 0.44539756025823735.\n"
     ]
    },
    {
     "name": "stderr",
     "output_type": "stream",
     "text": [
      "Best trial: 171. Best value: 0.445398:  88%|████████▊ | 176/200 [17:42<02:08,  5.37s/it]"
     ]
    },
    {
     "name": "stdout",
     "output_type": "stream",
     "text": [
      "[I 2023-08-23 14:32:51,806] Trial 175 finished with value: 0.44680117592433044 and parameters: {'num_leaves': 63, 'min_child_samples': 123, 'subsample': 0.4381891959785268, 'colsample_bytree': 0.41186486475728, 'reg_alpha': 0.00018764275687290568, 'reg_lambda': 0.05770251405852845, 'subsample_freq': 1}. Best is trial 171 with value: 0.44539756025823735.\n"
     ]
    },
    {
     "name": "stderr",
     "output_type": "stream",
     "text": [
      "Best trial: 171. Best value: 0.445398:  88%|████████▊ | 177/200 [17:47<02:01,  5.27s/it]"
     ]
    },
    {
     "name": "stdout",
     "output_type": "stream",
     "text": [
      "[I 2023-08-23 14:32:56,862] Trial 176 finished with value: 0.44743236759376603 and parameters: {'num_leaves': 63, 'min_child_samples': 123, 'subsample': 0.4379818365925134, 'colsample_bytree': 0.4122092741906669, 'reg_alpha': 0.00020148203409991257, 'reg_lambda': 0.030970338112483158, 'subsample_freq': 1}. Best is trial 171 with value: 0.44539756025823735.\n"
     ]
    },
    {
     "name": "stderr",
     "output_type": "stream",
     "text": [
      "Best trial: 171. Best value: 0.445398:  89%|████████▉ | 178/200 [17:52<01:54,  5.19s/it]"
     ]
    },
    {
     "name": "stdout",
     "output_type": "stream",
     "text": [
      "[I 2023-08-23 14:33:01,854] Trial 177 finished with value: 0.44851890463195193 and parameters: {'num_leaves': 61, 'min_child_samples': 126, 'subsample': 0.45247736836384184, 'colsample_bytree': 0.42207491060749847, 'reg_alpha': 0.00011989030701557262, 'reg_lambda': 0.05263012158741036, 'subsample_freq': 1}. Best is trial 171 with value: 0.44539756025823735.\n"
     ]
    },
    {
     "name": "stderr",
     "output_type": "stream",
     "text": [
      "Best trial: 171. Best value: 0.445398:  90%|████████▉ | 179/200 [17:57<01:50,  5.28s/it]"
     ]
    },
    {
     "name": "stdout",
     "output_type": "stream",
     "text": [
      "[I 2023-08-23 14:33:07,349] Trial 178 finished with value: 0.44844128407056877 and parameters: {'num_leaves': 64, 'min_child_samples': 128, 'subsample': 0.4751364674903667, 'colsample_bytree': 0.43986078383209076, 'reg_alpha': 0.00015384418038536023, 'reg_lambda': 0.06019609439298243, 'subsample_freq': 1}. Best is trial 171 with value: 0.44539756025823735.\n"
     ]
    },
    {
     "name": "stderr",
     "output_type": "stream",
     "text": [
      "Best trial: 171. Best value: 0.445398:  90%|█████████ | 180/200 [17:59<01:23,  4.20s/it]"
     ]
    },
    {
     "name": "stdout",
     "output_type": "stream",
     "text": [
      "[I 2023-08-23 14:33:09,021] Trial 179 finished with value: 0.5263347596455977 and parameters: {'num_leaves': 62, 'min_child_samples': 121, 'subsample': 0.4608328099618339, 'colsample_bytree': 0.4072238285654378, 'reg_alpha': 0.1641778903267214, 'reg_lambda': 0.04755177492226777, 'subsample_freq': 1}. Best is trial 171 with value: 0.44539756025823735.\n"
     ]
    },
    {
     "name": "stderr",
     "output_type": "stream",
     "text": [
      "Best trial: 171. Best value: 0.445398:  90%|█████████ | 181/200 [18:04<01:26,  4.55s/it]"
     ]
    },
    {
     "name": "stdout",
     "output_type": "stream",
     "text": [
      "[I 2023-08-23 14:33:14,389] Trial 180 finished with value: 0.44810373162374056 and parameters: {'num_leaves': 60, 'min_child_samples': 124, 'subsample': 0.4297385315118233, 'colsample_bytree': 0.43593854271263144, 'reg_alpha': 0.00023243345258848504, 'reg_lambda': 0.08803539002912927, 'subsample_freq': 1}. Best is trial 171 with value: 0.44539756025823735.\n"
     ]
    },
    {
     "name": "stderr",
     "output_type": "stream",
     "text": [
      "Best trial: 171. Best value: 0.445398:  91%|█████████ | 182/200 [18:10<01:26,  4.81s/it]"
     ]
    },
    {
     "name": "stdout",
     "output_type": "stream",
     "text": [
      "[I 2023-08-23 14:33:19,813] Trial 181 finished with value: 0.4469857053328627 and parameters: {'num_leaves': 63, 'min_child_samples': 119, 'subsample': 0.44300833914059917, 'colsample_bytree': 0.4263456380102102, 'reg_alpha': 0.00038129365225538403, 'reg_lambda': 0.06845069244773432, 'subsample_freq': 1}. Best is trial 171 with value: 0.44539756025823735.\n"
     ]
    },
    {
     "name": "stderr",
     "output_type": "stream",
     "text": [
      "Best trial: 171. Best value: 0.445398:  92%|█████████▏| 183/200 [18:15<01:25,  5.00s/it]"
     ]
    },
    {
     "name": "stdout",
     "output_type": "stream",
     "text": [
      "[I 2023-08-23 14:33:25,253] Trial 182 finished with value: 0.44781563102305455 and parameters: {'num_leaves': 63, 'min_child_samples': 119, 'subsample': 0.44123185408912735, 'colsample_bytree': 0.42800015154148385, 'reg_alpha': 0.0004758795750168991, 'reg_lambda': 0.06233109778730602, 'subsample_freq': 1}. Best is trial 171 with value: 0.44539756025823735.\n"
     ]
    },
    {
     "name": "stderr",
     "output_type": "stream",
     "text": [
      "Best trial: 171. Best value: 0.445398:  92%|█████████▏| 184/200 [18:20<01:19,  4.99s/it]"
     ]
    },
    {
     "name": "stdout",
     "output_type": "stream",
     "text": [
      "[I 2023-08-23 14:33:30,218] Trial 183 finished with value: 0.44706911643726366 and parameters: {'num_leaves': 61, 'min_child_samples': 126, 'subsample': 0.44956618661725944, 'colsample_bytree': 0.4171870443732111, 'reg_alpha': 0.00037988546555353707, 'reg_lambda': 0.08316902805094416, 'subsample_freq': 1}. Best is trial 171 with value: 0.44539756025823735.\n"
     ]
    },
    {
     "name": "stderr",
     "output_type": "stream",
     "text": [
      "Best trial: 171. Best value: 0.445398:  92%|█████████▎| 185/200 [18:25<01:15,  5.04s/it]"
     ]
    },
    {
     "name": "stdout",
     "output_type": "stream",
     "text": [
      "[I 2023-08-23 14:33:35,368] Trial 184 finished with value: 0.4484946758244036 and parameters: {'num_leaves': 62, 'min_child_samples': 126, 'subsample': 0.46751535880666173, 'colsample_bytree': 0.41670773086630997, 'reg_alpha': 0.0005826969177371191, 'reg_lambda': 0.09836407274192895, 'subsample_freq': 1}. Best is trial 171 with value: 0.44539756025823735.\n"
     ]
    },
    {
     "name": "stderr",
     "output_type": "stream",
     "text": [
      "Best trial: 171. Best value: 0.445398:  93%|█████████▎| 186/200 [18:29<01:07,  4.80s/it]"
     ]
    },
    {
     "name": "stdout",
     "output_type": "stream",
     "text": [
      "[I 2023-08-23 14:33:39,628] Trial 185 finished with value: 0.4469410647379548 and parameters: {'num_leaves': 64, 'min_child_samples': 123, 'subsample': 0.4502658695300147, 'colsample_bytree': 0.3939952715374059, 'reg_alpha': 0.0019549680577296983, 'reg_lambda': 0.07315569889655181, 'subsample_freq': 1}. Best is trial 171 with value: 0.44539756025823735.\n"
     ]
    },
    {
     "name": "stderr",
     "output_type": "stream",
     "text": [
      "Best trial: 171. Best value: 0.445398:  94%|█████████▎| 187/200 [18:34<01:03,  4.85s/it]"
     ]
    },
    {
     "name": "stdout",
     "output_type": "stream",
     "text": [
      "[I 2023-08-23 14:33:44,597] Trial 186 finished with value: 0.44866112849393386 and parameters: {'num_leaves': 64, 'min_child_samples': 123, 'subsample': 0.47973343580365413, 'colsample_bytree': 0.3988875856327447, 'reg_alpha': 0.0003008044346825852, 'reg_lambda': 0.132229117355094, 'subsample_freq': 1}. Best is trial 171 with value: 0.44539756025823735.\n"
     ]
    },
    {
     "name": "stderr",
     "output_type": "stream",
     "text": [
      "Best trial: 171. Best value: 0.445398:  94%|█████████▍| 188/200 [18:39<00:56,  4.73s/it]"
     ]
    },
    {
     "name": "stdout",
     "output_type": "stream",
     "text": [
      "[I 2023-08-23 14:33:49,053] Trial 187 finished with value: 0.4471229684097029 and parameters: {'num_leaves': 63, 'min_child_samples': 122, 'subsample': 0.4601153955356776, 'colsample_bytree': 0.3870486374938066, 'reg_alpha': 0.0007925978014326969, 'reg_lambda': 0.048096034899412846, 'subsample_freq': 1}. Best is trial 171 with value: 0.44539756025823735.\n"
     ]
    },
    {
     "name": "stderr",
     "output_type": "stream",
     "text": [
      "Best trial: 171. Best value: 0.445398:  94%|█████████▍| 189/200 [18:44<00:52,  4.79s/it]"
     ]
    },
    {
     "name": "stdout",
     "output_type": "stream",
     "text": [
      "[I 2023-08-23 14:33:53,985] Trial 188 finished with value: 0.44746755573016234 and parameters: {'num_leaves': 64, 'min_child_samples': 128, 'subsample': 0.4981170010099518, 'colsample_bytree': 0.36622214658133256, 'reg_alpha': 0.0001954529979105866, 'reg_lambda': 0.025034664715929775, 'subsample_freq': 1}. Best is trial 171 with value: 0.44539756025823735.\n"
     ]
    },
    {
     "name": "stderr",
     "output_type": "stream",
     "text": [
      "Best trial: 171. Best value: 0.445398:  95%|█████████▌| 190/200 [18:48<00:46,  4.67s/it]"
     ]
    },
    {
     "name": "stdout",
     "output_type": "stream",
     "text": [
      "[I 2023-08-23 14:33:58,351] Trial 189 finished with value: 0.4483958650310708 and parameters: {'num_leaves': 60, 'min_child_samples': 124, 'subsample': 0.42049118536564306, 'colsample_bytree': 0.39274887513489104, 'reg_alpha': 0.0013652789473964134, 'reg_lambda': 0.08138370526378916, 'subsample_freq': 10}. Best is trial 171 with value: 0.44539756025823735.\n"
     ]
    },
    {
     "name": "stderr",
     "output_type": "stream",
     "text": [
      "Best trial: 171. Best value: 0.445398:  96%|█████████▌| 191/200 [18:53<00:41,  4.61s/it]"
     ]
    },
    {
     "name": "stdout",
     "output_type": "stream",
     "text": [
      "[I 2023-08-23 14:34:02,828] Trial 190 finished with value: 0.44888640414110403 and parameters: {'num_leaves': 63, 'min_child_samples': 121, 'subsample': 0.45512475559407434, 'colsample_bytree': 0.4046242558133393, 'reg_alpha': 0.0015508522115079218, 'reg_lambda': 0.11144144672094014, 'subsample_freq': 1}. Best is trial 171 with value: 0.44539756025823735.\n"
     ]
    },
    {
     "name": "stderr",
     "output_type": "stream",
     "text": [
      "Best trial: 171. Best value: 0.445398:  96%|█████████▌| 192/200 [18:57<00:37,  4.66s/it]"
     ]
    },
    {
     "name": "stdout",
     "output_type": "stream",
     "text": [
      "[I 2023-08-23 14:34:07,599] Trial 191 finished with value: 0.4484633960521568 and parameters: {'num_leaves': 61, 'min_child_samples': 126, 'subsample': 0.4433605911539186, 'colsample_bytree': 0.41221493506686663, 'reg_alpha': 0.0009755099574263839, 'reg_lambda': 0.09420791711644823, 'subsample_freq': 1}. Best is trial 171 with value: 0.44539756025823735.\n"
     ]
    },
    {
     "name": "stderr",
     "output_type": "stream",
     "text": [
      "Best trial: 171. Best value: 0.445398:  96%|█████████▋| 193/200 [19:03<00:34,  4.87s/it]"
     ]
    },
    {
     "name": "stdout",
     "output_type": "stream",
     "text": [
      "[I 2023-08-23 14:34:12,953] Trial 192 finished with value: 0.4487242122575682 and parameters: {'num_leaves': 61, 'min_child_samples': 125, 'subsample': 0.4516898740091573, 'colsample_bytree': 0.42185119475924066, 'reg_alpha': 0.00040524685066585444, 'reg_lambda': 0.07210475598058619, 'subsample_freq': 1}. Best is trial 171 with value: 0.44539756025823735.\n"
     ]
    },
    {
     "name": "stderr",
     "output_type": "stream",
     "text": [
      "Best trial: 171. Best value: 0.445398:  97%|█████████▋| 194/200 [19:07<00:28,  4.72s/it]"
     ]
    },
    {
     "name": "stdout",
     "output_type": "stream",
     "text": [
      "[I 2023-08-23 14:34:17,329] Trial 193 finished with value: 0.44930485297574246 and parameters: {'num_leaves': 62, 'min_child_samples': 128, 'subsample': 0.46933128351773107, 'colsample_bytree': 0.40983915076699573, 'reg_alpha': 0.0021741962672041423, 'reg_lambda': 0.15132912868284065, 'subsample_freq': 1}. Best is trial 171 with value: 0.44539756025823735.\n"
     ]
    },
    {
     "name": "stderr",
     "output_type": "stream",
     "text": [
      "Best trial: 171. Best value: 0.445398:  98%|█████████▊| 195/200 [19:12<00:23,  4.72s/it]"
     ]
    },
    {
     "name": "stdout",
     "output_type": "stream",
     "text": [
      "[I 2023-08-23 14:34:22,043] Trial 194 finished with value: 0.4475307646345856 and parameters: {'num_leaves': 59, 'min_child_samples': 124, 'subsample': 0.4266552298138095, 'colsample_bytree': 0.37643960852982183, 'reg_alpha': 0.00035775172902360696, 'reg_lambda': 0.044552718075511685, 'subsample_freq': 1}. Best is trial 171 with value: 0.44539756025823735.\n"
     ]
    },
    {
     "name": "stderr",
     "output_type": "stream",
     "text": [
      "Best trial: 171. Best value: 0.445398:  98%|█████████▊| 196/200 [19:17<00:19,  4.84s/it]"
     ]
    },
    {
     "name": "stdout",
     "output_type": "stream",
     "text": [
      "[I 2023-08-23 14:34:27,178] Trial 195 finished with value: 0.44741257143003393 and parameters: {'num_leaves': 60, 'min_child_samples': 126, 'subsample': 0.44720184881242636, 'colsample_bytree': 0.4032530588640105, 'reg_alpha': 0.0006368211500091856, 'reg_lambda': 0.0759353661225502, 'subsample_freq': 1}. Best is trial 171 with value: 0.44539756025823735.\n"
     ]
    },
    {
     "name": "stderr",
     "output_type": "stream",
     "text": [
      "Best trial: 171. Best value: 0.445398:  98%|█████████▊| 197/200 [19:22<00:14,  4.99s/it]"
     ]
    },
    {
     "name": "stdout",
     "output_type": "stream",
     "text": [
      "[I 2023-08-23 14:34:32,511] Trial 196 finished with value: 0.44843401073195194 and parameters: {'num_leaves': 63, 'min_child_samples': 123, 'subsample': 0.4870736514315908, 'colsample_bytree': 0.39382058632095407, 'reg_alpha': 0.00048171869224315295, 'reg_lambda': 0.036325653685843735, 'subsample_freq': 1}. Best is trial 171 with value: 0.44539756025823735.\n"
     ]
    },
    {
     "name": "stderr",
     "output_type": "stream",
     "text": [
      "Best trial: 171. Best value: 0.445398:  99%|█████████▉| 198/200 [19:28<00:10,  5.08s/it]"
     ]
    },
    {
     "name": "stdout",
     "output_type": "stream",
     "text": [
      "[I 2023-08-23 14:34:37,804] Trial 197 finished with value: 0.4477028351617478 and parameters: {'num_leaves': 64, 'min_child_samples': 117, 'subsample': 0.4640956496411616, 'colsample_bytree': 0.41688706613682563, 'reg_alpha': 0.00028485160494973833, 'reg_lambda': 0.12070571185424972, 'subsample_freq': 1}. Best is trial 171 with value: 0.44539756025823735.\n"
     ]
    },
    {
     "name": "stderr",
     "output_type": "stream",
     "text": [
      "Best trial: 171. Best value: 0.445398: 100%|█████████▉| 199/200 [19:33<00:05,  5.22s/it]"
     ]
    },
    {
     "name": "stdout",
     "output_type": "stream",
     "text": [
      "[I 2023-08-23 14:34:43,347] Trial 198 finished with value: 0.4482703741400375 and parameters: {'num_leaves': 62, 'min_child_samples': 121, 'subsample': 0.4775306655144184, 'colsample_bytree': 0.43370735895285145, 'reg_alpha': 0.000100143972193928, 'reg_lambda': 0.05857252700106777, 'subsample_freq': 10}. Best is trial 171 with value: 0.44539756025823735.\n"
     ]
    },
    {
     "name": "stderr",
     "output_type": "stream",
     "text": [
      "Best trial: 171. Best value: 0.445398: 100%|██████████| 200/200 [19:38<00:00,  5.89s/it]"
     ]
    },
    {
     "name": "stdout",
     "output_type": "stream",
     "text": [
      "[I 2023-08-23 14:34:48,281] Trial 199 finished with value: 0.4470038298867218 and parameters: {'num_leaves': 57, 'min_child_samples': 128, 'subsample': 0.4328673019543672, 'colsample_bytree': 0.42468495015653246, 'reg_alpha': 0.00018769255200506331, 'reg_lambda': 0.17196546698116805, 'subsample_freq': 1}. Best is trial 171 with value: 0.44539756025823735.\n"
     ]
    },
    {
     "name": "stderr",
     "output_type": "stream",
     "text": [
      "\n"
     ]
    },
    {
     "data": {
      "text/plain": [
       "{'num_leaves': 60,\n",
       " 'min_child_samples': 128,\n",
       " 'subsample': 0.4557739655602947,\n",
       " 'colsample_bytree': 0.4544303943274487,\n",
       " 'reg_alpha': 0.00018337518898873693,\n",
       " 'reg_lambda': 0.06367058193742765,\n",
       " 'subsample_freq': 1}"
      ]
     },
     "execution_count": 6,
     "metadata": {},
     "output_type": "execute_result"
    }
   ],
   "source": [
    "lgbm = LGBMModel(*selecter.get_dataframe(\"lgbm\"), seed=0)\n",
    "lgbm.objective(40)"
   ]
  },
  {
   "cell_type": "code",
   "execution_count": 31,
   "metadata": {},
   "outputs": [
    {
     "name": "stdout",
     "output_type": "stream",
     "text": [
      "Fold_lgbm 0: 0.43954843496563856\n",
      "Fold_lgbm 1: 0.44622562646270064\n",
      "Fold_lgbm 2: 0.4489743514090212\n",
      "Fold_lgbm 3: 0.4477097557889522\n",
      "Fold_lgbm 4: 0.44994070757540383\n",
      "CV_lgbm: 0.44647977524034327\n"
     ]
    },
    {
     "ename": "DuplicateError",
     "evalue": "unable to hstack, column with name \"lgbm_pred_0\" already exists",
     "output_type": "error",
     "traceback": [
      "\u001b[0;31m---------------------------------------------------------------------------\u001b[0m",
      "\u001b[0;31mDuplicateError\u001b[0m                            Traceback (most recent call last)",
      "\u001b[1;32m/home/education/signate_scup2023/work/model.ipynb セル 8\u001b[0m line \u001b[0;36m1\n\u001b[1;32m      <a href='vscode-notebook-cell://ssh-remote%2Bcomp.us-central1-b.spherical-bloom-389312/home/education/signate_scup2023/work/model.ipynb#W6sdnNjb2RlLXJlbW90ZQ%3D%3D?line=0'>1</a>\u001b[0m lgbm\u001b[39m.\u001b[39mbest_params \u001b[39m=\u001b[39m {\n\u001b[1;32m      <a href='vscode-notebook-cell://ssh-remote%2Bcomp.us-central1-b.spherical-bloom-389312/home/education/signate_scup2023/work/model.ipynb#W6sdnNjb2RlLXJlbW90ZQ%3D%3D?line=1'>2</a>\u001b[0m     \u001b[39m'\u001b[39m\u001b[39mnum_leaves\u001b[39m\u001b[39m'\u001b[39m: \u001b[39m41\u001b[39m,\n\u001b[1;32m      <a href='vscode-notebook-cell://ssh-remote%2Bcomp.us-central1-b.spherical-bloom-389312/home/education/signate_scup2023/work/model.ipynb#W6sdnNjb2RlLXJlbW90ZQ%3D%3D?line=2'>3</a>\u001b[0m     \u001b[39m'\u001b[39m\u001b[39mmax_depth\u001b[39m\u001b[39m'\u001b[39m: \u001b[39m4\u001b[39m,\n\u001b[0;32m   (...)\u001b[0m\n\u001b[1;32m     <a href='vscode-notebook-cell://ssh-remote%2Bcomp.us-central1-b.spherical-bloom-389312/home/education/signate_scup2023/work/model.ipynb#W6sdnNjb2RlLXJlbW90ZQ%3D%3D?line=10'>11</a>\u001b[0m     \u001b[39m'\u001b[39m\u001b[39mbagging_freq\u001b[39m\u001b[39m'\u001b[39m: \u001b[39m1\u001b[39m\n\u001b[1;32m     <a href='vscode-notebook-cell://ssh-remote%2Bcomp.us-central1-b.spherical-bloom-389312/home/education/signate_scup2023/work/model.ipynb#W6sdnNjb2RlLXJlbW90ZQ%3D%3D?line=11'>12</a>\u001b[0m }\n\u001b[1;32m     <a href='vscode-notebook-cell://ssh-remote%2Bcomp.us-central1-b.spherical-bloom-389312/home/education/signate_scup2023/work/model.ipynb#W6sdnNjb2RlLXJlbW90ZQ%3D%3D?line=12'>13</a>\u001b[0m lgbm_predictions \u001b[39m=\u001b[39m lgbm\u001b[39m.\u001b[39mpredict(\u001b[39m5\u001b[39m)\n\u001b[0;32m---> <a href='vscode-notebook-cell://ssh-remote%2Bcomp.us-central1-b.spherical-bloom-389312/home/education/signate_scup2023/work/model.ipynb#W6sdnNjb2RlLXJlbW90ZQ%3D%3D?line=13'>14</a>\u001b[0m predictions \u001b[39m=\u001b[39m pl\u001b[39m.\u001b[39;49mconcat([predictions, lgbm_predictions], how\u001b[39m=\u001b[39;49m\u001b[39m\"\u001b[39;49m\u001b[39mhorizontal\u001b[39;49m\u001b[39m\"\u001b[39;49m)\n",
      "File \u001b[0;32m~/signate_scup2023/.venv/lib/python3.11/site-packages/polars/functions/eager.py:176\u001b[0m, in \u001b[0;36mconcat\u001b[0;34m(items, how, rechunk, parallel)\u001b[0m\n\u001b[1;32m    174\u001b[0m     out \u001b[39m=\u001b[39m wrap_df(plr\u001b[39m.\u001b[39mdiag_concat_df(elems))\n\u001b[1;32m    175\u001b[0m \u001b[39melif\u001b[39;00m how \u001b[39m==\u001b[39m \u001b[39m\"\u001b[39m\u001b[39mhorizontal\u001b[39m\u001b[39m\"\u001b[39m:\n\u001b[0;32m--> 176\u001b[0m     out \u001b[39m=\u001b[39m wrap_df(plr\u001b[39m.\u001b[39;49mhor_concat_df(elems))\n\u001b[1;32m    177\u001b[0m \u001b[39melse\u001b[39;00m:\n\u001b[1;32m    178\u001b[0m     \u001b[39mraise\u001b[39;00m \u001b[39mValueError\u001b[39;00m(\n\u001b[1;32m    179\u001b[0m         \u001b[39mf\u001b[39m\u001b[39m\"\u001b[39m\u001b[39m`how` must be one of \u001b[39m\u001b[39m{{\u001b[39;00m\u001b[39m'\u001b[39m\u001b[39mvertical\u001b[39m\u001b[39m'\u001b[39m\u001b[39m,\u001b[39m\u001b[39m'\u001b[39m\u001b[39mvertical_relaxed\u001b[39m\u001b[39m'\u001b[39m\u001b[39m,\u001b[39m\u001b[39m'\u001b[39m\u001b[39mdiagonal\u001b[39m\u001b[39m'\u001b[39m\u001b[39m,\u001b[39m\u001b[39m'\u001b[39m\u001b[39mhorizontal\u001b[39m\u001b[39m'\u001b[39m\u001b[39m,\u001b[39m\u001b[39m'\u001b[39m\u001b[39malign\u001b[39m\u001b[39m'\u001b[39m\u001b[39m}}\u001b[39;00m\u001b[39m, \u001b[39m\u001b[39m\"\u001b[39m\n\u001b[1;32m    180\u001b[0m         \u001b[39mf\u001b[39m\u001b[39m\"\u001b[39m\u001b[39mgot \u001b[39m\u001b[39m{\u001b[39;00mhow\u001b[39m!r}\u001b[39;00m\u001b[39m\"\u001b[39m\n\u001b[1;32m    181\u001b[0m     )\n",
      "\u001b[0;31mDuplicateError\u001b[0m: unable to hstack, column with name \"lgbm_pred_0\" already exists"
     ]
    }
   ],
   "source": [
    "lgbm.best_params = {\n",
    "    'num_leaves': 41,\n",
    "    'max_depth': 4,\n",
    "    'min_child_samples': 65,\n",
    "    'subsample': 0.1813266686908916,\n",
    "    'colsample_bytree': 0.9997207808739403,\n",
    "    'reg_alpha': 3.8163343968470076e-06,\n",
    "    'reg_lambda': 9.185674902594394e-05,\n",
    "    'feature_fraction': 0.5180973927754882,\n",
    "    'bagging_fraction': 0.8804646505719466,\n",
    "    'bagging_freq': 1\n",
    "}\n",
    "lgbm_predictions = lgbm.predict(5)\n",
    "predictions = pl.concat([predictions, lgbm_predictions], how=\"horizontal\")"
   ]
  },
  {
   "cell_type": "code",
   "execution_count": 1,
   "metadata": {},
   "outputs": [
    {
     "ename": "NameError",
     "evalue": "name 'lgbm' is not defined",
     "output_type": "error",
     "traceback": [
      "\u001b[0;31m---------------------------------------------------------------------------\u001b[0m",
      "\u001b[0;31mNameError\u001b[0m                                 Traceback (most recent call last)",
      "\u001b[1;32m/home/education/signate_scup2023/work/model.ipynb セル 9\u001b[0m line \u001b[0;36m1\n\u001b[0;32m----> <a href='vscode-notebook-cell://ssh-remote%2Bcomp.us-central1-b.spherical-bloom-389312/home/education/signate_scup2023/work/model.ipynb#X10sdnNjb2RlLXJlbW90ZQ%3D%3D?line=0'>1</a>\u001b[0m importance \u001b[39m=\u001b[39m lgbm\u001b[39m.\u001b[39mfeature_importance()\n\u001b[1;32m      <a href='vscode-notebook-cell://ssh-remote%2Bcomp.us-central1-b.spherical-bloom-389312/home/education/signate_scup2023/work/model.ipynb#X10sdnNjb2RlLXJlbW90ZQ%3D%3D?line=1'>2</a>\u001b[0m importance \u001b[39m=\u001b[39m importance\u001b[39m.\u001b[39msort(by\u001b[39m=\u001b[39m\u001b[39m'\u001b[39m\u001b[39mlgbm_importance_mean\u001b[39m\u001b[39m'\u001b[39m)\n\u001b[1;32m      <a href='vscode-notebook-cell://ssh-remote%2Bcomp.us-central1-b.spherical-bloom-389312/home/education/signate_scup2023/work/model.ipynb#X10sdnNjb2RlLXJlbW90ZQ%3D%3D?line=2'>3</a>\u001b[0m importance \u001b[39m=\u001b[39m importance\u001b[39m.\u001b[39mtail(\u001b[39m100\u001b[39m)\n",
      "\u001b[0;31mNameError\u001b[0m: name 'lgbm' is not defined"
     ]
    }
   ],
   "source": [
    "importance = lgbm.feature_importance()\n",
    "importance = importance.sort(by='lgbm_importance_mean')\n",
    "importance = importance.tail(100)\n",
    "#グラフ表示\n",
    "plt.figure(figsize=(12, 20))\n",
    "plt.barh(importance[\"feature\"], importance[\"lgbm_importance_mean\"])\n",
    "plt.xlabel('Feature importance')\n",
    "plt.ylabel('Features')\n",
    "plt.grid()\n",
    "plt.show()"
   ]
  },
  {
   "cell_type": "code",
   "execution_count": 9,
   "metadata": {},
   "outputs": [],
   "source": [
    "#xgb = XGBModel(train, test)\n",
    "#xgb.objective(20)\n",
    "#xgb.best_params = {'n_estimators': 767, 'max_depth': 8, 'lambda': 1.2306916748991704e-06, 'alpha': 0.018078104089246788, 'colsample_bytree': 0.42319770953022684, 'subsample': 0.2810517802368746, 'min_child_weight': 218, 'gamma': 6.031109467976734e-08, 'eta': 0.018889170085640027}\n",
    "#xgb_predictions = xgb.predict()\n",
    "#predictions = pl.concat([predictions, xgb_predictions], how=\"horizontal\")"
   ]
  },
  {
   "cell_type": "code",
   "execution_count": 10,
   "metadata": {},
   "outputs": [],
   "source": [
    "#rf = RandomForestModel(df)\n",
    "##rf.objective(5)\n",
    "#rf.best_params = {'max_depth': 9, 'min_samples_split': 11, 'min_samples_leaf': 14, 'max_features': 0.6306125661502896, 'max_leaf_nodes': 18, 'n_estimators': 8762, 'bootstrap': True}\n",
    "#rf_predictions = rf.predict()\n",
    "#predictions = pd.concat([predictions, rf_predictions], axis=1)"
   ]
  },
  {
   "cell_type": "code",
   "execution_count": 11,
   "metadata": {},
   "outputs": [],
   "source": [
    "#rgf = RGFModel(df)\n",
    "##rgf.objective(5)\n",
    "#rgf.best_params = {'max_leaf': 8072, 'algorithm': 'RGF_Opt', 'test_interval': 142, 'min_samples_leaf': 11, 'reg_depth': 9, 'l2': 0.0002082492344277923, 'sl2': 4.2919223241162815e-07, 'normalize': False}\n",
    "#rgf_predictions = rgf.predict()\n",
    "#predictions = pd.concat([predictions, rgf_predictions], axis=1)"
   ]
  },
  {
   "cell_type": "code",
   "execution_count": 12,
   "metadata": {},
   "outputs": [],
   "source": [
    "#cat = CatBoostModel(df)\n",
    "##cat.objective(5)\n",
    "#cat.best_params = {\"depth\": 6}\n",
    "#cat_predictions = cat.predict()\n",
    "#predictions = pd.concat([predictions, cat_predictions], axis=1)"
   ]
  },
  {
   "cell_type": "code",
   "execution_count": 13,
   "metadata": {},
   "outputs": [
    {
     "data": {
      "text/html": [
       "<div><style>\n",
       ".dataframe > thead > tr > th,\n",
       ".dataframe > tbody > tr > td {\n",
       "  text-align: right;\n",
       "}\n",
       "</style>\n",
       "<small>shape: (5, 6)</small><table border=\"1\" class=\"dataframe\"><thead><tr><th>price</th><th>lgbm_pred_0</th><th>lgbm_pred_1</th><th>lgbm_pred_2</th><th>lgbm_pred_3</th><th>lgbm_pred_4</th></tr><tr><td>f64</td><td>f64</td><td>f64</td><td>f64</td><td>f64</td><td>f64</td></tr></thead><tbody><tr><td>27587.0</td><td>6459.674917</td><td>6025.404885</td><td>6564.429746</td><td>6342.031815</td><td>6086.430135</td></tr><tr><td>4724.0</td><td>3241.588488</td><td>3514.50487</td><td>3228.234679</td><td>3426.468817</td><td>3210.772345</td></tr><tr><td>10931.0</td><td>3394.766121</td><td>3301.891053</td><td>3339.061318</td><td>3469.162006</td><td>3544.224896</td></tr><tr><td>16553.0</td><td>8518.984904</td><td>8667.106972</td><td>8812.334066</td><td>8450.285373</td><td>9020.798471</td></tr><tr><td>5158.0</td><td>4113.659497</td><td>3848.87108</td><td>4122.976584</td><td>3991.835681</td><td>4054.707565</td></tr></tbody></table></div>"
      ],
      "text/plain": [
       "shape: (5, 6)\n",
       "┌─────────┬─────────────┬─────────────┬─────────────┬─────────────┬─────────────┐\n",
       "│ price   ┆ lgbm_pred_0 ┆ lgbm_pred_1 ┆ lgbm_pred_2 ┆ lgbm_pred_3 ┆ lgbm_pred_4 │\n",
       "│ ---     ┆ ---         ┆ ---         ┆ ---         ┆ ---         ┆ ---         │\n",
       "│ f64     ┆ f64         ┆ f64         ┆ f64         ┆ f64         ┆ f64         │\n",
       "╞═════════╪═════════════╪═════════════╪═════════════╪═════════════╪═════════════╡\n",
       "│ 27587.0 ┆ 6459.674917 ┆ 6025.404885 ┆ 6564.429746 ┆ 6342.031815 ┆ 6086.430135 │\n",
       "│ 4724.0  ┆ 3241.588488 ┆ 3514.50487  ┆ 3228.234679 ┆ 3426.468817 ┆ 3210.772345 │\n",
       "│ 10931.0 ┆ 3394.766121 ┆ 3301.891053 ┆ 3339.061318 ┆ 3469.162006 ┆ 3544.224896 │\n",
       "│ 16553.0 ┆ 8518.984904 ┆ 8667.106972 ┆ 8812.334066 ┆ 8450.285373 ┆ 9020.798471 │\n",
       "│ 5158.0  ┆ 4113.659497 ┆ 3848.87108  ┆ 4122.976584 ┆ 3991.835681 ┆ 4054.707565 │\n",
       "└─────────┴─────────────┴─────────────┴─────────────┴─────────────┴─────────────┘"
      ]
     },
     "execution_count": 13,
     "metadata": {},
     "output_type": "execute_result"
    }
   ],
   "source": [
    "predictions.head()"
   ]
  },
  {
   "cell_type": "code",
   "execution_count": 14,
   "metadata": {},
   "outputs": [],
   "source": [
    "#model = Ridge(random_state=0)\n",
    "#train = predictions[predictions[\"price\"].notnull()]\n",
    "#test = predictions[predictions[\"price\"].isnull()]\n",
    "#X_train = train.drop([\"price\"], axis=1)\n",
    "#y_train = train[\"price\"]\n",
    "#X_test = test.drop([\"price\"], axis=1)\n",
    "#model.fit(X_train, y_train)\n",
    "#y_pred = model.predict(X_test)"
   ]
  },
  {
   "cell_type": "code",
   "execution_count": 15,
   "metadata": {},
   "outputs": [],
   "source": [
    "y_pred = lgbm_predictions.mean(axis=1)[train.height:].to_list()"
   ]
  },
  {
   "cell_type": "code",
   "execution_count": 16,
   "metadata": {},
   "outputs": [],
   "source": [
    "#sub = pl.read_csv(os.path.join(os.path.dirname(__file__), \"../input/submit_sample.csv\"), has_header=False, new_columns=[\"id\", \"price\"])\n",
    "#sub = sub.with_columns(pl.Series(\"\", y_pred).alias(\"price\"))\n",
    "#sub.write_csv(os.path.join(os.path.dirname(__file__), \"../output/submission_te0810_3.csv\"), has_header=False)"
   ]
  }
 ],
 "metadata": {
  "kernelspec": {
   "display_name": "venv",
   "language": "python",
   "name": "python3"
  },
  "language_info": {
   "codemirror_mode": {
    "name": "ipython",
    "version": 3
   },
   "file_extension": ".py",
   "mimetype": "text/x-python",
   "name": "python",
   "nbconvert_exporter": "python",
   "pygments_lexer": "ipython3",
   "version": "3.11.4"
  },
  "orig_nbformat": 4
 },
 "nbformat": 4,
 "nbformat_minor": 2
}
