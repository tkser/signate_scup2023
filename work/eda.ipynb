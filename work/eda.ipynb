{
 "cells": [
  {
   "cell_type": "markdown",
   "metadata": {},
   "source": [
    "# EDA"
   ]
  },
  {
   "cell_type": "code",
   "execution_count": 1,
   "metadata": {},
   "outputs": [
    {
     "name": "stderr",
     "output_type": "stream",
     "text": [
      "/home/education/signate_scup2023/.venv/lib/python3.11/site-packages/tqdm/auto.py:21: TqdmWarning: IProgress not found. Please update jupyter and ipywidgets. See https://ipywidgets.readthedocs.io/en/stable/user_install.html\n",
      "  from .autonotebook import tqdm as notebook_tqdm\n"
     ]
    }
   ],
   "source": [
    "import os\n",
    "import sys\n",
    "import polars as pl\n",
    "import numpy as np\n",
    "#polarsの表示limitをなくす\n",
    "pl.Config.set_tbl_cols(-1)\n",
    "\n",
    "sys.path.append(os.path.join('..'))\n",
    "from exp.features import Features, FeatureSelecter\n",
    "from exp.models.cat import CatBoostModel\n",
    "from exp.models.lgbm import LGBMModel\n",
    "from exp.models.rf import RandomForestModel\n",
    "from exp.models.rgf import RGFModel\n",
    "from exp.models.xgb import XGBModel\n",
    "from exp.models.lr import LinerRegressionModel\n",
    "\n",
    "import matplotlib.pyplot as plt\n",
    "import seaborn as sns\n",
    "\n",
    "import warnings\n",
    "warnings.filterwarnings('ignore')\n",
    "\n",
    "import gc\n",
    "gc.enable()"
   ]
  },
  {
   "cell_type": "code",
   "execution_count": 2,
   "metadata": {},
   "outputs": [],
   "source": [
    "train = pl.read_csv('../input/train.csv')\n",
    "test = pl.read_csv('../input/test.csv')"
   ]
  },
  {
   "cell_type": "code",
   "execution_count": 6,
   "metadata": {},
   "outputs": [
    {
     "data": {
      "text/plain": [
       "{None,\n",
       " 'SUV',\n",
       " 'bus',\n",
       " 'convertible',\n",
       " 'coupe',\n",
       " 'hatchback',\n",
       " 'mini-van',\n",
       " 'offroad',\n",
       " 'other',\n",
       " 'pickup',\n",
       " 'sedan',\n",
       " 'truck',\n",
       " 'van',\n",
       " 'wagon'}"
      ]
     },
     "execution_count": 6,
     "metadata": {},
     "output_type": "execute_result"
    }
   ],
   "source": [
    "set(test[\"type\"].unique().to_list())"
   ]
  },
  {
   "cell_type": "code",
   "execution_count": 3,
   "metadata": {},
   "outputs": [
    {
     "name": "stderr",
     "output_type": "stream",
     "text": [
      "thread '<unnamed>' panicked at 'python function failed KeyError: \"Key 'mini-van' not present\"', src/apply/series.rs:219:19\n",
      "note: run with `RUST_BACKTRACE=1` environment variable to display a backtrace\n",
      "--- PyO3 is resuming a panic after fetching a PanicException from Python. ---\n",
      "Python stack trace below:\n"
     ]
    },
    {
     "ename": "PanicException",
     "evalue": "python function failed KeyError: \"Key 'mini-van' not present\"",
     "output_type": "error",
     "traceback": [
      "\u001b[0;31m---------------------------------------------------------------------------\u001b[0m",
      "\u001b[0;31mPanicException\u001b[0m                            Traceback (most recent call last)",
      "File \u001b[0;32m~/signate_scup2023/.venv/lib/python3.11/site-packages/polars/expr/expr.py:3826\u001b[0m, in \u001b[0;36mExpr.apply.<locals>.wrap_f\u001b[0;34m(x)\u001b[0m\n\u001b[1;32m   3824\u001b[0m \u001b[39mwith\u001b[39;00m warnings\u001b[39m.\u001b[39mcatch_warnings():\n\u001b[1;32m   3825\u001b[0m     warnings\u001b[39m.\u001b[39msimplefilter(\u001b[39m\"\u001b[39m\u001b[39mignore\u001b[39m\u001b[39m\"\u001b[39m, PolarsInefficientApplyWarning)\n\u001b[0;32m-> 3826\u001b[0m     \u001b[39mreturn\u001b[39;00m x\u001b[39m.\u001b[39;49mapply(\n\u001b[1;32m   3827\u001b[0m         function, return_dtype\u001b[39m=\u001b[39;49mreturn_dtype, skip_nulls\u001b[39m=\u001b[39;49mskip_nulls\n\u001b[1;32m   3828\u001b[0m     )\n",
      "File \u001b[0;32m~/signate_scup2023/.venv/lib/python3.11/site-packages/polars/series/series.py:4599\u001b[0m, in \u001b[0;36mSeries.apply\u001b[0;34m(self, function, return_dtype, skip_nulls)\u001b[0m\n\u001b[1;32m   4595\u001b[0m     pl_return_dtype \u001b[39m=\u001b[39m py_type_to_dtype(return_dtype)\n\u001b[1;32m   4597\u001b[0m warn_on_inefficient_apply(function, columns\u001b[39m=\u001b[39m[\u001b[39mself\u001b[39m\u001b[39m.\u001b[39mname], apply_target\u001b[39m=\u001b[39m\u001b[39m\"\u001b[39m\u001b[39mseries\u001b[39m\u001b[39m\"\u001b[39m)\n\u001b[1;32m   4598\u001b[0m \u001b[39mreturn\u001b[39;00m \u001b[39mself\u001b[39m\u001b[39m.\u001b[39m_from_pyseries(\n\u001b[0;32m-> 4599\u001b[0m     \u001b[39mself\u001b[39;49m\u001b[39m.\u001b[39;49m_s\u001b[39m.\u001b[39;49mapply_lambda(function, pl_return_dtype, skip_nulls)\n\u001b[1;32m   4600\u001b[0m )\n",
      "\u001b[0;31mPanicException\u001b[0m: python function failed KeyError: \"Key 'mini-van' not present\""
     ]
    },
    {
     "ename": "PanicException",
     "evalue": "python function failed KeyError: \"Key 'mini-van' not present\"",
     "output_type": "error",
     "traceback": [
      "\u001b[0;31m---------------------------------------------------------------------------\u001b[0m",
      "\u001b[0;31mPanicException\u001b[0m                            Traceback (most recent call last)",
      "\u001b[1;32m/home/education/signate_scup2023/work/eda.ipynb セル 4\u001b[0m line \u001b[0;36m2\n\u001b[1;32m      <a href='vscode-notebook-cell://ssh-remote%2Bcomp.us-central1-b.spherical-bloom-389312/home/education/signate_scup2023/work/eda.ipynb#W3sdnNjb2RlLXJlbW90ZQ%3D%3D?line=0'>1</a>\u001b[0m features \u001b[39m=\u001b[39m Features(train, test)\n\u001b[0;32m----> <a href='vscode-notebook-cell://ssh-remote%2Bcomp.us-central1-b.spherical-bloom-389312/home/education/signate_scup2023/work/eda.ipynb#W3sdnNjb2RlLXJlbW90ZQ%3D%3D?line=1'>2</a>\u001b[0m train, test \u001b[39m=\u001b[39m features\u001b[39m.\u001b[39;49mcreate_features()\n\u001b[1;32m      <a href='vscode-notebook-cell://ssh-remote%2Bcomp.us-central1-b.spherical-bloom-389312/home/education/signate_scup2023/work/eda.ipynb#W3sdnNjb2RlLXJlbW90ZQ%3D%3D?line=3'>4</a>\u001b[0m train\u001b[39m.\u001b[39mhead(\u001b[39m2\u001b[39m)\n",
      "File \u001b[0;32m~/signate_scup2023/exp/features.py:49\u001b[0m, in \u001b[0;36mFeatures.create_features\u001b[0;34m(self)\u001b[0m\n\u001b[1;32m     47\u001b[0m \u001b[39mself\u001b[39m\u001b[39m.\u001b[39m__label_encoding()\n\u001b[1;32m     48\u001b[0m \u001b[39mself\u001b[39m\u001b[39m.\u001b[39m__agg_encoding()\n\u001b[0;32m---> 49\u001b[0m \u001b[39mself\u001b[39;49m\u001b[39m.\u001b[39;49m__w2v_encoding()\n\u001b[1;32m     50\u001b[0m \u001b[39mself\u001b[39m\u001b[39m.\u001b[39m__car_string_encoding()\n\u001b[1;32m     51\u001b[0m \u001b[39mself\u001b[39m\u001b[39m.\u001b[39m__one_hot_encoding()\n",
      "File \u001b[0;32m~/signate_scup2023/exp/features.py:493\u001b[0m, in \u001b[0;36mFeatures.__w2v_encoding\u001b[0;34m(self)\u001b[0m\n\u001b[1;32m    491\u001b[0m \u001b[39mfor\u001b[39;00m col \u001b[39min\u001b[39;00m vec_cols:\n\u001b[1;32m    492\u001b[0m     \u001b[39mfor\u001b[39;00m i \u001b[39min\u001b[39;00m \u001b[39mrange\u001b[39m(\u001b[39m300\u001b[39m):\n\u001b[0;32m--> 493\u001b[0m         \u001b[39mself\u001b[39m\u001b[39m.\u001b[39mtrain \u001b[39m=\u001b[39m \u001b[39mself\u001b[39;49m\u001b[39m.\u001b[39;49mtrain\u001b[39m.\u001b[39;49mwith_columns(\n\u001b[1;32m    494\u001b[0m             (pl\u001b[39m.\u001b[39;49mcol(\u001b[39mf\u001b[39;49m\u001b[39m'\u001b[39;49m\u001b[39mcar_w2v_\u001b[39;49m\u001b[39m{\u001b[39;49;00mi\u001b[39m}\u001b[39;49;00m\u001b[39m'\u001b[39;49m) \u001b[39m+\u001b[39;49m pl\u001b[39m.\u001b[39;49mcol(col)\u001b[39m.\u001b[39;49mapply(\u001b[39mlambda\u001b[39;49;00m x: w2v_model[x][i]))\u001b[39m.\u001b[39;49malias(\u001b[39mf\u001b[39;49m\u001b[39m'\u001b[39;49m\u001b[39mcar_w2v_\u001b[39;49m\u001b[39m{\u001b[39;49;00mi\u001b[39m}\u001b[39;49;00m\u001b[39m'\u001b[39;49m)\n\u001b[1;32m    495\u001b[0m         )\n\u001b[1;32m    496\u001b[0m         \u001b[39mself\u001b[39m\u001b[39m.\u001b[39mtest \u001b[39m=\u001b[39m \u001b[39mself\u001b[39m\u001b[39m.\u001b[39mtest\u001b[39m.\u001b[39mwith_columns(\n\u001b[1;32m    497\u001b[0m             (pl\u001b[39m.\u001b[39mcol(\u001b[39mf\u001b[39m\u001b[39m'\u001b[39m\u001b[39mcar_w2v_\u001b[39m\u001b[39m{\u001b[39;00mi\u001b[39m}\u001b[39;00m\u001b[39m'\u001b[39m) \u001b[39m+\u001b[39m pl\u001b[39m.\u001b[39mcol(col)\u001b[39m.\u001b[39mapply(\u001b[39mlambda\u001b[39;00m x: w2v_model[x][i]))\u001b[39m.\u001b[39malias(\u001b[39mf\u001b[39m\u001b[39m'\u001b[39m\u001b[39mcar_w2v_\u001b[39m\u001b[39m{\u001b[39;00mi\u001b[39m}\u001b[39;00m\u001b[39m'\u001b[39m)\n\u001b[1;32m    498\u001b[0m         )\n\u001b[1;32m    500\u001b[0m vector_columns \u001b[39m=\u001b[39m [\u001b[39mf\u001b[39m\u001b[39m'\u001b[39m\u001b[39mcar_w2v_\u001b[39m\u001b[39m{\u001b[39;00mn\u001b[39m}\u001b[39;00m\u001b[39m'\u001b[39m \u001b[39mfor\u001b[39;00m n \u001b[39min\u001b[39;00m \u001b[39mrange\u001b[39m(\u001b[39m300\u001b[39m)]\n",
      "File \u001b[0;32m~/signate_scup2023/.venv/lib/python3.11/site-packages/polars/dataframe/frame.py:7633\u001b[0m, in \u001b[0;36mDataFrame.with_columns\u001b[0;34m(self, *exprs, **named_exprs)\u001b[0m\n\u001b[1;32m   7482\u001b[0m \u001b[39mdef\u001b[39;00m \u001b[39mwith_columns\u001b[39m(\n\u001b[1;32m   7483\u001b[0m     \u001b[39mself\u001b[39m,\n\u001b[1;32m   7484\u001b[0m     \u001b[39m*\u001b[39mexprs: IntoExpr \u001b[39m|\u001b[39m Iterable[IntoExpr],\n\u001b[1;32m   7485\u001b[0m     \u001b[39m*\u001b[39m\u001b[39m*\u001b[39mnamed_exprs: IntoExpr,\n\u001b[1;32m   7486\u001b[0m ) \u001b[39m-\u001b[39m\u001b[39m>\u001b[39m DataFrame:\n\u001b[1;32m   7487\u001b[0m \u001b[39m    \u001b[39m\u001b[39m\"\"\"\u001b[39;00m\n\u001b[1;32m   7488\u001b[0m \u001b[39m    Add columns to this DataFrame.\u001b[39;00m\n\u001b[1;32m   7489\u001b[0m \n\u001b[0;32m   (...)\u001b[0m\n\u001b[1;32m   7628\u001b[0m \n\u001b[1;32m   7629\u001b[0m \u001b[39m    \"\"\"\u001b[39;00m\n\u001b[1;32m   7630\u001b[0m     \u001b[39mreturn\u001b[39;00m (\n\u001b[1;32m   7631\u001b[0m         \u001b[39mself\u001b[39;49m\u001b[39m.\u001b[39;49mlazy()\n\u001b[1;32m   7632\u001b[0m         \u001b[39m.\u001b[39;49mwith_columns(\u001b[39m*\u001b[39;49mexprs, \u001b[39m*\u001b[39;49m\u001b[39m*\u001b[39;49mnamed_exprs)\n\u001b[0;32m-> 7633\u001b[0m         \u001b[39m.\u001b[39;49mcollect(no_optimization\u001b[39m=\u001b[39;49m\u001b[39mTrue\u001b[39;49;00m)\n\u001b[1;32m   7634\u001b[0m     )\n",
      "File \u001b[0;32m~/signate_scup2023/.venv/lib/python3.11/site-packages/polars/utils/deprecation.py:93\u001b[0m, in \u001b[0;36mdeprecate_renamed_parameter.<locals>.decorate.<locals>.wrapper\u001b[0;34m(*args, **kwargs)\u001b[0m\n\u001b[1;32m     88\u001b[0m \u001b[39m@wraps\u001b[39m(function)\n\u001b[1;32m     89\u001b[0m \u001b[39mdef\u001b[39;00m \u001b[39mwrapper\u001b[39m(\u001b[39m*\u001b[39margs: P\u001b[39m.\u001b[39margs, \u001b[39m*\u001b[39m\u001b[39m*\u001b[39mkwargs: P\u001b[39m.\u001b[39mkwargs) \u001b[39m-\u001b[39m\u001b[39m>\u001b[39m T:\n\u001b[1;32m     90\u001b[0m     _rename_keyword_argument(\n\u001b[1;32m     91\u001b[0m         old_name, new_name, kwargs, function\u001b[39m.\u001b[39m\u001b[39m__name__\u001b[39m, version\n\u001b[1;32m     92\u001b[0m     )\n\u001b[0;32m---> 93\u001b[0m     \u001b[39mreturn\u001b[39;00m function(\u001b[39m*\u001b[39;49margs, \u001b[39m*\u001b[39;49m\u001b[39m*\u001b[39;49mkwargs)\n",
      "File \u001b[0;32m~/signate_scup2023/.venv/lib/python3.11/site-packages/polars/lazyframe/frame.py:1695\u001b[0m, in \u001b[0;36mLazyFrame.collect\u001b[0;34m(self, type_coercion, predicate_pushdown, projection_pushdown, simplify_expression, no_optimization, slice_pushdown, comm_subplan_elim, comm_subexpr_elim, streaming)\u001b[0m\n\u001b[1;32m   1683\u001b[0m     comm_subplan_elim \u001b[39m=\u001b[39m \u001b[39mFalse\u001b[39;00m\n\u001b[1;32m   1685\u001b[0m ldf \u001b[39m=\u001b[39m \u001b[39mself\u001b[39m\u001b[39m.\u001b[39m_ldf\u001b[39m.\u001b[39moptimization_toggle(\n\u001b[1;32m   1686\u001b[0m     type_coercion,\n\u001b[1;32m   1687\u001b[0m     predicate_pushdown,\n\u001b[0;32m   (...)\u001b[0m\n\u001b[1;32m   1693\u001b[0m     streaming,\n\u001b[1;32m   1694\u001b[0m )\n\u001b[0;32m-> 1695\u001b[0m \u001b[39mreturn\u001b[39;00m wrap_df(ldf\u001b[39m.\u001b[39mcollect())\n",
      "\u001b[0;31mPanicException\u001b[0m: python function failed KeyError: \"Key 'mini-van' not present\""
     ]
    }
   ],
   "source": [
    "features = Features(train, test)\n",
    "train, test = features.create_features()\n",
    "\n",
    "train.head(2)"
   ]
  },
  {
   "cell_type": "code",
   "execution_count": null,
   "metadata": {},
   "outputs": [
    {
     "data": {
      "text/plain": [
       "['jaguar',\n",
       " 'aston_martin',\n",
       " 'audi',\n",
       " 'land_rover',\n",
       " 'infiniti',\n",
       " 'acura',\n",
       " 'buick',\n",
       " 'hyundai',\n",
       " 'chevrolet',\n",
       " 'toyota',\n",
       " 'volkswagen',\n",
       " 'mitsubishi',\n",
       " 'honda',\n",
       " 'alfa_romeo',\n",
       " 'ford',\n",
       " 'ram',\n",
       " 'subaru',\n",
       " 'mercedes_benz',\n",
       " 'mazda',\n",
       " 'porsche',\n",
       " 'fiat',\n",
       " 'jeep',\n",
       " 'bmw',\n",
       " 'chrysler',\n",
       " 'volvo',\n",
       " 'gmc',\n",
       " 'dodge',\n",
       " 'kia',\n",
       " 'mercury',\n",
       " 'saturn',\n",
       " 'rover',\n",
       " 'nissan',\n",
       " 'pontiac',\n",
       " 'mini',\n",
       " 'lexus',\n",
       " 'lincoln',\n",
       " 'cadillac']"
      ]
     },
     "execution_count": 5,
     "metadata": {},
     "output_type": "execute_result"
    }
   ],
   "source": [
    "list(set(train[\"manufacturer\"].unique().to_list() + test[\"manufacturer\"].unique().to_list()))"
   ]
  },
  {
   "cell_type": "code",
   "execution_count": null,
   "metadata": {},
   "outputs": [
    {
     "name": "stdout",
     "output_type": "stream",
     "text": [
      "set()\n",
      "set()\n"
     ]
    }
   ],
   "source": [
    "print(set(test[\"manufacturer\"].unique().to_list()) - set(train[\"manufacturer\"].unique().to_list()))\n",
    "print(set(train[\"manufacturer\"].unique().to_list()) - set(test[\"manufacturer\"].unique().to_list()))"
   ]
  },
  {
   "cell_type": "code",
   "execution_count": null,
   "metadata": {},
   "outputs": [],
   "source": [
    "print(set(test[\"type\"].unique().to_list()) - set(train[\"type\"].unique().to_list()))\n",
    "print(set(train[\"type\"].unique().to_list()) - set(test[\"type\"].unique().to_list()))"
   ]
  },
  {
   "cell_type": "code",
   "execution_count": null,
   "metadata": {},
   "outputs": [],
   "source": [
    "df = pl.concat([train, test], how=\"diagonal\")\n",
    "\n",
    "df.head()"
   ]
  },
  {
   "cell_type": "markdown",
   "metadata": {},
   "source": [
    "## region"
   ]
  },
  {
   "cell_type": "markdown",
   "metadata": {},
   "source": [
    "ユニーク数が300近くあるので、onehotは適さないかも\n",
    "\n",
    "自然言語を用いたアプローチを考えるべき？"
   ]
  },
  {
   "cell_type": "code",
   "execution_count": null,
   "metadata": {},
   "outputs": [],
   "source": [
    "uq_region_train = set(train[\"region\"]) - set(test[\"region\"])\n",
    "uq_region_test = set(test[\"region\"]) - set(train[\"region\"])\n",
    "print(\"Unique regions in train: \", uq_region_train)\n",
    "print(\"Unique regions in test: \", uq_region_test)"
   ]
  },
  {
   "cell_type": "code",
   "execution_count": null,
   "metadata": {},
   "outputs": [],
   "source": [
    "df[\"region\"].value_counts(sort=True)"
   ]
  },
  {
   "cell_type": "markdown",
   "metadata": {},
   "source": [
    "## year"
   ]
  },
  {
   "cell_type": "markdown",
   "metadata": {},
   "source": [
    "minは1918\n",
    "maxは2022\n",
    "よって基準年は2023年と仮定できる\n",
    "\n",
    "yearの異常値は四桁目を間違えたtypoの可能性が高い\n",
    "->2030以上は1000引く\n",
    "\n",
    "ageは古くなると逆に価値が上がる。conditionと踏まえた特徴量を作るといいかも"
   ]
  },
  {
   "cell_type": "code",
   "execution_count": null,
   "metadata": {},
   "outputs": [],
   "source": [
    "sns.histplot(df[\"year\"])"
   ]
  },
  {
   "cell_type": "code",
   "execution_count": null,
   "metadata": {},
   "outputs": [],
   "source": [
    "sns.histplot(test[\"year\"])"
   ]
  },
  {
   "cell_type": "code",
   "execution_count": null,
   "metadata": {},
   "outputs": [],
   "source": [
    "sns.barplot(x=\"age\", y=\"price\", data=df.to_pandas())"
   ]
  },
  {
   "cell_type": "markdown",
   "metadata": {},
   "source": [
    "## manufacturer"
   ]
  },
  {
   "cell_type": "markdown",
   "metadata": {},
   "source": [
    "サンプル数が少ないものもあるので、otherとかにしたほうがいいかも"
   ]
  },
  {
   "cell_type": "code",
   "execution_count": null,
   "metadata": {},
   "outputs": [],
   "source": [
    "df[\"manufacturer\"].value_counts(sort=True)\n",
    "#リストをprint\n",
    "print(df[\"manufacturer\"].value_counts(sort=True).index.tolist())"
   ]
  },
  {
   "cell_type": "code",
   "execution_count": null,
   "metadata": {},
   "outputs": [],
   "source": [
    "ax = sns.barplot(x=\"manufacturer\", y=\"price\", data=df.to_pandas())\n",
    "plt.xticks(rotation=90)\n",
    "plt.show()"
   ]
  },
  {
   "cell_type": "markdown",
   "metadata": {},
   "source": [
    "## condition\n",
    "これはlabelencodingでいけそう\n",
    "\n",
    "New\n",
    "Like new\n",
    "Excellent\n",
    "Good\n",
    "Salvage\n",
    "Fair"
   ]
  },
  {
   "cell_type": "code",
   "execution_count": null,
   "metadata": {},
   "outputs": [],
   "source": [
    "df[\"condition\"].value_counts(sort=True)"
   ]
  },
  {
   "cell_type": "code",
   "execution_count": null,
   "metadata": {},
   "outputs": [],
   "source": [
    "sns.barplot(x=\"condition\", y=\"price\", data=df.to_pandas())"
   ]
  },
  {
   "cell_type": "markdown",
   "metadata": {},
   "source": [
    "## cyclinders"
   ]
  },
  {
   "cell_type": "markdown",
   "metadata": {},
   "source": [
    "現在の軽自動車は3気筒、乗用車では4〜8気筒が主流となっていますが、大型車やスポーツカーでは気筒数が多く、排気量も大きくなります。"
   ]
  },
  {
   "cell_type": "code",
   "execution_count": null,
   "metadata": {},
   "outputs": [],
   "source": [
    "df[\"cylinders\"].value_counts()"
   ]
  },
  {
   "cell_type": "code",
   "execution_count": null,
   "metadata": {},
   "outputs": [],
   "source": [
    "sns.barplot(x=\"cylinders\", y=\"price\", data=df.to_pandas())"
   ]
  },
  {
   "cell_type": "markdown",
   "metadata": {},
   "source": [
    "## fuel"
   ]
  },
  {
   "cell_type": "code",
   "execution_count": null,
   "metadata": {},
   "outputs": [],
   "source": [
    "df[\"fuel\"].value_counts(sort=True)"
   ]
  },
  {
   "cell_type": "code",
   "execution_count": null,
   "metadata": {},
   "outputs": [],
   "source": [
    "sns.barplot(x=\"fuel\", y=\"price\", data=df.to_pandas())"
   ]
  },
  {
   "cell_type": "markdown",
   "metadata": {},
   "source": [
    "# odometer"
   ]
  },
  {
   "cell_type": "code",
   "execution_count": null,
   "metadata": {},
   "outputs": [],
   "source": [
    "df[\"odometer\"].describe()"
   ]
  },
  {
   "cell_type": "code",
   "execution_count": null,
   "metadata": {},
   "outputs": [],
   "source": [
    "sns.histplot(df[\"odometer\"], kde=True)"
   ]
  },
  {
   "cell_type": "markdown",
   "metadata": {},
   "source": [
    "## title_status"
   ]
  },
  {
   "cell_type": "code",
   "execution_count": null,
   "metadata": {},
   "outputs": [],
   "source": [
    "df[\"title_status\"].value_counts(sort=True)"
   ]
  },
  {
   "cell_type": "code",
   "execution_count": null,
   "metadata": {},
   "outputs": [],
   "source": [
    "sns.barplot(x=\"title_status\", y=\"price\", data=df.to_pandas())"
   ]
  },
  {
   "cell_type": "code",
   "execution_count": null,
   "metadata": {},
   "outputs": [],
   "source": [
    "df.filter(pl.col(\"title_status\") == \"nan\")"
   ]
  },
  {
   "cell_type": "markdown",
   "metadata": {},
   "source": [
    "## transmission"
   ]
  },
  {
   "cell_type": "code",
   "execution_count": null,
   "metadata": {},
   "outputs": [],
   "source": [
    "df[\"transmission\"].value_counts()"
   ]
  },
  {
   "cell_type": "code",
   "execution_count": null,
   "metadata": {},
   "outputs": [],
   "source": [
    "sns.barplot(x=\"transmission\", y=\"price\", data=df.to_pandas())"
   ]
  },
  {
   "cell_type": "markdown",
   "metadata": {},
   "source": [
    "## drive"
   ]
  },
  {
   "cell_type": "code",
   "execution_count": null,
   "metadata": {},
   "outputs": [],
   "source": [
    "df[\"drive\"].value_counts()"
   ]
  },
  {
   "cell_type": "code",
   "execution_count": null,
   "metadata": {},
   "outputs": [],
   "source": [
    "sns.barplot(x=\"drive\", y=\"price\", data=df.to_pandas())"
   ]
  },
  {
   "cell_type": "markdown",
   "metadata": {},
   "source": [
    "## size"
   ]
  },
  {
   "cell_type": "code",
   "execution_count": null,
   "metadata": {},
   "outputs": [],
   "source": [
    "df[\"size\"].value_counts()"
   ]
  },
  {
   "cell_type": "code",
   "execution_count": null,
   "metadata": {},
   "outputs": [],
   "source": [
    "sns.barplot(x=\"size\", y=\"price\", data=df.to_pandas())"
   ]
  },
  {
   "cell_type": "markdown",
   "metadata": {},
   "source": [
    "## type"
   ]
  },
  {
   "cell_type": "code",
   "execution_count": null,
   "metadata": {},
   "outputs": [],
   "source": [
    "df[\"type\"].value_counts(sort=True)"
   ]
  },
  {
   "cell_type": "code",
   "execution_count": null,
   "metadata": {},
   "outputs": [],
   "source": [
    "sns.barplot(x=\"type\", y=\"price\", data=df.to_pandas())\n",
    "plt.xticks(rotation=90)\n",
    "plt.show()"
   ]
  },
  {
   "cell_type": "code",
   "execution_count": null,
   "metadata": {},
   "outputs": [],
   "source": [
    "df.filter(pl.col(\"type\") == \"nan\")"
   ]
  },
  {
   "cell_type": "markdown",
   "metadata": {},
   "source": [
    "## paint_color"
   ]
  },
  {
   "cell_type": "code",
   "execution_count": null,
   "metadata": {},
   "outputs": [],
   "source": [
    "df[\"paint_color\"].value_counts()"
   ]
  },
  {
   "cell_type": "code",
   "execution_count": null,
   "metadata": {},
   "outputs": [],
   "source": [
    "sns.barplot(x=\"paint_color\", y=\"price\", data=df.to_pandas())\n",
    "plt.xticks(rotation=90)\n",
    "plt.show()"
   ]
  },
  {
   "cell_type": "markdown",
   "metadata": {},
   "source": [
    "## state"
   ]
  },
  {
   "cell_type": "code",
   "execution_count": null,
   "metadata": {},
   "outputs": [],
   "source": [
    "df[\"state\"].value_counts(sort=True)"
   ]
  },
  {
   "cell_type": "code",
   "execution_count": null,
   "metadata": {},
   "outputs": [],
   "source": [
    "sns.barplot(x=\"state\", y=\"price\", data=df.to_pandas())\n",
    "plt.xticks(rotation=90)\n",
    "plt.show()"
   ]
  },
  {
   "cell_type": "markdown",
   "metadata": {},
   "source": [
    "## price"
   ]
  },
  {
   "cell_type": "code",
   "execution_count": null,
   "metadata": {},
   "outputs": [],
   "source": [
    "sns.histplot(df[\"price\"], kde=True)"
   ]
  },
  {
   "cell_type": "markdown",
   "metadata": {},
   "source": [
    "manufacturerごとのtypeの数一覧"
   ]
  },
  {
   "cell_type": "code",
   "execution_count": null,
   "metadata": {},
   "outputs": [],
   "source": [
    "pl.Config.set_tbl_rows(-1)\n",
    "df_type = df.to_pandas()\n",
    "df_type.pivot_table(index='manufacturer', columns='type', values='id', aggfunc='count', fill_value=0)"
   ]
  }
 ],
 "metadata": {
  "kernelspec": {
   "display_name": "venv",
   "language": "python",
   "name": "python3"
  },
  "language_info": {
   "codemirror_mode": {
    "name": "ipython",
    "version": 3
   },
   "file_extension": ".py",
   "mimetype": "text/x-python",
   "name": "python",
   "nbconvert_exporter": "python",
   "pygments_lexer": "ipython3",
   "version": "3.11.4"
  },
  "orig_nbformat": 4
 },
 "nbformat": 4,
 "nbformat_minor": 2
}
