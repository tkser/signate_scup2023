{
 "cells": [
  {
   "cell_type": "code",
   "execution_count": 1,
   "metadata": {},
   "outputs": [],
   "source": [
    "import polars as pl\n",
    "\n",
    "import sys\n",
    "sys.path.append('../')\n",
    "\n",
    "from exp.features import Features"
   ]
  },
  {
   "cell_type": "code",
   "execution_count": 2,
   "metadata": {},
   "outputs": [
    {
     "data": {
      "text/plain": [
       "'1'"
      ]
     },
     "execution_count": 2,
     "metadata": {},
     "output_type": "execute_result"
    }
   ],
   "source": [
    "import re\n",
    "#マイナスを含む数値を取り出す\n",
    "re.sub(r'[^-?\\d]', \"\", \"1 cylinders\")"
   ]
  },
  {
   "cell_type": "code",
   "execution_count": 3,
   "metadata": {},
   "outputs": [],
   "source": [
    "train = pl.read_csv(\"../input/train.csv\")\n",
    "test = pl.read_csv(\"../input/test.csv\")\n",
    "\n",
    "features = Features(train, test)"
   ]
  },
  {
   "cell_type": "code",
   "execution_count": 4,
   "metadata": {},
   "outputs": [
    {
     "data": {
      "text/html": [
       "<div><style>\n",
       ".dataframe > thead > tr > th,\n",
       ".dataframe > tbody > tr > td {\n",
       "  text-align: right;\n",
       "}\n",
       "</style>\n",
       "<small>shape: (5, 16)</small><table border=\"1\" class=\"dataframe\"><thead><tr><th>id</th><th>region</th><th>year</th><th>manufacturer</th><th>condition</th><th>cylinders</th><th>fuel</th><th>odometer</th><th>title_status</th><th>transmission</th><th>drive</th><th>size</th><th>type</th><th>paint_color</th><th>state</th><th>price</th></tr><tr><td>i64</td><td>str</td><td>i64</td><td>str</td><td>str</td><td>str</td><td>str</td><td>i64</td><td>str</td><td>str</td><td>str</td><td>str</td><td>str</td><td>str</td><td>str</td><td>i64</td></tr></thead><tbody><tr><td>0</td><td>&quot;nashville&quot;</td><td>1949</td><td>&quot;bmw&quot;</td><td>&quot;excellent&quot;</td><td>&quot;6 cylinders&quot;</td><td>&quot;gas&quot;</td><td>115148</td><td>&quot;clean&quot;</td><td>&quot;manual&quot;</td><td>&quot;rwd&quot;</td><td>&quot;mid-size&quot;</td><td>&quot;convertible&quot;</td><td>&quot;orange&quot;</td><td>null</td><td>27587</td></tr><tr><td>1</td><td>&quot;state college&quot;</td><td>2013</td><td>&quot;toyota&quot;</td><td>&quot;fair&quot;</td><td>&quot;8 cylinders&quot;</td><td>&quot;gas&quot;</td><td>172038</td><td>&quot;clean&quot;</td><td>&quot;automatic&quot;</td><td>&quot;rwd&quot;</td><td>&quot;full-size&quot;</td><td>&quot;sedan&quot;</td><td>&quot;silver&quot;</td><td>&quot;pa&quot;</td><td>4724</td></tr><tr><td>2</td><td>&quot;wichita&quot;</td><td>1998</td><td>&quot;ford&quot;</td><td>&quot;good&quot;</td><td>&quot;6 cylinders&quot;</td><td>&quot;gas&quot;</td><td>152492</td><td>&quot;clean&quot;</td><td>&quot;automatic&quot;</td><td>&quot;fwd&quot;</td><td>&quot;full-size&quot;</td><td>&quot;SUV&quot;</td><td>&quot;silver&quot;</td><td>&quot;ks&quot;</td><td>10931</td></tr><tr><td>3</td><td>&quot;albany&quot;</td><td>2014</td><td>&quot;ford&quot;</td><td>&quot;excellent&quot;</td><td>&quot;4 cylinders&quot;</td><td>&quot;gas&quot;</td><td>104118</td><td>&quot;clean&quot;</td><td>&quot;manual&quot;</td><td>&quot;fwd&quot;</td><td>&quot;mid-size&quot;</td><td>&quot;SUV&quot;</td><td>&quot;blue&quot;</td><td>&quot;ny&quot;</td><td>16553</td></tr><tr><td>4</td><td>&quot;redding&quot;</td><td>2005</td><td>&quot;ford&quot;</td><td>&quot;excellent&quot;</td><td>&quot;6 cylinders&quot;</td><td>&quot;gas&quot;</td><td>144554</td><td>&quot;clean&quot;</td><td>&quot;manual&quot;</td><td>&quot;fwd&quot;</td><td>&quot;mid-size&quot;</td><td>&quot;sedan&quot;</td><td>&quot;red&quot;</td><td>&quot;ca&quot;</td><td>5158</td></tr></tbody></table></div>"
      ],
      "text/plain": [
       "shape: (5, 16)\n",
       "┌─────┬───────────────┬──────┬──────────────┬───┬─────────────┬─────────────┬───────┬───────┐\n",
       "│ id  ┆ region        ┆ year ┆ manufacturer ┆ … ┆ type        ┆ paint_color ┆ state ┆ price │\n",
       "│ --- ┆ ---           ┆ ---  ┆ ---          ┆   ┆ ---         ┆ ---         ┆ ---   ┆ ---   │\n",
       "│ i64 ┆ str           ┆ i64  ┆ str          ┆   ┆ str         ┆ str         ┆ str   ┆ i64   │\n",
       "╞═════╪═══════════════╪══════╪══════════════╪═══╪═════════════╪═════════════╪═══════╪═══════╡\n",
       "│ 0   ┆ nashville     ┆ 1949 ┆ bmw          ┆ … ┆ convertible ┆ orange      ┆ null  ┆ 27587 │\n",
       "│ 1   ┆ state college ┆ 2013 ┆ toyota       ┆ … ┆ sedan       ┆ silver      ┆ pa    ┆ 4724  │\n",
       "│ 2   ┆ wichita       ┆ 1998 ┆ ford         ┆ … ┆ SUV         ┆ silver      ┆ ks    ┆ 10931 │\n",
       "│ 3   ┆ albany        ┆ 2014 ┆ ford         ┆ … ┆ SUV         ┆ blue        ┆ ny    ┆ 16553 │\n",
       "│ 4   ┆ redding       ┆ 2005 ┆ ford         ┆ … ┆ sedan       ┆ red         ┆ ca    ┆ 5158  │\n",
       "└─────┴───────────────┴──────┴──────────────┴───┴─────────────┴─────────────┴───────┴───────┘"
      ]
     },
     "execution_count": 4,
     "metadata": {},
     "output_type": "execute_result"
    }
   ],
   "source": [
    "features.train.head()"
   ]
  },
  {
   "cell_type": "code",
   "execution_count": 5,
   "metadata": {},
   "outputs": [],
   "source": [
    "features._fill_na()\n",
    "features._pre_processing()"
   ]
  },
  {
   "cell_type": "code",
   "execution_count": 6,
   "metadata": {},
   "outputs": [
    {
     "data": {
      "text/html": [
       "<div><style>\n",
       ".dataframe > thead > tr > th,\n",
       ".dataframe > tbody > tr > td {\n",
       "  text-align: right;\n",
       "}\n",
       "</style>\n",
       "<small>shape: (5, 16)</small><table border=\"1\" class=\"dataframe\"><thead><tr><th>id</th><th>region</th><th>year</th><th>manufacturer</th><th>condition</th><th>cylinders</th><th>fuel</th><th>odometer</th><th>title_status</th><th>transmission</th><th>drive</th><th>size</th><th>type</th><th>paint_color</th><th>state</th><th>price</th></tr><tr><td>i64</td><td>str</td><td>i64</td><td>str</td><td>str</td><td>i8</td><td>str</td><td>f64</td><td>str</td><td>str</td><td>str</td><td>str</td><td>str</td><td>str</td><td>str</td><td>i64</td></tr></thead><tbody><tr><td>0</td><td>&quot;nashville&quot;</td><td>1949</td><td>&quot;bmw&quot;</td><td>&quot;excellent&quot;</td><td>6</td><td>&quot;gas&quot;</td><td>115148.0</td><td>&quot;clean&quot;</td><td>&quot;manual&quot;</td><td>&quot;rwd&quot;</td><td>&quot;mid-size&quot;</td><td>&quot;convertible&quot;</td><td>&quot;orange&quot;</td><td>&quot;nan&quot;</td><td>27587</td></tr><tr><td>1</td><td>&quot;state college&quot;</td><td>2013</td><td>&quot;toyota&quot;</td><td>&quot;fair&quot;</td><td>8</td><td>&quot;gas&quot;</td><td>172038.0</td><td>&quot;clean&quot;</td><td>&quot;automatic&quot;</td><td>&quot;rwd&quot;</td><td>&quot;full-size&quot;</td><td>&quot;sedan&quot;</td><td>&quot;silver&quot;</td><td>&quot;pa&quot;</td><td>4724</td></tr><tr><td>2</td><td>&quot;wichita&quot;</td><td>1998</td><td>&quot;ford&quot;</td><td>&quot;good&quot;</td><td>6</td><td>&quot;gas&quot;</td><td>152492.0</td><td>&quot;clean&quot;</td><td>&quot;automatic&quot;</td><td>&quot;fwd&quot;</td><td>&quot;full-size&quot;</td><td>&quot;SUV&quot;</td><td>&quot;silver&quot;</td><td>&quot;ks&quot;</td><td>10931</td></tr><tr><td>3</td><td>&quot;albany&quot;</td><td>2014</td><td>&quot;ford&quot;</td><td>&quot;excellent&quot;</td><td>4</td><td>&quot;gas&quot;</td><td>104118.0</td><td>&quot;clean&quot;</td><td>&quot;manual&quot;</td><td>&quot;fwd&quot;</td><td>&quot;mid-size&quot;</td><td>&quot;SUV&quot;</td><td>&quot;blue&quot;</td><td>&quot;ny&quot;</td><td>16553</td></tr><tr><td>4</td><td>&quot;redding&quot;</td><td>2005</td><td>&quot;ford&quot;</td><td>&quot;excellent&quot;</td><td>6</td><td>&quot;gas&quot;</td><td>144554.0</td><td>&quot;clean&quot;</td><td>&quot;manual&quot;</td><td>&quot;fwd&quot;</td><td>&quot;mid-size&quot;</td><td>&quot;sedan&quot;</td><td>&quot;red&quot;</td><td>&quot;ca&quot;</td><td>5158</td></tr></tbody></table></div>"
      ],
      "text/plain": [
       "shape: (5, 16)\n",
       "┌─────┬───────────────┬──────┬──────────────┬───┬─────────────┬─────────────┬───────┬───────┐\n",
       "│ id  ┆ region        ┆ year ┆ manufacturer ┆ … ┆ type        ┆ paint_color ┆ state ┆ price │\n",
       "│ --- ┆ ---           ┆ ---  ┆ ---          ┆   ┆ ---         ┆ ---         ┆ ---   ┆ ---   │\n",
       "│ i64 ┆ str           ┆ i64  ┆ str          ┆   ┆ str         ┆ str         ┆ str   ┆ i64   │\n",
       "╞═════╪═══════════════╪══════╪══════════════╪═══╪═════════════╪═════════════╪═══════╪═══════╡\n",
       "│ 0   ┆ nashville     ┆ 1949 ┆ bmw          ┆ … ┆ convertible ┆ orange      ┆ nan   ┆ 27587 │\n",
       "│ 1   ┆ state college ┆ 2013 ┆ toyota       ┆ … ┆ sedan       ┆ silver      ┆ pa    ┆ 4724  │\n",
       "│ 2   ┆ wichita       ┆ 1998 ┆ ford         ┆ … ┆ SUV         ┆ silver      ┆ ks    ┆ 10931 │\n",
       "│ 3   ┆ albany        ┆ 2014 ┆ ford         ┆ … ┆ SUV         ┆ blue        ┆ ny    ┆ 16553 │\n",
       "│ 4   ┆ redding       ┆ 2005 ┆ ford         ┆ … ┆ sedan       ┆ red         ┆ ca    ┆ 5158  │\n",
       "└─────┴───────────────┴──────┴──────────────┴───┴─────────────┴─────────────┴───────┴───────┘"
      ]
     },
     "execution_count": 6,
     "metadata": {},
     "output_type": "execute_result"
    }
   ],
   "source": [
    "features.train.head()"
   ]
  },
  {
   "cell_type": "code",
   "execution_count": 7,
   "metadata": {},
   "outputs": [],
   "source": [
    "features._add_features()\n",
    "features._add_geo_features()"
   ]
  },
  {
   "cell_type": "code",
   "execution_count": 8,
   "metadata": {},
   "outputs": [
    {
     "data": {
      "text/html": [
       "<div><style>\n",
       ".dataframe > thead > tr > th,\n",
       ".dataframe > tbody > tr > td {\n",
       "  text-align: right;\n",
       "}\n",
       "</style>\n",
       "<small>shape: (5, 26)</small><table border=\"1\" class=\"dataframe\"><thead><tr><th>id</th><th>region</th><th>year</th><th>manufacturer</th><th>condition</th><th>cylinders</th><th>fuel</th><th>odometer</th><th>title_status</th><th>transmission</th><th>drive</th><th>size</th><th>type</th><th>paint_color</th><th>state</th><th>price</th><th>age</th><th>odometer/age</th><th>odometer/cylinders</th><th>manufacturer_odometer_mean</th><th>manufacturer_odometer_std</th><th>manufacturer_odometer_max</th><th>manufacturer_odometer_min</th><th>manufacturer_odometer_diff</th><th>lat</th><th>lng</th></tr><tr><td>i64</td><td>str</td><td>i64</td><td>str</td><td>str</td><td>i8</td><td>str</td><td>f64</td><td>str</td><td>str</td><td>str</td><td>str</td><td>str</td><td>str</td><td>str</td><td>i64</td><td>i64</td><td>f64</td><td>f64</td><td>f64</td><td>f64</td><td>f64</td><td>f64</td><td>f64</td><td>f64</td><td>f64</td></tr></thead><tbody><tr><td>0</td><td>&quot;nashville&quot;</td><td>1949</td><td>&quot;bmw&quot;</td><td>&quot;excellent&quot;</td><td>6</td><td>&quot;gas&quot;</td><td>115148.0</td><td>&quot;clean&quot;</td><td>&quot;manual&quot;</td><td>&quot;rwd&quot;</td><td>&quot;mid-size&quot;</td><td>&quot;convertible&quot;</td><td>&quot;orange&quot;</td><td>&quot;nan&quot;</td><td>27587</td><td>74</td><td>1556.054054</td><td>19191.333333</td><td>98959.833039</td><td>50486.065303</td><td>1.48431e6</td><td>85.0</td><td>1.484225e6</td><td>36.162277</td><td>-86.774298</td></tr><tr><td>1</td><td>&quot;state college&quot;</td><td>2013</td><td>&quot;toyota&quot;</td><td>&quot;fair&quot;</td><td>8</td><td>&quot;gas&quot;</td><td>172038.0</td><td>&quot;clean&quot;</td><td>&quot;automatic&quot;</td><td>&quot;rwd&quot;</td><td>&quot;full-size&quot;</td><td>&quot;sedan&quot;</td><td>&quot;silver&quot;</td><td>&quot;pa&quot;</td><td>4724</td><td>10</td><td>17203.8</td><td>21504.75</td><td>150285.657029</td><td>63293.859845</td><td>386817.0</td><td>877.0</td><td>385940.0</td><td>40.79445</td><td>-77.861639</td></tr><tr><td>2</td><td>&quot;wichita&quot;</td><td>1998</td><td>&quot;ford&quot;</td><td>&quot;good&quot;</td><td>6</td><td>&quot;gas&quot;</td><td>152492.0</td><td>&quot;clean&quot;</td><td>&quot;automatic&quot;</td><td>&quot;fwd&quot;</td><td>&quot;full-size&quot;</td><td>&quot;SUV&quot;</td><td>&quot;silver&quot;</td><td>&quot;ks&quot;</td><td>10931</td><td>25</td><td>6099.68</td><td>25415.333333</td><td>118402.596184</td><td>61352.394445</td><td>1.18784e6</td><td>10.0</td><td>1.18783e6</td><td>37.692236</td><td>-97.337545</td></tr><tr><td>3</td><td>&quot;albany&quot;</td><td>2014</td><td>&quot;ford&quot;</td><td>&quot;excellent&quot;</td><td>4</td><td>&quot;gas&quot;</td><td>104118.0</td><td>&quot;clean&quot;</td><td>&quot;manual&quot;</td><td>&quot;fwd&quot;</td><td>&quot;mid-size&quot;</td><td>&quot;SUV&quot;</td><td>&quot;blue&quot;</td><td>&quot;ny&quot;</td><td>16553</td><td>9</td><td>11568.666667</td><td>26029.5</td><td>118402.596184</td><td>61352.394445</td><td>1.18784e6</td><td>10.0</td><td>1.18783e6</td><td>42.651167</td><td>-73.754968</td></tr><tr><td>4</td><td>&quot;redding&quot;</td><td>2005</td><td>&quot;ford&quot;</td><td>&quot;excellent&quot;</td><td>6</td><td>&quot;gas&quot;</td><td>144554.0</td><td>&quot;clean&quot;</td><td>&quot;manual&quot;</td><td>&quot;fwd&quot;</td><td>&quot;mid-size&quot;</td><td>&quot;sedan&quot;</td><td>&quot;red&quot;</td><td>&quot;ca&quot;</td><td>5158</td><td>18</td><td>8030.777778</td><td>24092.333333</td><td>118402.596184</td><td>61352.394445</td><td>1.18784e6</td><td>10.0</td><td>1.18783e6</td><td>40.586356</td><td>-122.391675</td></tr></tbody></table></div>"
      ],
      "text/plain": [
       "shape: (5, 26)\n",
       "┌─────┬─────────────┬──────┬─────────────┬───┬─────────────┬─────────────┬───────────┬─────────────┐\n",
       "│ id  ┆ region      ┆ year ┆ manufacture ┆ … ┆ manufacture ┆ manufacture ┆ lat       ┆ lng         │\n",
       "│ --- ┆ ---         ┆ ---  ┆ r           ┆   ┆ r_odometer_ ┆ r_odometer_ ┆ ---       ┆ ---         │\n",
       "│ i64 ┆ str         ┆ i64  ┆ ---         ┆   ┆ min         ┆ diff        ┆ f64       ┆ f64         │\n",
       "│     ┆             ┆      ┆ str         ┆   ┆ ---         ┆ ---         ┆           ┆             │\n",
       "│     ┆             ┆      ┆             ┆   ┆ f64         ┆ f64         ┆           ┆             │\n",
       "╞═════╪═════════════╪══════╪═════════════╪═══╪═════════════╪═════════════╪═══════════╪═════════════╡\n",
       "│ 0   ┆ nashville   ┆ 1949 ┆ bmw         ┆ … ┆ 85.0        ┆ 1.484225e6  ┆ 36.162277 ┆ -86.774298  │\n",
       "│ 1   ┆ state       ┆ 2013 ┆ toyota      ┆ … ┆ 877.0       ┆ 385940.0    ┆ 40.79445  ┆ -77.861639  │\n",
       "│     ┆ college     ┆      ┆             ┆   ┆             ┆             ┆           ┆             │\n",
       "│ 2   ┆ wichita     ┆ 1998 ┆ ford        ┆ … ┆ 10.0        ┆ 1.18783e6   ┆ 37.692236 ┆ -97.337545  │\n",
       "│ 3   ┆ albany      ┆ 2014 ┆ ford        ┆ … ┆ 10.0        ┆ 1.18783e6   ┆ 42.651167 ┆ -73.754968  │\n",
       "│ 4   ┆ redding     ┆ 2005 ┆ ford        ┆ … ┆ 10.0        ┆ 1.18783e6   ┆ 40.586356 ┆ -122.391675 │\n",
       "└─────┴─────────────┴──────┴─────────────┴───┴─────────────┴─────────────┴───────────┴─────────────┘"
      ]
     },
     "execution_count": 8,
     "metadata": {},
     "output_type": "execute_result"
    }
   ],
   "source": [
    "features.train.head()"
   ]
  },
  {
   "cell_type": "code",
   "execution_count": 9,
   "metadata": {},
   "outputs": [],
   "source": [
    "features._df_initialize()"
   ]
  },
  {
   "cell_type": "code",
   "execution_count": 10,
   "metadata": {},
   "outputs": [],
   "source": [
    "features._rank_encoding()"
   ]
  },
  {
   "cell_type": "code",
   "execution_count": 11,
   "metadata": {},
   "outputs": [],
   "source": [
    "features._label_encoding()"
   ]
  },
  {
   "cell_type": "code",
   "execution_count": 12,
   "metadata": {},
   "outputs": [
    {
     "data": {
      "text/html": [
       "<div><style>\n",
       ".dataframe > thead > tr > th,\n",
       ".dataframe > tbody > tr > td {\n",
       "  text-align: right;\n",
       "}\n",
       "</style>\n",
       "<small>shape: (5, 37)</small><table border=\"1\" class=\"dataframe\"><thead><tr><th>id</th><th>region</th><th>year</th><th>manufacturer</th><th>condition</th><th>cylinders</th><th>fuel</th><th>odometer</th><th>title_status</th><th>transmission</th><th>drive</th><th>size</th><th>type</th><th>paint_color</th><th>state</th><th>price</th><th>age</th><th>odometer/age</th><th>odometer/cylinders</th><th>manufacturer_odometer_mean</th><th>manufacturer_odometer_std</th><th>manufacturer_odometer_max</th><th>manufacturer_odometer_min</th><th>manufacturer_odometer_diff</th><th>lat</th><th>lng</th><th>region_rank</th><th>manufacturer_rank</th><th>condition_rank</th><th>fuel_rank</th><th>title_status_rank</th><th>transmission_rank</th><th>drive_rank</th><th>size_rank</th><th>type_rank</th><th>paint_color_rank</th><th>state_rank</th></tr><tr><td>i64</td><td>cat</td><td>i64</td><td>cat</td><td>i64</td><td>i8</td><td>cat</td><td>f64</td><td>cat</td><td>cat</td><td>cat</td><td>i64</td><td>cat</td><td>cat</td><td>cat</td><td>i64</td><td>i64</td><td>f64</td><td>f64</td><td>f64</td><td>f64</td><td>f64</td><td>f64</td><td>f64</td><td>f64</td><td>f64</td><td>f32</td><td>f32</td><td>f32</td><td>f32</td><td>f32</td><td>f32</td><td>f32</td><td>f32</td><td>f32</td><td>f32</td><td>f32</td></tr></thead><tbody><tr><td>0</td><td>&quot;nashville&quot;</td><td>1949</td><td>&quot;bmw&quot;</td><td>3</td><td>6</td><td>&quot;gas&quot;</td><td>115148.0</td><td>&quot;clean&quot;</td><td>&quot;manual&quot;</td><td>&quot;rwd&quot;</td><td>2</td><td>&quot;convertible&quot;</td><td>&quot;orange&quot;</td><td>&quot;nan&quot;</td><td>27587</td><td>74</td><td>1556.054054</td><td>19191.333333</td><td>98959.833039</td><td>50486.065303</td><td>1.48431e6</td><td>85.0</td><td>1.484225e6</td><td>36.162277</td><td>-86.774298</td><td>342.0</td><td>44.0</td><td>6.0</td><td>5.0</td><td>7.0</td><td>2.0</td><td>1.0</td><td>3.0</td><td>7.0</td><td>3.0</td><td>52.0</td></tr><tr><td>1</td><td>&quot;state college&quot;</td><td>2013</td><td>&quot;toyota&quot;</td><td>0</td><td>8</td><td>&quot;gas&quot;</td><td>172038.0</td><td>&quot;clean&quot;</td><td>&quot;automatic&quot;</td><td>&quot;rwd&quot;</td><td>3</td><td>&quot;sedan&quot;</td><td>&quot;silver&quot;</td><td>&quot;pa&quot;</td><td>4724</td><td>10</td><td>17203.8</td><td>21504.75</td><td>150285.657029</td><td>63293.859845</td><td>386817.0</td><td>877.0</td><td>385940.0</td><td>40.79445</td><td>-77.861639</td><td>103.5</td><td>42.0</td><td>3.0</td><td>5.0</td><td>7.0</td><td>3.0</td><td>1.0</td><td>4.0</td><td>14.0</td><td>11.0</td><td>46.0</td></tr><tr><td>2</td><td>&quot;wichita&quot;</td><td>1998</td><td>&quot;ford&quot;</td><td>2</td><td>6</td><td>&quot;gas&quot;</td><td>152492.0</td><td>&quot;clean&quot;</td><td>&quot;automatic&quot;</td><td>&quot;fwd&quot;</td><td>3</td><td>&quot;SUV&quot;</td><td>&quot;silver&quot;</td><td>&quot;ks&quot;</td><td>10931</td><td>25</td><td>6099.68</td><td>25415.333333</td><td>118402.596184</td><td>61352.394445</td><td>1.18784e6</td><td>10.0</td><td>1.18783e6</td><td>37.692236</td><td>-97.337545</td><td>350.5</td><td>46.0</td><td>5.0</td><td>5.0</td><td>7.0</td><td>3.0</td><td>3.0</td><td>4.0</td><td>13.0</td><td>11.0</td><td>21.0</td></tr><tr><td>3</td><td>&quot;albany&quot;</td><td>2014</td><td>&quot;ford&quot;</td><td>3</td><td>4</td><td>&quot;gas&quot;</td><td>104118.0</td><td>&quot;clean&quot;</td><td>&quot;manual&quot;</td><td>&quot;fwd&quot;</td><td>2</td><td>&quot;SUV&quot;</td><td>&quot;blue&quot;</td><td>&quot;ny&quot;</td><td>16553</td><td>9</td><td>11568.666667</td><td>26029.5</td><td>118402.596184</td><td>61352.394445</td><td>1.18784e6</td><td>10.0</td><td>1.18783e6</td><td>42.651167</td><td>-73.754968</td><td>369.0</td><td>46.0</td><td>6.0</td><td>5.0</td><td>7.0</td><td>2.0</td><td>3.0</td><td>3.0</td><td>13.0</td><td>10.0</td><td>50.0</td></tr><tr><td>4</td><td>&quot;redding&quot;</td><td>2005</td><td>&quot;ford&quot;</td><td>3</td><td>6</td><td>&quot;gas&quot;</td><td>144554.0</td><td>&quot;clean&quot;</td><td>&quot;manual&quot;</td><td>&quot;fwd&quot;</td><td>2</td><td>&quot;sedan&quot;</td><td>&quot;red&quot;</td><td>&quot;ca&quot;</td><td>5158</td><td>18</td><td>8030.777778</td><td>24092.333333</td><td>118402.596184</td><td>61352.394445</td><td>1.18784e6</td><td>10.0</td><td>1.18783e6</td><td>40.586356</td><td>-122.391675</td><td>326.0</td><td>46.0</td><td>6.0</td><td>5.0</td><td>7.0</td><td>2.0</td><td>3.0</td><td>3.0</td><td>14.0</td><td>7.0</td><td>51.0</td></tr></tbody></table></div>"
      ],
      "text/plain": [
       "shape: (5, 37)\n",
       "┌─────┬───────────┬──────┬──────────────┬───┬───────────┬───────────┬─────────────────┬────────────┐\n",
       "│ id  ┆ region    ┆ year ┆ manufacturer ┆ … ┆ size_rank ┆ type_rank ┆ paint_color_ran ┆ state_rank │\n",
       "│ --- ┆ ---       ┆ ---  ┆ ---          ┆   ┆ ---       ┆ ---       ┆ k               ┆ ---        │\n",
       "│ i64 ┆ cat       ┆ i64  ┆ cat          ┆   ┆ f32       ┆ f32       ┆ ---             ┆ f32        │\n",
       "│     ┆           ┆      ┆              ┆   ┆           ┆           ┆ f32             ┆            │\n",
       "╞═════╪═══════════╪══════╪══════════════╪═══╪═══════════╪═══════════╪═════════════════╪════════════╡\n",
       "│ 0   ┆ nashville ┆ 1949 ┆ bmw          ┆ … ┆ 3.0       ┆ 7.0       ┆ 3.0             ┆ 52.0       │\n",
       "│ 1   ┆ state     ┆ 2013 ┆ toyota       ┆ … ┆ 4.0       ┆ 14.0      ┆ 11.0            ┆ 46.0       │\n",
       "│     ┆ college   ┆      ┆              ┆   ┆           ┆           ┆                 ┆            │\n",
       "│ 2   ┆ wichita   ┆ 1998 ┆ ford         ┆ … ┆ 4.0       ┆ 13.0      ┆ 11.0            ┆ 21.0       │\n",
       "│ 3   ┆ albany    ┆ 2014 ┆ ford         ┆ … ┆ 3.0       ┆ 13.0      ┆ 10.0            ┆ 50.0       │\n",
       "│ 4   ┆ redding   ┆ 2005 ┆ ford         ┆ … ┆ 3.0       ┆ 14.0      ┆ 7.0             ┆ 51.0       │\n",
       "└─────┴───────────┴──────┴──────────────┴───┴───────────┴───────────┴─────────────────┴────────────┘"
      ]
     },
     "execution_count": 12,
     "metadata": {},
     "output_type": "execute_result"
    }
   ],
   "source": [
    "features.train.head()"
   ]
  },
  {
   "cell_type": "code",
   "execution_count": 13,
   "metadata": {},
   "outputs": [
    {
     "data": {
      "text/html": [
       "<div><style>\n",
       ".dataframe > thead > tr > th,\n",
       ".dataframe > tbody > tr > td {\n",
       "  text-align: right;\n",
       "}\n",
       "</style>\n",
       "<small>shape: (55_069, 135)</small><table border=\"1\" class=\"dataframe\"><thead><tr><th>id</th><th>manufacturer_acura</th><th>manufacturer_alfa-romeo</th><th>manufacturer_aston-martin</th><th>manufacturer_audi</th><th>manufacturer_buick</th><th>manufacturer_cadillac</th><th>manufacturer_chevrolet</th><th>manufacturer_chrysler</th><th>manufacturer_dodge</th><th>manufacturer_fiat</th><th>manufacturer_ford</th><th>manufacturer_gmc</th><th>manufacturer_honda</th><th>manufacturer_hyundai</th><th>manufacturer_infiniti</th><th>manufacturer_jaguar</th><th>manufacturer_jeep</th><th>manufacturer_kia</th><th>manufacturer_land rover</th><th>manufacturer_lexus</th><th>manufacturer_lexuѕ</th><th>manufacturer_lincoln</th><th>manufacturer_mazda</th><th>manufacturer_mercedes-benz</th><th>manufacturer_mercury</th><th>manufacturer_mini</th><th>manufacturer_mitsubishi</th><th>manufacturer_nissan</th><th>manufacturer_nisѕan</th><th>manufacturer_niѕsan</th><th>manufacturer_pontiac</th><th>manufacturer_porsche</th><th>manufacturer_ram</th><th>manufacturer_rover</th><th>manufacturer_saturn</th><th>manufacturer_subaru</th><th>&hellip;</th><th>state_il</th><th>state_in</th><th>state_ks</th><th>state_ky</th><th>state_la</th><th>state_ma</th><th>state_md</th><th>state_me</th><th>state_mi</th><th>state_mn</th><th>state_mo</th><th>state_ms</th><th>state_mt</th><th>state_nc</th><th>state_nd</th><th>state_ne</th><th>state_nh</th><th>state_nj</th><th>state_nm</th><th>state_nv</th><th>state_ny</th><th>state_oh</th><th>state_ok</th><th>state_or</th><th>state_pa</th><th>state_ri</th><th>state_sc</th><th>state_sd</th><th>state_tn</th><th>state_tx</th><th>state_ut</th><th>state_va</th><th>state_vt</th><th>state_wa</th><th>state_wi</th><th>state_wv</th><th>state_wy</th></tr><tr><td>i64</td><td>u8</td><td>u8</td><td>u8</td><td>u8</td><td>u8</td><td>u8</td><td>u8</td><td>u8</td><td>u8</td><td>u8</td><td>u8</td><td>u8</td><td>u8</td><td>u8</td><td>u8</td><td>u8</td><td>u8</td><td>u8</td><td>u8</td><td>u8</td><td>u8</td><td>u8</td><td>u8</td><td>u8</td><td>u8</td><td>u8</td><td>u8</td><td>u8</td><td>u8</td><td>u8</td><td>u8</td><td>u8</td><td>u8</td><td>u8</td><td>u8</td><td>u8</td><td>&hellip;</td><td>u8</td><td>u8</td><td>u8</td><td>u8</td><td>u8</td><td>u8</td><td>u8</td><td>u8</td><td>u8</td><td>u8</td><td>u8</td><td>u8</td><td>u8</td><td>u8</td><td>u8</td><td>u8</td><td>u8</td><td>u8</td><td>u8</td><td>u8</td><td>u8</td><td>u8</td><td>u8</td><td>u8</td><td>u8</td><td>u8</td><td>u8</td><td>u8</td><td>u8</td><td>u8</td><td>u8</td><td>u8</td><td>u8</td><td>u8</td><td>u8</td><td>u8</td><td>u8</td></tr></thead><tbody><tr><td>0</td><td>0</td><td>0</td><td>0</td><td>0</td><td>0</td><td>0</td><td>0</td><td>0</td><td>0</td><td>0</td><td>0</td><td>0</td><td>0</td><td>0</td><td>0</td><td>0</td><td>0</td><td>0</td><td>0</td><td>0</td><td>0</td><td>0</td><td>0</td><td>0</td><td>0</td><td>0</td><td>0</td><td>0</td><td>0</td><td>0</td><td>0</td><td>0</td><td>0</td><td>0</td><td>0</td><td>0</td><td>&hellip;</td><td>0</td><td>0</td><td>0</td><td>0</td><td>0</td><td>0</td><td>0</td><td>0</td><td>0</td><td>0</td><td>0</td><td>0</td><td>0</td><td>0</td><td>0</td><td>0</td><td>0</td><td>0</td><td>0</td><td>0</td><td>0</td><td>0</td><td>0</td><td>0</td><td>0</td><td>0</td><td>0</td><td>0</td><td>0</td><td>0</td><td>0</td><td>0</td><td>0</td><td>0</td><td>0</td><td>0</td><td>0</td></tr><tr><td>1</td><td>0</td><td>0</td><td>0</td><td>0</td><td>0</td><td>0</td><td>0</td><td>0</td><td>0</td><td>0</td><td>0</td><td>0</td><td>0</td><td>0</td><td>0</td><td>0</td><td>0</td><td>0</td><td>0</td><td>0</td><td>0</td><td>0</td><td>0</td><td>0</td><td>0</td><td>0</td><td>0</td><td>0</td><td>0</td><td>0</td><td>0</td><td>0</td><td>0</td><td>0</td><td>0</td><td>0</td><td>&hellip;</td><td>0</td><td>0</td><td>0</td><td>0</td><td>0</td><td>0</td><td>0</td><td>0</td><td>0</td><td>0</td><td>0</td><td>0</td><td>0</td><td>0</td><td>0</td><td>0</td><td>0</td><td>0</td><td>0</td><td>0</td><td>0</td><td>0</td><td>0</td><td>0</td><td>1</td><td>0</td><td>0</td><td>0</td><td>0</td><td>0</td><td>0</td><td>0</td><td>0</td><td>0</td><td>0</td><td>0</td><td>0</td></tr><tr><td>2</td><td>0</td><td>0</td><td>0</td><td>0</td><td>0</td><td>0</td><td>0</td><td>0</td><td>0</td><td>0</td><td>1</td><td>0</td><td>0</td><td>0</td><td>0</td><td>0</td><td>0</td><td>0</td><td>0</td><td>0</td><td>0</td><td>0</td><td>0</td><td>0</td><td>0</td><td>0</td><td>0</td><td>0</td><td>0</td><td>0</td><td>0</td><td>0</td><td>0</td><td>0</td><td>0</td><td>0</td><td>&hellip;</td><td>0</td><td>0</td><td>1</td><td>0</td><td>0</td><td>0</td><td>0</td><td>0</td><td>0</td><td>0</td><td>0</td><td>0</td><td>0</td><td>0</td><td>0</td><td>0</td><td>0</td><td>0</td><td>0</td><td>0</td><td>0</td><td>0</td><td>0</td><td>0</td><td>0</td><td>0</td><td>0</td><td>0</td><td>0</td><td>0</td><td>0</td><td>0</td><td>0</td><td>0</td><td>0</td><td>0</td><td>0</td></tr><tr><td>3</td><td>0</td><td>0</td><td>0</td><td>0</td><td>0</td><td>0</td><td>0</td><td>0</td><td>0</td><td>0</td><td>1</td><td>0</td><td>0</td><td>0</td><td>0</td><td>0</td><td>0</td><td>0</td><td>0</td><td>0</td><td>0</td><td>0</td><td>0</td><td>0</td><td>0</td><td>0</td><td>0</td><td>0</td><td>0</td><td>0</td><td>0</td><td>0</td><td>0</td><td>0</td><td>0</td><td>0</td><td>&hellip;</td><td>0</td><td>0</td><td>0</td><td>0</td><td>0</td><td>0</td><td>0</td><td>0</td><td>0</td><td>0</td><td>0</td><td>0</td><td>0</td><td>0</td><td>0</td><td>0</td><td>0</td><td>0</td><td>0</td><td>0</td><td>1</td><td>0</td><td>0</td><td>0</td><td>0</td><td>0</td><td>0</td><td>0</td><td>0</td><td>0</td><td>0</td><td>0</td><td>0</td><td>0</td><td>0</td><td>0</td><td>0</td></tr><tr><td>4</td><td>0</td><td>0</td><td>0</td><td>0</td><td>0</td><td>0</td><td>0</td><td>0</td><td>0</td><td>0</td><td>1</td><td>0</td><td>0</td><td>0</td><td>0</td><td>0</td><td>0</td><td>0</td><td>0</td><td>0</td><td>0</td><td>0</td><td>0</td><td>0</td><td>0</td><td>0</td><td>0</td><td>0</td><td>0</td><td>0</td><td>0</td><td>0</td><td>0</td><td>0</td><td>0</td><td>0</td><td>&hellip;</td><td>0</td><td>0</td><td>0</td><td>0</td><td>0</td><td>0</td><td>0</td><td>0</td><td>0</td><td>0</td><td>0</td><td>0</td><td>0</td><td>0</td><td>0</td><td>0</td><td>0</td><td>0</td><td>0</td><td>0</td><td>0</td><td>0</td><td>0</td><td>0</td><td>0</td><td>0</td><td>0</td><td>0</td><td>0</td><td>0</td><td>0</td><td>0</td><td>0</td><td>0</td><td>0</td><td>0</td><td>0</td></tr><tr><td>5</td><td>0</td><td>0</td><td>0</td><td>0</td><td>0</td><td>0</td><td>0</td><td>0</td><td>0</td><td>0</td><td>0</td><td>0</td><td>0</td><td>0</td><td>0</td><td>0</td><td>0</td><td>0</td><td>0</td><td>0</td><td>0</td><td>0</td><td>0</td><td>0</td><td>0</td><td>0</td><td>0</td><td>1</td><td>0</td><td>0</td><td>0</td><td>0</td><td>0</td><td>0</td><td>0</td><td>0</td><td>&hellip;</td><td>0</td><td>0</td><td>0</td><td>0</td><td>0</td><td>0</td><td>0</td><td>0</td><td>0</td><td>0</td><td>0</td><td>0</td><td>0</td><td>0</td><td>0</td><td>0</td><td>0</td><td>0</td><td>0</td><td>0</td><td>0</td><td>0</td><td>0</td><td>0</td><td>0</td><td>0</td><td>0</td><td>0</td><td>0</td><td>0</td><td>0</td><td>0</td><td>0</td><td>0</td><td>0</td><td>0</td><td>0</td></tr><tr><td>6</td><td>0</td><td>0</td><td>0</td><td>0</td><td>0</td><td>0</td><td>0</td><td>0</td><td>0</td><td>0</td><td>0</td><td>0</td><td>0</td><td>0</td><td>0</td><td>0</td><td>0</td><td>0</td><td>0</td><td>0</td><td>0</td><td>0</td><td>0</td><td>0</td><td>0</td><td>0</td><td>0</td><td>0</td><td>0</td><td>0</td><td>0</td><td>0</td><td>0</td><td>0</td><td>0</td><td>0</td><td>&hellip;</td><td>0</td><td>0</td><td>0</td><td>0</td><td>0</td><td>0</td><td>0</td><td>0</td><td>0</td><td>0</td><td>0</td><td>0</td><td>0</td><td>0</td><td>0</td><td>0</td><td>0</td><td>0</td><td>0</td><td>0</td><td>0</td><td>0</td><td>0</td><td>1</td><td>0</td><td>0</td><td>0</td><td>0</td><td>0</td><td>0</td><td>0</td><td>0</td><td>0</td><td>0</td><td>0</td><td>0</td><td>0</td></tr><tr><td>7</td><td>0</td><td>0</td><td>0</td><td>0</td><td>0</td><td>0</td><td>0</td><td>0</td><td>0</td><td>0</td><td>0</td><td>0</td><td>0</td><td>0</td><td>0</td><td>0</td><td>0</td><td>0</td><td>0</td><td>0</td><td>0</td><td>0</td><td>0</td><td>0</td><td>0</td><td>0</td><td>0</td><td>0</td><td>0</td><td>0</td><td>0</td><td>0</td><td>0</td><td>0</td><td>0</td><td>0</td><td>&hellip;</td><td>0</td><td>0</td><td>0</td><td>0</td><td>0</td><td>0</td><td>0</td><td>0</td><td>0</td><td>0</td><td>0</td><td>0</td><td>0</td><td>0</td><td>0</td><td>0</td><td>0</td><td>0</td><td>0</td><td>0</td><td>0</td><td>0</td><td>0</td><td>1</td><td>0</td><td>0</td><td>0</td><td>0</td><td>0</td><td>0</td><td>0</td><td>0</td><td>0</td><td>0</td><td>0</td><td>0</td><td>0</td></tr><tr><td>8</td><td>0</td><td>0</td><td>0</td><td>0</td><td>0</td><td>0</td><td>0</td><td>0</td><td>0</td><td>0</td><td>0</td><td>0</td><td>0</td><td>0</td><td>0</td><td>0</td><td>0</td><td>0</td><td>0</td><td>0</td><td>0</td><td>0</td><td>0</td><td>0</td><td>0</td><td>0</td><td>0</td><td>0</td><td>0</td><td>0</td><td>0</td><td>0</td><td>0</td><td>0</td><td>0</td><td>0</td><td>&hellip;</td><td>0</td><td>0</td><td>0</td><td>0</td><td>0</td><td>0</td><td>0</td><td>0</td><td>0</td><td>0</td><td>0</td><td>0</td><td>0</td><td>0</td><td>0</td><td>0</td><td>0</td><td>0</td><td>0</td><td>0</td><td>0</td><td>0</td><td>0</td><td>0</td><td>0</td><td>0</td><td>0</td><td>0</td><td>0</td><td>0</td><td>0</td><td>1</td><td>0</td><td>0</td><td>0</td><td>0</td><td>0</td></tr><tr><td>9</td><td>0</td><td>0</td><td>0</td><td>0</td><td>0</td><td>0</td><td>0</td><td>0</td><td>0</td><td>0</td><td>0</td><td>0</td><td>0</td><td>0</td><td>0</td><td>0</td><td>0</td><td>0</td><td>0</td><td>0</td><td>0</td><td>0</td><td>0</td><td>0</td><td>0</td><td>0</td><td>0</td><td>0</td><td>0</td><td>0</td><td>0</td><td>0</td><td>0</td><td>0</td><td>0</td><td>0</td><td>&hellip;</td><td>0</td><td>0</td><td>0</td><td>0</td><td>0</td><td>0</td><td>0</td><td>0</td><td>0</td><td>0</td><td>0</td><td>0</td><td>0</td><td>0</td><td>0</td><td>0</td><td>0</td><td>0</td><td>0</td><td>0</td><td>1</td><td>0</td><td>0</td><td>0</td><td>0</td><td>0</td><td>0</td><td>0</td><td>0</td><td>0</td><td>0</td><td>0</td><td>0</td><td>0</td><td>0</td><td>0</td><td>0</td></tr><tr><td>10</td><td>0</td><td>0</td><td>0</td><td>0</td><td>0</td><td>0</td><td>0</td><td>0</td><td>0</td><td>0</td><td>0</td><td>0</td><td>0</td><td>0</td><td>0</td><td>0</td><td>0</td><td>0</td><td>0</td><td>0</td><td>0</td><td>0</td><td>0</td><td>0</td><td>0</td><td>0</td><td>0</td><td>0</td><td>0</td><td>0</td><td>0</td><td>0</td><td>0</td><td>0</td><td>0</td><td>0</td><td>&hellip;</td><td>0</td><td>0</td><td>0</td><td>0</td><td>0</td><td>0</td><td>0</td><td>0</td><td>0</td><td>0</td><td>0</td><td>0</td><td>1</td><td>0</td><td>0</td><td>0</td><td>0</td><td>0</td><td>0</td><td>0</td><td>0</td><td>0</td><td>0</td><td>0</td><td>0</td><td>0</td><td>0</td><td>0</td><td>0</td><td>0</td><td>0</td><td>0</td><td>0</td><td>0</td><td>0</td><td>0</td><td>0</td></tr><tr><td>11</td><td>0</td><td>0</td><td>0</td><td>0</td><td>0</td><td>0</td><td>0</td><td>0</td><td>0</td><td>0</td><td>1</td><td>0</td><td>0</td><td>0</td><td>0</td><td>0</td><td>0</td><td>0</td><td>0</td><td>0</td><td>0</td><td>0</td><td>0</td><td>0</td><td>0</td><td>0</td><td>0</td><td>0</td><td>0</td><td>0</td><td>0</td><td>0</td><td>0</td><td>0</td><td>0</td><td>0</td><td>&hellip;</td><td>0</td><td>0</td><td>0</td><td>0</td><td>0</td><td>0</td><td>0</td><td>0</td><td>0</td><td>0</td><td>0</td><td>0</td><td>0</td><td>0</td><td>0</td><td>0</td><td>0</td><td>0</td><td>0</td><td>0</td><td>0</td><td>0</td><td>0</td><td>0</td><td>0</td><td>0</td><td>0</td><td>0</td><td>0</td><td>0</td><td>0</td><td>0</td><td>0</td><td>0</td><td>0</td><td>0</td><td>0</td></tr><tr><td>&hellip;</td><td>&hellip;</td><td>&hellip;</td><td>&hellip;</td><td>&hellip;</td><td>&hellip;</td><td>&hellip;</td><td>&hellip;</td><td>&hellip;</td><td>&hellip;</td><td>&hellip;</td><td>&hellip;</td><td>&hellip;</td><td>&hellip;</td><td>&hellip;</td><td>&hellip;</td><td>&hellip;</td><td>&hellip;</td><td>&hellip;</td><td>&hellip;</td><td>&hellip;</td><td>&hellip;</td><td>&hellip;</td><td>&hellip;</td><td>&hellip;</td><td>&hellip;</td><td>&hellip;</td><td>&hellip;</td><td>&hellip;</td><td>&hellip;</td><td>&hellip;</td><td>&hellip;</td><td>&hellip;</td><td>&hellip;</td><td>&hellip;</td><td>&hellip;</td><td>&hellip;</td><td>&hellip;</td><td>&hellip;</td><td>&hellip;</td><td>&hellip;</td><td>&hellip;</td><td>&hellip;</td><td>&hellip;</td><td>&hellip;</td><td>&hellip;</td><td>&hellip;</td><td>&hellip;</td><td>&hellip;</td><td>&hellip;</td><td>&hellip;</td><td>&hellip;</td><td>&hellip;</td><td>&hellip;</td><td>&hellip;</td><td>&hellip;</td><td>&hellip;</td><td>&hellip;</td><td>&hellip;</td><td>&hellip;</td><td>&hellip;</td><td>&hellip;</td><td>&hellip;</td><td>&hellip;</td><td>&hellip;</td><td>&hellip;</td><td>&hellip;</td><td>&hellip;</td><td>&hellip;</td><td>&hellip;</td><td>&hellip;</td><td>&hellip;</td><td>&hellip;</td><td>&hellip;</td><td>&hellip;</td></tr><tr><td>55057</td><td>0</td><td>0</td><td>0</td><td>0</td><td>0</td><td>0</td><td>1</td><td>0</td><td>0</td><td>0</td><td>0</td><td>0</td><td>0</td><td>0</td><td>0</td><td>0</td><td>0</td><td>0</td><td>0</td><td>0</td><td>0</td><td>0</td><td>0</td><td>0</td><td>0</td><td>0</td><td>0</td><td>0</td><td>0</td><td>0</td><td>0</td><td>0</td><td>0</td><td>0</td><td>0</td><td>0</td><td>&hellip;</td><td>0</td><td>0</td><td>0</td><td>0</td><td>0</td><td>0</td><td>0</td><td>0</td><td>0</td><td>0</td><td>0</td><td>0</td><td>0</td><td>0</td><td>0</td><td>0</td><td>0</td><td>0</td><td>0</td><td>0</td><td>0</td><td>0</td><td>0</td><td>0</td><td>0</td><td>0</td><td>0</td><td>0</td><td>0</td><td>0</td><td>0</td><td>0</td><td>0</td><td>0</td><td>0</td><td>0</td><td>0</td></tr><tr><td>55058</td><td>0</td><td>0</td><td>0</td><td>1</td><td>0</td><td>0</td><td>0</td><td>0</td><td>0</td><td>0</td><td>0</td><td>0</td><td>0</td><td>0</td><td>0</td><td>0</td><td>0</td><td>0</td><td>0</td><td>0</td><td>0</td><td>0</td><td>0</td><td>0</td><td>0</td><td>0</td><td>0</td><td>0</td><td>0</td><td>0</td><td>0</td><td>0</td><td>0</td><td>0</td><td>0</td><td>0</td><td>&hellip;</td><td>0</td><td>0</td><td>0</td><td>0</td><td>0</td><td>0</td><td>0</td><td>0</td><td>0</td><td>0</td><td>0</td><td>0</td><td>0</td><td>0</td><td>0</td><td>0</td><td>0</td><td>0</td><td>0</td><td>0</td><td>0</td><td>0</td><td>0</td><td>0</td><td>0</td><td>0</td><td>0</td><td>0</td><td>0</td><td>0</td><td>0</td><td>0</td><td>0</td><td>0</td><td>0</td><td>0</td><td>0</td></tr><tr><td>55059</td><td>0</td><td>0</td><td>0</td><td>0</td><td>0</td><td>0</td><td>1</td><td>0</td><td>0</td><td>0</td><td>0</td><td>0</td><td>0</td><td>0</td><td>0</td><td>0</td><td>0</td><td>0</td><td>0</td><td>0</td><td>0</td><td>0</td><td>0</td><td>0</td><td>0</td><td>0</td><td>0</td><td>0</td><td>0</td><td>0</td><td>0</td><td>0</td><td>0</td><td>0</td><td>0</td><td>0</td><td>&hellip;</td><td>0</td><td>0</td><td>0</td><td>0</td><td>0</td><td>0</td><td>0</td><td>0</td><td>0</td><td>0</td><td>0</td><td>0</td><td>0</td><td>0</td><td>0</td><td>0</td><td>0</td><td>0</td><td>0</td><td>0</td><td>0</td><td>0</td><td>0</td><td>0</td><td>0</td><td>0</td><td>0</td><td>0</td><td>0</td><td>0</td><td>0</td><td>0</td><td>0</td><td>0</td><td>0</td><td>0</td><td>0</td></tr><tr><td>55060</td><td>0</td><td>0</td><td>0</td><td>0</td><td>0</td><td>0</td><td>0</td><td>0</td><td>0</td><td>0</td><td>1</td><td>0</td><td>0</td><td>0</td><td>0</td><td>0</td><td>0</td><td>0</td><td>0</td><td>0</td><td>0</td><td>0</td><td>0</td><td>0</td><td>0</td><td>0</td><td>0</td><td>0</td><td>0</td><td>0</td><td>0</td><td>0</td><td>0</td><td>0</td><td>0</td><td>0</td><td>&hellip;</td><td>0</td><td>0</td><td>0</td><td>0</td><td>0</td><td>0</td><td>0</td><td>0</td><td>0</td><td>0</td><td>0</td><td>0</td><td>0</td><td>0</td><td>0</td><td>0</td><td>0</td><td>0</td><td>0</td><td>0</td><td>0</td><td>0</td><td>0</td><td>0</td><td>0</td><td>0</td><td>0</td><td>0</td><td>0</td><td>0</td><td>0</td><td>0</td><td>0</td><td>0</td><td>1</td><td>0</td><td>0</td></tr><tr><td>55061</td><td>0</td><td>0</td><td>0</td><td>0</td><td>0</td><td>0</td><td>0</td><td>0</td><td>0</td><td>0</td><td>0</td><td>0</td><td>0</td><td>0</td><td>0</td><td>0</td><td>0</td><td>0</td><td>0</td><td>0</td><td>0</td><td>0</td><td>0</td><td>0</td><td>0</td><td>0</td><td>0</td><td>0</td><td>0</td><td>0</td><td>0</td><td>0</td><td>0</td><td>0</td><td>0</td><td>0</td><td>&hellip;</td><td>0</td><td>0</td><td>0</td><td>0</td><td>0</td><td>0</td><td>0</td><td>0</td><td>0</td><td>0</td><td>0</td><td>0</td><td>0</td><td>0</td><td>0</td><td>0</td><td>0</td><td>0</td><td>0</td><td>0</td><td>0</td><td>0</td><td>0</td><td>0</td><td>0</td><td>0</td><td>0</td><td>0</td><td>0</td><td>0</td><td>0</td><td>0</td><td>0</td><td>0</td><td>0</td><td>0</td><td>0</td></tr><tr><td>55062</td><td>0</td><td>0</td><td>0</td><td>0</td><td>0</td><td>0</td><td>0</td><td>0</td><td>0</td><td>0</td><td>1</td><td>0</td><td>0</td><td>0</td><td>0</td><td>0</td><td>0</td><td>0</td><td>0</td><td>0</td><td>0</td><td>0</td><td>0</td><td>0</td><td>0</td><td>0</td><td>0</td><td>0</td><td>0</td><td>0</td><td>0</td><td>0</td><td>0</td><td>0</td><td>0</td><td>0</td><td>&hellip;</td><td>0</td><td>0</td><td>0</td><td>0</td><td>0</td><td>0</td><td>0</td><td>0</td><td>0</td><td>0</td><td>0</td><td>0</td><td>0</td><td>0</td><td>0</td><td>0</td><td>0</td><td>0</td><td>0</td><td>0</td><td>0</td><td>0</td><td>0</td><td>0</td><td>0</td><td>0</td><td>0</td><td>0</td><td>0</td><td>0</td><td>0</td><td>0</td><td>0</td><td>0</td><td>1</td><td>0</td><td>0</td></tr><tr><td>55063</td><td>0</td><td>0</td><td>0</td><td>0</td><td>0</td><td>0</td><td>1</td><td>0</td><td>0</td><td>0</td><td>0</td><td>0</td><td>0</td><td>0</td><td>0</td><td>0</td><td>0</td><td>0</td><td>0</td><td>0</td><td>0</td><td>0</td><td>0</td><td>0</td><td>0</td><td>0</td><td>0</td><td>0</td><td>0</td><td>0</td><td>0</td><td>0</td><td>0</td><td>0</td><td>0</td><td>0</td><td>&hellip;</td><td>0</td><td>0</td><td>0</td><td>0</td><td>0</td><td>0</td><td>0</td><td>0</td><td>0</td><td>0</td><td>0</td><td>0</td><td>0</td><td>0</td><td>0</td><td>0</td><td>0</td><td>0</td><td>0</td><td>0</td><td>0</td><td>0</td><td>0</td><td>0</td><td>0</td><td>0</td><td>0</td><td>0</td><td>0</td><td>0</td><td>0</td><td>0</td><td>0</td><td>0</td><td>1</td><td>0</td><td>0</td></tr><tr><td>55064</td><td>0</td><td>0</td><td>0</td><td>0</td><td>0</td><td>0</td><td>0</td><td>0</td><td>0</td><td>0</td><td>0</td><td>1</td><td>0</td><td>0</td><td>0</td><td>0</td><td>0</td><td>0</td><td>0</td><td>0</td><td>0</td><td>0</td><td>0</td><td>0</td><td>0</td><td>0</td><td>0</td><td>0</td><td>0</td><td>0</td><td>0</td><td>0</td><td>0</td><td>0</td><td>0</td><td>0</td><td>&hellip;</td><td>0</td><td>0</td><td>0</td><td>0</td><td>0</td><td>0</td><td>0</td><td>0</td><td>0</td><td>0</td><td>0</td><td>0</td><td>1</td><td>0</td><td>0</td><td>0</td><td>0</td><td>0</td><td>0</td><td>0</td><td>0</td><td>0</td><td>0</td><td>0</td><td>0</td><td>0</td><td>0</td><td>0</td><td>0</td><td>0</td><td>0</td><td>0</td><td>0</td><td>0</td><td>0</td><td>0</td><td>0</td></tr><tr><td>55065</td><td>0</td><td>0</td><td>0</td><td>0</td><td>0</td><td>0</td><td>0</td><td>0</td><td>0</td><td>0</td><td>0</td><td>0</td><td>0</td><td>0</td><td>0</td><td>0</td><td>0</td><td>0</td><td>0</td><td>0</td><td>0</td><td>0</td><td>0</td><td>0</td><td>0</td><td>0</td><td>0</td><td>1</td><td>0</td><td>0</td><td>0</td><td>0</td><td>0</td><td>0</td><td>0</td><td>0</td><td>&hellip;</td><td>0</td><td>0</td><td>0</td><td>0</td><td>0</td><td>0</td><td>0</td><td>0</td><td>0</td><td>0</td><td>0</td><td>0</td><td>0</td><td>0</td><td>0</td><td>0</td><td>0</td><td>0</td><td>0</td><td>1</td><td>0</td><td>0</td><td>0</td><td>0</td><td>0</td><td>0</td><td>0</td><td>0</td><td>0</td><td>0</td><td>0</td><td>0</td><td>0</td><td>0</td><td>0</td><td>0</td><td>0</td></tr><tr><td>55066</td><td>0</td><td>0</td><td>0</td><td>0</td><td>0</td><td>0</td><td>0</td><td>0</td><td>0</td><td>0</td><td>0</td><td>0</td><td>0</td><td>0</td><td>0</td><td>0</td><td>0</td><td>0</td><td>0</td><td>0</td><td>0</td><td>0</td><td>0</td><td>0</td><td>0</td><td>0</td><td>0</td><td>0</td><td>0</td><td>0</td><td>0</td><td>0</td><td>0</td><td>0</td><td>0</td><td>0</td><td>&hellip;</td><td>0</td><td>0</td><td>0</td><td>0</td><td>0</td><td>0</td><td>0</td><td>0</td><td>0</td><td>0</td><td>0</td><td>0</td><td>0</td><td>0</td><td>0</td><td>0</td><td>0</td><td>0</td><td>0</td><td>0</td><td>0</td><td>0</td><td>0</td><td>0</td><td>0</td><td>0</td><td>0</td><td>0</td><td>0</td><td>0</td><td>0</td><td>0</td><td>0</td><td>0</td><td>0</td><td>0</td><td>0</td></tr><tr><td>55067</td><td>0</td><td>0</td><td>0</td><td>0</td><td>0</td><td>0</td><td>0</td><td>0</td><td>0</td><td>0</td><td>0</td><td>0</td><td>0</td><td>0</td><td>0</td><td>0</td><td>0</td><td>0</td><td>0</td><td>0</td><td>0</td><td>0</td><td>0</td><td>0</td><td>0</td><td>0</td><td>0</td><td>0</td><td>0</td><td>0</td><td>0</td><td>0</td><td>0</td><td>0</td><td>0</td><td>0</td><td>&hellip;</td><td>0</td><td>0</td><td>0</td><td>0</td><td>0</td><td>0</td><td>0</td><td>0</td><td>0</td><td>0</td><td>0</td><td>0</td><td>0</td><td>0</td><td>0</td><td>0</td><td>0</td><td>0</td><td>0</td><td>0</td><td>0</td><td>0</td><td>0</td><td>0</td><td>0</td><td>0</td><td>0</td><td>0</td><td>0</td><td>0</td><td>0</td><td>0</td><td>0</td><td>0</td><td>0</td><td>0</td><td>0</td></tr><tr><td>55068</td><td>0</td><td>0</td><td>0</td><td>0</td><td>0</td><td>0</td><td>0</td><td>0</td><td>0</td><td>0</td><td>0</td><td>0</td><td>0</td><td>0</td><td>0</td><td>0</td><td>1</td><td>0</td><td>0</td><td>0</td><td>0</td><td>0</td><td>0</td><td>0</td><td>0</td><td>0</td><td>0</td><td>0</td><td>0</td><td>0</td><td>0</td><td>0</td><td>0</td><td>0</td><td>0</td><td>0</td><td>&hellip;</td><td>0</td><td>0</td><td>0</td><td>0</td><td>0</td><td>0</td><td>0</td><td>0</td><td>0</td><td>0</td><td>0</td><td>0</td><td>0</td><td>0</td><td>0</td><td>0</td><td>0</td><td>0</td><td>0</td><td>0</td><td>1</td><td>0</td><td>0</td><td>0</td><td>0</td><td>0</td><td>0</td><td>0</td><td>0</td><td>0</td><td>0</td><td>0</td><td>0</td><td>0</td><td>0</td><td>0</td><td>0</td></tr></tbody></table></div>"
      ],
      "text/plain": [
       "shape: (55_069, 135)\n",
       "┌───────┬──────────────┬─────────────┬─────────────┬───┬──────────┬──────────┬──────────┬──────────┐\n",
       "│ id    ┆ manufacturer ┆ manufacture ┆ manufacture ┆ … ┆ state_wa ┆ state_wi ┆ state_wv ┆ state_wy │\n",
       "│ ---   ┆ _acura       ┆ r_alfa-rome ┆ r_aston-mar ┆   ┆ ---      ┆ ---      ┆ ---      ┆ ---      │\n",
       "│ i64   ┆ ---          ┆ o           ┆ tin         ┆   ┆ u8       ┆ u8       ┆ u8       ┆ u8       │\n",
       "│       ┆ u8           ┆ ---         ┆ ---         ┆   ┆          ┆          ┆          ┆          │\n",
       "│       ┆              ┆ u8          ┆ u8          ┆   ┆          ┆          ┆          ┆          │\n",
       "╞═══════╪══════════════╪═════════════╪═════════════╪═══╪══════════╪══════════╪══════════╪══════════╡\n",
       "│ 0     ┆ 0            ┆ 0           ┆ 0           ┆ … ┆ 0        ┆ 0        ┆ 0        ┆ 0        │\n",
       "│ 1     ┆ 0            ┆ 0           ┆ 0           ┆ … ┆ 0        ┆ 0        ┆ 0        ┆ 0        │\n",
       "│ 2     ┆ 0            ┆ 0           ┆ 0           ┆ … ┆ 0        ┆ 0        ┆ 0        ┆ 0        │\n",
       "│ 3     ┆ 0            ┆ 0           ┆ 0           ┆ … ┆ 0        ┆ 0        ┆ 0        ┆ 0        │\n",
       "│ …     ┆ …            ┆ …           ┆ …           ┆ … ┆ …        ┆ …        ┆ …        ┆ …        │\n",
       "│ 55065 ┆ 0            ┆ 0           ┆ 0           ┆ … ┆ 0        ┆ 0        ┆ 0        ┆ 0        │\n",
       "│ 55066 ┆ 0            ┆ 0           ┆ 0           ┆ … ┆ 0        ┆ 0        ┆ 0        ┆ 0        │\n",
       "│ 55067 ┆ 0            ┆ 0           ┆ 0           ┆ … ┆ 0        ┆ 0        ┆ 0        ┆ 0        │\n",
       "│ 55068 ┆ 0            ┆ 0           ┆ 0           ┆ … ┆ 0        ┆ 0        ┆ 0        ┆ 0        │\n",
       "└───────┴──────────────┴─────────────┴─────────────┴───┴──────────┴──────────┴──────────┴──────────┘"
      ]
     },
     "metadata": {},
     "output_type": "display_data"
    }
   ],
   "source": [
    "features._one_hot_encoding()"
   ]
  },
  {
   "cell_type": "code",
   "execution_count": 14,
   "metadata": {},
   "outputs": [
    {
     "data": {
      "text/html": [
       "<div><style>\n",
       ".dataframe > thead > tr > th,\n",
       ".dataframe > tbody > tr > td {\n",
       "  text-align: right;\n",
       "}\n",
       "</style>\n",
       "<small>shape: (5, 171)</small><table border=\"1\" class=\"dataframe\"><thead><tr><th>id</th><th>region</th><th>year</th><th>manufacturer</th><th>condition</th><th>cylinders</th><th>fuel</th><th>odometer</th><th>title_status</th><th>transmission</th><th>drive</th><th>size</th><th>type</th><th>paint_color</th><th>state</th><th>price</th><th>age</th><th>odometer/age</th><th>odometer/cylinders</th><th>manufacturer_odometer_mean</th><th>manufacturer_odometer_std</th><th>manufacturer_odometer_max</th><th>manufacturer_odometer_min</th><th>manufacturer_odometer_diff</th><th>lat</th><th>lng</th><th>region_rank</th><th>manufacturer_rank</th><th>condition_rank</th><th>fuel_rank</th><th>title_status_rank</th><th>transmission_rank</th><th>drive_rank</th><th>size_rank</th><th>type_rank</th><th>paint_color_rank</th><th>state_rank</th><th>&hellip;</th><th>state_il</th><th>state_in</th><th>state_ks</th><th>state_ky</th><th>state_la</th><th>state_ma</th><th>state_md</th><th>state_me</th><th>state_mi</th><th>state_mn</th><th>state_mo</th><th>state_ms</th><th>state_mt</th><th>state_nc</th><th>state_nd</th><th>state_ne</th><th>state_nh</th><th>state_nj</th><th>state_nm</th><th>state_nv</th><th>state_ny</th><th>state_oh</th><th>state_ok</th><th>state_or</th><th>state_pa</th><th>state_ri</th><th>state_sc</th><th>state_sd</th><th>state_tn</th><th>state_tx</th><th>state_ut</th><th>state_va</th><th>state_vt</th><th>state_wa</th><th>state_wi</th><th>state_wv</th><th>state_wy</th></tr><tr><td>i64</td><td>cat</td><td>i64</td><td>cat</td><td>i64</td><td>i8</td><td>cat</td><td>f64</td><td>cat</td><td>cat</td><td>cat</td><td>i64</td><td>cat</td><td>cat</td><td>cat</td><td>i64</td><td>i64</td><td>f64</td><td>f64</td><td>f64</td><td>f64</td><td>f64</td><td>f64</td><td>f64</td><td>f64</td><td>f64</td><td>f32</td><td>f32</td><td>f32</td><td>f32</td><td>f32</td><td>f32</td><td>f32</td><td>f32</td><td>f32</td><td>f32</td><td>f32</td><td>&hellip;</td><td>u8</td><td>u8</td><td>u8</td><td>u8</td><td>u8</td><td>u8</td><td>u8</td><td>u8</td><td>u8</td><td>u8</td><td>u8</td><td>u8</td><td>u8</td><td>u8</td><td>u8</td><td>u8</td><td>u8</td><td>u8</td><td>u8</td><td>u8</td><td>u8</td><td>u8</td><td>u8</td><td>u8</td><td>u8</td><td>u8</td><td>u8</td><td>u8</td><td>u8</td><td>u8</td><td>u8</td><td>u8</td><td>u8</td><td>u8</td><td>u8</td><td>u8</td><td>u8</td></tr></thead><tbody><tr><td>0</td><td>&quot;nashville&quot;</td><td>1949</td><td>&quot;bmw&quot;</td><td>3</td><td>6</td><td>&quot;gas&quot;</td><td>115148.0</td><td>&quot;clean&quot;</td><td>&quot;manual&quot;</td><td>&quot;rwd&quot;</td><td>2</td><td>&quot;convertible&quot;</td><td>&quot;orange&quot;</td><td>&quot;nan&quot;</td><td>27587</td><td>74</td><td>1556.054054</td><td>19191.333333</td><td>98959.833039</td><td>50486.065303</td><td>1.48431e6</td><td>85.0</td><td>1.484225e6</td><td>36.162277</td><td>-86.774298</td><td>342.0</td><td>44.0</td><td>6.0</td><td>5.0</td><td>7.0</td><td>2.0</td><td>1.0</td><td>3.0</td><td>7.0</td><td>3.0</td><td>52.0</td><td>&hellip;</td><td>0</td><td>0</td><td>0</td><td>0</td><td>0</td><td>0</td><td>0</td><td>0</td><td>0</td><td>0</td><td>0</td><td>0</td><td>0</td><td>0</td><td>0</td><td>0</td><td>0</td><td>0</td><td>0</td><td>0</td><td>0</td><td>0</td><td>0</td><td>0</td><td>0</td><td>0</td><td>0</td><td>0</td><td>0</td><td>0</td><td>0</td><td>0</td><td>0</td><td>0</td><td>0</td><td>0</td><td>0</td></tr><tr><td>1</td><td>&quot;state college&quot;</td><td>2013</td><td>&quot;toyota&quot;</td><td>0</td><td>8</td><td>&quot;gas&quot;</td><td>172038.0</td><td>&quot;clean&quot;</td><td>&quot;automatic&quot;</td><td>&quot;rwd&quot;</td><td>3</td><td>&quot;sedan&quot;</td><td>&quot;silver&quot;</td><td>&quot;pa&quot;</td><td>4724</td><td>10</td><td>17203.8</td><td>21504.75</td><td>150285.657029</td><td>63293.859845</td><td>386817.0</td><td>877.0</td><td>385940.0</td><td>40.79445</td><td>-77.861639</td><td>103.5</td><td>42.0</td><td>3.0</td><td>5.0</td><td>7.0</td><td>3.0</td><td>1.0</td><td>4.0</td><td>14.0</td><td>11.0</td><td>46.0</td><td>&hellip;</td><td>0</td><td>0</td><td>0</td><td>0</td><td>0</td><td>0</td><td>0</td><td>0</td><td>0</td><td>0</td><td>0</td><td>0</td><td>0</td><td>0</td><td>0</td><td>0</td><td>0</td><td>0</td><td>0</td><td>0</td><td>0</td><td>0</td><td>0</td><td>0</td><td>1</td><td>0</td><td>0</td><td>0</td><td>0</td><td>0</td><td>0</td><td>0</td><td>0</td><td>0</td><td>0</td><td>0</td><td>0</td></tr><tr><td>2</td><td>&quot;wichita&quot;</td><td>1998</td><td>&quot;ford&quot;</td><td>2</td><td>6</td><td>&quot;gas&quot;</td><td>152492.0</td><td>&quot;clean&quot;</td><td>&quot;automatic&quot;</td><td>&quot;fwd&quot;</td><td>3</td><td>&quot;SUV&quot;</td><td>&quot;silver&quot;</td><td>&quot;ks&quot;</td><td>10931</td><td>25</td><td>6099.68</td><td>25415.333333</td><td>118402.596184</td><td>61352.394445</td><td>1.18784e6</td><td>10.0</td><td>1.18783e6</td><td>37.692236</td><td>-97.337545</td><td>350.5</td><td>46.0</td><td>5.0</td><td>5.0</td><td>7.0</td><td>3.0</td><td>3.0</td><td>4.0</td><td>13.0</td><td>11.0</td><td>21.0</td><td>&hellip;</td><td>0</td><td>0</td><td>1</td><td>0</td><td>0</td><td>0</td><td>0</td><td>0</td><td>0</td><td>0</td><td>0</td><td>0</td><td>0</td><td>0</td><td>0</td><td>0</td><td>0</td><td>0</td><td>0</td><td>0</td><td>0</td><td>0</td><td>0</td><td>0</td><td>0</td><td>0</td><td>0</td><td>0</td><td>0</td><td>0</td><td>0</td><td>0</td><td>0</td><td>0</td><td>0</td><td>0</td><td>0</td></tr><tr><td>3</td><td>&quot;albany&quot;</td><td>2014</td><td>&quot;ford&quot;</td><td>3</td><td>4</td><td>&quot;gas&quot;</td><td>104118.0</td><td>&quot;clean&quot;</td><td>&quot;manual&quot;</td><td>&quot;fwd&quot;</td><td>2</td><td>&quot;SUV&quot;</td><td>&quot;blue&quot;</td><td>&quot;ny&quot;</td><td>16553</td><td>9</td><td>11568.666667</td><td>26029.5</td><td>118402.596184</td><td>61352.394445</td><td>1.18784e6</td><td>10.0</td><td>1.18783e6</td><td>42.651167</td><td>-73.754968</td><td>369.0</td><td>46.0</td><td>6.0</td><td>5.0</td><td>7.0</td><td>2.0</td><td>3.0</td><td>3.0</td><td>13.0</td><td>10.0</td><td>50.0</td><td>&hellip;</td><td>0</td><td>0</td><td>0</td><td>0</td><td>0</td><td>0</td><td>0</td><td>0</td><td>0</td><td>0</td><td>0</td><td>0</td><td>0</td><td>0</td><td>0</td><td>0</td><td>0</td><td>0</td><td>0</td><td>0</td><td>1</td><td>0</td><td>0</td><td>0</td><td>0</td><td>0</td><td>0</td><td>0</td><td>0</td><td>0</td><td>0</td><td>0</td><td>0</td><td>0</td><td>0</td><td>0</td><td>0</td></tr><tr><td>4</td><td>&quot;redding&quot;</td><td>2005</td><td>&quot;ford&quot;</td><td>3</td><td>6</td><td>&quot;gas&quot;</td><td>144554.0</td><td>&quot;clean&quot;</td><td>&quot;manual&quot;</td><td>&quot;fwd&quot;</td><td>2</td><td>&quot;sedan&quot;</td><td>&quot;red&quot;</td><td>&quot;ca&quot;</td><td>5158</td><td>18</td><td>8030.777778</td><td>24092.333333</td><td>118402.596184</td><td>61352.394445</td><td>1.18784e6</td><td>10.0</td><td>1.18783e6</td><td>40.586356</td><td>-122.391675</td><td>326.0</td><td>46.0</td><td>6.0</td><td>5.0</td><td>7.0</td><td>2.0</td><td>3.0</td><td>3.0</td><td>14.0</td><td>7.0</td><td>51.0</td><td>&hellip;</td><td>0</td><td>0</td><td>0</td><td>0</td><td>0</td><td>0</td><td>0</td><td>0</td><td>0</td><td>0</td><td>0</td><td>0</td><td>0</td><td>0</td><td>0</td><td>0</td><td>0</td><td>0</td><td>0</td><td>0</td><td>0</td><td>0</td><td>0</td><td>0</td><td>0</td><td>0</td><td>0</td><td>0</td><td>0</td><td>0</td><td>0</td><td>0</td><td>0</td><td>0</td><td>0</td><td>0</td><td>0</td></tr></tbody></table></div>"
      ],
      "text/plain": [
       "shape: (5, 171)\n",
       "┌─────┬───────────────┬──────┬──────────────┬───┬──────────┬──────────┬──────────┬──────────┐\n",
       "│ id  ┆ region        ┆ year ┆ manufacturer ┆ … ┆ state_wa ┆ state_wi ┆ state_wv ┆ state_wy │\n",
       "│ --- ┆ ---           ┆ ---  ┆ ---          ┆   ┆ ---      ┆ ---      ┆ ---      ┆ ---      │\n",
       "│ i64 ┆ cat           ┆ i64  ┆ cat          ┆   ┆ u8       ┆ u8       ┆ u8       ┆ u8       │\n",
       "╞═════╪═══════════════╪══════╪══════════════╪═══╪══════════╪══════════╪══════════╪══════════╡\n",
       "│ 0   ┆ nashville     ┆ 1949 ┆ bmw          ┆ … ┆ 0        ┆ 0        ┆ 0        ┆ 0        │\n",
       "│ 1   ┆ state college ┆ 2013 ┆ toyota       ┆ … ┆ 0        ┆ 0        ┆ 0        ┆ 0        │\n",
       "│ 2   ┆ wichita       ┆ 1998 ┆ ford         ┆ … ┆ 0        ┆ 0        ┆ 0        ┆ 0        │\n",
       "│ 3   ┆ albany        ┆ 2014 ┆ ford         ┆ … ┆ 0        ┆ 0        ┆ 0        ┆ 0        │\n",
       "│ 4   ┆ redding       ┆ 2005 ┆ ford         ┆ … ┆ 0        ┆ 0        ┆ 0        ┆ 0        │\n",
       "└─────┴───────────────┴──────┴──────────────┴───┴──────────┴──────────┴──────────┴──────────┘"
      ]
     },
     "execution_count": 14,
     "metadata": {},
     "output_type": "execute_result"
    }
   ],
   "source": [
    "features.train.head()"
   ]
  }
 ],
 "metadata": {
  "kernelspec": {
   "display_name": "venv",
   "language": "python",
   "name": "python3"
  },
  "language_info": {
   "codemirror_mode": {
    "name": "ipython",
    "version": 3
   },
   "file_extension": ".py",
   "mimetype": "text/x-python",
   "name": "python",
   "nbconvert_exporter": "python",
   "pygments_lexer": "ipython3",
   "version": "3.10.6"
  },
  "orig_nbformat": 4
 },
 "nbformat": 4,
 "nbformat_minor": 2
}
